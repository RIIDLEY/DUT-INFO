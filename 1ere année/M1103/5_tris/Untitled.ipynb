{
 "cells": [
  {
   "cell_type": "code",
   "execution_count": 15,
   "metadata": {},
   "outputs": [],
   "source": [
    "from random import *\n",
    "\n",
    "def create_tab():\n",
    "    tab=[]\n",
    "    i=0\n",
    "    while i != 100:\n",
    "        tab.append(randint(0,30))\n",
    "        i+=1\n",
    "        return tab\n",
    "def tri():\n",
    "    tab=create_tab()\n",
    "    i=0\n",
    "    while i<len(tab):\n",
    "        if nb_val[i]>nb_val[i+1]:\n",
    "            \n",
    "\n",
    "\n"
   ]
  }
 ],
 "metadata": {
  "kernelspec": {
   "display_name": "Python 3",
   "language": "python",
   "name": "python3"
  },
  "language_info": {
   "codemirror_mode": {
    "name": "ipython",
    "version": 3
   },
   "file_extension": ".py",
   "mimetype": "text/x-python",
   "name": "python",
   "nbconvert_exporter": "python",
   "pygments_lexer": "ipython3",
   "version": "3.6.4"
  }
 },
 "nbformat": 4,
 "nbformat_minor": 2
}
