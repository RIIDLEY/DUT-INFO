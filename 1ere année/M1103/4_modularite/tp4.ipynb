{
 "cells": [
  {
   "cell_type": "markdown",
   "metadata": {},
   "source": [
    "# <center> Chapitre 4 : Modularité en python - TP </center>"
   ]
  },
  {
   "cell_type": "markdown",
   "metadata": {},
   "source": [
    "## Exercice 1 : Algorithmes de César"
   ]
  },
  {
   "cell_type": "markdown",
   "metadata": {},
   "source": [
    "Le chiffrement de César repose sur la rotation de l’alphabet d’un nombre fixé de caractères. Par exemple, si on considère une rotation de 5 caractères, on obtient la table de conversion ci-dessous :\n",
    "\n",
    "* *Caractère initial* : a, b , c, d, e, ...\n",
    "\n",
    "* *Caractère transformé* : f, \tg, \th, \ti, \tj, ...\n",
    "\n",
    "\n",
    "\n",
    "Dans le programme ci-dessous la fonction `chiffre_cesar(m,n)`  chiffre le message `m` avec un décalage de `n` caractères. On transformera uniquement les caractères de l’alphabet a, b, c.. z, sans toucher aux signes de ponctuation ou autres caractères spéciaux. Pour rappel, les lettres a, b, c ... z ont des codes Unicode entiers consécutifs allant de 97 à 122. On travaillera uniquement avec des lettres minuscules. La fonction `lower` appelée sur une chaîne de caractères permet de transformer les majuscules en minuscules. La fonction `ord(c)` renvoie le code Unicode du caractère `c` et la fonction `chr(i)` retourne la lettre dont le code Unicode est `i`."
   ]
  },
  {
   "cell_type": "code",
   "execution_count": 1,
   "metadata": {},
   "outputs": [],
   "source": [
    "def chiffre_cesar(m, n):\n",
    "    m = m.lower()\n",
    "    c = \"\"\n",
    "    for mi in m:\n",
    "        if(97 <= ord(mi) <= 122):\n",
    "            c += chr( (ord(mi) + n - ord('a')) % 26 + ord('a'))\n",
    "        else:\n",
    "            c += mi\n",
    "    return c\n",
    "\n",
    "def dechiffre_cesar(c, n):\n",
    "\n",
    "    c = c.lower()\n",
    "    m = \"\"\n",
    "    for ci in c:\n",
    "        if(97 <= ord(ci) <= 122):\n",
    "            m += chr( (ord(ci) - n - ord('a')) % 26 + ord('a'))\n",
    "        else:\n",
    "            m += ci\n",
    "    return m"
   ]
  },
  {
   "cell_type": "markdown",
   "metadata": {},
   "source": [
    "##### Question 1 \n",
    "Créer un module `cesar` contenant les deux fonctions."
   ]
  },
  {
   "cell_type": "markdown",
   "metadata": {},
   "source": [
    "#### Question 2\n",
    "\n",
    "Créer dans le même répertoire que le fichier `cesar.py` le fichier `programme.py`. \n",
    "Ce dernier importe le module `cesar`, demande à l'utilisateur une message, l'affiche et affiche toutes les versions cryptées que l'on peut obtenir avec le code césar."
   ]
  },
  {
   "cell_type": "markdown",
   "metadata": {},
   "source": [
    "#### Question 3\n",
    "\n",
    "Créer un jupyter-notebook dans le même répertoire que le fichier `cesar.py`. Importer dans le notebook le module `cesar`. Faire un code qui vérifie que le message `C'est super la cryptographie !` codé avec la clé 5 donne `C'jxy xzujw qf hwduytlwfumnj !`. Véfier également que le décodage de cette chaîne avec la clé 5 redonne bien `C'est super la cryptographie !`."
   ]
  },
  {
   "cell_type": "markdown",
   "metadata": {},
   "source": [
    "#### Question 4 \n",
    "\n",
    "Dans le notebook, essayer tous les décodages de `oaz jk borrkzgtkayk` possibles pour trouver le message codé.\n"
   ]
  },
  {
   "cell_type": "markdown",
   "metadata": {},
   "source": [
    "#### Question 5\n",
    "\n",
    "Faire en sorte que si l'on exécute le fichier `cesar.py` (et uniquement dans ce cas), alors le script affiche la version chiffrée (avec la clé 10) de la chaîne `Le script cesar.py est execute !`."
   ]
  },
  {
   "cell_type": "markdown",
   "metadata": {},
   "source": [
    "## Exercice 2 : Package Cryptographie\n",
    "\n",
    "#### Question 1 \n",
    "\n",
    "Créer un package `Cryptographie` et déplacer le module `cesar` à l'intérieur de ce package. Modifier le fichier `programme.py` et le notebook pour qu'ils utilisent le module `cesar` du package `Cryptographie`."
   ]
  },
  {
   "cell_type": "markdown",
   "metadata": {},
   "source": [
    "#### Question 2\n",
    "\n",
    "Un cas particulier du chiffrement de César est le chiffrement [ROT13](https://fr.wikipedia.org/wiki/ROT13) qui correspond au chiffrement de César avec la clé 13. L'intérêt de ce chiffrement est que le chiffrement correspond au déchiffrement.\n",
    "\n",
    "Définir un module `rot13` dans le package `Cryptographie` qui définit les fonctions `chiffrement_ROT13` et `dechiffrement_ROT13`. Ce module utilisera la fonction `chiffrement_cesar` défini dans le module `cesar` du package `Cryptographie`.\n",
    "\n",
    "Modifier le fichier `programme.py` pour qu'il affiche le chiffrement de `hello world` selon le chiffrement ROT13 (le seul module importé doit être dans ce cas le module `rot13`).\n",
    "\n",
    "\n",
    "**Attention :** Il faut dans `rot13` importer la fonction selon : `from Cryptographie.cesar import *`."
   ]
  },
  {
   "cell_type": "markdown",
   "metadata": {},
   "source": [
    "## Exercice 3 : \n",
    "\n",
    "Un chiffrement plus complexe que le code de César est le [chiffrement de Vigenère](https://fr.wikipedia.org/wiki/Chiffre_de_Vigen%C3%A8re). Définir un module `vigenere` dans le package `Cryptographie` contenant les fonctions de chiffrement et déchiffrement selon l'algorithme de Vigenère."
   ]
  },
  {
   "cell_type": "markdown",
   "metadata": {},
   "source": [
    "## Exercice 4 : Package Recherche\n",
    "\n",
    "Reprendre les fonctions du TP3 pour les structurer en un package."
   ]
  }
 ],
 "metadata": {
  "kernelspec": {
   "display_name": "Python 3",
   "language": "python",
   "name": "python3"
  },
  "language_info": {
   "codemirror_mode": {
    "name": "ipython",
    "version": 3
   },
   "file_extension": ".py",
   "mimetype": "text/x-python",
   "name": "python",
   "nbconvert_exporter": "python",
   "pygments_lexer": "ipython3",
   "version": "3.6.4"
  }
 },
 "nbformat": 4,
 "nbformat_minor": 2
}
