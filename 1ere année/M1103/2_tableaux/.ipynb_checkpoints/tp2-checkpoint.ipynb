{
 "cells": [
  {
   "cell_type": "markdown",
   "metadata": {},
   "source": [
    "# TP 2"
   ]
  },
  {
   "cell_type": "markdown",
   "metadata": {},
   "source": [
    "## Exercice 1 :  Création d'un tableau"
   ]
  },
  {
   "cell_type": "markdown",
   "metadata": {},
   "source": [
    "### Question 1 : Evaluation de la version algorithmique en utlisant `append`\n",
    "1. Définissez une fonction `create_tab_algo_append()` permettant de créer et retourner un tableau de taille `n` contenant la valeur `val` en utilisant `append`."
   ]
  },
  {
   "cell_type": "code",
   "execution_count": null,
   "metadata": {},
   "outputs": [],
   "source": [
    "def create_tab_algo_append(n,val):\n",
    "    "
   ]
  },
  {
   "cell_type": "markdown",
   "metadata": {},
   "source": [
    "2. Créer un algorithme principal calculant et affichant la moyenne de temps d'exécution pour 200 créations d'un tableau pour les tailles 0, 100, 200, 500, 1000, 2000, 5000, 10000 ; la valeur à mettre dans la case n'est pas déterminante, vous pourrez la choisir. Les différents resulats pourront être stockés dans un dictionnaire dont les clefs seraient les différents tailles de tableau. Concluez."
   ]
  },
  {
   "cell_type": "markdown",
   "metadata": {},
   "source": [
    "### Question 2 : Evaluation de la version algorithmique en utlisant `insert`\n",
    "1. Définissez une fonction `create_tab_algo_insert()` permettant de créer et retourner un tableau de taille `n` contenant la valeur `val` en utilisant `insert`. Vous insererez les éléments dans la première case du tableau crée."
   ]
  },
  {
   "cell_type": "markdown",
   "metadata": {},
   "source": [
    "2. Faire les  mêmes tests que la question précédente. Concluez."
   ]
  },
  {
   "cell_type": "markdown",
   "metadata": {},
   "source": [
    "## Exercice 2 : Copie d'un tableau\n",
    "### Question 1 : Evaluation de la version built-in\n",
    "1. En utilisant syntaxe built-in `L.copy()`, définissez une fonction `copy_tab_built_in()` permettant de copier le tableau reçu en paramètre. La copie sera renvoyé par la fonction."
   ]
  },
  {
   "cell_type": "markdown",
   "metadata": {},
   "source": [
    "### Question 2 : Evaluation de deux versions algorithmiques\n",
    "1. Définissez deux versions de la fonction `copy_tab_algo()` permettant de copier le tableau reçu en paramètre. La copie sera renvoyé par la fonction."
   ]
  },
  {
   "cell_type": "markdown",
   "metadata": {},
   "source": [
    "2. Faire pour chaque version, les mêmes tests que la question précédente. Concluez."
   ]
  },
  {
   "cell_type": "markdown",
   "metadata": {},
   "source": [
    "## Exercice 3 : Recherche d'un élément dans un tableau\n",
    "\n",
    "En vous inspirant des travaux précédents, évaluez les différentes solutions permettant de rechercher un élément dans un tableau.\n",
    "\n",
    "\n",
    "Avant de commencer, quelle situation devez-vous privilégier pour que les évaluations soient fiables ?"
   ]
  }
 ],
 "metadata": {
  "kernelspec": {
   "display_name": "Python 3",
   "language": "python",
   "name": "python3"
  },
  "language_info": {
   "codemirror_mode": {
    "name": "ipython",
    "version": 3
   },
   "file_extension": ".py",
   "mimetype": "text/x-python",
   "name": "python",
   "nbconvert_exporter": "python",
   "pygments_lexer": "ipython3",
   "version": "3.6.4"
  },
  "latex_envs": {
   "LaTeX_envs_menu_present": true,
   "autoclose": true,
   "autocomplete": true,
   "bibliofile": "biblio.bib",
   "cite_by": "apalike",
   "current_citInitial": 1,
   "eqLabelWithNumbers": true,
   "eqNumInitial": 1,
   "hotkeys": {
    "equation": "Ctrl-E",
    "itemize": "Ctrl-I"
   },
   "labels_anchors": false,
   "latex_user_defs": false,
   "report_style_numbering": false,
   "user_envs_cfg": false
  }
 },
 "nbformat": 4,
 "nbformat_minor": 2
}
