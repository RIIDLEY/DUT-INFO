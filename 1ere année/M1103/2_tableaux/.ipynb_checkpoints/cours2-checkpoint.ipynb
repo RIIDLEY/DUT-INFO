{
 "cells": [
  {
   "cell_type": "markdown",
   "metadata": {},
   "source": [
    "# <center> Chapitre 2 : Listes en python </center>"
   ]
  },
  {
   "cell_type": "markdown",
   "metadata": {},
   "source": [
    "Le type `list` permet d'implémenter les tableaux (de manière dynamique) en python."
   ]
  },
  {
   "cell_type": "markdown",
   "metadata": {},
   "source": [
    "## Qu'est-ce qu'un tableau ?"
   ]
  },
  {
   "cell_type": "markdown",
   "metadata": {},
   "source": [
    "D'un point de vue algorithmique, un tableau est une structure de données qui permet de stocker une **suite ordonnée** de valeurs `x0,x1,…,xi…,xn−1` :\n",
    "* chaque valeur est repérée par son indice `i` (commençant à 0); \n",
    "* l'accès à une case à partir de son indice `i` se fait en **temps constant**, c'est-à-dire que ce temps ne dépend pas de `i`, ni de la longueur `n` du tableau :\n",
    "  il est donc aussi rapide d'accéder à la première valeur qu'à la 200ème (par exemple). \n",
    "  \n",
    "Ceci est possible car dans un tableau :\n",
    "* toutes les cases ont la même taille et occupent donc le même espace mémoire ;\n",
    "* les valeurs sont stockées dans des ***cases contiguës*** de la mémoire de l'ordinateur (appelée RAM : Random Acess Memory) du système informatique.\n",
    "\n",
    "<center><img src=\"./img/tableau.png\" /></center>"
   ]
  },
  {
   "cell_type": "markdown",
   "metadata": {},
   "source": [
    "### Quelles sont les actions possibles pour les tableaux ?\n",
    "\n",
    "* Les seules actions possibles sur un tableau sont :\n",
    "\n",
    " * Créer un tableau d'une taille donnée `n` en donnant aux éléments une valeur par défaut.\n",
    "\n",
    " * Lire une valeur à partir de son indice `i`.\n",
    "\n",
    " * Écrire une valeur à partir de son indice `i`.\n",
    "\n",
    "\n",
    "* La création d'un tableau nécessite **un coût en temps qui est proportionnel à la taille `n`** : \n",
    " \n",
    " * Il faut bien écrire les `n` valeurs dans les cases. \n",
    " \n",
    " * L'intérêt majeur des tableaux est que la lecture et l'écriture d'un élément est très rapide et se fait en temps constant."
   ]
  },
  {
   "cell_type": "markdown",
   "metadata": {},
   "source": [
    "###  Opérations sur les tableaux\n",
    "\n",
    "####  Recopie d'un tableau\n",
    "\n",
    "La recopie d'un tableau dans un autre tableau nécessite de recopier chaque élément du tableau source vers le tableau cible, ce qui engendre un coût en temps.\n",
    "\n",
    "\n",
    "#### Ajout d'une case à un tableau\n",
    "\n",
    "Par définition, la taille d'un tableau est fixe et est déterminée lors de sa déclaration.\n",
    "\n",
    "Ajouter une case à un tableau nécessite plusieurs actions :\n",
    "* déclarer un autre tableau avec une taille supérieure au précédent ;\n",
    "* recopier les éléments du tableau source vers le tableau cible ;\n",
    "* ajouter l'élément dans la dernière case du nouveau tableau.\n",
    "\n",
    "Toute ces actions nécéssitent du temps et représentent donc un coût temporel.\n",
    "\n",
    "\n",
    "#### Insérer un élément dans un tableau\n",
    "\n",
    "Insérer un élément dans un tableau nécessite plusieurs actions :\n",
    "* décaler des éléments du tableau pour ménager une place pour l'élément à insérer ;\n",
    "* insérer l'élément dans le tableau.\n",
    "\n",
    "Comme précédemment, ces actions représentent aussi un coût temporel.\n",
    "\n",
    "#### Autres opérations sur les tableaux\n",
    "\n",
    "Il existe une multitude d'autres traitements sur les tableaux :\n",
    "* recherche d'un élément ;\n",
    "* recherche d'un maximum, minimum, par exemple ;\n",
    "* tri d'un tableau ;\n",
    "* ...\n",
    "\n",
    "Tout ces traitements coûtent en temps de traitement. Plusieurs algorithmes peuvent réaliser un même traitement. L'algorithme qui sera le plus \"performant\" sera celui qui s'exécutera en consommant le moins de temps."
   ]
  },
  {
   "cell_type": "markdown",
   "metadata": {},
   "source": [
    "##  Le type `list` rajoute en plus un côté \"dynamique\" aux tableaux\n",
    "\n",
    "Python utilise le type `list`pour implémenter les tableaux ; cependant il permet, en plus, au tableau d'adapter ***dynamiquement*** leur taille en fonction des insertions d'éléments. Cependant, il est important de comprendre que ces mécanismes bien qu'automatiques représentent un coût temporel."
   ]
  },
  {
   "cell_type": "markdown",
   "metadata": {},
   "source": [
    "### Récapitulatif des opérations permises par le type `list`\n",
    "\n",
    "|**Opération**|**Syntaxe**|**Complexité**|\n",
    "|--|--|--|\n",
    "|Création d'une liste vide| `[]` | \tO(1)|\n",
    "|Lecture d'un élément| `x = L[i]` |\tO(1)|\n",
    "|Ecriture d'un élément| `L[i] = x`| \tO(1)|\n",
    "|Ajout d'un élément à la fin | `L.append(x)` |\tO(n)|\n",
    "|Insertion d'un élément | `L.insert(indice,x)` |\tO(n)|\n",
    "|Copie d'une liste|\t`L2 = L1.copy()`|\t O(n)|\n",
    "|Test d'appartenance|\t`x in L`|\t O(n)|\n",
    " \n",
    " \n",
    "* Exemple d'insertion d'un élément à la fin de la liste :"
   ]
  },
  {
   "cell_type": "code",
   "execution_count": 3,
   "metadata": {},
   "outputs": [
    {
     "name": "stdout",
     "output_type": "stream",
     "text": [
      "[10, 5, 40, 60]\n"
     ]
    }
   ],
   "source": [
    "t = [10,5,40]\n",
    "t.append(60)\n",
    "print(t)"
   ]
  },
  {
   "cell_type": "markdown",
   "metadata": {},
   "source": [
    "***Commentaires :***\n",
    "\n",
    "* Il existe au moins deux façons de créer une liste L :\n",
    " * Créer une liste vide et ajouter les éléments un à un en utilisant `L.append` à l'intérieur d'une boucle ;\n",
    " * Créer une liste vide et ajouter les éléments un à un en utilisant `L.insert` à l'intérieur d'une boucle.\n",
    "\n",
    "Chacune de ces méthodes engendrera un coup temporel qui lui est propre. Il sera alors nécessaire de choisir celle qui consommera le moins temps dans une situation donnée ; par exemple une longueur de tableau donnée (représentant souvent le \"pire des cas\")."
   ]
  },
  {
   "cell_type": "markdown",
   "metadata": {},
   "source": [
    "* Sur ce thème : **Exercice 1, TD2**"
   ]
  },
  {
   "cell_type": "markdown",
   "metadata": {},
   "source": [
    "## Mécanismes du type `list` et perfomances :"
   ]
  },
  {
   "cell_type": "markdown",
   "metadata": {},
   "source": [
    "Le type `list` est __built-in__ c'est à dire qu'il est emabarqué dans le langage Python sans utilisation de module externe. L'appel des fonctions, énumérées plus haut, engage des mécanismes qu'il est important de comprendre, notamment en terme de performance."
   ]
  },
  {
   "cell_type": "markdown",
   "metadata": {},
   "source": [
    "### Création d'un tableau (eq `list` en Python)\n",
    "\n",
    "* Une première version serait :\n",
    " * de créer un tableau vide au départ,\n",
    " * de rajouter par la suite de case à la fin du tableau."
   ]
  },
  {
   "cell_type": "code",
   "execution_count": 6,
   "metadata": {},
   "outputs": [
    {
     "name": "stdout",
     "output_type": "stream",
     "text": [
      "[4, 4, 4, 4, 4, 4, 4, 4, 4, 4]\n"
     ]
    }
   ],
   "source": [
    "t = []\n",
    "i=0\n",
    "while i<10 :\n",
    "    t.append(4)\n",
    "    i=i+1\n",
    "print(t)"
   ]
  },
  {
   "cell_type": "markdown",
   "metadata": {},
   "source": [
    "* Cependant, on peut se poser d'autres questions\n",
    " * les performances seraient-elles les mêmes si au lieu d'utiliser `t.append(4)`, j'utilise plutôt `t.insert(0,4)` pour insérer la valeur `x` en début de tableau ?"
   ]
  },
  {
   "cell_type": "code",
   "execution_count": 1,
   "metadata": {},
   "outputs": [
    {
     "name": "stdout",
     "output_type": "stream",
     "text": [
      "[4, 4, 4, 4, 4, 4, 4, 4, 4, 4]\n"
     ]
    }
   ],
   "source": [
    "t = []\n",
    "i=0\n",
    "while i<10 :\n",
    "    t.insert(0,4)\n",
    "    i=i+1\n",
    "print(t)"
   ]
  },
  {
   "cell_type": "markdown",
   "metadata": {},
   "source": [
    "***Conclusion provisoire :***  \n",
    "* Dans l'exemple précédent, nous voyons que pour le même traitement, il est possible d'opter pour deux solutions (il y en a d'autres) algorithmiques. Dès à présent, ces solutions n'auront pas la même complexité, ni les mêmes performances en terme de temps."
   ]
  },
  {
   "cell_type": "markdown",
   "metadata": {},
   "source": [
    "### Comment Python minimise le coût temporel pour gagner en performance lors des insertions de valeurs dans les listes ?\n",
    "\n",
    "\n",
    "Il faut noter que Python a une façon particulière d'optimiser les temps de calcul en gérant \"judicieusement\" la capacité des listes. Ces mécanismes permettent de limiter les réallocations intempestives à chaque insertion de valeur :\n",
    "* au départ, une liste a une capacité maximale donnée (eq nombre de cases données) et les insertions (`append()` ou `insert()`) se font \"normalement\" dans l'espace mémoire alloué pour la liste ;\n",
    "* lorsque la capacité maximale est atteinte, Python opère plusieurs opérations pour agrandir la liste :\n",
    "   * création d'une autre liste avec une capacité double (généralement) de la précédente ;\n",
    "   * recopie des élements de l'ancienne liste dans la nouvelle liste ;\n",
    "   * rajout de l'élément qu'on cherchait à insérer.\n",
    "   \n",
    "Tout cela permet de minimiser les réallocations intempestives de nouvelles listes à chaque insertion lorsque la capacité maximale de la liste est atteinte. Ce mécanisme permet de rendre a peu près constant en moyenne le temps d'exécution pour une insertion à la fin du tableau.\n",
    "  "
   ]
  },
  {
   "cell_type": "markdown",
   "metadata": {},
   "source": [
    "### Recopie d'un tableau\n",
    "\n",
    "\n",
    "Considérons l'exemple suivant :"
   ]
  },
  {
   "cell_type": "code",
   "execution_count": 7,
   "metadata": {},
   "outputs": [
    {
     "name": "stdout",
     "output_type": "stream",
     "text": [
      "[10, 8, 40]\n",
      "[10, 8, 40]\n"
     ]
    }
   ],
   "source": [
    "t = [10,5,40]\n",
    "t1= t\n",
    "t1[1] = 8\n",
    "print(t)\n",
    "print(t1)"
   ]
  },
  {
   "cell_type": "markdown",
   "metadata": {},
   "source": [
    "Dans cet exemple, l'opération d'affectation ne recopie pas le tableau !\n",
    "\n",
    "Pour recopier un tableau, il est possible d'utiliser la méthode built-in `L.copy()`. Cependant, comme dans la situation précédente, il est possible d'écrire son propre algorithme pour faire cette copie et de comparer les performances."
   ]
  },
  {
   "cell_type": "markdown",
   "metadata": {},
   "source": [
    "* Sur ce thème : **Exercice 2, TD2**"
   ]
  },
  {
   "cell_type": "markdown",
   "metadata": {},
   "source": [
    "## Appartenance d'un élément à une liste\n",
    "\n",
    "En utilisant la même démarche, nous pouvons soit utiliser une solution built-in, soit une solution algortihmique.\n",
    "\n",
    "\n",
    "* Solution built-in :"
   ]
  },
  {
   "cell_type": "code",
   "execution_count": null,
   "metadata": {},
   "outputs": [],
   "source": [
    " def cherche_built_in(tab, x):\n",
    "    if x in tab:\n",
    "        return True\n",
    "    return False"
   ]
  },
  {
   "cell_type": "markdown",
   "metadata": {},
   "source": [
    "* Solution algorithmique :\n",
    "\n",
    "La récursivité sera utilisée pour faire une recherche dichotomique."
   ]
  },
  {
   "cell_type": "code",
   "execution_count": null,
   "metadata": {},
   "outputs": [],
   "source": [
    "def cherche_algo(tab, x, borne_a=0, borne_b=0):\n",
    "    if borne_a > borne_b:\n",
    "        return False\n",
    "    milieu = (borne_a + borne_b) // 2\n",
    "    if tab[milieu] == x:\n",
    "        return True\n",
    "    if tab[milieu] > x:\n",
    "        return cherche_algo(tab, x, borne_a, milieu-1)\n",
    "    return cherche_algo(tab, x, milieu+1, borne_b)"
   ]
  },
  {
   "cell_type": "markdown",
   "metadata": {},
   "source": [
    "***Quelle solution choisir ?***\n",
    "\n",
    "\n",
    "Pour pouvoir se décider, il serait souhaitable de définir sur quel critère doit se faire notre choix. On peut comparer, par exemple, le temps d’exécution moyen des deux fonctions sur des listes de plus en plus grandes.\n",
    "\n",
    "\n",
    "\n",
    "<center><img src=\"img/temps_exec_val_in_tab.png\" /></center>\n",
    "\n",
    "\n",
    "On constate maintenant que la version algorithmique est en générale beaucoup plus rapide que la version built-in. Cette comparaison ne nous dit pas pourquoi cela est vrai ; il faudrait pour cela se lancer dans une étude théorique des deux solutions précédents (cependant, vous aurez des éléments de réponse plus loin).\n",
    "\n",
    "Cet exemple, contrairement à ce qu'on pourrait penser, montre que la méthode built-in est moins performante sur des grands tableaux !\n",
    "\n",
    "***Attention !*** La recherche dichotomique ne peut se faire que sur des **tableaux préalablement triés**. La performance de l'algorithme devra être relativisée car le tri consomme aussi du temps d'exécution..."
   ]
  },
  {
   "cell_type": "markdown",
   "metadata": {},
   "source": [
    "## La mesure du temps en Python\n",
    "\n",
    "* Pour réaliser le graphique précédent, il est nécessaire de mettre en place un chronomètre en Python. Son fonctionnement est décrit ci-dessous :\n",
    " * on déclenche le chronomère **juste avant le début du bout de code à tester**, appelons ce temps `t_deb` ;\n",
    " * on arrête le chronomètre **juste après le bout de code à tester**, appelons ce temps `t_fin`;\n",
    " * la différence entre `t_fin` et `t_deb` donne la durée d'éxecution du bout de code.\n",
    "\n",
    "* On peut y parvenir grâce au module `time` et en utilisant la fonction `time()` qui renvoie le temps en seconde.\n",
    "\n",
    "Exemple :"
   ]
  },
  {
   "cell_type": "code",
   "execution_count": 4,
   "metadata": {},
   "outputs": [
    {
     "name": "stdout",
     "output_type": "stream",
     "text": [
      "0.0 secondes\n"
     ]
    }
   ],
   "source": [
    "from time import time\n",
    "t_deb = time()*1000 # enclencher le chronomètre, temps en milliseconde\n",
    "\n",
    "# morceau de code à tester\n",
    "\n",
    "t_fin = time()*1000   # arrêter le chronomètre, temps en milliseconde\n",
    "print(t_fin - t_deb, 'millisecondes')"
   ]
  },
  {
   "cell_type": "markdown",
   "metadata": {},
   "source": [
    "## Conclusion\n",
    "\n",
    "* Lors de l'utilisation des tableaux, il est important de ne pas perdre de vue le coup en performance. L'utilisation des méthodes built-in délèguent au langage Python tout le travail mais cela au prix d'un coût en temps occasionnant une perte de performances plus ou moins grande selon les stratégies employées dans le code embarqué par le langage (l'interpréteur en réalité) ; il en est de même pour une solution algorithmique. Il est important de prendre conscience de ces aspects dans le choix des stratégies alogorithmiques à mener pour résoudre un cahier des charges.\n",
    "\n",
    "\n",
    "* Quelques soient les langages utilisés, quelques soient les technologies utilisées, tout traitement à un coût :\n",
    " * en temps d'exécution,\n",
    " * en espace mémoire,\n",
    " * en communication réseau,\n",
    " * etc.  \n",
    "\n",
    "\n",
    "Il est indispensable de savoir quels sont les critères à optimiser lors de l'écriture d'un programme.\n",
    "\n",
    "* Dans les exercices de travail pratique, nous allons comparer, pour différents situations, le coût en temps des solutions built-in par rapport aux solutions algorithmiques."
   ]
  },
  {
   "cell_type": "markdown",
   "metadata": {},
   "source": [
    "## Compléments\n",
    "\n",
    "Le type `list` peut contenir différents types. Par exemple, `t = [10,8.6,\"coucou\"]`. De plus, les listes peuvent adapter leur capacité en fonction des besoins. Cette polyvalence se fait au prix d'une perte de performance. Il existe un type \"plus limité\" mais plus efficace. Le type `array` appartenant au module Numpy permet de stocker plusieurs éléments numériques (taille constante) de même type (uniquement). Il est cependant beaucoup plus efficace en temps d'exécution et adapté notamment au calcul scientifique.\n"
   ]
  },
  {
   "cell_type": "markdown",
   "metadata": {},
   "source": [
    "* Sur ce thème : **Exercice 3, TD2**"
   ]
  }
 ],
 "metadata": {
  "kernelspec": {
   "display_name": "Python 3",
   "language": "python",
   "name": "python3"
  },
  "language_info": {
   "codemirror_mode": {
    "name": "ipython",
    "version": 3
   },
   "file_extension": ".py",
   "mimetype": "text/x-python",
   "name": "python",
   "nbconvert_exporter": "python",
   "pygments_lexer": "ipython3",
   "version": "3.6.4"
  },
  "latex_envs": {
   "LaTeX_envs_menu_present": true,
   "autoclose": true,
   "autocomplete": true,
   "bibliofile": "biblio.bib",
   "cite_by": "apalike",
   "current_citInitial": 1,
   "eqLabelWithNumbers": true,
   "eqNumInitial": 1,
   "hotkeys": {
    "equation": "Ctrl-E",
    "itemize": "Ctrl-I"
   },
   "labels_anchors": false,
   "latex_user_defs": false,
   "report_style_numbering": false,
   "user_envs_cfg": false
  },
  "toc": {
   "base_numbering": 1,
   "nav_menu": {},
   "number_sections": true,
   "sideBar": true,
   "skip_h1_title": false,
   "title_cell": "Table of Contents",
   "title_sidebar": "Contents",
   "toc_cell": false,
   "toc_position": {},
   "toc_section_display": true,
   "toc_window_display": false
  }
 },
 "nbformat": 4,
 "nbformat_minor": 2
}
