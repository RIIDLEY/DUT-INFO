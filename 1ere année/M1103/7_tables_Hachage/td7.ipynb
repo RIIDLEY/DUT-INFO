{
 "cells": [
  {
   "cell_type": "markdown",
   "metadata": {},
   "source": [
    "# <center> Chapitre 7 : Tables de Hachage - TD </center>"
   ]
  },
  {
   "cell_type": "markdown",
   "metadata": {},
   "source": [
    "## Exercice 1 : Rechercher si un entier appartient à la table (version 1)"
   ]
  },
  {
   "cell_type": "markdown",
   "metadata": {},
   "source": [
    "Définir une fonction `rechercher` qui prend en paramètre une table de hachage et un entier et renvoie `True` si l'entier est dans la table, et `False` sinon. \n",
    "\n",
    "On supposera que la table de hachage est similaire à celle du premier exemple du cours, c'est-à-dire qu'elle contient 10 cases et que la $i$eme case contient la liste des nombres terminant par le chiffre $i$. "
   ]
  },
  {
   "cell_type": "code",
   "execution_count": null,
   "metadata": {},
   "outputs": [],
   "source": [
    "# Code de la fonction rechercher\n",
    "    "
   ]
  },
  {
   "cell_type": "code",
   "execution_count": null,
   "metadata": {},
   "outputs": [],
   "source": [
    "table = [\n",
    "    [0],\n",
    "    [3321, 1],\n",
    "    [12, 59482, 2, 342],\n",
    "    [23, 543],\n",
    "    [34, 4, 34534],\n",
    "    [45, 345],\n",
    "    [],\n",
    "    [67, 57, 847, 897],\n",
    "    [78, 18],\n",
    "    [7069]\n",
    "]\n",
    "\n",
    "print(rechercher(table,345), \" doit afficher True \")\n",
    "print(rechercher(table,346), \" doit afficher False \")\n",
    "print(rechercher(table,45), \" doit afficher True \")\n",
    "print(rechercher(table,355), \" doit afficher False \")"
   ]
  },
  {
   "cell_type": "markdown",
   "metadata": {},
   "source": [
    "## Exercice 2 : Ajouter une valeur dans une table de hachage (version 1)\n",
    "\n",
    "Définir une fonction `ajouter` qui prend en paramètre une table de hachage et un entier et ajoute cet entier dans la table s'il n'existe pas. \n",
    "\n",
    "On supposera que la table de hachage est similaire à celle du premier exemple du cours, c'est-à-dire qu'elle contient 10 cases et que la $i$eme case contient la liste des nombres terminant par le chiffre $i$. "
   ]
  },
  {
   "cell_type": "code",
   "execution_count": null,
   "metadata": {},
   "outputs": [],
   "source": [
    "# Code de la fonction ajouter\n"
   ]
  },
  {
   "cell_type": "code",
   "execution_count": null,
   "metadata": {},
   "outputs": [],
   "source": [
    "ajouter(table,3321) # n'ajoute rien\n",
    "ajouter(table,431)\n",
    "ajouter(table,791)\n",
    "\n",
    "print(len(table[1]), \"doit afficher 4\")"
   ]
  },
  {
   "cell_type": "markdown",
   "metadata": {},
   "source": [
    "## Exercice 3 \n",
    "\n",
    "Définir une fonction `supprimer` qui prend en paramètre une table de hachage et un entier et supprime cet entier dans la table s'il existe. \n",
    "\n",
    "On supposera que la table de hachage est similaire à celle du premier exemple du cours, c'est-à-dire qu'elle contient 10 cases et que la $i$eme case contient la liste des nombres terminant par le chiffre $i$. \n",
    "\n",
    "**Remarque :** on utilisera la fonction `L.pop()` qui supprime le dernier élément de la table `L`."
   ]
  },
  {
   "cell_type": "code",
   "execution_count": null,
   "metadata": {},
   "outputs": [],
   "source": [
    "# Code de la fonction supprimer\n"
   ]
  },
  {
   "cell_type": "code",
   "execution_count": null,
   "metadata": {},
   "outputs": [],
   "source": [
    "from pprint import pprint #pprint fait un affichage plus lisible\n",
    "\n",
    "table = [\n",
    "    [0],\n",
    "    [3321, 1],\n",
    "    [12, 59482, 2, 342],\n",
    "    [23, 543],\n",
    "    [34, 4, 34534],\n",
    "    [45, 345],\n",
    "    [],\n",
    "    [67, 57, 847, 897],\n",
    "    [78, 18],\n",
    "    [7069]\n",
    "]\n",
    "\n",
    "print(\"Avant suppression : \")\n",
    "pprint(table) # Affichage plus lisible\n",
    "\n",
    "supprimer(table,78)\n",
    "supprimer(table,78)\n",
    "supprimer(table,786)\n",
    "supprimer(table,59482)\n",
    "print(\"\\nAprès suppression : \")\n",
    "pprint(table)\n"
   ]
  },
  {
   "cell_type": "markdown",
   "metadata": {},
   "source": [
    "## Exercice 4 : Rechercher une valeur dans une table de hachage (version 2)"
   ]
  },
  {
   "cell_type": "markdown",
   "metadata": {},
   "source": [
    "Définir une fonction `rechercher2` qui prend en paramètre une table de hachage et une valeur et renvoie `True` si l'entier est dans la table, et `False` sinon. \n",
    "\n",
    "On ne présage pas du nombre de cases de la table. De plus, on utilisera la fonction de hachage définie en cours.\n",
    "\n",
    "**Remarque :** Si la valeur que l'on veut stocker dans la table est entière, il suffit de transformer l'entier en une chaîne de caractères avec `str(entier)`."
   ]
  },
  {
   "cell_type": "code",
   "execution_count": null,
   "metadata": {},
   "outputs": [],
   "source": [
    "def hachage(str):\n",
    "    nombre =  0\n",
    "    i = 0\n",
    "    while i < len(str):\n",
    "        nombre += ord(str[i])\n",
    "        i += 1\n",
    "    return nombre"
   ]
  },
  {
   "cell_type": "code",
   "execution_count": null,
   "metadata": {},
   "outputs": [],
   "source": [
    "# Code de la fonction rechercher2\n"
   ]
  },
  {
   "cell_type": "code",
   "execution_count": null,
   "metadata": {},
   "outputs": [],
   "source": [
    "table = [\n",
    "    [\"chien\"], \n",
    "    [\"bon\", \"jour\"], \n",
    "    [\"chat\"]\n",
    "]\n",
    "\n",
    "print(rechercher2(table, \"chien\"), \"doit afficher True\")\n",
    "print(rechercher2(table, \"Chien\"), \"doit afficher False\")\n",
    "print(rechercher2(table, \"chat\"), \"doit afficher True\")\n",
    "print(rechercher2(table, \"chiots\"), \"doit afficher False\")"
   ]
  },
  {
   "cell_type": "markdown",
   "metadata": {},
   "source": [
    "## Exercice 5 : Ajouter une valeur dans une table de hachage (version 2)"
   ]
  },
  {
   "cell_type": "markdown",
   "metadata": {},
   "source": [
    "Définir une fonction `ajouter2` qui prend en paramètre une table de hachage et un entier et ajoute cet entier dans la table s'il n'existe pas. \n",
    "\n",
    "On ne présage pas du nombre de cases de la table. De plus, on utilisera la fonction de hachage définie en cours."
   ]
  },
  {
   "cell_type": "code",
   "execution_count": null,
   "metadata": {},
   "outputs": [],
   "source": [
    "# Code de la fonction ajouter2\n"
   ]
  },
  {
   "cell_type": "code",
   "execution_count": null,
   "metadata": {},
   "outputs": [],
   "source": [
    "ajouter2(table,\"lion\")\n",
    "ajouter2(table,\"renard\")\n",
    "ajouter2(table,\"hibou\")\n",
    "ajouter2(table,\"dalmatien\")\n",
    "\n",
    "print(table) # Affichage plus lisible\n"
   ]
  },
  {
   "cell_type": "markdown",
   "metadata": {},
   "source": [
    "## Exercice 6 : Supprimer une valeur dans une table de hachage (version 2)"
   ]
  },
  {
   "cell_type": "markdown",
   "metadata": {},
   "source": [
    "Définir une fonction `supprimer2` qui prend en paramètre une table de hachage et un entier et supprime cet entier dans la table s'il existe. \n",
    "\n",
    "On ne présage pas du nombre de cases de la table. De plus, on utilisera la fonction de hachage définie en cours. \n",
    "\n",
    "**Remarque :** on utilisera la fonction `L.pop()` qui supprime le dernier élément de la table `L`."
   ]
  },
  {
   "cell_type": "code",
   "execution_count": null,
   "metadata": {},
   "outputs": [],
   "source": [
    "# Code de la fonction supprimer2         "
   ]
  },
  {
   "cell_type": "code",
   "execution_count": null,
   "metadata": {},
   "outputs": [],
   "source": [
    "table = [\n",
    "    ['chien', 'renard'], \n",
    "    ['bon', 'jour', 'hibou', 'dalmatien'], \n",
    "    ['chat', 'lion']\n",
    "]\n",
    "\n",
    "print(\"Avant suppression : \")\n",
    "print(table) # Affichage plus lisible\n",
    "\n",
    "supprimer2(table,\"biche\")\n",
    "supprimer2(table,\"chien\")\n",
    "supprimer2(table,\"renard\")\n",
    "supprimer2(table,\"lion\")\n",
    "print(\"\\nAprès suppression : \")\n",
    "print(table)\n"
   ]
  }
 ],
 "metadata": {
  "kernelspec": {
   "display_name": "Python 3",
   "language": "python",
   "name": "python3"
  },
  "language_info": {
   "codemirror_mode": {
    "name": "ipython",
    "version": 3
   },
   "file_extension": ".py",
   "mimetype": "text/x-python",
   "name": "python",
   "nbconvert_exporter": "python",
   "pygments_lexer": "ipython3",
   "version": "3.6.6"
  }
 },
 "nbformat": 4,
 "nbformat_minor": 2
}
