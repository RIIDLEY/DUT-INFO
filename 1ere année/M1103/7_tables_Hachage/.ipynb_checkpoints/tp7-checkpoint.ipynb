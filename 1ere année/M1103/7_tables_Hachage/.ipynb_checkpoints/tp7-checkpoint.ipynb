{
 "cells": [
  {
   "cell_type": "markdown",
   "metadata": {},
   "source": [
    "# <center> Chapitre 7 : Tables de Hachage - TP </center>"
   ]
  },
  {
   "cell_type": "markdown",
   "metadata": {},
   "source": [
    "L'utilisation et l'étude des tables de hachage se fera en comptabilisant le nombre de mots différents contenus dans le livre *Le Horla* de Guy de Maupassant (*texte libre récupéré sur le site Project Gutenberg*).\n",
    "\n",
    "Le fichier `le_horla.json` dans le répertoire `data` contient au format json un tableau correspondant à l'ensemble des mots du livre (dans l'ordre où ils apparaissent dans le livre). Toute la ponctuation (`?!;,-\"'`) a été supprimée et les majuscules ont été transformées en minuscules pour simplifier le traitement."
   ]
  },
  {
   "cell_type": "markdown",
   "metadata": {},
   "source": [
    "## Exercice 1 : Récupération des données\n",
    "\n",
    "Créer une variable `mots` contenant la séquence des mots du livre *Le Horla*. Cette variable sera initialisée avec les informations contenues dans le fichier *le_horla.json*.\n",
    "\n",
    "Vérifier que le livre commence par : \n",
    "\n",
    "> 8 mai. — Quelle journée admirable ! J'ai passé toute la matinée étendu sur l'herbe, devant ma maison, sous l'énorme platane qui la couvre, l'abrite et l'ombrage tout entière."
   ]
  },
  {
   "cell_type": "code",
   "execution_count": null,
   "metadata": {},
   "outputs": [],
   "source": [
    "#Code \n"
   ]
  },
  {
   "cell_type": "markdown",
   "metadata": {},
   "source": [
    "## Exercice 2 : Fonction de hachage, recherche, ajout, suppression\n",
    "\n",
    "Implémenter les fonctions de hachage, de recherche, d'ajout et de suppression vues en cours et en TD (exercices 4, 5 et 6). Vérifier ces fonctions sur des petits exemples."
   ]
  },
  {
   "cell_type": "code",
   "execution_count": null,
   "metadata": {},
   "outputs": [],
   "source": [
    "# Code des fonctions de hachage, recherche, ajout et suppression"
   ]
  },
  {
   "cell_type": "code",
   "execution_count": null,
   "metadata": {},
   "outputs": [],
   "source": [
    "table = [\n",
    "    [\"chien\"], \n",
    "    [\"bon\", \"jour\"], \n",
    "    [\"chat\"]\n",
    "]\n",
    "\n",
    "\n",
    "print(rechercher(table, \"chien\"), \"doit afficher True\")\n",
    "print(rechercher(table, \"Chien\"), \"doit afficher False\")\n",
    "print(rechercher(table, \"chat\"), \"doit afficher True\")\n",
    "print(rechercher(table, \"chiots\"), \"doit afficher False\")\n",
    "\n",
    "ajouter(table,\"lion\")\n",
    "ajouter(table,\"lion\")\n",
    "ajouter(table,\"renard\")\n",
    "ajouter(table,\"hibou\")\n",
    "ajouter(table,\"dalmatien\")\n",
    "\n",
    "print(table)\n",
    "\n",
    "\n",
    "supprimer(table,\"biche\")\n",
    "supprimer(table,\"chien\")\n",
    "supprimer(table,\"renard\")\n",
    "supprimer(table,\"lion\")\n",
    "\n",
    "print(table)"
   ]
  },
  {
   "cell_type": "markdown",
   "metadata": {},
   "source": [
    "## Exercice 3 : Initialisation d'une table de hachage\n",
    "\n",
    "Créer la fonction `initialiser_table` prenant en paramètre un entier `n` et retournant un tableau contenant `n` cases, chacune d'elle contenant un tableau vide."
   ]
  },
  {
   "cell_type": "code",
   "execution_count": null,
   "metadata": {},
   "outputs": [],
   "source": [
    "# Code de la fonction initialiser_table\n"
   ]
  },
  {
   "cell_type": "code",
   "execution_count": null,
   "metadata": {},
   "outputs": [],
   "source": [
    "t = initialiser_table(5)\n",
    "print(t)"
   ]
  },
  {
   "cell_type": "markdown",
   "metadata": {},
   "source": [
    "## Exercice 4 : Nombre de valeurs dans une table de hachage\n",
    "\n",
    "Définir une fonction `nb_valeurs` prenant en paramètre une table de hachage et retournant le nombre de valeurs stockées dans cette table."
   ]
  },
  {
   "cell_type": "code",
   "execution_count": null,
   "metadata": {},
   "outputs": [],
   "source": [
    "# Code de la fonction nb_valeurs\n"
   ]
  },
  {
   "cell_type": "code",
   "execution_count": null,
   "metadata": {},
   "outputs": [],
   "source": [
    "t = initialiser_table(5)\n",
    "print(nb_valeurs(t), \"doit afficher 0\")\n",
    "\n",
    "ajouter(t, \"chien\")\n",
    "ajouter(t, \"chat\")\n",
    "ajouter(t, \"chien\")\n",
    "\n",
    "print(nb_valeurs(t), \"doit afficher 2\")"
   ]
  },
  {
   "cell_type": "markdown",
   "metadata": {},
   "source": [
    "## Exercice 5 : Nombre de mots différents dans le roman *le Horla*\n",
    "\n",
    "Compter le nombre de mots différents dans le roman *le Horla*. Pour cela : \n",
    "* créer une table de hachage de 1000 cases,\n",
    "\n",
    "* ajouter chaque mot de `mots` dans la table,\n",
    "\n",
    "* compter le nombre de valeurs dans cette table.\n"
   ]
  },
  {
   "cell_type": "code",
   "execution_count": null,
   "metadata": {},
   "outputs": [],
   "source": [
    "# Code"
   ]
  },
  {
   "cell_type": "markdown",
   "metadata": {},
   "source": [
    "## Exercice 6 : Étude des performances\n",
    "\n",
    "### Question 1 \n",
    "\n",
    "Mesurer le temps d'exécution pour calculer le nombre de mots différents. Relancer maintenant en changeant la taille de la table (par exemple 100 puis 10). Cela change-t-il ?\n",
    "\n",
    "### Question 2\n",
    "\n",
    "Définir la fonction `c` prenant en paramètre une table de hachage et retournant le nombre maximum de valeurs dans une même case (taille maximale d'un tas)."
   ]
  },
  {
   "cell_type": "code",
   "execution_count": null,
   "metadata": {},
   "outputs": [],
   "source": [
    "# Code de la fonction c\n"
   ]
  },
  {
   "cell_type": "markdown",
   "metadata": {},
   "source": [
    "### Question 3\n",
    "\n",
    "Calculer la valeur $c$ de la table de hachage remplie avec les différents mots du livre lorsque la table a 10 cases, 100 cases, 1000 cases et 10000 cases et comparer avec la valeur qu'elle pourrait avoir si la fonction de hachage était idéale."
   ]
  },
  {
   "cell_type": "code",
   "execution_count": null,
   "metadata": {},
   "outputs": [],
   "source": [
    "# Code "
   ]
  },
  {
   "cell_type": "markdown",
   "metadata": {},
   "source": [
    "### Question 4\n",
    "\n",
    "Tester d'autres fonctions de hachage."
   ]
  },
  {
   "cell_type": "code",
   "execution_count": null,
   "metadata": {},
   "outputs": [],
   "source": [
    "# Code"
   ]
  }
 ],
 "metadata": {
  "kernelspec": {
   "display_name": "Python 3",
   "language": "python",
   "name": "python3"
  },
  "language_info": {
   "codemirror_mode": {
    "name": "ipython",
    "version": 3
   },
   "file_extension": ".py",
   "mimetype": "text/x-python",
   "name": "python",
   "nbconvert_exporter": "python",
   "pygments_lexer": "ipython3",
   "version": "3.6.4"
  }
 },
 "nbformat": 4,
 "nbformat_minor": 2
}
