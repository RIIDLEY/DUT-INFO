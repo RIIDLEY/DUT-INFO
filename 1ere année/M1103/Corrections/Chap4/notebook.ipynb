{
 "cells": [
  {
   "cell_type": "markdown",
   "metadata": {},
   "source": [
    "# Notebook utilisant le package Cryptographie"
   ]
  },
  {
   "cell_type": "code",
   "execution_count": null,
   "metadata": {},
   "outputs": [],
   "source": [
    "from Cryptographie.cesar import *"
   ]
  },
  {
   "cell_type": "code",
   "execution_count": null,
   "metadata": {},
   "outputs": [],
   "source": [
    "cle  = 5\n",
    "s = \"C'est super la cryptographie !\"\n",
    "print(s)\n",
    "chiffre = chiffre_cesar(s,cle)\n",
    "print(\"chiffrement : \", chiffre)\n",
    "\n",
    "s_decode = dechiffre_cesar(chiffre,cle)\n",
    "print (\"déchiffrement : \", s_decode)\n",
    "\n",
    "if s != s_decode : \n",
    "    print(\"On a un problème dans le code/décodage\")\n",
    "else:\n",
    "    print(\"Le chiffrement/décodage a bien fonctionné\")"
   ]
  },
  {
   "cell_type": "code",
   "execution_count": null,
   "metadata": {},
   "outputs": [],
   "source": [
    "from Cryptographie.rot13 import *"
   ]
  },
  {
   "cell_type": "code",
   "execution_count": null,
   "metadata": {},
   "outputs": [],
   "source": [
    "s = \"C'est génial python !\"\n",
    "s_crypte = chiffre_ROT13(s)\n",
    "s2 = dechiffre_ROT13(s_crypte)\n",
    "print(s2)\n"
   ]
  }
 ],
 "metadata": {
  "kernelspec": {
   "display_name": "Python 3",
   "language": "python",
   "name": "python3"
  },
  "language_info": {
   "codemirror_mode": {
    "name": "ipython",
    "version": 3
   },
   "file_extension": ".py",
   "mimetype": "text/x-python",
   "name": "python",
   "nbconvert_exporter": "python",
   "pygments_lexer": "ipython3",
   "version": "3.6.6"
  }
 },
 "nbformat": 4,
 "nbformat_minor": 2
}
