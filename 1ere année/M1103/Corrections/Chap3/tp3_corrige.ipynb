{
 "cells": [
  {
   "cell_type": "markdown",
   "metadata": {},
   "source": [
    "# <center> Chapitre 3 : Algorithmes de recherche - TP corrigé</center>"
   ]
  },
  {
   "cell_type": "markdown",
   "metadata": {},
   "source": [
    "## Exercice 1 : Le jeu du Devin\n",
    "\n",
    "\n",
    "On propose de programmer le jeu du Devin. Les règles sont simples : vous choisissez un nombre entre 1 et 100 (vous ne devez pas changer de nombre en cours de partie). L'ordinateur doit déterminer ce nombre en un minimum d'essais. À chaque essai, l'ordinateur vous propose un nombre (entre 1 et 100) et vous devez répondre (sans tricher !) si le nombre que vous avez choisi est égal à celui proposé (dans ce cas, le programme est terminé), ou plus grand ou plus petit.\n",
    "\n",
    "- Programmer le jeu du Devin et jouer UN PEU."
   ]
  },
  {
   "cell_type": "code",
   "execution_count": null,
   "metadata": {},
   "outputs": [],
   "source": [
    "def saisie():\n",
    "    print(\"Veuillez saisir votre réponse : \")\n",
    "    print(\"1 - j'ai trouvé votre nombre !\")\n",
    "    print(\"2 - j'ai proposé un nombre plus petit que le votre\")\n",
    "    print(\"3 - j'ai proposé un nombre plus grand que le votre\")\n",
    "    n = -1\n",
    "    while n < 1 or n > 3:\n",
    "        n = int(input())\n",
    "    return n\n",
    "    \n",
    "\n",
    "def jeu_devin():\n",
    "    debut = 1\n",
    "    fin = 100\n",
    "    milieu = (debut+fin)//2\n",
    "    trouve = False\n",
    "    while not trouve and debut <= fin :\n",
    "        print(\"Est-ce qu le nombre choisi est \", milieu, \"?\")\n",
    "        res = saisie()\n",
    "        if res == 1 :  #On a trouvé l'élément\n",
    "            return\n",
    "        elif res == 3 :\n",
    "            fin = milieu-1   \n",
    "        else :\n",
    "            debut = milieu+1 \n",
    "        milieu = (debut+fin)//2\n",
    "    if debut > fin:\n",
    "        print (\"Certains trichent !!!\")\n",
    "jeu_devin()"
   ]
  },
  {
   "cell_type": "markdown",
   "metadata": {},
   "source": [
    "* Combien d'essais faut-il au minimum à l'ordinateur pour trouver le nombre ?\n",
    "* Combien d'essais faut-il au maximum à l'ordinateur pour trouver le nombre ?\n",
    "* Combien d'essais faut-il au maximum à l'ordinateur pour trouver le nombre si l'on choisit un nombre entre 1 et 1000 ?"
   ]
  },
  {
   "cell_type": "markdown",
   "metadata": {},
   "source": [
    "## Exercice 2 : Calcul de la racine carrée d'un nombre\n",
    "\n",
    "\n",
    "Supposons que l'on a une fonction mathématique $f(x)$ continue et strictement monotone (telle que la racine carrée). On peut alors rechercher par dichotomie la solution de $f(x) = 0$. On ne cherche pas à obtenir une expression exacte d’une telle solution, ce qui est de toute façon évidemment impossible de manière générale.\n",
    "\n",
    "On suppose qu’on dispose d’une fonction f continue et strictement monotone sur un intervale [a,b] vérifiant $f(a) \\times f(b)≤0$. Le théorème des valeurs intermédiaires garantit l’existence d’une unique solution à l’équation f(x)=0 sur l’intervalle [a,b]. Pour obtenir une valeur approchée de cette solution, on procède par dichotomie :\n",
    "\n",
    "                                    On calcule c=(a+b)/2 et f(c).\n",
    "\n",
    "Si $f(a)\\times f(c)≤0$, la solution appartient à l’intervalle [a,c]. Sinon, elle appartient à l’intervalle [c,b].\n",
    "Dans le premier cas, on remplace b par c tandis que dans le second cas, on remplace a par c.\n",
    "On répète les étapes 1., 2. et 3. tant que la longeur de l’intervalle [a,b] est supérieur à une précision $\\epsilon$ donnée.\n",
    "La valeur de c est alors une valeur appochée de la solution de f(x)=0 à $\\epsilon/2$ près."
   ]
  },
  {
   "cell_type": "markdown",
   "metadata": {},
   "source": [
    "Définir une fonction calculant la racine carrée d'un nombre."
   ]
  },
  {
   "cell_type": "code",
   "execution_count": 20,
   "metadata": {},
   "outputs": [
    {
     "name": "stdout",
     "output_type": "stream",
     "text": [
      "Racine carrée de 110 = 10.488086640834808\n"
     ]
    }
   ],
   "source": [
    "#corrigé\n",
    "\n",
    "def f(x,nb):\n",
    "    return x * x - nb\n",
    "\n",
    "def racine_carree(nb):\n",
    "    if nb < 0:\n",
    "        return -1\n",
    "    \n",
    "    deb = 0\n",
    "    fin = nb\n",
    "    \n",
    "    while fin-deb > 0.00001 :\n",
    "        \n",
    "        milieu = (fin + deb) / 2\n",
    "        if f(deb,nb) * f(milieu,nb) <= 0:\n",
    "            fin = milieu\n",
    "        else:\n",
    "            deb = milieu\n",
    "        \n",
    "    return (fin+deb) /2\n",
    "\n",
    "nombre = 110\n",
    "res = racine_carree(110)\n",
    "print(\"Racine carrée de\", nombre, \"=\", res)"
   ]
  },
  {
   "cell_type": "markdown",
   "metadata": {},
   "source": [
    "## Exercice 3 : Même caractères\n",
    "\n",
    "Définir la fonction `meme_caracteres` prenant en paramètre deux chaînes de caractères et retournant `True` si les deux chaînes utilisent les mêmes caractères (tout caractère apparaissant dans l'une apparaît dans l'autre), et `False` sinon."
   ]
  },
  {
   "cell_type": "code",
   "execution_count": 6,
   "metadata": {},
   "outputs": [
    {
     "name": "stdout",
     "output_type": "stream",
     "text": [
      "Tous les caractères n'apparaissent dans la crise économzique  et le scénario comique \n"
     ]
    }
   ],
   "source": [
    "def appartient(caractere,chaine):\n",
    "    i = 0\n",
    "    rep = False\n",
    "    while i<len(chaine) and not rep:\n",
    "         if chaine[i]==caractere:\n",
    "             rep=True\n",
    "         i += 1\n",
    "    return rep\n",
    "\n",
    "def inclus(ch1, ch2):\n",
    "    i = 0\n",
    "    n = len(ch1)\n",
    "    while i < n:\n",
    "        if not appartient(ch1[i],ch2):\n",
    "            return False\n",
    "        i+=1\n",
    "    return True\n",
    "\n",
    "def meme_caracteres(ch1,ch2):\n",
    "    return inclus(ch1,ch2) and inclus(ch2,ch1)\n",
    "\n",
    "c1 = \"la crise économique\"\n",
    "c2 = \"le scénario comique \"\n",
    "\n",
    "if meme_caracteres(c1,c2):\n",
    "    print(c1, \"et\", c2, \"utilisent les même caractères\")\n",
    "else:\n",
    "    print(\"Tous les caractères n'apparaissent pas dans\", c1, \" et\", c2)"
   ]
  },
  {
   "cell_type": "markdown",
   "metadata": {},
   "source": [
    "Définir la fonction `meme_caracteres_trie` prenant en paramètre deux chaînes de caractères **triées** et retournant `True` si les deux chaînes utilisent les mêmes caractères (tout caractère apparaissant dans l'une apparaît dans l'autre), et `False` sinon."
   ]
  },
  {
   "cell_type": "code",
   "execution_count": 11,
   "metadata": {},
   "outputs": [
    {
     "name": "stdout",
     "output_type": "stream",
     "text": [
      "aabbbbbbbbbbbbbbbbbbc et aabbccc utilisent les même caractères\n"
     ]
    }
   ],
   "source": [
    "def meme_caracteres_trie(ch1,ch2):\n",
    "    if len(ch1) == 0 and len(ch2) == 0:\n",
    "        return True\n",
    "    elif len(ch1) == 0 or len(ch2) == 0:\n",
    "        return False\n",
    "    \n",
    "    i = 0\n",
    "    j = 0\n",
    "    while i < len(ch1) and j < len(ch2):\n",
    "        if ch1[i] != ch2[j]:\n",
    "            return False\n",
    "        \n",
    "        # On passe au prochain caractère (nouveau) dans ch1\n",
    "        i+=1\n",
    "        while i < len(ch1) and ch1[i] == ch1[i-1]:\n",
    "            i+=1\n",
    "        \n",
    "        j += 1\n",
    "        while j < len(ch2) and ch2[j] == ch2[j-1]:\n",
    "            j+=1\n",
    "    return i == len(ch1) and j == len(ch2)\n",
    "\n",
    "c1 = \"aabbbbbbbbbbbbbbbbbbc\"\n",
    "c2 = \"aabbccc\"\n",
    "\n",
    "if meme_caracteres_trie(c1,c2):\n",
    "    print(c1, \"et\", c2, \"utilisent les même caractères\")\n",
    "else:\n",
    "    print(\"Tous les caractères n'apparaissent pas dans\", c1, \" et\", c2)"
   ]
  },
  {
   "cell_type": "markdown",
   "metadata": {},
   "source": [
    "Quelle est la complexité dans le pire des cas pour chacune des fonctions ?"
   ]
  },
  {
   "cell_type": "markdown",
   "metadata": {},
   "source": [
    "**Réponse :** On a les complexités suivantes : \n",
    "* $O(nm)$ avec $n$ et $m$ les tailles des chaînes\n",
    "* $O(n)$ avec $n$ la taille de la plus longue des deux chaînes"
   ]
  }
 ],
 "metadata": {
  "kernelspec": {
   "display_name": "Python 3",
   "language": "python",
   "name": "python3"
  },
  "language_info": {
   "codemirror_mode": {
    "name": "ipython",
    "version": 3
   },
   "file_extension": ".py",
   "mimetype": "text/x-python",
   "name": "python",
   "nbconvert_exporter": "python",
   "pygments_lexer": "ipython3",
   "version": "3.6.6"
  }
 },
 "nbformat": 4,
 "nbformat_minor": 2
}
