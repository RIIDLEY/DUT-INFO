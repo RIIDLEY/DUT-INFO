{
 "cells": [
  {
   "cell_type": "markdown",
   "metadata": {},
   "source": [
    "# <center> Chapitre 2 : Listes en python - TD corrigé </center>"
   ]
  },
  {
   "cell_type": "markdown",
   "metadata": {},
   "source": [
    "## Exercice 1 : Insertion dans un tableau"
   ]
  },
  {
   "cell_type": "markdown",
   "metadata": {},
   "source": [
    "Définir la fonction `insertion_tableau` prenant en paramètre une liste `L`, une valeur `v` et un indice `i` et insérant la valeur `v` à l'indice `i` dans `L` (fonction comparable à `L.insert(i,v)`). \n",
    "\n",
    "Cette fonction ne doit pas utiliser la fonction `L.insert`, seule `L.append` est permis pour augmenter la taille du tableau."
   ]
  },
  {
   "cell_type": "code",
   "execution_count": 5,
   "metadata": {},
   "outputs": [
    {
     "name": "stdout",
     "output_type": "stream",
     "text": [
      "[1, 2, 3, 4, 42]\n"
     ]
    }
   ],
   "source": [
    "# CORRECTION\n",
    "\n",
    "def insertion_tableau(L, i, v):\n",
    "    if i < 0 or i > len(L):\n",
    "        return \n",
    "    L.append(0) #On ajoute une case\n",
    "    j = len(L) - 1\n",
    "    while j > i:\n",
    "        L[j] = L[j-1] #On décale les éléments\n",
    "        j -= 1\n",
    "    L[i] = v\n",
    "    \n",
    "liste = [1,2,3,4]\n",
    "insertion_tableau(liste,1,42)\n",
    "print(liste)"
   ]
  },
  {
   "cell_type": "markdown",
   "metadata": {},
   "source": [
    "## Exercice 2 : Copie d'un tableau"
   ]
  },
  {
   "cell_type": "markdown",
   "metadata": {},
   "source": [
    "Définir la fonction `copie_tableau` retournant une copie du tableau `L` passé en paramètre (fonction comparable à `L.copy()`). \n",
    "\n",
    "Cette fonction ne doit pas utiliser la fonction `L.copy`, seule `L.append` est permis pour augmenter la taille du tableau."
   ]
  },
  {
   "cell_type": "code",
   "execution_count": 7,
   "metadata": {},
   "outputs": [
    {
     "name": "stdout",
     "output_type": "stream",
     "text": [
      "[1, 2, 3, 4]\n",
      "[1, 2, 3, 4]\n",
      "[42, 2, 3, 4]\n",
      "[1, 2, 3, 4]\n"
     ]
    }
   ],
   "source": [
    "# CORRECTION\n",
    "\n",
    "def copie_tableau(L):\n",
    "    copie = []\n",
    "    i = 0 \n",
    "    while i < len(L):\n",
    "        copie.append(L[i])\n",
    "        i += 1\n",
    "    return copie\n",
    "\n",
    "liste = [1,2,3,4]\n",
    "c = copie_tableau(liste)\n",
    "\n",
    "print(liste)\n",
    "print(c)\n",
    "liste[0] = 42\n",
    "print(liste)\n",
    "print(c)"
   ]
  },
  {
   "cell_type": "markdown",
   "metadata": {},
   "source": [
    "## Exercice 3 : Comparaison listes triées et non triées"
   ]
  },
  {
   "cell_type": "markdown",
   "metadata": {},
   "source": [
    "Les questions de cet exercice ont pour objet de manipuler les listes en Python. Pour chacune des fonctions à implémenter, on définira deux fonctions : \n",
    "\n",
    "* une version prendra en paramètre une liste de nombres quelconques. Pour plus d'efficacité, la fonction pourra modifier l'ordre des éléments dans la liste,\n",
    "\n",
    "* l'autre version prendra en paramètre une liste de nombres triés dans l'ordre croissant ; la liste devra rester triée."
   ]
  },
  {
   "cell_type": "markdown",
   "metadata": {},
   "source": [
    "### Question 1 : Minimum d'un tableau\n",
    "\n",
    "Définir la fonction `minimum_tableau` prenant en paramètre un tableau de nombres et retournant le minimum."
   ]
  },
  {
   "cell_type": "code",
   "execution_count": 10,
   "metadata": {},
   "outputs": [
    {
     "name": "stdout",
     "output_type": "stream",
     "text": [
      "-4\n"
     ]
    }
   ],
   "source": [
    "# CORRECTION\n",
    "\n",
    "def minimum_tableau(L):\n",
    "    if len(L) == 0:\n",
    "        return\n",
    "    min = L[0]\n",
    "    i = 1\n",
    "    while i < len(L):\n",
    "        if L[i] < min:\n",
    "            min = L[i]\n",
    "        i += 1\n",
    "    return min\n",
    "\n",
    "liste = [1,2,-3,-4]\n",
    "m = minimum_tableau(liste)\n",
    "print(m)"
   ]
  },
  {
   "cell_type": "markdown",
   "metadata": {},
   "source": [
    "Définir la fonction `minimum_tableau_trie` prenant en paramètre un tableau de nombres trié dans l'ordre croissant et retournant le minimum."
   ]
  },
  {
   "cell_type": "code",
   "execution_count": 12,
   "metadata": {},
   "outputs": [
    {
     "name": "stdout",
     "output_type": "stream",
     "text": [
      "1\n"
     ]
    }
   ],
   "source": [
    "# CORRECTION\n",
    "\n",
    "def minimum_tableau_trie(L):\n",
    "    if len(L) == 0:\n",
    "        return \n",
    "    return L[0]\n",
    "\n",
    "liste = [1,2,5,4]\n",
    "m = minimum_tableau_trie(liste)\n",
    "print(m)"
   ]
  },
  {
   "cell_type": "markdown",
   "metadata": {},
   "source": [
    "Quelle est la complexité dans le pire des cas de chacune des fonctions ?"
   ]
  },
  {
   "cell_type": "markdown",
   "metadata": {},
   "source": [
    "**Réponse :**\n",
    "\n",
    "* `minimum_tableau` : complexité linéaire\n",
    "\n",
    "* `minimum_tableau` : complexité constante"
   ]
  },
  {
   "cell_type": "markdown",
   "metadata": {},
   "source": [
    "### Question 2 : Ajout d'un élément"
   ]
  },
  {
   "cell_type": "markdown",
   "metadata": {},
   "source": [
    "Définir la fonction `ajouter_tableau` ajoutant un nombre à un tableau de nombres."
   ]
  },
  {
   "cell_type": "code",
   "execution_count": 13,
   "metadata": {},
   "outputs": [
    {
     "name": "stdout",
     "output_type": "stream",
     "text": [
      "[1, 2, 3, 4, 42]\n"
     ]
    }
   ],
   "source": [
    "# CORRECTION\n",
    "\n",
    "def ajouter_tableau(L,nb):\n",
    "    L.append(nb)\n",
    "    \n",
    "liste = [1,2,3,4]\n",
    "ajouter_tableau(liste,42)\n",
    "print(liste)"
   ]
  },
  {
   "cell_type": "markdown",
   "metadata": {},
   "source": [
    "Définir la fonction `ajouter_tableau_trie` ajoutant un nombre à un tableau de nombres."
   ]
  },
  {
   "cell_type": "code",
   "execution_count": 21,
   "metadata": {},
   "outputs": [
    {
     "name": "stdout",
     "output_type": "stream",
     "text": [
      "[10, 20, 25, 30, 40]\n"
     ]
    }
   ],
   "source": [
    "# CORRECTION\n",
    "\n",
    "def ajouter_tableau_trie(L,nb):\n",
    "    L.append(0)\n",
    "    j = len(L)-2\n",
    "    while j>=0 and L[j] > nb:\n",
    "        L[j+1] = L[j]\n",
    "        j -= 1\n",
    "    L[j+1] = nb\n",
    "\n",
    "liste = [10,20,30,40]\n",
    "ajouter_tableau_trie(liste,25)\n",
    "print(liste)    "
   ]
  },
  {
   "cell_type": "markdown",
   "metadata": {},
   "source": [
    "Quelle est la complexité dans le pire des cas de chacune des fonctions ?"
   ]
  },
  {
   "cell_type": "markdown",
   "metadata": {},
   "source": [
    "**Réponse :**\n",
    "\n",
    "* `ajouter_tableau` : complexité linéaire si l'ajout d'une case (`append`) nécessite une recopie du tableau, complexité constante sinon\n",
    "\n",
    "* `ajouter_tableau_trie` : complexité linéaire (même si `append` ne fait pas de recopie)"
   ]
  },
  {
   "cell_type": "markdown",
   "metadata": {},
   "source": [
    "### Question 3 : Suppression d'un élément"
   ]
  },
  {
   "cell_type": "markdown",
   "metadata": {},
   "source": [
    "Définir la fonction `supprimer_tableau` prenant en paramètre un tableau et un indice `id` et supprimant dans le tableau la valeur d'indice `id`.\n",
    "\n",
    "On utilisera pour cela la fonction `L.pop()` qui supprime la dernière case d'un tableau."
   ]
  },
  {
   "cell_type": "code",
   "execution_count": 22,
   "metadata": {},
   "outputs": [
    {
     "name": "stdout",
     "output_type": "stream",
     "text": [
      "[10, 40, 30]\n"
     ]
    }
   ],
   "source": [
    "# CORRECTION\n",
    "\n",
    "def supprimer_tableau(L,id):\n",
    "    derniere_valeur = L[len(L)-1]\n",
    "    L[id] = derniere_valeur\n",
    "    L.pop()\n",
    "\n",
    "liste = [10,20,30,40]\n",
    "supprimer_tableau(liste,1)\n",
    "print(liste)\n"
   ]
  },
  {
   "cell_type": "markdown",
   "metadata": {},
   "source": [
    "Définir la fonction `supprimer_tableau_trie` prenant en paramètre un tableau trié et un indice `id` et supprimant dans le tableau la valeur d'indice `id`."
   ]
  },
  {
   "cell_type": "code",
   "execution_count": 23,
   "metadata": {},
   "outputs": [
    {
     "name": "stdout",
     "output_type": "stream",
     "text": [
      "[10, 30, 40]\n"
     ]
    }
   ],
   "source": [
    "# CORRECTION\n",
    "\n",
    "def supprimer_tableau_trie(L,id):\n",
    "    j = id\n",
    "    while j < len(L)-1:\n",
    "        L[j] = L[j+1]\n",
    "        j += 1\n",
    "    L.pop()\n",
    "    \n",
    "liste = [10,20,30,40]\n",
    "supprimer_tableau_trie(liste,1)\n",
    "print(liste)"
   ]
  },
  {
   "cell_type": "markdown",
   "metadata": {},
   "source": [
    "Quelle est la complexité dans le pire des cas de chacune des fonctions ?"
   ]
  },
  {
   "cell_type": "markdown",
   "metadata": {},
   "source": [
    "**Réponse :**\n",
    "\n",
    "* `supprimer_tableau` : complexité linéaire si la suppression de la dernière case (`pop`) nécessite une recopie du tableau, complexité constante sinon\n",
    "\n",
    "* `ajouter_tableau_trie` : complexité linéaire (même si `pop` ne fait pas de recopie)"
   ]
  }
 ],
 "metadata": {
  "kernelspec": {
   "display_name": "Python 3",
   "language": "python",
   "name": "python3"
  },
  "language_info": {
   "codemirror_mode": {
    "name": "ipython",
    "version": 3
   },
   "file_extension": ".py",
   "mimetype": "text/x-python",
   "name": "python",
   "nbconvert_exporter": "python",
   "pygments_lexer": "ipython3",
   "version": "3.6.6"
  }
 },
 "nbformat": 4,
 "nbformat_minor": 2
}
