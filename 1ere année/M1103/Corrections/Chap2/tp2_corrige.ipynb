{
 "cells": [
  {
   "cell_type": "markdown",
   "metadata": {},
   "source": [
    "# TP 2"
   ]
  },
  {
   "cell_type": "markdown",
   "metadata": {},
   "source": [
    "## Exercice 1 :  Création d'un tableau"
   ]
  },
  {
   "cell_type": "markdown",
   "metadata": {},
   "source": [
    "### Question 1 : Evaluation de la version algorithmique en utlisant `append`\n",
    "1. Définissez une fonction `create_tab_algo_append()` permettant de créer et retourner un tableau de taille `n` contenant la valeur `val` en utilisant `append`."
   ]
  },
  {
   "cell_type": "code",
   "execution_count": null,
   "metadata": {},
   "outputs": [],
   "source": [
    "# CORRECTION\n",
    "\n",
    "def create_tab_algo_append(n, val) :\n",
    "    i=0\n",
    "    tab=[]\n",
    "    while i < n :\n",
    "        tab.append(val)\n",
    "        i+=1\n",
    "    return tab\n",
    "print(create_tab_algo_append(10,4))"
   ]
  },
  {
   "cell_type": "markdown",
   "metadata": {},
   "source": [
    "2. Créer un algorithme principal calculant et affichant la moyenne de temps d'exécution pour 200 créations d'un tableau pour les tailles 0, 100, 200, 500, 1000, 2000, 5000, 10000 ; la valeur à mettre dans la case n'est pas déterminante, vous pourrez la choisir. Les différents resulats pourront être stockés dans un dictionnaire dont les clefs seraient les différents tailles de tableau. Concluez."
   ]
  },
  {
   "cell_type": "code",
   "execution_count": null,
   "metadata": {},
   "outputs": [],
   "source": [
    "# CORRECTION\n",
    "\n",
    "from time import time\n",
    "# Longueurs des tableaux pour effectuer les tests\n",
    "lg_tab=[0, 100, 200, 500, 1000, 2000, 5000, 10000]\n",
    "\n",
    "# Dictionnaire contenant les différentes moyennes\n",
    "# des temps d'exécution selon les tailles des tableaux à créer\n",
    "# clef(taille tableau):moyenne_des_temps_execution\n",
    "moy_temps_executions={}\n",
    "\n",
    "ind_test =0\n",
    "while ind_test < len(lg_tab) :\n",
    "    i=0\n",
    "    cumul_temps_exec=0\n",
    "    while i < 200 :\n",
    "        t_deb = time()*1000\n",
    "        t=create_tab_algo_append(lg_tab[ind_test],0)\n",
    "        t_fin = time()*1000\n",
    "        i=i+1\n",
    "        cumul_temps_exec+=(t_fin-t_deb)\n",
    "    moy_temps_executions[lg_tab[ind_test]]=cumul_temps_exec/200\n",
    "    ind_test+=1\n",
    "\n",
    "print(moy_temps_executions)\n",
    "    \n",
    "    "
   ]
  },
  {
   "cell_type": "markdown",
   "metadata": {},
   "source": [
    "### Question 2 : Evaluation de la version algorithmique en utlisant `insert`\n",
    "1. Définissez une fonction `create_tab_algo_insert()` permettant de créer et retourner un tableau de taille `n` contenant la valeur `val` en utilisant `insert`. Vous insererez les éléments dans la première case du tableau crée."
   ]
  },
  {
   "cell_type": "code",
   "execution_count": null,
   "metadata": {},
   "outputs": [],
   "source": [
    "# CORRECTION\n",
    "\n",
    "def create_tab_algo_insert(n, val) :\n",
    "    i=0\n",
    "    tab=[]\n",
    "    while i < n :\n",
    "        tab.insert(0,val)\n",
    "        i+=1\n",
    "    return tab\n",
    "print(create_tab_algo_insert(10,4))"
   ]
  },
  {
   "cell_type": "markdown",
   "metadata": {},
   "source": [
    "2. Faire les  mêmes tests que la question précédente. Concluez."
   ]
  },
  {
   "cell_type": "code",
   "execution_count": null,
   "metadata": {},
   "outputs": [],
   "source": [
    "# CORRECTION\n",
    "\n",
    "from time import time\n",
    "# Longueurs des tableaux pour effectuer les tests\n",
    "lg_tab=[0,100,200,500,1000,2000,5000,10000]\n",
    "\n",
    "# Dictionnaire contenant les différentes moyennes\n",
    "# des temps d'exécution selon les tailles des tableaux à créer\n",
    "# clef(taille tableau):moyenne_des_temps_execution\n",
    "moy_temps_executions={}\n",
    "\n",
    "ind_test =0\n",
    "while ind_test < len(lg_tab) :\n",
    "    i=0\n",
    "    cumul_temps_exec=0\n",
    "    while i < 200 :\n",
    "        t_deb = time()*1000\n",
    "        t=create_tab_algo_insert(lg_tab[ind_test],0)\n",
    "        t_fin = time()*1000\n",
    "        i=i+1\n",
    "        cumul_temps_exec+=(t_fin-t_deb)\n",
    "    moy_temps_executions[lg_tab[ind_test]]=cumul_temps_exec/200\n",
    "    ind_test+=1\n",
    "\n",
    "print(moy_temps_executions)\n",
    "    \n",
    "    "
   ]
  },
  {
   "cell_type": "markdown",
   "metadata": {},
   "source": [
    "## Exercice 2 : Copie d'un tableau\n",
    "### Question 1 : Evaluation de la version built-in\n",
    "1. En utilisant syntaxe built-in `L.copy()`, définissez une fonction `copy_tab_built_in()` permettant de copier le tableau reçu en paramètre. La copie sera renvoyée par la fonction."
   ]
  },
  {
   "cell_type": "code",
   "execution_count": null,
   "metadata": {},
   "outputs": [],
   "source": [
    "# CORRECTION\n",
    "\n",
    "def copy_tab_built_in(tab) :\n",
    "    return tab.copy()\n",
    "\n",
    "t1 = [4, 4, 4, 4, 4, 4, 4, 4, 4, 4]\n",
    "t2=copy_tab_built_in(t1)\n",
    "t2[5] = 6\n",
    "print(t1)\n",
    "print(t2)"
   ]
  },
  {
   "cell_type": "code",
   "execution_count": null,
   "metadata": {},
   "outputs": [],
   "source": [
    "# CORRECTION\n",
    "\n",
    "from time import time\n",
    "# Longueurs des tableaux pour effectuer les tests\n",
    "lg_tab=[0,100,200,500,1000,2000,5000,10000]\n",
    "\n",
    "# Dictionnaire contenant les différentes moyennes\n",
    "# des temps d'exécution selon les tailles des tableaux à créer\n",
    "# clef(taille tableau):moyenne_des_temps_execution\n",
    "moy_temps_executions={}\n",
    "\n",
    "ind_test =0\n",
    "while ind_test < len(lg_tab) :\n",
    "    i=0\n",
    "    cumul_temps_exec=0\n",
    "    t_original=create_tab_algo_append(lg_tab[ind_test],0)\n",
    "    while i < 200 :\n",
    "        t_deb = time()*1000\n",
    "        t_copie = copy_tab_built_in(t_original)\n",
    "        t_fin = time()*1000\n",
    "        i=i+1\n",
    "        cumul_temps_exec+=(t_fin-t_deb)\n",
    "    moy_temps_executions[lg_tab[ind_test]]=cumul_temps_exec/200\n",
    "    ind_test+=1\n",
    "\n",
    "print(moy_temps_executions)\n",
    "    "
   ]
  },
  {
   "cell_type": "markdown",
   "metadata": {},
   "source": [
    "### Question 2 : Evaluation de deux versions algorithmiques\n",
    "2. Définissez deux versions de la fonction `copy_tab_algo()` permettant de copier le tableau reçu en paramètre. La copie sera renvoyé par la fonction."
   ]
  },
  {
   "cell_type": "code",
   "execution_count": null,
   "metadata": {},
   "outputs": [],
   "source": [
    "# CORRECTION\n",
    "\n",
    "#Version 1\n",
    "def copy_tab_algo_append(t_original) :\n",
    "    i=0\n",
    "    t_copy=[]\n",
    "    while i < len(t_original) :\n",
    "        t_copy.append(t_original[i])\n",
    "        i+=1\n",
    "    return t_copy\n",
    "\n",
    "t1 = [4, 4, 4, 4, 4, 4, 4, 4, 4, 4]\n",
    "t2=copy_tab_algo_append(t1)\n",
    "t2[5] = 6\n",
    "print(t1)\n",
    "print(t2)"
   ]
  },
  {
   "cell_type": "code",
   "execution_count": null,
   "metadata": {},
   "outputs": [],
   "source": [
    "# CORRECTION\n",
    "\n",
    "#Version 2\n",
    "def copy_tab_algo_insert(t_original) :\n",
    "    i=len(t_original)-1\n",
    "    t_copy=[]\n",
    "    while i>=0 :\n",
    "        t_copy.insert(0,t_original[i])\n",
    "        i-=1\n",
    "    return t_copy\n",
    "\n",
    "t1 = [4, 4, 4, 4, 4, 4, 4, 4, 4, 4]\n",
    "t2=copy_tab_algo_insert(t1)\n",
    "t2[5] = 6\n",
    "print(t1)\n",
    "print(t2)"
   ]
  },
  {
   "cell_type": "markdown",
   "metadata": {},
   "source": [
    "2. Faire pour chaque version, les mêmes tests que la question précédente. Concluez."
   ]
  },
  {
   "cell_type": "code",
   "execution_count": null,
   "metadata": {},
   "outputs": [],
   "source": [
    "# CORRECTION\n",
    "\n",
    "# Benchmark de la version 1\n",
    "from time import time\n",
    "# Longueurs des tableaux pour effectuer les tests\n",
    "lg_tab=[0,100,200,500,1000,2000,5000,10000]\n",
    "\n",
    "# Dictionnaire contenant les différentes moyennes\n",
    "# des temps d'exécution selon les tailles des tableaux à créer\n",
    "# clef(taille tableau):moyenne_des_temps_execution\n",
    "moy_temps_executions={}\n",
    "\n",
    "ind_test =0\n",
    "while ind_test < len(lg_tab) :\n",
    "    i=0\n",
    "    cumul_temps_exec=0\n",
    "    t_original=create_tab_algo_append(lg_tab[ind_test],0)\n",
    "    while i < 200 :\n",
    "        t_deb = time()*1000\n",
    "        t_copie = copy_tab_algo_append(t_original)\n",
    "        t_fin = time()*1000\n",
    "        i=i+1\n",
    "        cumul_temps_exec+=(t_fin-t_deb)\n",
    "    moy_temps_executions[lg_tab[ind_test]]=cumul_temps_exec/200\n",
    "    ind_test+=1\n",
    "\n",
    "print(moy_temps_executions)\n",
    "    "
   ]
  },
  {
   "cell_type": "code",
   "execution_count": null,
   "metadata": {},
   "outputs": [],
   "source": [
    "# CORRECTION\n",
    "\n",
    "# Benchmark de la version 2\n",
    "from time import time\n",
    "# Longueurs des tableaux pour effectuer les tests\n",
    "lg_tab=[0,100,200,500,1000,2000,5000,10000]\n",
    "\n",
    "# Dictionnaire contenant les différentes moyennes\n",
    "# des temps d'exécution selon les tailles des tableaux à créer\n",
    "# clef(taille tableau):moyenne_des_temps_execution\n",
    "moy_temps_executions={}\n",
    "\n",
    "ind_test =0\n",
    "while ind_test < len(lg_tab) :\n",
    "    i=0\n",
    "    cumul_temps_exec=0\n",
    "    t_original=create_tab_algo_append(lg_tab[ind_test],0)\n",
    "    while i < 200 :\n",
    "        t_deb = time()*1000\n",
    "        t_copie = copy_tab_algo_insert(t_original)\n",
    "        t_fin = time()*1000\n",
    "        i=i+1\n",
    "        cumul_temps_exec+=(t_fin-t_deb)\n",
    "    moy_temps_executions[lg_tab[ind_test]]=cumul_temps_exec/200\n",
    "    ind_test+=1\n",
    "\n",
    "print(moy_temps_executions)\n",
    "    "
   ]
  },
  {
   "cell_type": "markdown",
   "metadata": {},
   "source": [
    "## Exercice 3 : Recherche d'un élément dans un tableau\n",
    "\n",
    "En vous inspirant des travaux précédents, évaluez les différentes solutions permettant de rechercher un élément dans un tableau.\n",
    "\n",
    "\n",
    "Avant de commencer, quelle situation devez-vous privilégier pour que les évaluations soient fiables ?"
   ]
  },
  {
   "cell_type": "markdown",
   "metadata": {},
   "source": [
    "**Correction**\n",
    "\n",
    "\n",
    "Le pire des cas, c'est à dire, la valeur n'a pas été trouvée."
   ]
  },
  {
   "cell_type": "code",
   "execution_count": null,
   "metadata": {},
   "outputs": [],
   "source": [
    "# CORRECTION\n",
    "\n",
    "#Version 1\n",
    "def cherche_built_in(tab, val) :\n",
    "    return val in tab\n",
    "\n",
    "t = [4, 4, 4, 4, 4, 4, 4, 4, 4, 4]\n",
    "print(cherche_built_in(t,3))\n",
    "print(cherche_built_in(t,4))"
   ]
  },
  {
   "cell_type": "code",
   "execution_count": null,
   "metadata": {},
   "outputs": [],
   "source": [
    "# CORRECTION\n",
    "\n",
    "# Benchmark de la version 1\n",
    "from time import time\n",
    "# Longueurs des tableaux pour effectuer les tests\n",
    "lg_tab=[0,100,200,500,1000,2000,5000,10000]\n",
    "\n",
    "# Dictionnaire contenant les différentes moyennes\n",
    "# des temps d'exécution selon les tailles des tableaux à créer\n",
    "# clef(taille tableau):moyenne_des_temps_execution\n",
    "moy_temps_executions={}\n",
    "\n",
    "ind_test =0\n",
    "while ind_test < len(lg_tab) :\n",
    "    i=0\n",
    "    cumul_temps_exec=0\n",
    "    t=create_tab_algo_append(lg_tab[ind_test],0)\n",
    "    while i < 200 :\n",
    "        t_deb = time()*1000\n",
    "        flag = cherche_built_in(t,4)\n",
    "        t_fin = time()*1000\n",
    "        i=i+1\n",
    "        cumul_temps_exec+=(t_fin-t_deb)\n",
    "    moy_temps_executions[lg_tab[ind_test]]=cumul_temps_exec/200\n",
    "    ind_test+=1\n",
    "\n",
    "print(moy_temps_executions)\n",
    "    "
   ]
  },
  {
   "cell_type": "code",
   "execution_count": null,
   "metadata": {},
   "outputs": [],
   "source": [
    "# CORRECTION\n",
    "\n",
    "#Version 2\n",
    "def cherche_algo(tab, val) :\n",
    "    i=0\n",
    "    while i<len(tab) and val!=tab[i] :\n",
    "        i+=1\n",
    "        \n",
    "    return i<len(tab)\n",
    "\n",
    "t = [4, 4, 4, 4, 4, 4, 4, 4, 4, 4]\n",
    "print(cherche_algo(t,3))\n",
    "print(cherche_algo(t,4))"
   ]
  },
  {
   "cell_type": "code",
   "execution_count": null,
   "metadata": {},
   "outputs": [],
   "source": [
    "# CORRECTION\n",
    "\n",
    "# Benchmark de la version 2\n",
    "from time import time\n",
    "# Longueurs des tableaux pour effectuer les tests\n",
    "lg_tab=[0,100,200,500,1000,2000,5000,10000]\n",
    "\n",
    "# Dictionnaire contenant les différentes moyennes\n",
    "# des temps d'exécution selon les tailles des tableaux à créer\n",
    "# clef(taille tableau):moyenne_des_temps_execution\n",
    "moy_temps_executions={}\n",
    "\n",
    "ind_test =0\n",
    "while ind_test < len(lg_tab) :\n",
    "    i=0\n",
    "    cumul_temps_exec=0\n",
    "    t=create_tab_algo_append(lg_tab[ind_test],0)\n",
    "    while i < 200 :\n",
    "        t_deb = time()*1000\n",
    "        flag = cherche_algo(t,4)\n",
    "        t_fin = time()*1000\n",
    "        i=i+1\n",
    "        cumul_temps_exec+=(t_fin-t_deb)\n",
    "    moy_temps_executions[lg_tab[ind_test]]=cumul_temps_exec/200\n",
    "    ind_test+=1\n",
    "\n",
    "print(moy_temps_executions)\n",
    "    "
   ]
  }
 ],
 "metadata": {
  "kernelspec": {
   "display_name": "Python 3",
   "language": "python",
   "name": "python3"
  },
  "language_info": {
   "codemirror_mode": {
    "name": "ipython",
    "version": 3
   },
   "file_extension": ".py",
   "mimetype": "text/x-python",
   "name": "python",
   "nbconvert_exporter": "python",
   "pygments_lexer": "ipython3",
   "version": "3.6.6"
  },
  "latex_envs": {
   "LaTeX_envs_menu_present": true,
   "autoclose": true,
   "autocomplete": true,
   "bibliofile": "biblio.bib",
   "cite_by": "apalike",
   "current_citInitial": 1,
   "eqLabelWithNumbers": true,
   "eqNumInitial": 1,
   "hotkeys": {
    "equation": "Ctrl-E",
    "itemize": "Ctrl-I"
   },
   "labels_anchors": false,
   "latex_user_defs": false,
   "report_style_numbering": false,
   "user_envs_cfg": false
  }
 },
 "nbformat": 4,
 "nbformat_minor": 2
}
