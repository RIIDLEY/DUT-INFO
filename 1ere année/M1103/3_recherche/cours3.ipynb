{
 "cells": [
  {
   "cell_type": "markdown",
   "metadata": {},
   "source": [
    "# <center> Chapitre 3 : Algorithmes de recherche </center>"
   ]
  },
  {
   "cell_type": "markdown",
   "metadata": {},
   "source": [
    "On a souvent besoin de rechercher la position d'un élément ou un élément donné dans un tableau.\n",
    "\n",
    "La plupart des bons algorithmes de recherche séquentielle ou linéaire (parcours de l'ensemble du début jusqu’à la fin) fonctionnent grâce à une méthode astucieuse pour organiser les données. Par exemple, on sait très bien, intuitivement, que pour retrouver une carte dans un jeu, il est très utile que le jeu soit trié.\n"
   ]
  },
  {
   "cell_type": "markdown",
   "metadata": {},
   "source": [
    "## Recherche séquentielle\n",
    "\n",
    "La méthode de recherche la plus simple est la recherche séquentielle qui s'effectue en temps linéaire : étudier les éléments les uns après les autres. Elle ne nécessite pas d'avoir une structure de données triée. La fonction suivante recherche de manière séquentielle si `tab` contient la valeur `element`."
   ]
  },
  {
   "cell_type": "code",
   "execution_count": 39,
   "metadata": {},
   "outputs": [
    {
     "name": "stdout",
     "output_type": "stream",
     "text": [
      "le nombre 34 n'est pas dans le tableau nombres\n"
     ]
    }
   ],
   "source": [
    "def recherche_sequentielle(element, tab):\n",
    "    n =len(tab)\n",
    "    i = 0\n",
    "    while i <  n :\n",
    "        if tab[i] == element : \n",
    "            return i\n",
    "        i=i+1\n",
    "    return -1\n",
    "\n",
    "\n",
    "nombres = [15, 21, 32, 36, 42, 45, 59, 62, 84, 87, 981, 1263]\n",
    "nb = 34 # Essayer avec 87 et 42\n",
    "resultat = recherche_sequentielle(nb,nombres)\n",
    "if resultat == -1:\n",
    "    print(\"le nombre\", nb, \"n'est pas dans le tableau nombres\")\n",
    "else:\n",
    "    print(\"le nombre\", nb, \"se trouve à l'indice\", resultat)"
   ]
  },
  {
   "cell_type": "markdown",
   "metadata": {},
   "source": [
    "**Complexité :** La complexité de l'algorithme ci-dessus est linéaire dans le pire des cas."
   ]
  },
  {
   "cell_type": "markdown",
   "metadata": {},
   "source": [
    "## La dichotomie \n",
    "\n",
    "Si le tableau dans lequel on recherche une valeur est trié, on peut utiliser cette propriété pour effectuer une recherche plus rapide : la recherche dichotomique. \n",
    "\n",
    "**Idée générale de la dichotomie**\n",
    "\n",
    "Soit `tab` est tableau trié et `i` un indice valide du tableau :\n",
    "\n",
    "- si `element ≤ tab[i]` alors tous les éléments \"à droite\" de `tab[i]` (d'indice `j` avec `j > i`) sont supérieurs ou égaux à `element`,\n",
    "- si `element > tab[i]` alors tous les éléments \"à gauche\" de `tab[i]` (d'indice `j` avec `j < i`) sont inférieurs ou égaux à `element`.\n",
    "\n",
    "Quand on regarde la valeur situé au milieu du tableau, si celle-ci est plus petite que l'élément à trouver, on sait qu'il faut regarder dans la partie droite du tableau (du milieu du tableau à la fin). Autrement, il faut regarder dans la partie gauche du tableau (du début du tableau jusqu'au milieu).\n",
    "\n",
    "À chaque itération, on considère seulement \"une moitié de tableau\"."
   ]
  },
  {
   "cell_type": "code",
   "execution_count": 4,
   "metadata": {},
   "outputs": [
    {
     "name": "stdout",
     "output_type": "stream",
     "text": [
      "le nombre 35 n'est pas dans le tableau nombres\n"
     ]
    }
   ],
   "source": [
    "def recherche_dichotomique(element, tab ):\n",
    "    debut = 0\n",
    "    fin = len(tab)-1\n",
    "    milieu = (debut+fin)//2\n",
    "    while debut <= fin :\n",
    "        if tab[milieu] == element :  #On a trouvé l'élément\n",
    "            return milieu\n",
    "        elif tab[milieu] > element :\n",
    "            fin = milieu-1           #On considère la partie gauche du tableau\n",
    "        else :\n",
    "            debut = milieu+1         #On considère la partie droite du tableau\n",
    "        milieu = (debut+fin)//2\n",
    "    return -1\n",
    "\n",
    "\n",
    "# Comme nombres est trié, on peut appliquer la recherche dichotomique\n",
    "nombres = [15, 21, 32, 36, 42, 45, 59, 62, 84, 87, 981, 1263]\n",
    "\n",
    "nb = 35 # Essayer avec 87 et 42\n",
    "resultat = recherche_dichotomique(nb,nombres)\n",
    "if resultat == -1:\n",
    "    print(\"le nombre\", nb, \"n'est pas dans le tableau nombres\")\n",
    "else:\n",
    "    print(\"le nombre\", nb, \"se trouve à l'indice\", resultat)"
   ]
  },
  {
   "cell_type": "markdown",
   "metadata": {},
   "source": [
    "**Remarques :**\n",
    "* Complexité logarithmique dans le pire des cas : $log_2(n)$.\n",
    "* La recherche dichotomique est plus rapide que la recherche séquentielle en général (complexité en moyenne et dans le pire des cas) mais dans certains cas, la recherche séquentielle peut être plus rapide : \n",
    "  * si les tableaux sont de petite taille,\n",
    "  * si la valeur à chercher se trouve dans le début du tableau (exemple rechercher 15 dans le tableau `nombres`)"
   ]
  }
 ],
 "metadata": {
  "kernelspec": {
   "display_name": "Python 3",
   "language": "python",
   "name": "python3"
  },
  "language_info": {
   "codemirror_mode": {
    "name": "ipython",
    "version": 3
   },
   "file_extension": ".py",
   "mimetype": "text/x-python",
   "name": "python",
   "nbconvert_exporter": "python",
   "pygments_lexer": "ipython3",
   "version": "3.6.4"
  }
 },
 "nbformat": 4,
 "nbformat_minor": 2
}
