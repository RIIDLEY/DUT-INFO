{
 "cells": [
  {
   "cell_type": "markdown",
   "metadata": {},
   "source": [
    "# <center> Chapitre 6 : Structures imbriquées - TD</center>"
   ]
  },
  {
   "cell_type": "markdown",
   "metadata": {},
   "source": [
    "## Exercice 1 : Film\n",
    "\n",
    "On peut représenter un film par son nom, sa date de sortie ainsi que des acteurs jouant dans ce film.\n",
    "On codera un film à l'aide d'un dictionnaire contenant les entrées :\n",
    "\n",
    "* `nom` (la valeur est une chaîne de caractères),\n",
    "\n",
    "* `sortie` (la valeur est un entier),\n",
    "\n",
    "* `acteurs` (la valeur est un tableau de chaînes de caractères correspondant aux noms des acteurs)."
   ]
  },
  {
   "cell_type": "markdown",
   "metadata": {},
   "source": [
    "### Question 1 \n",
    "\n",
    "Définir un dictionnaire (stocké dans la variable `film`) correspondant au film *Les Frères Sisters* sorti en 2018 et dans lequel jouent : \n",
    "\n",
    "* Joaquin Phoenix,\n",
    "\n",
    "* John C. Reilly,\n",
    "\n",
    "* Jake Gyllenhaal,\n",
    "\n",
    "* Riz Ahmed,\n",
    "\n",
    "* Carol Kane.\n"
   ]
  },
  {
   "cell_type": "markdown",
   "metadata": {},
   "source": [
    "### Question 2\n",
    "\n",
    "Définir une fonction `afficher_film` qui affiche les informations d'un film passé en paramètre (cet affichage doit fonctionner pour tout film codé comme dans la question 1) au format : \n",
    "\n",
    "```\n",
    "Film : Les frères sisters\n",
    "Sortie : 2018\n",
    "Acteurs :\n",
    "* Joaquin Phoenix\n",
    "* John C. Reilly\n",
    "* Jake Gyllenhaal,\n",
    "* Riz Ahmed\n",
    "* Carol Kane\n",
    "```"
   ]
  },
  {
   "cell_type": "markdown",
   "metadata": {},
   "source": [
    "## Exercice 2: Affichage d'une matrice\n",
    "\n",
    "Dans cet exercice, on représente une matrice comme un tableau de lignes,\n",
    "chaque ligne étant elle-même un tableau. <br>\n",
    "Voici par exemple une matrice à 3 lignes et 4 colonnes :"
   ]
  },
  {
   "cell_type": "code",
   "execution_count": null,
   "metadata": {},
   "outputs": [],
   "source": [
    "mat = [\n",
    "    [1,2,3,4],\n",
    "    [5,6,7,8],\n",
    "    [2,2,9,9]\n",
    "]"
   ]
  },
  {
   "cell_type": "markdown",
   "metadata": {},
   "source": [
    "- Écrire une fonction qui affiche une matrice ligne par ligne, sans crochets ni virgules.\n",
    "\n",
    "- De même colonne par colonne, de façon que les colonnes de la matrice soient les lignes de l'affichage."
   ]
  },
  {
   "cell_type": "markdown",
   "metadata": {},
   "source": [
    "## Exercice 3 : Carré magique\n",
    "\n",
    "Un carré magique est une matrice carrée de nombres où les sommes de chaque ligne,\n",
    "chaque colonne et des grandes diagonales sont égales. <br>\n",
    "En voici un de taille 3 x 3 :"
   ]
  },
  {
   "cell_type": "code",
   "execution_count": null,
   "metadata": {},
   "outputs": [],
   "source": [
    "mag = [          # la somme magique est 15\n",
    "    [2,7,6],\n",
    "    [9,5,1],\n",
    "    [4,3,8]\n",
    "]"
   ]
  },
  {
   "cell_type": "markdown",
   "metadata": {},
   "source": [
    "Écrire une fonction qui teste si un carré est magique.\n",
    "On pourra s'aider de fonctions calculant la somme d'une ligne ou d'une colonne."
   ]
  },
  {
   "cell_type": "markdown",
   "metadata": {},
   "source": [
    "## Exercice 4 : Critiques de films\n",
    "\n",
    "On peut rajouter dans un film un dictionnaire (dont la clé est `critiques`) contenant l'ensemble des notes attribuées par les différents magazines. La clé de chaque entrée est le nom du magazine et la valeur est la note sur 5 que le magazine a attribué au film.\n",
    "\n",
    "\n",
    "### Question 1\n",
    "\n",
    "Modifier la création du film *Les frères Sisters* de la question 1 pour prendre en compte les critiques qu'il a reçues : \n",
    " \n",
    "* 5/5 par 20 minutes,\n",
    "\n",
    "* 5/5 par Télérama,\n",
    "\n",
    "* 4/5 par le Journal du Geek,\n",
    "\n",
    "* 2/5 par Les Inrockuptibles.\n",
    " "
   ]
  },
  {
   "cell_type": "markdown",
   "metadata": {},
   "source": [
    "### Question 2\n",
    "\n",
    "Modifier la fonction `afficher_film` pour que la fonction ajoute la moyenne des notes (critiques) reçues."
   ]
  }
 ],
 "metadata": {
  "kernelspec": {
   "display_name": "Python 3",
   "language": "python",
   "name": "python3"
  },
  "language_info": {
   "codemirror_mode": {
    "name": "ipython",
    "version": 3
   },
   "file_extension": ".py",
   "mimetype": "text/x-python",
   "name": "python",
   "nbconvert_exporter": "python",
   "pygments_lexer": "ipython3",
   "version": "3.7.0"
  },
  "toc": {
   "base_numbering": 1,
   "nav_menu": {},
   "number_sections": true,
   "sideBar": true,
   "skip_h1_title": false,
   "title_cell": "Table of Contents",
   "title_sidebar": "Contents",
   "toc_cell": false,
   "toc_position": {},
   "toc_section_display": true,
   "toc_window_display": false
  }
 },
 "nbformat": 4,
 "nbformat_minor": 2
}
