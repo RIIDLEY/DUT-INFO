{
 "cells": [
  {
   "cell_type": "markdown",
   "metadata": {},
   "source": [
    "# <center> TP8 - Révisions </center>"
   ]
  },
  {
   "cell_type": "markdown",
   "metadata": {},
   "source": [
    "## Exercice 1 : Résumé des météos de Paris en 2009"
   ]
  },
  {
   "cell_type": "markdown",
   "metadata": {},
   "source": [
    "Reprendre les données du TP6. Pour chaque mois, créer un dictionnaire contenant les entrées suivantes :\n",
    "\n",
    "- `nom` : nom du mois,\n",
    "- `T` : moyenne des températures minimales et maximales,\n",
    "- `précipitations` : moyenne des précipitations.\n",
    "\n",
    "Créer un tableau de douze dictionnaires contenant les informations des différents mois."
   ]
  },
  {
   "cell_type": "code",
   "execution_count": null,
   "metadata": {},
   "outputs": [],
   "source": []
  },
  {
   "cell_type": "markdown",
   "metadata": {},
   "source": [
    "## Exercice 2 : Comparaison de mois\n",
    "\n",
    "Définir une fonction `compare_temperatures` prenant en paramètre deux dictionnaires (comme ceux de l'exercice 1) et retournant :\n",
    "\n",
    "- -1 si la température du premier dictionnaire est inférieure strictement à celle du deuxième, \n",
    "- 0 si les deux températures sont égales,\n",
    "- 1 si la température du premier dictionnaire est supérieure strictement à celle du deuxième.\n"
   ]
  },
  {
   "cell_type": "code",
   "execution_count": null,
   "metadata": {},
   "outputs": [],
   "source": []
  },
  {
   "cell_type": "markdown",
   "metadata": {},
   "source": [
    "## Exercice 3 : Tri selon la température\n",
    "\n",
    "- Définir la fonction `tri_temperature` permettant de trier un tableau de dictionnaires (comme ceux de l'exercice 1) et triant le tableau dans l'ordre croissant selon la température des mois.\n",
    "- Afficher les mois de l'année 2009 du plus froid au plus chaud (en moyenne)."
   ]
  },
  {
   "cell_type": "markdown",
   "metadata": {},
   "source": [
    "## Exercice 4 : Comparaison selon les précipitations\n",
    "\n",
    "Définir une fonction `compare_précipitations` prenant en paramètre deux dictionnaires (comme ceux de l'exercice 1) et retournant :\n",
    "\n",
    "- -1 si les précipitations du premier dictionnaire sont inférieures strictement à celles du deuxième, \n",
    "- 0 si les deux précipitations sont égales,\n",
    "- 1 si les précipitations du premier dictionnaire sont supérieures strictement à celles du deuxième.\n"
   ]
  },
  {
   "cell_type": "code",
   "execution_count": null,
   "metadata": {},
   "outputs": [],
   "source": []
  },
  {
   "cell_type": "markdown",
   "metadata": {},
   "source": [
    "## Exercice 5 : Tri selon les précipitations\n",
    "\n",
    "\n",
    "- Définir la fonction `tri_précipitations` permettant de trier un tableau de dictionnaires (comme ceux de l'exercice 1) et triant le tableau dans l'ordre croissant selon la température des mois.\n",
    "- Afficher les mois de l'année 2009 du pluvieux froid au plus sec (en moyenne).\n"
   ]
  },
  {
   "cell_type": "code",
   "execution_count": null,
   "metadata": {},
   "outputs": [],
   "source": []
  }
 ],
 "metadata": {
  "@webio": {
   "lastCommId": "6a48d48fb1b846428bae3e2b2d0dc369",
   "lastKernelId": "e1f4d4f1-4223-403c-b7b7-128669e60800"
  },
  "kernelspec": {
   "display_name": "Python 3",
   "language": "python",
   "name": "python3"
  },
  "language_info": {
   "codemirror_mode": {
    "name": "ipython",
    "version": 3
   },
   "file_extension": ".py",
   "mimetype": "text/x-python",
   "name": "python",
   "nbconvert_exporter": "python",
   "pygments_lexer": "ipython3",
   "version": "3.6.4"
  }
 },
 "nbformat": 4,
 "nbformat_minor": 2
}
