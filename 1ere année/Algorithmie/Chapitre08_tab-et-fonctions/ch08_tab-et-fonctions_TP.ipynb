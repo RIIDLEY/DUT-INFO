{
 "cells": [
  {
   "cell_type": "markdown",
   "metadata": {},
   "source": [
    "# <center> Chapitre 8 : Tableaux et fonctions - TP </center>"
   ]
  },
  {
   "cell_type": "markdown",
   "metadata": {},
   "source": [
    "## Exercice 1 :  Somme alternée *\n",
    "\n",
    "Écrire une fonction qui prend un tableau de nombres et calcule\n",
    "la somme des éléments d'indice pair moins la somme des éléments\n",
    "d'indice impair."
   ]
  },
  {
   "cell_type": "code",
   "execution_count": 1,
   "metadata": {},
   "outputs": [],
   "source": [
    "#-------------------------#\n",
    "#    Écrire le code ici   #\n",
    "#-------------------------#\n",
    "\n",
    "\n",
    "\n"
   ]
  },
  {
   "cell_type": "markdown",
   "metadata": {},
   "source": [
    "## Exercice 2 : Autour du tri **\n",
    "\n",
    "### Question 1 :Tableau trié\n",
    "\n",
    "Écrire une fonction qui teste si un tableau est trié dans l'ordre croissant."
   ]
  },
  {
   "cell_type": "code",
   "execution_count": null,
   "metadata": {},
   "outputs": [],
   "source": [
    "#-------------------------#\n",
    "#    Écrire le code ici   #\n",
    "#-------------------------#\n",
    "\n",
    "\n",
    "\n"
   ]
  },
  {
   "cell_type": "markdown",
   "metadata": {},
   "source": [
    "### Question 2  : Déplacement\n",
    "\n",
    "On dira qu'un tableau est presque trié s'il est trié sauf le dernier élément. <br>\n",
    "Écrire une fonction qui insère ce dernier à la bonne place pour finir le tri."
   ]
  },
  {
   "cell_type": "code",
   "execution_count": null,
   "metadata": {},
   "outputs": [],
   "source": [
    "#-------------------------#\n",
    "#    Écrire le code ici   #\n",
    "#-------------------------#\n",
    "\n",
    "\n",
    "\n"
   ]
  },
  {
   "cell_type": "markdown",
   "metadata": {},
   "source": [
    "### Question 3 : Tri progressif\n",
    "\n",
    "- Écrire une fonction qui renvoie un tableau de taille `n`\n",
    "  (paramètre) contenant des entiers aléatoires entre 1 et 100.\n",
    "- On remarque qu'à chaque fois qu'on ajoute un élément à un\n",
    "  tableau trié, le résultat est presque trié. <br>\n",
    "  Modifier la fonction précédente en déplaçant le dernier élément\n",
    "  ajouté, pour obtenir un tableau trié."
   ]
  },
  {
   "cell_type": "code",
   "execution_count": null,
   "metadata": {},
   "outputs": [],
   "source": [
    "#-------------------------#\n",
    "#    Écrire le code ici   #\n",
    "#-------------------------#\n",
    "\n",
    "\n",
    "\n"
   ]
  },
  {
   "cell_type": "markdown",
   "metadata": {},
   "source": [
    "### Question 4 : Tri de chaînes\n",
    "\n",
    "- S'inspirer des questions précédentes pour obtenir un tableau trié\n",
    "  dans l'ordre alphabétique de noms lus dans un fichier.\n",
    "- Modifier la fonction de déplacement pour trier les noms selon leur longueur."
   ]
  },
  {
   "cell_type": "code",
   "execution_count": null,
   "metadata": {},
   "outputs": [],
   "source": [
    "#-------------------------#\n",
    "#    Écrire le code ici   #\n",
    "#-------------------------#\n",
    "\n",
    "\n",
    "\n"
   ]
  },
  {
   "cell_type": "markdown",
   "metadata": {},
   "source": [
    "## Exercice 3  : Répétition *\n",
    "\n",
    "- Écrire une fonction qui teste s'il existe un élément qui apparaît\n",
    "deux fois dans un tableau trié.\n",
    "- Serait-ce aussi simple avec un tableau non trié ?"
   ]
  },
  {
   "cell_type": "code",
   "execution_count": null,
   "metadata": {},
   "outputs": [],
   "source": [
    "#-------------------------#\n",
    "#    Écrire le code ici   #\n",
    "#-------------------------#\n",
    "\n",
    "\n",
    "\n"
   ]
  },
  {
   "cell_type": "markdown",
   "metadata": {},
   "source": [
    "## Exercice 4 : Écritures **\n",
    "\n",
    "- Écrire une fonction qui parcourt un tableau de gauche à droite\n",
    "et le modifie de la manière suivante : <br>\n",
    "les premier et dernier éléments sont inchangés, les autres valent\n",
    "la moyenne des éléments voisins.\n",
    "- Faire le parcours de droite à gauche et expliquer pourquoi les\n",
    "résultats sont différents."
   ]
  },
  {
   "cell_type": "code",
   "execution_count": null,
   "metadata": {},
   "outputs": [],
   "source": [
    "#-------------------------#\n",
    "#    Écrire le code ici   #\n",
    "#-------------------------#\n",
    "\n",
    "\n",
    "\n"
   ]
  }
 ],
 "metadata": {
  "kernelspec": {
   "display_name": "Python 3",
   "language": "python",
   "name": "python3"
  },
  "language_info": {
   "codemirror_mode": {
    "name": "ipython",
    "version": 3
   },
   "file_extension": ".py",
   "mimetype": "text/x-python",
   "name": "python",
   "nbconvert_exporter": "python",
   "pygments_lexer": "ipython3",
   "version": "3.6.4"
  },
  "toc": {
   "base_numbering": 1,
   "nav_menu": {},
   "number_sections": true,
   "sideBar": true,
   "skip_h1_title": false,
   "title_cell": "Table of Contents",
   "title_sidebar": "Contents",
   "toc_cell": false,
   "toc_position": {},
   "toc_section_display": true,
   "toc_window_display": false
  }
 },
 "nbformat": 4,
 "nbformat_minor": 2
}
