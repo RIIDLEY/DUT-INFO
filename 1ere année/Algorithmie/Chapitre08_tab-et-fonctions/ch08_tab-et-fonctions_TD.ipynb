{
 "cells": [
  {
   "cell_type": "markdown",
   "metadata": {},
   "source": [
    "# <center> Chapitre 8 : Tableaux et fonctions - TD </center>"
   ]
  },
  {
   "cell_type": "markdown",
   "metadata": {},
   "source": [
    "## Exercice 1 : Test de compréhension*\n",
    "\n",
    "### Question 1 : Indices pairs et impairs\n",
    "\n",
    "- Écrire une fonction qui prend un tableau et affiche les éléments d'indice pair.\n",
    "- Idem avec indice impair."
   ]
  },
  {
   "cell_type": "markdown",
   "metadata": {},
   "source": [
    "### Question 2 : À l'envers\n",
    "\n",
    "Écrire une fonction qui affiche un tableau à l'envers."
   ]
  },
  {
   "cell_type": "markdown",
   "metadata": {},
   "source": [
    "### Question 3 : Moyenne\n",
    "\n",
    "- Écrire une fonction qui calcule la moyenne d'un tableau de nombres.\n",
    "  On veillera à traiter le cas du tableau vide."
   ]
  },
  {
   "cell_type": "markdown",
   "metadata": {},
   "source": [
    "### Question 4 : Saisie\n",
    "\n",
    "- Écrire une fonction qui stocke dans un tableau des entiers compris entre 0 et 20 saisis par l'utilisateur.\n",
    "  La saisie s'arrête au premier nombre invalide et le tableau est renvoyé.\n",
    "- En calculer la moyenne grâce à la fonction de la question précédente."
   ]
  },
  {
   "cell_type": "markdown",
   "metadata": {},
   "source": [
    "## Exercice 2 : Test d'égalité*\n",
    "\n",
    "Écrire une fonction qui teste si tous les éléments d'un tableau sont égaux."
   ]
  },
  {
   "cell_type": "markdown",
   "metadata": {},
   "source": [
    "## Exercice 3 : Recherche**\n",
    "\n",
    "### Question 1 :\n",
    "Écrire une fonction qui teste si un élément `x` fait partie d'un tableau, l'élément et le tableau étant passés en paramètre."
   ]
  },
  {
   "cell_type": "markdown",
   "metadata": {},
   "source": [
    "### Question 2 :\n",
    "\n",
    "Écrire une fonction qui prend deux tableaux et teste si tous les éléments\n",
    "du premier apparaissent dans le second. <br>\n",
    "On pensera à utiliser la fonction définie à la question précédente."
   ]
  },
  {
   "cell_type": "markdown",
   "metadata": {},
   "source": [
    "## Exercice 4 : Dénombrement*\n",
    "\n",
    "Écrire une fonction qui calcule le nombre d'occurrences d'un élément `x`."
   ]
  },
  {
   "cell_type": "markdown",
   "metadata": {},
   "source": [
    "## Exercice 5 : Substitution*\n",
    "\n",
    "Écrire une fonction qui remplace les occurrences de `x` par `y`."
   ]
  },
  {
   "cell_type": "markdown",
   "metadata": {},
   "source": [
    "## Exercice 6 : Entiers relativement triés*\n",
    "\n",
    "Écrire une fonction qui renvoie le nombre d'éléments inférieurs à leur successeur dans un tableau d'entiers."
   ]
  }
 ],
 "metadata": {
  "kernelspec": {
   "display_name": "Python 3",
   "language": "python",
   "name": "python3"
  },
  "language_info": {
   "codemirror_mode": {
    "name": "ipython",
    "version": 3
   },
   "file_extension": ".py",
   "mimetype": "text/x-python",
   "name": "python",
   "nbconvert_exporter": "python",
   "pygments_lexer": "ipython3",
   "version": "3.6.4"
  },
  "toc": {
   "base_numbering": 1,
   "nav_menu": {},
   "number_sections": true,
   "sideBar": true,
   "skip_h1_title": false,
   "title_cell": "Table of Contents",
   "title_sidebar": "Contents",
   "toc_cell": false,
   "toc_position": {},
   "toc_section_display": true,
   "toc_window_display": false
  }
 },
 "nbformat": 4,
 "nbformat_minor": 2
}
