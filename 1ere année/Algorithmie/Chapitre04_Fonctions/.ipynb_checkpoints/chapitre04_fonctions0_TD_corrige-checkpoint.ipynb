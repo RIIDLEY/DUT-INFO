{
 "cells": [
  {
   "cell_type": "markdown",
   "metadata": {
    "collapsed": true
   },
   "source": [
    "# <center>Chapitre 4 : Fonctions (Première partie) </center>\n",
    "# <center>TD corrigé</center>"
   ]
  },
  {
   "cell_type": "markdown",
   "metadata": {},
   "source": [
    "## Exercice 1 : Test de compréhension*"
   ]
  },
  {
   "cell_type": "markdown",
   "metadata": {},
   "source": [
    "* Quelle est la différence entre définition et appel d'une fonction ?"
   ]
  },
  {
   "cell_type": "markdown",
   "metadata": {},
   "source": [
    "** CORRECTION :**\n",
    "\n",
    "* Définition : on donne l'en-tête de la fonction et le corps de la fonction (aucune instruction n'est exécutée).\n",
    "* Appel : les instructions associées à la fonction sont exécutées pour certaines valeurs données entre parenthèses.  "
   ]
  },
  {
   "cell_type": "markdown",
   "metadata": {},
   "source": [
    "* Qu'est-ce que l'en-tête d'une fonction ? le corps d'une fonction ?"
   ]
  },
  {
   "cell_type": "markdown",
   "metadata": {},
   "source": [
    "** CORRECTION :**\n",
    "\n",
    "* En-tête : première ligne contenant le type de retour, le nom de la fonction, les paramètres (entre parenthèses séparés par des virgules) ainsi que leur type.\n",
    "* Corps : les instructions associées à la fonction."
   ]
  },
  {
   "cell_type": "markdown",
   "metadata": {},
   "source": [
    "* Quelle est la différence entre paramètres et valeurs des paramètres ?"
   ]
  },
  {
   "cell_type": "markdown",
   "metadata": {},
   "source": [
    "** CORRECTION :**\n",
    "\n",
    "* Paramètres : noms donnés entre parenthèses de l'en-tête de la fonction. Les paramètres n'ont pas de valeur et sont utilisées dans le corps de la fonction pour expliquer les instructions. On les appelle aussi paramètres formels.\n",
    "* Valeurs des paramètres : les valeurs passées à la fonction lors d'un appel. On les appelle aussi paramètres effectifs."
   ]
  },
  {
   "cell_type": "markdown",
   "metadata": {},
   "source": [
    "* Qu'est-ce qu'un algorithme appelant ?"
   ]
  },
  {
   "cell_type": "markdown",
   "metadata": {},
   "source": [
    "** CORRECTION :**\n",
    "\n",
    "* Partie de l'algorithme où la fonction est appelée (exécutée).\n",
    "* L'algorithme appelant peut être l'algorithme principal ou une autre fonction. (Il peut y avoir plusieurs algorithmes appelants.)"
   ]
  },
  {
   "cell_type": "markdown",
   "metadata": {},
   "source": [
    "* Les parenthèses sont-elles obligatoires dans la définition d'une fonction s'il n'y a pas de paramètres ? Sont-elles nécessaires dans un appel de fonction s'il n'y a pas de valeurs de paramètre ?"
   ]
  },
  {
   "cell_type": "markdown",
   "metadata": {},
   "source": [
    "** CORRECTION :**\n",
    "\n",
    "Oui, les parenthèses sont nécessaires dans les deux cas pour indiquer à l'ordinateur que l'on définit ou que l'on appelle une fonction."
   ]
  },
  {
   "cell_type": "markdown",
   "metadata": {},
   "source": [
    "* Combien de fois une fonction peut-elle être appelée au\n",
    "minimum ? Au maximum ? Donner deux exemples où une fonction est\n",
    "appelée 100 fois, un avec les mêmes valeurs de paramètre pour tous\n",
    "les appels, puis l'autre avec des différentes valeurs de paramètre\n",
    "à chaque appel."
   ]
  },
  {
   "cell_type": "markdown",
   "metadata": {},
   "source": [
    "** CORRECTION :**\n",
    "\n",
    "Une fonction peut être appelée 0 fois au minimum. Il n'y a pas de limite maximum (Par exemple une boucle infinie appelant à chaque itération une fonction)."
   ]
  },
  {
   "cell_type": "code",
   "execution_count": null,
   "metadata": {},
   "outputs": [],
   "source": [
    "# Correction\n",
    "\n",
    "\n",
    "# Définition de la fonction\n",
    "def afficheCarre(n) :\n",
    "    \"\"\"Affiche la valeur et son carré\"\"\"\n",
    "    print(\"Le carré de \", n, \" est \", n*n, '\\n');\n",
    "\n",
    "    \n",
    "# Algorithme appelant\n",
    "# Ici c'est l'algorithme principal\n",
    "\n",
    "# La fonction est appelée 100 fois avec les mêmes valeurs \n",
    "# de paramètres.\n",
    "i=1;\n",
    "while i<=100 :\n",
    "    afficheCarre(10)\n",
    "    i=i+1\n",
    "\n",
    "# La fonction est appelée 100 fous avec des valeurs différents\n",
    "# de paramètres.\n",
    "i=1;\n",
    "while i<=100 :\n",
    "    afficheCarre(i)\n",
    "    i=i+1"
   ]
  },
  {
   "cell_type": "markdown",
   "metadata": {},
   "source": [
    "* Considérons le code :"
   ]
  },
  {
   "cell_type": "code",
   "execution_count": null,
   "metadata": {},
   "outputs": [],
   "source": [
    "def afficheRes(nb) : # 1\n",
    "    print( \"Le résultat est \" , nb) # 2\n",
    "\n",
    "\n",
    "def somme2nb( a, b) : #3\n",
    "    print(\"Premier nombre = \" , a , \", deuxième nombre = \" , b) #4\n",
    "    afficheRes(a+b) #5\n",
    "   \n",
    "somme2nb(1,2); #6"
   ]
  },
  {
   "cell_type": "markdown",
   "metadata": {},
   "source": [
    "Donner, pour la fonction somme2nb, les numéros des lignes associées à l'en-tête, au corps de la fonction, à la définition et à l'appel de la fonction. Indiquer également l'algorithme appelant. Donner finalement ses paramètres et ses valeurs de paramètres lors de son appel. Répondre ensuite aux mêmes questions pour la fonction afficheRes."
   ]
  },
  {
   "cell_type": "markdown",
   "metadata": {},
   "source": [
    "** CORRECTION :**\n",
    "\n",
    "* Fonction somme2nb : \n",
    "    * En-tête : ligne 3\n",
    "    * Corps : lignes 4-5\n",
    "    * Définition : lignes 3-5\n",
    "    * Appel : ligne 6\n",
    "    * Algorithme appelant : algorithme principal\n",
    "    * paramètres a et b de type int. Valeurs des paramètres lors de l'appel : 1 et 2.\n",
    " \n",
    "* Fonction afficheRes : \n",
    "    * En-tête : ligne 1\n",
    "    * Corps : ligne 2\n",
    "    * Définition : lignes 1-2\n",
    "    * Appel : ligne 5\n",
    "    * Algorithme appelant : somme2nb\n",
    "    * 1 paramètre nb. Valeur de paramètre lors de l'appel : 3 (1+2)."
   ]
  },
  {
   "cell_type": "markdown",
   "metadata": {},
   "source": [
    "## Exercice 2 : Nombre d'appels*\n",
    "* Considérons le code : "
   ]
  },
  {
   "cell_type": "code",
   "execution_count": null,
   "metadata": {},
   "outputs": [],
   "source": [
    "def f1() :\n",
    "    print (\"hello\")\n",
    "    print (\"hello\")\n",
    "\n",
    "\n",
    "# Algorithme princpale\n",
    "print( \"hello\");"
   ]
  },
  {
   "cell_type": "markdown",
   "metadata": {},
   "source": [
    "* À l'exécution, combien de fois la fonction f1 est-elle\n",
    "appelée ? \n",
    "* Combien de fois est affiché hello ?"
   ]
  },
  {
   "cell_type": "markdown",
   "metadata": {},
   "source": [
    "** CORRECTION :**\n",
    "\n",
    "* La fonction f1 n'est jamais appelée.\n",
    "* hello est donc affiché une seule fois."
   ]
  },
  {
   "cell_type": "markdown",
   "metadata": {},
   "source": [
    "\n",
    "* Considérons le code : "
   ]
  },
  {
   "cell_type": "code",
   "execution_count": null,
   "metadata": {},
   "outputs": [],
   "source": [
    "def f2() :\n",
    "    print (\"hello\")\n",
    "    print (\"hello\")\n",
    "    \n",
    "# Algorithme princpale\n",
    "print(\"hello\")\n",
    "f2()\n",
    "f2()"
   ]
  },
  {
   "cell_type": "markdown",
   "metadata": {},
   "source": [
    "* À l'exécution, combien de fois la fonction f2 est-elle appelée ? \n",
    "* Combien de fois est affiché hello ?"
   ]
  },
  {
   "cell_type": "markdown",
   "metadata": {},
   "source": [
    "** CORRECTION :**\n",
    "\n",
    "* La fonction \\texttt{f2} est appelée 2 fois.\n",
    "* hello est donc affiché 5 fois."
   ]
  },
  {
   "cell_type": "markdown",
   "metadata": {},
   "source": [
    "\n",
    "* Considérons le code : "
   ]
  },
  {
   "cell_type": "code",
   "execution_count": null,
   "metadata": {},
   "outputs": [],
   "source": [
    "def f3() :\n",
    "    print ( \"hello\")\n",
    "    print ( \"hello\")\n",
    "    \n",
    "def f4() :\n",
    "    f3()\n",
    "    print(\"hello\")\n",
    "    f3()\n",
    "\n",
    "\n",
    "# Algorithme princpale\n",
    "print(\"hello\")\n",
    "f3()\n",
    "f4()"
   ]
  },
  {
   "cell_type": "markdown",
   "metadata": {},
   "source": [
    "* Combien de fois sont appelées f3 et f4 ?\n",
    "* Combien de fois est affiché hello ? "
   ]
  },
  {
   "cell_type": "markdown",
   "metadata": {},
   "source": [
    "** CORRECTION :**\n",
    "\n",
    "* f4 est appelée 1 fois et f3 3 fois.\n",
    "* hello est donc affichée 8 fois."
   ]
  },
  {
   "cell_type": "markdown",
   "metadata": {},
   "source": [
    "* Considérons le code : "
   ]
  },
  {
   "cell_type": "code",
   "execution_count": null,
   "metadata": {},
   "outputs": [],
   "source": [
    "def f5() :\n",
    "    print(\"hello\")\n",
    "    print (\"hello\")\n",
    "\n",
    "def f6(n) :\n",
    "    i = 0\n",
    "    while i<n :\n",
    "        f5()\n",
    "        i=i+1\n",
    "        print(\"hello\")\n",
    "\n",
    "\n",
    "# Algorithme princpale\n",
    "print(\"hello\")\n",
    "f5()\n",
    "f6(2)\n",
    "f6(4)"
   ]
  },
  {
   "cell_type": "markdown",
   "metadata": {},
   "source": [
    "* Combien de fois sont appelées f5 et f6 ?\n",
    "* Combien de fois est affiché hello ? "
   ]
  },
  {
   "cell_type": "markdown",
   "metadata": {},
   "source": [
    "** CORRECTION :**\n",
    "\n",
    "* f6 est appelée 2 fois et f5 7 fois.\n",
    "* hello est donc affichée 17 fois."
   ]
  },
  {
   "cell_type": "markdown",
   "metadata": {},
   "source": [
    "## Exercice 3 : Valeur de paramètres*\n",
    "*  Qu'affiche le code :\n"
   ]
  },
  {
   "cell_type": "code",
   "execution_count": null,
   "metadata": {},
   "outputs": [],
   "source": [
    "def f(a) :\n",
    "    print( \"a = \", a )\n",
    "\n",
    "# Algorithme princpale\n",
    "a = 3\n",
    "b = 5\n",
    "a = 18\n",
    "f(b)"
   ]
  },
  {
   "cell_type": "markdown",
   "metadata": {},
   "source": [
    "** CORRECTION :**\n",
    "\n",
    "a = 5"
   ]
  },
  {
   "cell_type": "markdown",
   "metadata": {},
   "source": [
    "*  Qu'affiche le code :\n"
   ]
  },
  {
   "cell_type": "code",
   "execution_count": null,
   "metadata": {},
   "outputs": [],
   "source": [
    "def f(a, b) :\n",
    "    print( \"a = \" , a , \", b = \" , b)\n",
    "\n",
    "# Algorithme princpale\n",
    "a = 3\n",
    "b = 4\n",
    "f(a,b)\n",
    "f(b,a)\n",
    "f(a,a)\n",
    "f(b+2,b-3)"
   ]
  },
  {
   "cell_type": "markdown",
   "metadata": {},
   "source": [
    "** CORRECTION :**\n",
    "\n",
    "a = 3, b = 4\n",
    "a = 4, b = 3\n",
    "a = 3, b = 3\n",
    "a = 6, b = 1"
   ]
  },
  {
   "cell_type": "markdown",
   "metadata": {},
   "source": [
    "#### Sur ce thème : Exercices 1,2 et 6"
   ]
  },
  {
   "cell_type": "markdown",
   "metadata": {},
   "source": [
    "## Exercice 4 :  Portée des variables\n",
    "*  Qu'affiche le code :"
   ]
  },
  {
   "cell_type": "code",
   "execution_count": null,
   "metadata": {},
   "outputs": [],
   "source": [
    "def f() :\n",
    "    a = 18\n",
    "    print (\"a = \" , a)\n",
    "\n",
    "# Algorithme princpale\n",
    "a = 5\n",
    "f()\n",
    "print( \"a = \" , a )"
   ]
  },
  {
   "cell_type": "markdown",
   "metadata": {},
   "source": [
    "** CORRECTION :**\n",
    "\n",
    "a = 18\n",
    "a = 5"
   ]
  },
  {
   "cell_type": "markdown",
   "metadata": {},
   "source": [
    "## Exercice 5 : Paramètres et variables locales*\n",
    "\n",
    "* Qu'affiche le code : "
   ]
  },
  {
   "cell_type": "code",
   "execution_count": null,
   "metadata": {},
   "outputs": [],
   "source": [
    "def f(a) :\n",
    "    a = 10\n",
    "    a +=1\n",
    "    print ( \"a = \" , a)\n",
    "\n",
    "# Algorithme princpale\n",
    "f(3)\n",
    "f(6)"
   ]
  },
  {
   "cell_type": "markdown",
   "metadata": {},
   "source": [
    "** CORRECTION :**\n",
    "\n",
    "a = 11\n",
    "a = 11\n",
    "\n",
    "Il y a un problème lors de la conception de la fonction f(). En effet, cette fonction prend un paramètre mais sa valeur n'est jamais utilisée. Ce n'est donc pas un paramètre mais une variable locale. Certains compilateurs peuvent même considérer ceci comme une erreur de compilation. Il faut donc simplifier le code en supprimant le paramètre.\n",
    "\n",
    "```python\n",
    "def f() :\n",
    "    varLocale = 11\n",
    "    print ( \"a = \" , varLocale )\n",
    "```"
   ]
  },
  {
   "cell_type": "markdown",
   "metadata": {},
   "source": [
    "## Exercice 6 : Comparer deux nombres (Révisions)\n",
    "\n",
    "Ecrire la fonction compare qui reçoit deux nombres entiers en paramètre a et b et affiche un message adapté selon que a est supérieur, inférieur ou égal à à b. "
   ]
  },
  {
   "cell_type": "code",
   "execution_count": null,
   "metadata": {},
   "outputs": [],
   "source": [
    "# Correction\n",
    "\n",
    "\n",
    "# Définition de la fonction\n",
    "def compare( a, b) :\n",
    "    if a==b :\n",
    "        print ( a , \" est égal à \" , b )\n",
    "    elif a < b :\n",
    "        print ( a , \" est inférieur à \" , b )\n",
    "    else :\n",
    "        print ( a , \" est supérieur à \" , b )\n",
    "    \n",
    "# Algorithme appelant\n",
    "compare(12,18);"
   ]
  },
  {
   "cell_type": "markdown",
   "metadata": {},
   "source": [
    "#### Sur ce thème : Exercices 3,4 et 5"
   ]
  }
 ],
 "metadata": {
  "kernelspec": {
   "display_name": "Python 3",
   "language": "python",
   "name": "python3"
  },
  "language_info": {
   "codemirror_mode": {
    "name": "ipython",
    "version": 3
   },
   "file_extension": ".py",
   "mimetype": "text/x-python",
   "name": "python",
   "nbconvert_exporter": "python",
   "pygments_lexer": "ipython3",
   "version": "3.6.5"
  }
 },
 "nbformat": 4,
 "nbformat_minor": 2
}
