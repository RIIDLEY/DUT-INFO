{
 "cells": [
  {
   "cell_type": "markdown",
   "metadata": {},
   "source": [
    "# <center>Chapitre 4 : Fonctions (Première partie)</center>"
   ]
  },
  {
   "cell_type": "markdown",
   "metadata": {},
   "source": [
    "## Utilisation de la tortue graphique\n",
    "### Comment utiliser la tortue graphique\n",
    "Afin de mettre en pratique vos nouvelles connaissances sur les fonctions, nous allons utiliser une tortue capable de dessiner sur l'écran.\n",
    "\n",
    "* Pour pouvoir utiliser la tortue, votre algorithme devra commencer par la ligne :\n",
    "```python\n",
    "    import turtle\n",
    "```\n",
    "<table>\n",
    "    <tr><td>setup(w,h,startx,starty)</td><td>initialise une fenêtre de taille w*h et la place à la position  (startx, starty)</td></tr> \n",
    "    <tr><td>forward(n)</td><td>avance de n</td></tr> \n",
    "    <tr><td>backward(n)</td><td>recule de n</td></tr>     \n",
    "    <tr><td>right(n) ou rt(n)</td><td>tourne à droite de n degrés</td></tr>    \n",
    "    <tr><td>left(n) ou lt(t) </td><td>tourne à gauche de n degrés</td></tr> \n",
    "    <tr><td>goto(x,y)</td><td>positionne la tortue au point de  coordonnées (x,y)</td></tr> \n",
    "    <tr><td>clear()</td><td>efface le dessin à l'écran</td></tr> \n",
    "    <tr><td>up()</td><td>lève le stylo</td></tr> \n",
    "    <tr><td>down()</td><td>baisse le stylo</td></tr> \n",
    "    <tr><td>home()</td><td>retourne à la position (0,0)</td></tr> \n",
    "    <tr><td>done()</td><td>la tortue a terminé</td></tr>     \n",
    "</table>\n",
    "\n",
    "* Le repère et les coordonnées utilisés par la tortue sont représentés par la figure suivante :\n",
    "\n",
    "<img src=\"img/repere_coordonnees_tortue.png\" alt=\"Exemple pour la fonction carre()\"  width=\"400px\"/>\n",
    "\n",
    "\n",
    "* Au départ la tortue est au mileu de la fenêtre à la position (0,0) avec son museau dirigé vers la droite ; c'est sa maison (home).\n",
    "### Exemple"
   ]
  },
  {
   "cell_type": "code",
   "execution_count": 1,
   "metadata": {},
   "outputs": [],
   "source": [
    "\n",
    "# Exemple de dessin d'un carré\n",
    "import turtle\n",
    "# * La tortue dessine dans une fenêtre graphique :\n",
    "# - de largeur 600 pixels\n",
    "# - de hauteur 600 pixels\n",
    "# * La tortue est positionnée en (0,0) et elle regarde vers la droite\n",
    "\n",
    "turtle.setup(800,600,0,0)\n",
    "turtle.down()\n",
    "i=0\n",
    "while i<4 :\n",
    "    turtle.forward(50)\n",
    "    turtle.right(90)\n",
    "    i=i+1\n",
    "turtle.up()\n",
    "turtle.done()"
   ]
  },
  {
   "cell_type": "markdown",
   "metadata": {},
   "source": [
    "## Exercice 1 : Fonctions et dessins\n",
    "\n",
    "### Question 1*\n",
    "* Ecrire une fonction, `carre()`, permettant à la tortue de dessiner un carré de côté `n` à partir de la position courante de la tortue. \n",
    "* Tester et valider cette fonction."
   ]
  },
  {
   "cell_type": "markdown",
   "metadata": {},
   "source": [
    "Voici un exemple d'interaction homme-machine :\n",
    "\n",
    "Taille du cote du carré ? 60\n",
    "<img src=\"img/tp_carre.png\" alt=\"Exemple pour la fonction carre()\"  width=\"400px\"/>"
   ]
  },
  {
   "cell_type": "code",
   "execution_count": null,
   "metadata": {},
   "outputs": [],
   "source": [
    "#-------------------------#\n",
    "#    Écrire le code ici   #\n",
    "#-------------------------#\n",
    "\n",
    "\n",
    "\n"
   ]
  },
  {
   "cell_type": "markdown",
   "metadata": {},
   "source": [
    "### Question 2*\n",
    "* Ecrire une fonction, `carrePositionne()`, permettant à la tortue de\n",
    "  dessiner un carré de côté `n`, dont le coin supérieur a pour coordonnées `(x, y)`.\n",
    "* Tester et valider cette fonction.\n",
    "\n",
    "** Important : ** Penser à utiliser la fonction précédente. "
   ]
  },
  {
   "cell_type": "markdown",
   "metadata": {},
   "source": [
    "Voici un exemple d'interaction homme-machine :\n",
    "\n",
    "Taille du cote du carré ? 45\n",
    "\n",
    "Abscisse du coin supérieur gauche du carre ? 187\n",
    "\n",
    "Ordonnee du coin supérieur gauche du carre ? 70\n",
    "\n",
    "<img src=\"img/tp_carre_positionne.png\" alt=\"Exemple pour la fonction tp_carre_positionne()\"  width=\"400px\"/>"
   ]
  },
  {
   "cell_type": "code",
   "execution_count": null,
   "metadata": {},
   "outputs": [],
   "source": [
    "#-------------------------#\n",
    "#    Écrire le code ici   #\n",
    "#-------------------------#\n",
    "\n",
    "\n",
    "\n"
   ]
  },
  {
   "cell_type": "markdown",
   "metadata": {},
   "source": [
    "### Question 3**\n",
    "* Ecrire une fonction, `carres4Coins()`, permettant à la tortue de dessiner 4 carrés, de côtés `n` et situés aux 4 coins de la fenêtre graphique de taille `w*h` (`w` est la largeur et `h` la hauteur de la fenêtre graphique).\n",
    "* Tester et valider cette fonction.\n",
    "\n",
    "** Important :** Penser à utiliser la fonction précédente. "
   ]
  },
  {
   "cell_type": "markdown",
   "metadata": {},
   "source": [
    "Voici un exemple d'interaction homme-machine :\n",
    "\n",
    "Taille du cote du carré ? 60\n",
    "\n",
    "<img src=\"img/tp_carres4coins.png\" alt=\"Exemple pour la fonction carres4Coins()\"  width=\"400px\"/>"
   ]
  },
  {
   "cell_type": "code",
   "execution_count": null,
   "metadata": {},
   "outputs": [],
   "source": [
    "#-------------------------#\n",
    "#    Écrire le code ici   #\n",
    "#-------------------------#\n",
    "\n",
    "\n",
    "\n"
   ]
  },
  {
   "cell_type": "markdown",
   "metadata": {},
   "source": [
    "### Question 4*\n",
    "Ecrire une fonction, `rectangle()`, permettant de dessiner un rectangle à partir de la position courante de la tortue.  Pour le test, la largeur et la hauteur du rectangle seront choisies par l'utilisateur avant d'appeler la fonction `rectangle()`."
   ]
  },
  {
   "cell_type": "markdown",
   "metadata": {},
   "source": [
    "Voici un exemple d'interaction homme-machine :\n",
    "\n",
    "largeur du rectangle ? 40\n",
    "\n",
    "longueur du rectangle ? 70\n",
    "\n",
    "<img src=\"img/tp_rectangle.png\" alt=\"Exemple pour la fonction rectangle()\"  width=\"400px\"/>"
   ]
  },
  {
   "cell_type": "code",
   "execution_count": null,
   "metadata": {},
   "outputs": [],
   "source": [
    "#-------------------------#\n",
    "#    Écrire le code ici   #\n",
    "#-------------------------#\n",
    "\n",
    "\n",
    "\n"
   ]
  },
  {
   "cell_type": "markdown",
   "metadata": {},
   "source": [
    "### Question 5**\n",
    "Ecrire une fonction, `croix()`, permettant de dessiner la figure suivante : \n",
    "\n",
    "<img src=\"img/tp_croix.png\" alt=\"Exemple pour la fonction rectangle()\"  width=\"400px\"/>\n",
    "\n",
    "** Note : ** La croix est constituée de deux rectangles tel que `longueurRectangle = 3 * largeurRectangle`."
   ]
  },
  {
   "cell_type": "markdown",
   "metadata": {},
   "source": [
    "### Question 6**\n",
    "Ecrire une fonction, `carresEmboites()` qui réalise, grâce à la tortue, le dessin suivant :\n",
    "\n",
    "<img src=\"img/tp_carres_emboites.png\" alt=\"Exemple pour la fonction carresEmboites()\"  width=\"400px\"/>\n",
    "\n",
    "Sachant que :\n",
    "* La tortue, au départ, est placée dans le coin supérieur gauche du carré interne de la figure et regarde vers la droite,\n",
    "* le nombre de carrés à tracer est un paramètre en entrée pour la fonction (4 dans l'exemple ci-dessus),\n",
    "* la longueur du coté du carré le plus petit (à l'intérieur) est un paramètre en entrée de la fonction et la longueur du côté de chaque autre carré est égale au double de la longueur du coté du carré juste en dessous. On utilisera pour dessiner les carrés la fonction `carre()`,\n",
    "* le segment qui relie chaque carré est de longueur fixe et égale au coté du plus petit carré et forme un morceau de la diagonale de chaque carré,\n",
    "* la fonction reçoit en paramètre en entrée, la largeur et la hauteur de la fenêtre graphique."
   ]
  },
  {
   "cell_type": "code",
   "execution_count": null,
   "metadata": {},
   "outputs": [],
   "source": [
    "#-------------------------#\n",
    "#    Écrire le code ici   #\n",
    "#-------------------------#\n",
    "\n",
    "\n",
    "\n"
   ]
  },
  {
   "cell_type": "markdown",
   "metadata": {},
   "source": [
    "### Question 7**\n",
    "* Ecrire une fonction, `carreCarres()` permettant de dessiner `p` carrés de coté `n` les uns à la suite des autres. On utilisera pour dessiner chaque petit carré la fonction `carre()`.\n",
    "* Ecrire un algorithme  qui permet de dessiner avec la tortue la figure :\n",
    "\n",
    "<img src=\"img/tp_carre_carres.png\" alt=\"Exemple pour la fonction carreCarres()\"  width=\"400px\"/>\n",
    "\n",
    "Sachant que :\n",
    "* La longueur du coté des petits carrés est un paramètre de la fonction,\n",
    "* le nombre de petits carrés nécessaires pour former un coté du grand carré est un paramètre de la fonction (4 dans l'exemple ci-dessus),\n",
    "* la tortue, au départ, est positionnée au coin inférieur de la figure gauche et regarde vers le haut,\n",
    "* la fonction reçoit en paramètre en entrée, la largeur et la hauteur de la fenêtre graphique."
   ]
  },
  {
   "cell_type": "code",
   "execution_count": null,
   "metadata": {},
   "outputs": [],
   "source": [
    "#-------------------------#\n",
    "#    Écrire le code ici   #\n",
    "#-------------------------#\n",
    "\n",
    "\n",
    "\n"
   ]
  }
 ],
 "metadata": {
  "kernelspec": {
   "display_name": "Python 3",
   "language": "python",
   "name": "python3"
  },
  "language_info": {
   "codemirror_mode": {
    "name": "ipython",
    "version": 3
   },
   "file_extension": ".py",
   "mimetype": "text/x-python",
   "name": "python",
   "nbconvert_exporter": "python",
   "pygments_lexer": "ipython3",
   "version": "3.6.4"
  }
 },
 "nbformat": 4,
 "nbformat_minor": 2
}
