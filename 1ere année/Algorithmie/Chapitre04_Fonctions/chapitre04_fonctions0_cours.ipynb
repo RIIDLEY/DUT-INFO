{
 "cells": [
  {
   "cell_type": "markdown",
   "metadata": {},
   "source": [
    "# <center>Chapitre 4 : Fonctions (Première partie) </center>"
   ]
  },
  {
   "cell_type": "code",
   "execution_count": null,
   "metadata": {},
   "outputs": [],
   "source": [
    "%load_ext tutormagic"
   ]
  },
  {
   "cell_type": "markdown",
   "metadata": {},
   "source": [
    "## Qu'est ce qu'une fonction ?"
   ]
  },
  {
   "cell_type": "markdown",
   "metadata": {},
   "source": [
    "### Objectifs d'une fonction"
   ]
  },
  {
   "cell_type": "markdown",
   "metadata": {},
   "source": [
    "* Une fonction est un algorithme spécifique effectuant une tâche précise (par exemple, un calcul ou un affichage);\n",
    "* Une fonction est destinée à être appelée par un autre algorithme (on parle d'*algorithme appelant*) ;"
   ]
  },
  {
   "cell_type": "markdown",
   "metadata": {},
   "source": [
    "### Relation de délégation"
   ]
  },
  {
   "cell_type": "markdown",
   "metadata": {},
   "source": [
    "* La relation qui lie une fonction à l'algorithme appelant est une relation de délégation ;\n",
    "* à chaque fois que la tâche doit être accomplie, l'algorithme appelant appelle la fonction et s'arrête le temps que la fonction s'exécute ;\n",
    "* l'algorithme appelant peut transmettre à la fonction les données dont elle aurait besoin sous forme de paramètres ; la fonction peut éventuellement lui renvoyer un résultat ;\n",
    "* L'algorithme appelle une fonction, son exécution est arrêtée et le flux de contrôle est transmis à la fonction jusqu'à ce que cette dernière ait terminé sa tâche et \"rende la main\"."
   ]
  },
  {
   "cell_type": "markdown",
   "metadata": {},
   "source": [
    "<img src=\"img/appel_fonction.PNG\" alt=\"Appel d'une fonction\"  width=\"400px\"/>"
   ]
  },
  {
   "cell_type": "markdown",
   "metadata": {},
   "source": [
    "### Intérêt d'écrire des fonctions :"
   ]
  },
  {
   "cell_type": "markdown",
   "metadata": {},
   "source": [
    "* Réutilisation d'algorithmes spécifiques effectuant une tâche précise ;\n",
    "* Structuration d'un algorithme pour le rendre plus clair ; dans ce sens l'utilisation de noms de fonctions explicites permet d'augmenter la compréhension et la maintenabilité d'un algorithme."
   ]
  },
  {
   "cell_type": "markdown",
   "metadata": {},
   "source": [
    "### Exemple :"
   ]
  },
  {
   "cell_type": "markdown",
   "metadata": {},
   "source": [
    "##### Sans utilisation de fonction :"
   ]
  },
  {
   "cell_type": "code",
   "execution_count": null,
   "metadata": {},
   "outputs": [],
   "source": [
    "%%tutor -r -l python3\n",
    "# On veut calculer la somme des valeurs absolues de a et b\n",
    "a=-4\n",
    "b=10\n",
    "if a < 0 :\n",
    "    a *= -1;\n",
    "if b < 0 :\n",
    "    b *= -1;\n",
    "res = a + b;\n",
    "print(res)\n",
    "\n",
    "# On veut calculer la somme des valeurs absolues de a et b pour d'autres valeurs\n",
    "a=-1\n",
    "b=34\n",
    "if a < 0 :\n",
    "    a *= -1;\n",
    "if b < 0 :\n",
    "    b *= -1;\n",
    "res = a + b;\n",
    "print(res)"
   ]
  },
  {
   "cell_type": "markdown",
   "metadata": {},
   "source": [
    "* Dans l'exemple précédent, on remarque qu'il faut à chaque fois reproduire la portion d'algorithme permettant le calcul de la valeur absolue."
   ]
  },
  {
   "cell_type": "markdown",
   "metadata": {},
   "source": [
    "####  Avec utilisation de fonctions :"
   ]
  },
  {
   "cell_type": "code",
   "execution_count": null,
   "metadata": {},
   "outputs": [],
   "source": [
    "# Définition de la fonction val_abs\n",
    "# La syntaxe sera vue dans la suite du cours\n",
    "def val_abs(val) :\n",
    "    \"\"\"Calcule et retourne la valeur absolue de val\"\"\"\n",
    "    if val < 0 :\n",
    "        val *= -1;\n",
    "    return val\n",
    "\n",
    "##########################################################\n",
    "##########################################################\n",
    "\n",
    "# Algorithme principal\n",
    "# On veut calculer la somme des valeurs absolues de a et b\n",
    "a=-4\n",
    "b=10\n",
    "res = val_abs(a) + val_abs(b);\n",
    "print(res)\n",
    "\n",
    "# On veut calculer la somme des valeurs absolues de a et b pour d'autres valeurs\n",
    "a=-1\n",
    "b=34\n",
    "res = val_abs(a) + val_abs(b);\n",
    "print(res)"
   ]
  },
  {
   "cell_type": "markdown",
   "metadata": {},
   "source": [
    "* Dans l'exemple précédent, une fonction val_abs a été définie pour en capsuler l'algorithme de calcul de la valeur absolue ;\n",
    "* L'algorithme appelant délègue à la fonction le calcul des valeurs absolues pour les deux sommes. "
   ]
  },
  {
   "cell_type": "markdown",
   "metadata": {},
   "source": [
    "## Définition d'une fonction sans paramètres et sans valeur de retour"
   ]
  },
  {
   "cell_type": "markdown",
   "metadata": {},
   "source": [
    "### Intérêt : \n",
    "* Faire un traitement spécifique invariant ;\n",
    "* Effectuer un affichage par exemple."
   ]
  },
  {
   "cell_type": "markdown",
   "metadata": {},
   "source": [
    "### Syntaxe : \n",
    "```python\n",
    "    def nom_fonction() :\n",
    "        # algorithme de la fonction\n",
    "```\n",
    "* `def` : indique que nous souhaitons définir une fonction ;\n",
    "* `nom_fonction` : est le nom de la fonction, il suit les mêmes règles que les noms de variables ;\n",
    "* les parenthèses ouvrantes et fermantes sont obligatoires pour indiquer que `nom_fonction` est bien une fonction (on est dans le cas d'une fonction qui ne possède pas de paramètres).\n",
    "    \n",
    "Il faut noter que la définition d'une fonction comporte deux parties :\n",
    "* L'en-tête de la fonction qui correspond à son nom, sa valeur de retour et ses paramètres (voir plus loin) ; on parle de signature de la fonction ;\n",
    "* le corps de la fonction (ce qui suit les : ) fournit l'algorithme de la fonction."
   ]
  },
  {
   "cell_type": "markdown",
   "metadata": {},
   "source": [
    "### Exemple"
   ]
  },
  {
   "cell_type": "code",
   "execution_count": null,
   "metadata": {},
   "outputs": [],
   "source": [
    "# Définition de la fonction hello()\n",
    "\n",
    "def hello() :\n",
    "    \"\"\"Affiche un message de bienvenue Bonjour le monde\"\"\"\n",
    "    print(\"Bonjour le monde !\")\n",
    "\n",
    "##########################################################\n",
    "##########################################################\n",
    "\n",
    "# Algorithme principal\n",
    "# \n",
    "i=1\n",
    "while i<4 :\n",
    "    hello()\n",
    "    i=i+1"
   ]
  },
  {
   "cell_type": "markdown",
   "metadata": {},
   "source": [
    "** Remarques importantes : **\n",
    "* Pour pouvoir appeler une fonction, il faut que celle-ci ait été définie précédemment ;\n",
    "* Définir une fonction n'entraine pas l'exécution de cette dernière ; il faut explicitement appeler la fonction pour que la fonction entre en action."
   ]
  },
  {
   "cell_type": "markdown",
   "metadata": {},
   "source": [
    "## Définition d'une fonction avec paramètres et sans valeur de retour"
   ]
  },
  {
   "cell_type": "markdown",
   "metadata": {},
   "source": [
    "### Intérêts : \n",
    "* Faire un traitement spécifique dépendant de certaines données fournies par l'algorithme appelant ;\n",
    "* Produire des affichage personnalisés par exemple."
   ]
  },
  {
   "cell_type": "markdown",
   "metadata": {},
   "source": [
    "### Syntaxe : \n",
    "```python\n",
    "    def nom_fonction(param_1, param_2, ..., param_n) :\n",
    "        # algorithme de la fonction\n",
    "```\n",
    "* `def` : indique que nous souhaitons définir une fonction ;\n",
    "* `nom_fonction` : est le nom de la fonction, il suit les mêmes règles que les noms de variables ;\n",
    "* une parenthèse ouvrante, suivie des paramètres en entrées de la fonction, on parle de *paramètres formels*, suivis d'une parenthèse fermante. L'ordre des paramètres est important.\n",
    "* les parenthèses ouvrantes et fermantes sont obligatoires pour indiquer que `nom_fonction` est bien une fonction."
   ]
  },
  {
   "cell_type": "markdown",
   "metadata": {},
   "source": [
    "* Exemple d'utilisation de la fonction `affiche_age`"
   ]
  },
  {
   "cell_type": "code",
   "execution_count": null,
   "metadata": {},
   "outputs": [],
   "source": [
    "# Définition de la fonction affiche_age()\n",
    "def affiche_age(est_femme, nom, age) : \n",
    "    \"\"\" Affiche un message personnalisé suivant le sexe, le nom et l'âge d'une personne \n",
    "        est_femme (entrée de type bool)\n",
    "        nom (entrée de type str)\n",
    "        age (entrée de type int)\n",
    "    \"\"\"\n",
    "    if est_femme :\n",
    "        prefix=\"Mme\"\n",
    "    else :\n",
    "        prefix=\"Mr\"\n",
    "        \n",
    "    print(prefix, nom, \"a\", age,\"ans.\")\n",
    "##########################################################\n",
    "##########################################################\n",
    "\n",
    "# Algorithme principal\n",
    "# \n",
    "affiche_age(False,\"Martin\",23);\n",
    "affiche_age(True,\"Sophie\",32);"
   ]
  },
  {
   "cell_type": "markdown",
   "metadata": {},
   "source": [
    "** Remarques importantes :**\n",
    "* Il faut bien distinguer les paramètres (ou paramètres formels) des valeurs des paramètres (ou paramètres effectifs).\n",
    "* Les paramètres n'ont pas de valeur à la définition de la fonction. C'est à l'appel que l'utilisateur fournit les valeurs des paramètres. Celles-ci peuvent donc changer à chaque appel.\n",
    "\n",
    "* Ainsi, dans l'exemple précédent, la fonction `affiche_age()` a trois paramètres formels en entrée : \n",
    "    * le premier est de type booléen et de nom `est_femme`, \n",
    "    * le second de type chaîne de caractères et s'appelle `nom`,\n",
    "    * le troisième de type entier de nom `age`.\n",
    "\n",
    "* La fonction affiche_age() est appelée deux fois :\n",
    "    * Au premier appel, les valeurs des paramètres sont `True, \"Martin\"` et `23`; \n",
    "    * au deuxième appel, les valeurs sont `False, \"Sophie\"` et `32`."
   ]
  },
  {
   "cell_type": "markdown",
   "metadata": {},
   "source": [
    "- ** Sur ce thème : Exercices 1,  2 et 6, TD 4**"
   ]
  },
  {
   "cell_type": "markdown",
   "metadata": {},
   "source": [
    "## Portées de variables\n",
    "* La portée ou visibilité d'une variable est l'endroit dans le code où cette variable est accessible.\n",
    "* Une variable déclarée dans le corps d'une fonction n'est visible (ou accessible) qu'à l'intérieur de cette fonction. On dit qu'elle est *locale* à la fonction. Il n'est pas possible d'y accéder depuis un autre algorithme ou une autre fonction.\n",
    "* Les variables locales sont créées à chaque appel de la fonction puis détruites à la fin de l'appel. "
   ]
  },
  {
   "cell_type": "markdown",
   "metadata": {},
   "source": [
    "### Exemples d'algorithmes incorrets  :\n"
   ]
  },
  {
   "cell_type": "code",
   "execution_count": null,
   "metadata": {},
   "outputs": [],
   "source": [
    "# Définition de la fonction affiche_somme\n",
    "\n",
    "def affiche_somme(x,y) :\n",
    "    \"\"\"Affiche la somme de x et y\"\"\" \n",
    "\n",
    "# Les paramètres en entrée x et y sont aussi des variables locales à la fonction !\n",
    "  \n",
    "    z = x + y    # z est une variable locale à la fonction\n",
    " \n",
    "    print(\"La somme de\", x, \"et\", y, \"vaut\",z)\n",
    "\n",
    "\n",
    "##########################################################\n",
    "##########################################################\n",
    "\n",
    "# Algorithme principal\n",
    "affiche_somme(7,5) # Attention ! deux paramètres, 7 et 5\n",
    "print(z)"
   ]
  },
  {
   "cell_type": "markdown",
   "metadata": {},
   "source": [
    "## Passage des paramètres par copie\n",
    "Lors de l'appel d'une fonction, la transmission des paramètres se fait selon un protocole précis :\n",
    "* Une copie correspondant au paramètre est créée ; \n",
    "* le nom de la variable est local à sa fonction, par conséquent une variable `x` de la fonction appelante n'est pas la même (zone mémoire) que la variable `x` de la fonction appelée. \n",
    "* Si une telle variable est utilisée, toute modification ne porte que sur la copie."
   ]
  },
  {
   "cell_type": "markdown",
   "metadata": {},
   "source": [
    "### Exemple"
   ]
  },
  {
   "cell_type": "code",
   "execution_count": null,
   "metadata": {},
   "outputs": [],
   "source": [
    "%%tutor -r -l python3\n",
    "# Définition de la fonction change()\n",
    "def change(i) :\n",
    "    print( \"i = \",i)\n",
    "    i = 3\n",
    "    print( \"i = \",i)\n",
    "##########################################################\n",
    "##########################################################\n",
    "\n",
    "# Algorithme principal\n",
    "# \n",
    "i = 5\n",
    "print( \"i = \",i)\n",
    "change(i)\n",
    "print( \"i = \", i)"
   ]
  },
  {
   "cell_type": "markdown",
   "metadata": {},
   "source": [
    "- ** Sur ce thème : Exercices 3, 4 et 5, TD4**"
   ]
  }
 ],
 "metadata": {
  "kernelspec": {
   "display_name": "Python 3",
   "language": "python",
   "name": "python3"
  },
  "language_info": {
   "codemirror_mode": {
    "name": "ipython",
    "version": 3
   },
   "file_extension": ".py",
   "mimetype": "text/x-python",
   "name": "python",
   "nbconvert_exporter": "python",
   "pygments_lexer": "ipython3",
   "version": "3.6.4"
  }
 },
 "nbformat": 4,
 "nbformat_minor": 2
}
