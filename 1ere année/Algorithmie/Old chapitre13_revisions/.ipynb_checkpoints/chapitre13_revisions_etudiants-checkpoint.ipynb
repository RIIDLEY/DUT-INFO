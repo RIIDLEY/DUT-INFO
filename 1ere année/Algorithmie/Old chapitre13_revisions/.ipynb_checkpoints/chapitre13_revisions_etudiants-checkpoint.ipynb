{
 "cells": [
  {
   "cell_type": "markdown",
   "metadata": {},
   "source": [
    "# Chapitre 13: Révisions\n",
    "\n",
    "Si vous êtes confiant dans vos connaissances vous pouvez poursuivre le mini-projet du chapitre 12. A l'inverse, si vous sentez qu'il y a des choses que vous ne maitrisez pas, concentrez-vous sur les exercices de révisions proposez ci-sessous qui reprennent les notions de bases.\n",
    "\n",
    "N'hésitez pas, lors de cette séance à solliciter vos enseignants sur les points, algorithmes ou exercices que vous n'auriez pas compris.\n",
    "\n",
    "## Affectation\n",
    "- swap des valeurs de deux variables: Définissez un programme permettant d'intervertir les valeurs de deux variables `a` et `b`."
   ]
  },
  {
   "cell_type": "code",
   "execution_count": 5,
   "metadata": {},
   "outputs": [
    {
     "name": "stdout",
     "output_type": "stream",
     "text": [
      "Avant\n",
      "a = Toto\n",
      "b = 10\n",
      "Après\n",
      "a = 10\n",
      "b = Toto\n"
     ]
    }
   ],
   "source": [
    "# ------------  TEST/EXEMPLE ---------- #\n",
    "a = \"Toto\"\n",
    "b = 10\n",
    "print( \"Avant\")\n",
    "print( \"a = \" + str(a))\n",
    "print( \"b = \" + str(b))\n",
    "c=a\n",
    "a=b\n",
    "b=c\n",
    "\n",
    "print( \"Après\")\n",
    "print( \"a = \" + str(a))\n",
    "print( \"b = \" + str(b))"
   ]
  },
  {
   "cell_type": "markdown",
   "metadata": {},
   "source": [
    "## Alternative\n",
    "- fonction booléenne indiquant si une valeur dépasse un seuil ou non. Définissez une fonction `sup_seuil()` qui prend en paramètre une valeur a tester et une valeur seuil et retourne `True` si la valeur testée est supérieur strictement à la valeur de seuil et `False` sinon."
   ]
  },
  {
   "cell_type": "code",
   "execution_count": 7,
   "metadata": {},
   "outputs": [
    {
     "name": "stdout",
     "output_type": "stream",
     "text": [
      "False\n",
      "False\n",
      "True\n"
     ]
    }
   ],
   "source": [
    "# ------------  TEST/EXEMPLE ---------- #\n",
    "print(sup_seuil( 0, 10))\n",
    "print(sup_seuil( 10, 10))\n",
    "print(sup_seuil( 20, 10))"
   ]
  },
  {
   "cell_type": "markdown",
   "metadata": {},
   "source": [
    "- fonction booléenne indiquant a quel interval appartient une valeur. Définissez une fonction `interval()` qui prend en paramètre une valeur a tester et 2 tableaux de deux valeurs définissant chacun un interval. La fonction retourne 1 si la valeur testée est dans l'interval du premier couple, 2 si la valeur testée est dans l'interval du second couple et 0 si il n'appartient à aucun des deux intervals."
   ]
  },
  {
   "cell_type": "code",
   "execution_count": 9,
   "metadata": {},
   "outputs": [
    {
     "name": "stdout",
     "output_type": "stream",
     "text": [
      "1\n",
      "2\n",
      "0\n"
     ]
    }
   ],
   "source": [
    "# ------------  TEST/EXEMPLE ---------- #\n",
    "print(interval( 0,[-10,10], [20, 40]))\n",
    "print(interval( 30,[-10,10], [20, 40]))\n",
    "print(interval( 15,[-10,10], [20, 40]))"
   ]
  },
  {
   "cell_type": "markdown",
   "metadata": {},
   "source": [
    "## Boucle, interface et chaines de caractères\n",
    "- Lire une chaine de caractère saisie au clavier, la stocker dans une variable et l'afficher"
   ]
  },
  {
   "cell_type": "markdown",
   "metadata": {},
   "source": [
    "- Lire un entier saisie au clavier, le stocker dans une variable et affichier la valeur agmentée de 10."
   ]
  },
  {
   "cell_type": "markdown",
   "metadata": {},
   "source": [
    "- Définir les fonctions du chapitre 12\n",
    "- `fixe_longueur()`\n",
    "- `est_dans()`\n",
    "- `saisie_controlee()`"
   ]
  },
  {
   "cell_type": "code",
   "execution_count": 13,
   "metadata": {},
   "outputs": [
    {
     "name": "stdout",
     "output_type": "stream",
     "text": [
      "->1234<-\n",
      "->1234<-\n",
      "->  1234<-\n",
      "->    1234<-\n"
     ]
    }
   ],
   "source": [
    "# ------------  TEST/EXEMPLE ---------- #\n",
    "print( \"->\" + fixe_longueur( \"1234\", 2) + \"<-\")\n",
    "print( \"->\" + fixe_longueur( \"1234\", 4) + \"<-\")\n",
    "print( \"->\" + fixe_longueur( \"1234\", 6) + \"<-\")\n",
    "print( \"->\" + fixe_longueur( \"1234\", 8) + \"<-\")"
   ]
  },
  {
   "cell_type": "code",
   "execution_count": 15,
   "metadata": {},
   "outputs": [
    {
     "name": "stdout",
     "output_type": "stream",
     "text": [
      "False\n",
      "True\n"
     ]
    }
   ],
   "source": [
    "# ------------  TEST/EXEMPLE ---------- #\n",
    "print(est_dans( \"Hello\", [\"Bonjour\", \"a\", \"tous\"] ))\n",
    "print(est_dans( \"Bonjour\", [\"Bonjour\", \"a\", \"tous\"] ))"
   ]
  },
  {
   "cell_type": "code",
   "execution_count": 17,
   "metadata": {},
   "outputs": [
    {
     "name": "stdout",
     "output_type": "stream",
     "text": [
      "Tapez [y,n]\n",
      "toto\n",
      "Saisie non reconnue\n",
      "Tapez [y,n]\n",
      "y\n"
     ]
    },
    {
     "data": {
      "text/plain": [
       "'y'"
      ]
     },
     "execution_count": 17,
     "metadata": {},
     "output_type": "execute_result"
    }
   ],
   "source": [
    "# ------------  TEST/EXEMPLE ---------- #\n",
    "saisie_controlee( \"Tapez [y,n]\", [\"y\",\"n\"])"
   ]
  },
  {
   "cell_type": "markdown",
   "metadata": {},
   "source": [
    "## Parcours d'un tableau\n",
    "Pour chaque cas définissez une fonction ou programme remplissant la tâche:\n",
    "- Recherche du plus grand élément d'un tableau: Définissez une fonction `max()` qui prend en paramètre un tableau d'entier et retourne le plus grand entier du tableau."
   ]
  },
  {
   "cell_type": "code",
   "execution_count": 27,
   "metadata": {},
   "outputs": [
    {
     "name": "stdout",
     "output_type": "stream",
     "text": [
      "100\n",
      "100\n",
      "100\n"
     ]
    }
   ],
   "source": [
    "# ------------  TEST/EXEMPLE ---------- #\n",
    "print(max( [100, -10, 0] ) )\n",
    "print(max( [-10, 100, 0] ) )\n",
    "print(max( [0, -10, 100] ) )"
   ]
  },
  {
   "cell_type": "markdown",
   "metadata": {},
   "source": [
    "- Recherche de la position du plus grand élément d'un tableau: Définissez une fonction `pos_max()` qui prend en paramètre un tableau d'entier et retourne l'indice de position dans le tableau du plus grand entier de celui-ci."
   ]
  },
  {
   "cell_type": "code",
   "execution_count": 26,
   "metadata": {},
   "outputs": [
    {
     "name": "stdout",
     "output_type": "stream",
     "text": [
      "0\n",
      "1\n",
      "2\n"
     ]
    }
   ],
   "source": [
    "# ------------  TEST/EXEMPLE ---------- #\n",
    "print(pos_max( [100, -10, 0] ) )\n",
    "print(pos_max( [-10, 100, 0] ) )\n",
    "print(pos_max( [0, -10, 100] ) )"
   ]
  },
  {
   "cell_type": "markdown",
   "metadata": {},
   "source": [
    "- Recherche du dernier élément d'un tableau plus grand qu'un seuil: Définissez une fonction `dernier_plus_grand()` qui prend en paramètre un tableau et un seuil et retourne le dernier élément du tableau plus grand que le seuil si il y en a un et `False` sinon."
   ]
  },
  {
   "cell_type": "code",
   "execution_count": 38,
   "metadata": {},
   "outputs": [
    {
     "name": "stdout",
     "output_type": "stream",
     "text": [
      "40\n"
     ]
    }
   ],
   "source": [
    "# ------------  TEST/EXEMPLE ---------- #\n",
    "print(dernier_plus_grand([0, 50, 10, 40, 0], 30))"
   ]
  },
  {
   "cell_type": "markdown",
   "metadata": {},
   "source": [
    "- Recherche du premier élément d'un tableau plus grand qu'un seuil: Définissez une fonction `premier_plus_grand()` qui prend en paramètre un tableau et un seuil et retourne le premier élément du tableau plus grand que le seuil si il y en a un et `False` sinon."
   ]
  },
  {
   "cell_type": "code",
   "execution_count": 34,
   "metadata": {},
   "outputs": [
    {
     "name": "stdout",
     "output_type": "stream",
     "text": [
      "50\n"
     ]
    }
   ],
   "source": [
    "# ------------  TEST/EXEMPLE ---------- #\n",
    "print(premier_plus_grand([0, 50, 10, 40, 0], 30))"
   ]
  },
  {
   "cell_type": "markdown",
   "metadata": {},
   "source": [
    "- Recherche de la position du premier élément d'un tableau plus grand qu'un seuil: Définissez une fonction `pos_premier_plus_grand()` qui prend en paramètre un tableau et un seuil et retourne l'indice de position dans le tableau du premier élément du tableau plus grand que le seuil si il y en a un et `-1` sinon."
   ]
  },
  {
   "cell_type": "code",
   "execution_count": 39,
   "metadata": {},
   "outputs": [
    {
     "name": "stdout",
     "output_type": "stream",
     "text": [
      "1\n",
      "False\n"
     ]
    }
   ],
   "source": [
    "# ------------  TEST/EXEMPLE ---------- #\n",
    "print(pos_premier_plus_grand([0, 50, 10, 40, 0], 30))\n",
    "print(pos_premier_plus_grand([0, 50, 10, 40, 0], 100))"
   ]
  },
  {
   "cell_type": "markdown",
   "metadata": {},
   "source": [
    "- Calcul de la somme des éléments d'un tableau: Definissez une fonction `somme()` qui prend en paramètre un tableau et retourne la somme de ses éléments si il n'est pas vide et `False` sinon."
   ]
  },
  {
   "cell_type": "code",
   "execution_count": 43,
   "metadata": {},
   "outputs": [
    {
     "name": "stdout",
     "output_type": "stream",
     "text": [
      "8\n",
      "False\n"
     ]
    }
   ],
   "source": [
    "# ------------  TEST/EXEMPLE ---------- #\n",
    "print(somme([1,2,1,4]))\n",
    "print(somme([]))"
   ]
  },
  {
   "cell_type": "markdown",
   "metadata": {},
   "source": [
    "- Calcul de la somme des éléments d'un tableau plus grand qu'un seuil: Definissez une fonction `somme_sup_seuil()` qui prend en paramètre un tableau et un seuil et retourne la somme des éléments du tableau plus grand que le seuil si il n'est pas vide et False sinon."
   ]
  },
  {
   "cell_type": "code",
   "execution_count": 50,
   "metadata": {},
   "outputs": [
    {
     "name": "stdout",
     "output_type": "stream",
     "text": [
      "13\n",
      "9\n",
      "False\n"
     ]
    }
   ],
   "source": [
    "# ------------  TEST/EXEMPLE ---------- #\n",
    "print(somme_sup_seuil([1,2,1,4,5], 0))\n",
    "print(somme_sup_seuil([1,2,1,4,5], 3))\n",
    "print(somme_sup_seuil([], 0))"
   ]
  }
 ],
 "metadata": {
  "kernelspec": {
   "display_name": "Python 3",
   "language": "python",
   "name": "python3"
  },
  "language_info": {
   "codemirror_mode": {
    "name": "ipython",
    "version": 3
   },
   "file_extension": ".py",
   "mimetype": "text/x-python",
   "name": "python",
   "nbconvert_exporter": "python",
   "pygments_lexer": "ipython3",
   "version": "3.6.4"
  }
 },
 "nbformat": 4,
 "nbformat_minor": 2
}
