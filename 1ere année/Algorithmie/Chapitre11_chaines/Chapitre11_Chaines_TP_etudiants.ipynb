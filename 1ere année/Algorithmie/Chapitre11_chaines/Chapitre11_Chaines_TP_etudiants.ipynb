{
 "cells": [
  {
   "cell_type": "markdown",
   "metadata": {},
   "source": [
    "# <center> Chapitre 11 : Chaines de caractères - TP </center>"
   ]
  },
  {
   "cell_type": "code",
   "execution_count": 16,
   "metadata": {
    "scrolled": true
   },
   "outputs": [],
   "source": [
    "%load_ext tutormagic"
   ]
  },
  {
   "cell_type": "markdown",
   "metadata": {},
   "source": [
    "## Exercice 1 : Insertions de symboles*"
   ]
  },
  {
   "cell_type": "markdown",
   "metadata": {},
   "source": [
    "Ecrire une fonction qui prend une chaîne en paramètre et qui renvoie une chaîne dans laquelle ont été insérées des tirets bas (`_`) entre chaque lettre de la chaîne d'origine.\n",
    "Par exemple, si on lui passe la chaîne `bonjour`, la fonction retourne la chaîne `b_o_n_j_o_u_r`."
   ]
  },
  {
   "cell_type": "code",
   "execution_count": 40,
   "metadata": {},
   "outputs": [
    {
     "name": "stdout",
     "output_type": "stream",
     "text": [
      "b_o_n_j_o_u_r\n"
     ]
    }
   ],
   "source": [
    "\n",
    "def change(a):\n",
    "    i=0\n",
    "    b=\"\"\n",
    "    while i<len(a):\n",
    "        b= b+ a[i]\n",
    "        if(i!=len(a)-1):\n",
    "            b=b+\"_\"\n",
    "        i+=1           \n",
    "        \n",
    "        \n",
    "\n",
    "    print(b)\n",
    "        \n",
    "\n",
    "change(\"bonjour\")\n",
    "\n",
    "\n",
    "\n"
   ]
  },
  {
   "cell_type": "markdown",
   "metadata": {},
   "source": [
    "## Exercice 2 : Présentation rapide du langage HTML **"
   ]
  },
  {
   "cell_type": "markdown",
   "metadata": {},
   "source": [
    "Les pages Web sont écrites dans un langage appelé HTML (HyperText Markup Language / langage de marquage hypertexte). C'est un langage de description de documents qui permet de décrire la structure du document et son contenu.  HTML est un langage qui utilise des balises (ou marqueurs, ou tags).  Toute structure de texte est encadrée par une paire de balises.  Le canevas de base d'un document HTML est le suivant :\n"
   ]
  },
  {
   "cell_type": "code",
   "execution_count": null,
   "metadata": {},
   "outputs": [],
   "source": [
    "<html> \n",
    "  <head> \n",
    "     <title> Exemple pour le cours </title>\n",
    "  </head>\n",
    "  <body> \n",
    "   <p> C'est ici que l'on écrit le texte de la page </p>\n",
    "  </body> \n",
    "</html>"
   ]
  },
  {
   "cell_type": "markdown",
   "metadata": {},
   "source": [
    "Chaque balise est reconnaissable car entourée des caractères ``< >``\n",
    "\n",
    "Certaines balises vont par 2 : ``<html></html>, <head></head>, <p></p>``. Elles indiquent comment le texte qui est entre la paire de balises doit être structuré. La deuxième balise (la balise de fin) est construite à partir de la première (balise de début) en lui ajoutant devant le caractère ``/``.  D'autres balises sont *seules* :``<br/>`` indique un passage à la ligne,``<img/>`` indique l'insertion d'une image. On supposera que le nom des balises HTML, c'est-à-dire la chaîne comprises entre ``<``(ou ``</``) et ``>``, est uniquement composée de lettres minuscules. L'objectif est de éfinir différentes fonctions concernant les documents HTML.  On suppose que le document est représenté par une chaîne de caractères :\n",
    "\n",
    "* Ecrire une fonction ``estBaliseDebut()`` qui vérifie si une chaîne ``s``, reçue en argument est une balise de début.  Une balise de début est entourée des caractères ``<`` et ``>`` et entre les deux, elle n'est composée que de **caractères alphabétiques minuscules**."
   ]
  },
  {
   "cell_type": "code",
   "execution_count": 51,
   "metadata": {},
   "outputs": [
    {
     "data": {
      "text/plain": [
       "True"
      ]
     },
     "execution_count": 51,
     "metadata": {},
     "output_type": "execute_result"
    }
   ],
   "source": [
    "def estBaliseDebut(s):\n",
    "    i=len(s)\n",
    "    if s[0]==\"<\" and s[i-1]==\">\":\n",
    "        return True\n",
    "    else: \n",
    "        return False\n",
    "\n",
    "estBaliseDebut(\"<test>\")\n",
    "\n",
    "\n"
   ]
  },
  {
   "cell_type": "markdown",
   "metadata": {},
   "source": [
    "- Ecrire une fonction ``construitBaliseFin(balDeb)`` qui retourne un tableau contenant deux valeurs, un booléen et une chaîne de caractères :\n",
    "    - la première valeur du tableau vaut `True` dans le cas ou la balise `balDeb` est une balise de début, auquel cas, la deuxième valeur contenu dans le tableau représente la balise de fin correspondant à `balDeb`,\n",
    "    - la première valeur du tableau vaut `False` dans le cas ou la balise `balDeb` n'est pas conforme au langage HTML, auquel cas, la deuxième valeur du tableau qui est retourné est une chaîne vide."
   ]
  },
  {
   "cell_type": "code",
   "execution_count": 78,
   "metadata": {},
   "outputs": [
    {
     "data": {
      "text/plain": [
       "[True, '</test>']"
      ]
     },
     "execution_count": 78,
     "metadata": {},
     "output_type": "execute_result"
    }
   ],
   "source": [
    "def construitBaliseFin(balDeb):\n",
    "    i=len(balDeb)\n",
    "    tab=[]\n",
    "    if estBaliseDebut:\n",
    "        a=balDeb.replace(\"<\",\"</\")\n",
    "        tab = [True,a]\n",
    "    else:\n",
    "        tab = [False,\" \"]\n",
    "        \n",
    "    \n",
    "    return tab\n",
    "        \n",
    "\n",
    "        \n",
    "                       \n",
    "\n",
    "construitBaliseFin(\"<test>\")\n",
    "\n",
    "\n"
   ]
  },
  {
   "cell_type": "markdown",
   "metadata": {},
   "source": [
    "- Ecrire une fonction ``paireBalises()`` qui, prenant deux balises ``b1``, ``b2`` en paramètre, retourne ``True`` si la balise ``b2`` est la balise de fin correspondant à la balise de début ``b1``, retourne``b2`` sinon.\n"
   ]
  },
  {
   "cell_type": "code",
   "execution_count": 76,
   "metadata": {},
   "outputs": [
    {
     "data": {
      "text/plain": [
       "True"
      ]
     },
     "execution_count": 76,
     "metadata": {},
     "output_type": "execute_result"
    }
   ],
   "source": [
    "def paireBalises(b1,b2):\n",
    "    a=b1.replace(\"<\",\"</\")\n",
    "    if a==b2:\n",
    "        return True\n",
    "    else:\n",
    "        return False\n",
    "    \n",
    "    \n",
    "    \n",
    "paireBalises(\"<test>\",\"</test>\")\n",
    "\n",
    "\n"
   ]
  },
  {
   "cell_type": "markdown",
   "metadata": {},
   "source": [
    "## Exercice 3 : Vérification du parenthésage  d'une expression **"
   ]
  },
  {
   "cell_type": "markdown",
   "metadata": {},
   "source": [
    "Ecrire une fonction qui indique si une chaîne de caractères représentant une expression parenthèsée est syntaxiquement correcte du point de vue des parenthèses ou pas. La fonction renvoie `-1` si l'expression est correcte et la position de la première erreur si l'expression est incorrecte.  \n",
    "\n",
    "Exemple:\n",
    "\t- pour \"(a.(b))\"  elle retourne  -1\n",
    "\t- pour \"(()())\" elle retourne -1\n",
    "\t- pour \"a.(b))(\" elle retourne 5\n",
    "\t- pour \"(()(()a.(b))\" elle retourne 12\n",
    "\t- pour \")(\" elle retourne 0\n"
   ]
  },
  {
   "cell_type": "code",
   "execution_count": null,
   "metadata": {},
   "outputs": [],
   "source": [
    "def verif(s):\n",
    "    i=0\n",
    "    while i<len(s):\n",
    "        if s==\"()\"\n",
    "        i+=1\n",
    "        \n",
    "        \n",
    "        \n",
    "        \n",
    "verif()  "
   ]
  }
 ],
 "metadata": {
  "kernelspec": {
   "display_name": "Python 3",
   "language": "python",
   "name": "python3"
  },
  "language_info": {
   "codemirror_mode": {
    "name": "ipython",
    "version": 3
   },
   "file_extension": ".py",
   "mimetype": "text/x-python",
   "name": "python",
   "nbconvert_exporter": "python",
   "pygments_lexer": "ipython3",
   "version": "3.6.4"
  },
  "toc": {
   "base_numbering": 1,
   "nav_menu": {},
   "number_sections": true,
   "sideBar": true,
   "skip_h1_title": false,
   "title_cell": "Table of Contents",
   "title_sidebar": "Contents",
   "toc_cell": false,
   "toc_position": {},
   "toc_section_display": true,
   "toc_window_display": false
  }
 },
 "nbformat": 4,
 "nbformat_minor": 2
}
