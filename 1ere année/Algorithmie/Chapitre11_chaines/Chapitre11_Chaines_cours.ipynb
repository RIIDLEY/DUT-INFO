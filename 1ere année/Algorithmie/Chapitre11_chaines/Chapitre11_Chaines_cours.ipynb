{
 "cells": [
  {
   "cell_type": "markdown",
   "metadata": {},
   "source": [
    "# <center>Chapitre 11 : Les chaines de caractères </center>"
   ]
  },
  {
   "cell_type": "markdown",
   "metadata": {},
   "source": [
    "## Introduction"
   ]
  },
  {
   "cell_type": "markdown",
   "metadata": {},
   "source": [
    "On appelle *chaîne de caractères* des fragments de texte utilisés par un programme.  Il n'est pas nécessaire que le texte ait un sens pour un humain : il suffit qu'il soit composé d'une suite de caractères (un caractère n'est pas obligatoirement une lettre de l'alphabet :`` 'A','9', ' ', '.' ``sont des caractères).\n",
    "\n",
    "La chaîne de caractères (string) est un type de base pour beaucoup de langages  de programmation et il existe de nombreuses bibliothèques de fonctions pour les manipuler.\n",
    "Comprendre et savoir traiter les chaînes de caractères est indispensable pour un informaticien tant elles sont omniprésentes dans tous les domaines de l'informatique :\n",
    "\n",
    "- pour le Web : les pages XHTML, les scripts PHP par exemple,\n",
    "- les bases de données : SGBDR,\n",
    "- les réseaux : dans la constitution des trames ethernet,\n",
    "- les systèmes d'exploitation : écriture de scripts sous linux,\n",
    "- programmation : sources de programmes, fichiers textes etc.\n",
    "\n",
    "Le but de ce chapitre est de comprendre et concevoir des algorithmes de traitements de chaînes. Ces algorithmes seront de plus en plus\n",
    "élaborés; cela vous permettra d'entrevoir la puissance des chaînes de caractères au travers des algorithmes qui les traitent.\n",
    "\n",
    "Pour rappel, une chaîne de caractères est une suite ordonnée de caractères. Cette\n",
    "suite est délimitée par des guillemets `\"\"` ou, plus rarement, par deux apostrophes `''` (en Python les 2 sont possibles). Une chaîne de caractères n'est pas modifiable.\n",
    "\n",
    "**Exemples de chaînes littérales :**\n",
    "\n",
    "``'bonjour'`` est une chaînes de caractères contenant 7 caractères.\n",
    "``''`` est la chaîne de caractères vide contenant 0 caractère.\n",
    "\n",
    "**Nous pouvons initialiser une variable ** avec une chaîne de caractères littérale,  cette variable sera de type chaîne de caractères.\n"
   ]
  },
  {
   "cell_type": "code",
   "execution_count": null,
   "metadata": {},
   "outputs": [],
   "source": [
    "message='L\\'hiver approche, vite vite, il faut se couvrir des morsures du froid.'\n",
    "print(message)"
   ]
  },
  {
   "cell_type": "markdown",
   "metadata": {},
   "source": [
    "**NB:** Le caractère ``\\`` avant l'apostrophe de ``L'hiver`` qui permet que le caractère ``'`` ne soit pas interprété comme un délimiteur de chaînes de caractères.  Pour éviter l'utilisation de caractères d'échappement vous pouvez utiliser les guillemets ``\"`` pour délimiter la chaîne de caractères."
   ]
  },
  {
   "cell_type": "code",
   "execution_count": null,
   "metadata": {},
   "outputs": [],
   "source": [
    "message=\"L'hiver approche, vite vite, il faut se couvrir des morsures du froid.\"\n",
    "print(message)"
   ]
  },
  {
   "cell_type": "markdown",
   "metadata": {},
   "source": [
    "Nous pouvons affecter une variable à partir d'une autre variable de type chaîne de caractères."
   ]
  },
  {
   "cell_type": "code",
   "execution_count": null,
   "metadata": {},
   "outputs": [],
   "source": [
    "message='L\\'hiver approche, vite vite, il faut se couvrir des morsures du froid.'\n",
    "messageBis=message\n",
    "print(messageBis)"
   ]
  },
  {
   "cell_type": "markdown",
   "metadata": {},
   "source": [
    "## Concaténation de chaînes de caractères"
   ]
  },
  {
   "cell_type": "markdown",
   "metadata": {},
   "source": [
    "L'opérateur ``+`` permet de concaténer des chaînes de caractères."
   ]
  },
  {
   "cell_type": "code",
   "execution_count": null,
   "metadata": {
    "scrolled": true
   },
   "outputs": [],
   "source": [
    "message='L\\'hiver approche, vite vite, il faut se couvrir des morsures du froid.'\n",
    "messageBis=' Couvrons nous!'\n",
    "messageTierce=' Oui, couvrons nos oreilles!'\n",
    "superMessage = message + messageBis + '\\n'+ messageTierce\n",
    "print(superMessage)"
   ]
  },
  {
   "cell_type": "markdown",
   "metadata": {},
   "source": [
    "## Les chaînes de caractères vues comme des tableaux"
   ]
  },
  {
   "cell_type": "markdown",
   "metadata": {},
   "source": [
    "Les chaînes de caractères sont analogues aux tableaux de caractères, à ceci près qu'elles ne sont plus modifiables après leur initialisation: seule la lecture des caractères de la chaîne de caractères est autorisée.\n",
    "\n",
    "**Important :** même si les chaînes de caractères peuvent être soumises à une partie des opérations prévues pour les tableaux, elle ne sont pas de **\"type\"** tableau, c'est-à-dire que ``'abc'`` est différent de ``['a, 'b', 'c']`` : le second est modifiable, pas le premier. "
   ]
  },
  {
   "cell_type": "code",
   "execution_count": null,
   "metadata": {},
   "outputs": [],
   "source": [
    "message='L\\'hiver approche, vite vite, il faut se couvrir des morsures du froid.'\n",
    "print(message[4]) # affichage : v\n",
    "print(message[3] + message[6]) # affichage : ir\n",
    "message[1] = 'c'"
   ]
  },
  {
   "cell_type": "markdown",
   "metadata": {},
   "source": [
    " Il faut alors bien distinguer les opérations qui **recopient** la chaîne  de  celles qui la **modifient**. \n",
    " Par exemple :"
   ]
  },
  {
   "cell_type": "code",
   "execution_count": null,
   "metadata": {},
   "outputs": [],
   "source": [
    "mot='abc'\n",
    "mot=mot + 'd'  # correct parce que + crée une nouvelle chaîne\n",
    "print(mot)"
   ]
  },
  {
   "cell_type": "markdown",
   "metadata": {},
   "source": [
    "On peut déterminer la longueur (c'est-à-dire le nombre de caractères) d'une chaîne, en faisant appel à la fonction **len()** :"
   ]
  },
  {
   "cell_type": "code",
   "execution_count": 5,
   "metadata": {},
   "outputs": [
    {
     "ename": "NameError",
     "evalue": "name 'message' is not defined",
     "output_type": "error",
     "traceback": [
      "\u001b[0;31m---------------------------------------------------------------------------\u001b[0m",
      "\u001b[0;31mNameError\u001b[0m                                 Traceback (most recent call last)",
      "\u001b[0;32m<ipython-input-5-87a47344ae56>\u001b[0m in \u001b[0;36m<module>\u001b[0;34m()\u001b[0m\n\u001b[0;32m----> 1\u001b[0;31m \u001b[0mprint\u001b[0m\u001b[0;34m(\u001b[0m\u001b[0mlen\u001b[0m\u001b[0;34m(\u001b[0m\u001b[0mmessage\u001b[0m\u001b[0;34m)\u001b[0m\u001b[0;34m)\u001b[0m\u001b[0;34m\u001b[0m\u001b[0m\n\u001b[0m",
      "\u001b[0;31mNameError\u001b[0m: name 'message' is not defined"
     ]
    }
   ],
   "source": [
    "print(len(message))"
   ]
  },
  {
   "cell_type": "code",
   "execution_count": null,
   "metadata": {},
   "outputs": [],
   "source": [
    "## Les chaînes sont comparables"
   ]
  },
  {
   "cell_type": "markdown",
   "metadata": {},
   "source": [
    "La fonction **ord(c)** permet de connaître la valeur du code ASCII représentant le caractère `c`. "
   ]
  },
  {
   "cell_type": "code",
   "execution_count": 6,
   "metadata": {},
   "outputs": [
    {
     "name": "stdout",
     "output_type": "stream",
     "text": [
      "53\n",
      "5\n",
      "65\n",
      "66\n",
      "97\n",
      "36\n"
     ]
    }
   ],
   "source": [
    "# code point of integer\n",
    "print(ord('5'))\n",
    "print(ord('5')- ord('0'))\n",
    "\n",
    "# code point of alphabet \n",
    "print(ord('A'))\n",
    "print(ord('B'))\n",
    "\n",
    "print(ord('a'))\n",
    "\n",
    "# code point of character\n",
    "print(ord('$'))"
   ]
  },
  {
   "cell_type": "markdown",
   "metadata": {},
   "source": [
    "\n"
   ]
  },
  {
   "cell_type": "markdown",
   "metadata": {},
   "source": [
    "Tous les opérateurs de comparaison ``(>, <..)`` fonctionnent alors avec les chaînes de caractères. Cela est très utile pour trier des mots par ordre alphabétique usuel s'ils sont écrits en majuscules ou en minuscules :"
   ]
  },
  {
   "cell_type": "code",
   "execution_count": null,
   "metadata": {},
   "outputs": [],
   "source": [
    "mot = input(\"Entrez un mot quelconque : \")\n",
    "if mot < \"chat\":\n",
    "    place = \"est avant\"\n",
    "elif mot > \"chat\":\n",
    "    place = \"est après\"\n",
    "else:\n",
    "    place = \"se confond avec\"\n",
    "print (\"Le mot\", mot, place, \"le mot 'chat' dans l'ordre alphabétique\")"
   ]
  },
  {
   "cell_type": "markdown",
   "metadata": {},
   "source": [
    "## Quelques fonctions sur les chaînes de caractères"
   ]
  },
  {
   "cell_type": "markdown",
   "metadata": {},
   "source": [
    "**index(c)** : retourne l'index de la première occurrence du caractère `c` dans la chaîne ou déclenche une erreur si `c` est absent de la chaîne."
   ]
  },
  {
   "cell_type": "code",
   "execution_count": 7,
   "metadata": {},
   "outputs": [
    {
     "name": "stdout",
     "output_type": "stream",
     "text": [
      "10\n"
     ]
    },
    {
     "ename": "ValueError",
     "evalue": "substring not found",
     "output_type": "error",
     "traceback": [
      "\u001b[0;31m---------------------------------------------------------------------------\u001b[0m",
      "\u001b[0;31mValueError\u001b[0m                                Traceback (most recent call last)",
      "\u001b[0;32m<ipython-input-7-093750d28be9>\u001b[0m in \u001b[0;36m<module>\u001b[0;34m()\u001b[0m\n\u001b[1;32m      1\u001b[0m \u001b[0mch\u001b[0m \u001b[0;34m=\u001b[0m \u001b[0;34m\"Bonjour à tous\"\u001b[0m\u001b[0;34m\u001b[0m\u001b[0m\n\u001b[1;32m      2\u001b[0m \u001b[0mprint\u001b[0m \u001b[0;34m(\u001b[0m\u001b[0mch\u001b[0m\u001b[0;34m.\u001b[0m\u001b[0mindex\u001b[0m\u001b[0;34m(\u001b[0m\u001b[0;34m\"t\"\u001b[0m\u001b[0;34m)\u001b[0m\u001b[0;34m)\u001b[0m\u001b[0;34m\u001b[0m\u001b[0m\n\u001b[0;32m----> 3\u001b[0;31m \u001b[0mprint\u001b[0m \u001b[0;34m(\u001b[0m\u001b[0mch\u001b[0m\u001b[0;34m.\u001b[0m\u001b[0mindex\u001b[0m\u001b[0;34m(\u001b[0m\u001b[0;34m\"w\"\u001b[0m\u001b[0;34m)\u001b[0m\u001b[0;34m)\u001b[0m\u001b[0;34m\u001b[0m\u001b[0m\n\u001b[0m",
      "\u001b[0;31mValueError\u001b[0m: substring not found"
     ]
    }
   ],
   "source": [
    "ch = \"Bonjour à tous\"\n",
    "print (ch.index(\"t\"))\n",
    "print (ch.index(\"w\"))"
   ]
  },
  {
   "cell_type": "markdown",
   "metadata": {},
   "source": [
    "**find(mot)**: renvoie la position du début de la sous-chaîne `mot`\n",
    " dans la chaîne, en partant du début de la chaîne et `-1` si `mot`est absent de la chaîne."
   ]
  },
  {
   "cell_type": "code",
   "execution_count": 3,
   "metadata": {},
   "outputs": [
    {
     "name": "stdout",
     "output_type": "stream",
     "text": [
      "3\n",
      "-1\n"
     ]
    }
   ],
   "source": [
    "ch= \"je suis étudiant à Paris 13\"\n",
    "mot = \"suis\"\n",
    "print (ch.find(mot))\n",
    "mot2=\"non\"\n",
    "print(ch.find(mot2))"
   ]
  },
  {
   "cell_type": "markdown",
   "metadata": {},
   "source": [
    "**count(mot)** : renvoie le nombre d'occurrencs de la sous-chaîne `mot` qui apparaissent sans chevauchement dans la chaîne."
   ]
  },
  {
   "cell_type": "code",
   "execution_count": 2,
   "metadata": {},
   "outputs": [
    {
     "name": "stdout",
     "output_type": "stream",
     "text": [
      "2\n"
     ]
    }
   ],
   "source": [
    "ch = \"Le héron au long bec et au long cou\"\n",
    "mot = 'long'\n",
    "print (ch.count(mot))"
   ]
  },
  {
   "cell_type": "markdown",
   "metadata": {},
   "source": [
    "**lower()** : convertit une chaîne en minuscules.<br>\n",
    "**upper()**: convertit une chaîne en majuscules."
   ]
  },
  {
   "cell_type": "code",
   "execution_count": null,
   "metadata": {},
   "outputs": [],
   "source": [
    "phrase1 = \"Merci beaucoup\"\n",
    "print (phrase1.upper())\n",
    "\n",
    "phrase2 =\"ATTENTION : Danger !\"\n",
    "print (phrase2.lower())\n"
   ]
  },
  {
   "cell_type": "markdown",
   "metadata": {},
   "source": [
    "**strip()**: enlève les espaces éventuels au début et à la fin de la chaîne."
   ]
  },
  {
   "cell_type": "code",
   "execution_count": null,
   "metadata": {},
   "outputs": [],
   "source": [
    "phrase = \"   Monty Python   \"\n",
    "print(phrase.strip())"
   ]
  },
  {
   "cell_type": "markdown",
   "metadata": {},
   "source": [
    "**replace(old, new)**: remplace tous les caractères `old` par des caractères `new`\n",
    " dans la chaîne."
   ]
  },
  {
   "cell_type": "code",
   "execution_count": 9,
   "metadata": {},
   "outputs": [
    {
     "name": "stdout",
     "output_type": "stream",
     "text": [
      "Je suis_étudiant en Informatique\n"
     ]
    }
   ],
   "source": [
    "phrase = \"Je suis étudiant en Informatique\"\n",
    "print(phrase.replace(\"s \",\"s_\"))"
   ]
  }
 ],
 "metadata": {
  "kernelspec": {
   "display_name": "Python 3",
   "language": "python",
   "name": "python3"
  },
  "language_info": {
   "codemirror_mode": {
    "name": "ipython",
    "version": 3
   },
   "file_extension": ".py",
   "mimetype": "text/x-python",
   "name": "python",
   "nbconvert_exporter": "python",
   "pygments_lexer": "ipython3",
   "version": "3.6.4"
  }
 },
 "nbformat": 4,
 "nbformat_minor": 2
}
