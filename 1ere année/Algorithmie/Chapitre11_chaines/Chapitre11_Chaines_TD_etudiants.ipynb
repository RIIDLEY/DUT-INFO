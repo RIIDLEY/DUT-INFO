{
 "cells": [
  {
   "cell_type": "markdown",
   "metadata": {},
   "source": [
    "# <center> Chapitre 9 : Chaines de caractères - TD </center>"
   ]
  },
  {
   "cell_type": "code",
   "execution_count": null,
   "metadata": {},
   "outputs": [],
   "source": [
    "%load_ext tutormagic"
   ]
  },
  {
   "cell_type": "markdown",
   "metadata": {},
   "source": [
    "## Exercice 1 : Recherche d'un caractère à l'intérieur d'une chaîne de caractères (index())*"
   ]
  },
  {
   "cell_type": "markdown",
   "metadata": {},
   "source": [
    "Un des traitements les plus courants est la recherche d'un (unique) caractère à l'intérieur d'une chaîne de caractères. \n",
    "\n",
    "Ecrire une fonction ``indexOfCar()`` qui prend comme paramètres une chaîne de caractères``chaîne`` et un (unique) caractère ``car`` et qui retourne l'indice de la première occurrence de ce  caractère \n",
    "dans la chaîne. Si ``car`` n'apparait pas dans ``chaîne`` la fonction retournera ``-1``. Cette fonction correspond à une fonction qui existe en Python et s'appelle `index()`. On vous demande toutefois de la définir vous même.\n",
    "\n",
    "Par exemple, les instructions suivantes\n"
   ]
  },
  {
   "cell_type": "code",
   "execution_count": null,
   "metadata": {},
   "outputs": [],
   "source": [
    "chaine=\"il fait beau ici ; n'est ce pas ? oui c'est vrai\"\n",
    "print(indexOfCar(chaine, 'e')) # conduira à l'affichage 9\n",
    "print(indexOfCar(chaine, 'x')) # conduira à l'affichage -1"
   ]
  },
  {
   "cell_type": "markdown",
   "metadata": {},
   "source": [
    "## Exercice 2 : Recherche d'une sous-chaîne dans une chaîne de caractères (`find()`)**"
   ]
  },
  {
   "cell_type": "markdown",
   "metadata": {},
   "source": [
    "On peut généraliser le problème précédent en recherchant, non pas un unique caractère, mais une sous-chaîne dans une chaîne.\n",
    "Par exemple, dans la chaîne ``\"il fait beau aujourd'hui\"``, la sous-chaîne ``'eau'`` apparait à la position ``9``,\n",
    "mais on ne trouve pas la sous-chaîne ``'uae'``.\n",
    "\n",
    "Ecrire une fonction ``indexOfStr()`` qui recherche la présence d'une sous-chaîne ``sStr`` dans la chaîne de caractères ``chaine``, toutes deux passées en paramètres.  La fonction retournera la postion de la première occurrence de ``sStr`` dans la chaîne de caractères ``chaine``; si celle-ci n'existe pas, la fonction retournera ``-1``. Cette fonction correspond à une fonction qui existe en Python et s'appelle `find()`. On vous demande toutefois de la définir vous même.\n",
    "\n",
    "Par exemple, les instructions suivantes"
   ]
  },
  {
   "cell_type": "code",
   "execution_count": null,
   "metadata": {},
   "outputs": [],
   "source": [
    "chaine=\"il fait beau ici, n'est ce pas ? oui c'est vrai\"\n",
    "print(indexOfStr(chaine, 'bea')) # 8\n",
    "print(indexOfStr(chaine, 'aeb')) # -1"
   ]
  },
  {
   "cell_type": "markdown",
   "metadata": {},
   "source": [
    "## Exercice 3 : Comptage du nombre de voyelle(s) dans une chaîne de caractères*"
   ]
  },
  {
   "cell_type": "markdown",
   "metadata": {},
   "source": [
    "On rappelle que les voyelles sont les caractères ``{'a', 'e', 'i', o', 'u','y'}``.\n",
    "Définir une fonction qui retourne le nombre de voyelle(s) (indifféremment majuscule(s) ou minuscule(s)) dans une chaîne de caractères et proposer un jeu de tests significatifs."
   ]
  }
 ],
 "metadata": {
  "kernelspec": {
   "display_name": "Python 3",
   "language": "python",
   "name": "python3"
  },
  "language_info": {
   "codemirror_mode": {
    "name": "ipython",
    "version": 3
   },
   "file_extension": ".py",
   "mimetype": "text/x-python",
   "name": "python",
   "nbconvert_exporter": "python",
   "pygments_lexer": "ipython3",
   "version": "3.6.4"
  },
  "toc": {
   "base_numbering": 1,
   "nav_menu": {},
   "number_sections": true,
   "sideBar": true,
   "skip_h1_title": false,
   "title_cell": "Table of Contents",
   "title_sidebar": "Contents",
   "toc_cell": false,
   "toc_position": {},
   "toc_section_display": true,
   "toc_window_display": false
  }
 },
 "nbformat": 4,
 "nbformat_minor": 2
}
