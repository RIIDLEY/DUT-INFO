{
 "cells": [
  {
   "cell_type": "markdown",
   "metadata": {},
   "source": [
    "# <center>Nombres aléatoires en informatique - TD </center>"
   ]
  },
  {
   "cell_type": "markdown",
   "metadata": {},
   "source": [
    "## Exercice 1 : Lancer de dés*\n",
    "\n",
    "Le but de cet exercice est de créer des fonctions permettant de simuler des lancers de dés. Lancer un dé correspond, d'un point de vue informatique, à tirer un entier aléatoire entre 1 et 6 inclus.\n",
    "\n",
    "### Question 1 : Lancer d'un dé \n",
    "Créer une fonction qui simule le lancer d'un dé et renvoie le résultat. "
   ]
  },
  {
   "cell_type": "markdown",
   "metadata": {},
   "source": [
    "### Question 2 :   Lancer d'un nombre quelconque de dés \n",
    "Créer une fonction qui simule le lancer d'un nombre quelconque de dés donné en paramètre et renvoie leur somme. Utiliser cette fonction pour afficher le résultat d'un lancer de deux dés puis de trois dés."
   ]
  },
  {
   "cell_type": "markdown",
   "metadata": {},
   "source": [
    "### Question 3 : Lancer de dés à $n$ faces \n",
    "Certains dés ont un nombre de faces différent de 6, comme certains dés utilisés pour les jeux de rôles. \n",
    "Ecrire une fonction `lancerDe2` prenant en paramètre le nombre de faces du dé et simulant un lancer de ce dé.\n",
    "Utiliser cette fonction pour faire 1000 lancers de dés à 7 faces et afficher la moyenne de ces 100 tirages."
   ]
  },
  {
   "cell_type": "markdown",
   "metadata": {},
   "source": [
    "### Question 4 : Lancer d'un nombre quelconque de dés de même nombre de faces \n",
    "Ecrire une fonction qui simule le lancer d'un nombre quelconque de dés donné en paramètre, tous les dés ayant le même nombre de faces (également donné en paramètre), et renvoie leur somme. Utiliser cette fonction pour afficher le résultat de 100 lancers d'un dé à 7 faces."
   ]
  },
  {
   "cell_type": "markdown",
   "metadata": {},
   "source": [
    "## Exercice 2 : Soldes aléatoires**\n",
    "Pour les soldes, un magasin propose une formule originale. Lors du paiement en caisse, une réduction de 30, 50 ou 70\\% est appliquée sur le montant total. Le taux de réduction est choisi aléatoirement. \n",
    "\n",
    "### Question 1: Calcul du taux aléatoire \n",
    "Ecrire une fonction `taux()` retournant 30, 50 ou 70, la valeur étant choisie aléatoirement."
   ]
  },
  {
   "cell_type": "markdown",
   "metadata": {},
   "source": [
    "### Question 2 : Prix à payer après réduction \n",
    "Ecrire le programme principal permettant de déterminer le prix à payer après la réduction. Le prix sera saisi par l'utilisateur et la réduction choisie aléatoiremente "
   ]
  },
  {
   "cell_type": "markdown",
   "metadata": {},
   "source": [
    "## Exercice 3 : Nombre magique**\n",
    "\n",
    "Le nombre magique est un jeu où l'utilisateur doit trouver un nombre entier aléatoire compris entre 1 et 100 inclus en au plus 6 essais (7 essais sont toujours suffisants). A chaque essai, le programme répond en indiquant si le nombre à déterminer est plus petit ou plus grand que la valeur saisie par l'utilisateur. Ecrire un programme permettant de jouer à ce jeu."
   ]
  }
 ],
 "metadata": {
  "kernelspec": {
   "display_name": "Python 3",
   "language": "python",
   "name": "python3"
  },
  "language_info": {
   "codemirror_mode": {
    "name": "ipython",
    "version": 3
   },
   "file_extension": ".py",
   "mimetype": "text/x-python",
   "name": "python",
   "nbconvert_exporter": "python",
   "pygments_lexer": "ipython3",
   "version": "3.6.4"
  }
 },
 "nbformat": 4,
 "nbformat_minor": 2
}
