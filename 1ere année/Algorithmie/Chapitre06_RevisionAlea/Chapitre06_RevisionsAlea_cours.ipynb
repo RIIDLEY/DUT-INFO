{
 "cells": [
  {
   "cell_type": "markdown",
   "metadata": {},
   "source": [
    "# <center> Nombres aléatoires en informatique </center> "
   ]
  },
  {
   "cell_type": "markdown",
   "metadata": {},
   "source": [
    "On peut se demander comment des machines prédictibles comme des ordinateurs peuvent engendrer de l'aléa. En réalité, la plupart des nombres aléatoires utilisés en informatique sont des nombres pseudo-aléatoires, au sens où ils sont engendrés de manière prédictible en utilisant une formule mathématique. "
   ]
  },
  {
   "cell_type": "markdown",
   "metadata": {},
   "source": [
    "La raison de ce phénomène vient de ce qu'un algorithme est une suite d'opérations prédéfinies que l'on applique à des paramètres pour les modifier. Si l'on applique le même traitement aux mêmes paramètres, les résultats sont donc identiques. En ce sens, un algorithme est donc déterministe, à l'opposé de ce que l'on veut obtenir. Pourtant certaines opérations sont suffisamment imprévisibles pour donner des résultats qui semblent aléatoires. Les nombres obtenus sont alors dits pseudo-aléatoires."
   ]
  },
  {
   "cell_type": "markdown",
   "metadata": {},
   "source": [
    "Cela suffit dans de nombreux cas, même si ces nombres ne ressemblent pas tout à fait à ce que l'on obtient en lançant un dé ou effectuant des tirages des loterie. \n",
    "\n",
    "Ainsi pour \"produire des nombres au hasard\", on utilise souvent en informatique une suite de nombres déterminée, appelée *séquence pseudo-aléatoire*, qui contient plusieurs centaines de milliers de nombres différents (cette séquence est une suite au sens mathématique du terme, c'est-à-dire que le $(i+1)$-ième terme est calculé en fonction du $i$-ième terme) et satisfait plusieurs propriétés statistiques, ce qui donne à penser, en regardant une partie de ces nombres, que ceux-ci sont des nombres complètement aléatoires. Par abus de langage, on dira que ces nombres sont aléatoires (et non seulement pseudo-aléatoires).\n",
    "\n",
    "** Remarque :** Le principe des séquences pseudo-aléatoires est commun à tous les langages de programmation. Cependant, les langages n'utilisent pas forcément tous la même séquence pseudo-aléatoire."
   ]
  },
  {
   "cell_type": "markdown",
   "metadata": {},
   "source": [
    "### La bibliothèque `random` (aléatoire)"
   ]
  },
  {
   "cell_type": "markdown",
   "metadata": {},
   "source": [
    "Les générateurs aléatoires de nombres se trouvent dans la bibliothèque `random` et sont accessibles grâce à la commande :"
   ]
  },
  {
   "cell_type": "code",
   "execution_count": null,
   "metadata": {},
   "outputs": [],
   "source": [
    "from random import *"
   ]
  },
  {
   "cell_type": "markdown",
   "metadata": {},
   "source": [
    "### Génération aléatoire d'entiers \n",
    "\n",
    "La fonction `randint(a,b)` retourne des nombres compris entre `a` (inclus) et `b` (inclus).\n",
    "\n",
    "Par exemple, pour afficher 3 entier entre 0 et 100 (inclus), on peut utiliser les instructions ci-dessous"
   ]
  },
  {
   "cell_type": "code",
   "execution_count": null,
   "metadata": {},
   "outputs": [],
   "source": [
    "from random import *\n",
    "\n",
    "print(\"Premier nombre aléatoire  entre 0 et 100 (inclus) : \" , randint(0, 100))\n",
    "print(\"Deuxième nombre aléatoire entre 0 et 100 (inclus) : \" , randint(0,100))\n",
    "print(\"Troisième nombre aléatoire entre 0 et 100 (inclus): \" , randint(0,100))"
   ]
  },
  {
   "cell_type": "markdown",
   "metadata": {},
   "source": [
    " et pour afficher un nombre aléatoire entre -20 (inclus) et 20 (inclus) :"
   ]
  },
  {
   "cell_type": "code",
   "execution_count": null,
   "metadata": {},
   "outputs": [],
   "source": [
    "print(\"nombre aléatoire entre -20 et 20 (inclus) :\", randint(-20,20))"
   ]
  },
  {
   "cell_type": "markdown",
   "metadata": {},
   "source": [
    "-  Sur ce thème : **Exercices 1, 2 et 3, TD 5**"
   ]
  },
  {
   "cell_type": "markdown",
   "metadata": {},
   "source": [
    "### Génération aléatoire de flottants\n",
    "\n",
    "La fonction `random()` permet d'engendrer un nombre flottant aléatoire dans l'intervalle $[0,1]$.\n",
    "\n",
    "Pour tirer un nombre dans un intervalle différent par exemple $[a,b]$, il faut alors multiplier le résultat renvoyé par `random()`  par la taille de l'intervalle (soit $b-a$)  et décaler l'intervalle en fonction de la borne inférieure de l'intervale (soit +a). \n",
    "\n",
    "Ainsi le code suivant affiche 3 nombres flottants aléatoires, le premier compris entre 0 et 1,  e second compris entre 0 et 10 et le troisième entre 5 et 20."
   ]
  },
  {
   "cell_type": "code",
   "execution_count": null,
   "metadata": {},
   "outputs": [],
   "source": [
    "print(\"Nombre flottant aléatoire entre 0 et 1 : \", random())\n",
    "print(\"Nombre flottant aléatoire entre 0 et 10 : \", 10.0 * random())\n",
    "print(\"Nombre flottant aléatoire entre 5 et 20 : \", 15.0 * random()+5)"
   ]
  },
  {
   "cell_type": "markdown",
   "metadata": {},
   "source": [
    "On peut aussi définir une fonction permettant d'engendrer un flottant aléatoire de l'intervalle $[a,b]$ :"
   ]
  },
  {
   "cell_type": "code",
   "execution_count": null,
   "metadata": {},
   "outputs": [],
   "source": [
    "def randinter(a,b):\n",
    "    return random()*(b-a)+a\n",
    "\n",
    "print(randinter(15,20)) "
   ]
  },
  {
   "cell_type": "markdown",
   "metadata": {},
   "source": [
    "Cette fonction est en fait déjà prédéfinie en python sous le nom de `uniform(a,b)`, mais cela fait plutôt figure d'exception."
   ]
  },
  {
   "cell_type": "markdown",
   "metadata": {},
   "source": [
    "### Différentes générations de nombres aléatoires\n",
    "\n",
    "Pour s'assurer de ne pas toujours commencer au même endroit de la séquence pseudo-aléatoire et donc ne pas toujours tirer les mêmes valeurs, on utilise un entier appelé *graine*. Cette graine sert à déterminer le nombre de départ dans la séquence pour la fonction `random()`. Il faut toutefois modifier la graine à chaque exécution du programme. Pour cette raison, la graine est souvent engendrée à partir de l'état du système (par exemple, en lisant la valeur de l'horloge). \n",
    "En Python, cette graine est générée automatiquement lors de l'exécutioon de programmes utilisant des fonctions de la bibliothèque 'random'."
   ]
  }
 ],
 "metadata": {
  "kernelspec": {
   "display_name": "Python 3",
   "language": "python",
   "name": "python3"
  },
  "language_info": {
   "codemirror_mode": {
    "name": "ipython",
    "version": 3
   },
   "file_extension": ".py",
   "mimetype": "text/x-python",
   "name": "python",
   "nbconvert_exporter": "python",
   "pygments_lexer": "ipython3",
   "version": "3.6.4"
  }
 },
 "nbformat": 4,
 "nbformat_minor": 2
}
