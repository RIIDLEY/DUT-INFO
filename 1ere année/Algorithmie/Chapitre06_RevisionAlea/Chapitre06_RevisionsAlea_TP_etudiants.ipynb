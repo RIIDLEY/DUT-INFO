{
 "cells": [
  {
   "cell_type": "markdown",
   "metadata": {},
   "source": [
    "# <center> Nombres aléatoires en informatique - TP  </center> "
   ]
  },
  {
   "cell_type": "markdown",
   "metadata": {},
   "source": [
    "## Exercice 1 : Probabilité d'obtenir 7 avec deux dés*\n",
    "\n",
    "### Question 1 \n",
    "Ecrire une fonction `de()`retournant le résultat d'un lancer de dés (à six faces), puis une fonction `somme2Des()`retournant la somme de deux lancers de dés."
   ]
  },
  {
   "cell_type": "code",
   "execution_count": 253,
   "metadata": {},
   "outputs": [
    {
     "data": {
      "text/plain": [
       "7"
      ]
     },
     "execution_count": 253,
     "metadata": {},
     "output_type": "execute_result"
    }
   ],
   "source": [
    "from random import *\n",
    "\n",
    "def de():\n",
    "    a= randint(1,6)\n",
    "  \n",
    "    return a\n",
    "    \n",
    "def somme2Des():\n",
    "    c=de()+de()\n",
    "    return c \n",
    "\n",
    "\n",
    "somme2Des()\n"
   ]
  },
  {
   "cell_type": "markdown",
   "metadata": {},
   "source": [
    "### Question 2\n",
    "Théoriquement la probilité d'obtenir 7 avec deux dés est de 1/6. \n",
    "Ecrire un programme simulant 100 lancers de deux dés et calculant la fréquence (pourcentage) où le résultat d'un lancer est 7. Le résultat calculé est-il proche du résultat théorique ? Qu'en est-il en simulant maintenant non pas 100 mais 1 million de lancers ?"
   ]
  },
  {
   "cell_type": "code",
   "execution_count": null,
   "metadata": {},
   "outputs": [],
   "source": []
  },
  {
   "cell_type": "markdown",
   "metadata": {},
   "source": [
    "Pour simuler 1 million de lancers, il suffit de modifier la valeur de `N` à 1 milion. Plus le nombre de lancers simulés est grand, plus le résultat expérimental trouvé se rapproche de la valeur théorique."
   ]
  },
  {
   "cell_type": "markdown",
   "metadata": {},
   "source": [
    "## Exercice 2 : Jeu du 7**\n",
    "Le jeu du 7 se joue à deux joueurs avec deux dés. Le jeu se joue en 5 tours par manche. Pour chaque manche, les deux joueurs jouent à tour de rôle. Lors de son tour, le joueur lance les deux dés. S'il fait 7, il marque 7 points puis s'arrête. Autrement, le joueur peut relancer les dés. A chaque relance, si le joueur fait 7, son tour est terminé et il marque 0 points. Autrement, il additionne le résultat du lancer de dés à son total. S'il décide de s'arrêter, il marque le total des points qu'il a obtenu avec ses différents lancers (s'il n'a pas fait 7 auparavant).\n",
    "\n",
    "On reprendra les fonctions `de()` et `somme2des()` de l'Exercice 1, on pourra également utiliser  la fonction `confirmation()` définie dans le cours du Chapitre 5.\n",
    "\n",
    "### Question 1 \n",
    "Ecrire la fonction `tour()`\n",
    " simulant le tour d'un joueur."
   ]
  },
  {
   "cell_type": "code",
   "execution_count": null,
   "metadata": {},
   "outputs": [],
   "source": [
    "#-------------------------#\n",
    "#    Écrire le code ici   #\n",
    "#-------------------------#\n",
    "\n",
    "\n",
    "\n"
   ]
  },
  {
   "cell_type": "markdown",
   "metadata": {},
   "source": [
    "### Question 2 \n",
    "Ecrire la fonction `jouer()` permettant de jouer à une partie de 7. Cette fonction affichera uniquement le total réalisé par les deux joueurs à la fin des 5 manches et retournera 1 si le joueur 1 a réalisé un score plus grand que le joueur 2, 0 en cas d'égalité, ou -1 sinon."
   ]
  },
  {
   "cell_type": "code",
   "execution_count": null,
   "metadata": {},
   "outputs": [],
   "source": [
    "#-------------------------#\n",
    "#    Écrire le code ici   #\n",
    "#-------------------------#\n",
    "\n",
    "\n",
    "\n"
   ]
  },
  {
   "cell_type": "markdown",
   "metadata": {},
   "source": [
    "### Question 3 \n",
    "Ecrire le programme principal. Il devra permettre de jouer au jeu du 7 et devra afficher le gagant."
   ]
  },
  {
   "cell_type": "code",
   "execution_count": null,
   "metadata": {},
   "outputs": [],
   "source": [
    "#-------------------------#\n",
    "#    Écrire le code ici   #\n",
    "#-------------------------#\n",
    "\n",
    "\n",
    "\n"
   ]
  },
  {
   "cell_type": "markdown",
   "metadata": {},
   "source": [
    "## Exercice 3 : Approximation de la valeur $\\pi$ à l'aide de la méthode de Monte-Carlo***\n",
    "\n",
    "Le terme *méthode de Monte-Carlo*, ou méthode Monte-Carlo, désigne toute méthode visant à calculer une valeur numérique en utilisant des procédés aléatoires, c'est-à-dire des techniques probabilistes (Définition de Wikipedia. L'exemple du calcul de l'aire du lac provient également de Wikipedia).\n",
    "\n",
    "Une des illustrations de la méthode de Monte-Carlo est la détermination de la surface d'un lac. Supposons que l'on ait un lac dont on souhaite calculer la superficie. On détermine une zone contenant le lac dont on connaît l'aire (On peut choisir un carré dont on connaît le côté). Pour trouver la superficie du lac, on demande à une armée de tirer un certain nombre de boulets de canon et l'on regarde la proportion des projectiles tombés dans le lac. Si suffisamment de boulets de canon ont été tirés et si l'on suppose que les missiles ont été tirés aléatoirement dans la zone, alors cette proportion correspond à la proportion de l'aire du lac par rapport à celle de la zone. Ainsi, si $N$ projectiles ont été lancés et $X$ sont tombés dans le lac, alors la surface du lac correspond à $X/N$ fois la surface de la zone.\n",
    "\n",
    "On peut utiliser cette technique pour déterminer une valeur approchée de $\\pi$. Considérons un quart de cercle de rayon 1 contenu dans un carré de côté 1 (*c.f.* figure ci-dessous). On connaît cette fois-ci l'aire du carré (1) représentant la zone et l'aire du quart de cercle ($\\pi/4$) représentant le lac. A l'aide de la méthode de Monte-Carlo, on peut donc déterminer une valeur approchée de l'aire du quart de cercle. Cette valeur multipliée par 4 donne alors une valeur approchée de la valeur $\\pi$.\n",
    "\n",
    "<img src=\"calculPi.png\" alt=\"Approximation de la valeur $\\pi$ par la méthode de Monte-Carlo\"  width=\"200px\"/>\n",
    "<center>Approximation de la valeur $\\pi$ par la méthode de Monte-Carlo </center>\n",
    "\n",
    "L'algorithme est le suivant. On tire aléatoirement un grand nombre de points dans le carré (des points $(x,y)$ où $x$ et $y$ sont des valeurs aléatoires dans $[0,1]$). On compte le nombre de fois où les points appartiennent au quart de cercle, ce qui nous donne la proportion de l'aire du quart de cercle par rapport à l'aire du carré. On en déduit ensuite une valeur approchée de $\\pi$.\n",
    "\n",
    "### Question 1\n",
    "Ecrire une fonction `coordonnee()` retournant une coordonnée aléatoire dans l'intervalle $[0,1]$."
   ]
  },
  {
   "cell_type": "code",
   "execution_count": null,
   "metadata": {},
   "outputs": [],
   "source": [
    "#-------------------------#\n",
    "#    Écrire le code ici   #\n",
    "#-------------------------#\n",
    "\n",
    "\n",
    "\n"
   ]
  },
  {
   "cell_type": "markdown",
   "metadata": {},
   "source": [
    "### Question 2 \n",
    "Ecrire une fonction `carre()` prenant une valeur de type float en paramètre et retournant le carré de cette valeur."
   ]
  },
  {
   "cell_type": "code",
   "execution_count": null,
   "metadata": {},
   "outputs": [],
   "source": [
    "#-------------------------#\n",
    "#    Écrire le code ici   #\n",
    "#-------------------------#\n",
    "\n",
    "\n",
    "\n"
   ]
  },
  {
   "cell_type": "markdown",
   "metadata": {},
   "source": [
    "### Question 3\n",
    "Ecrire une fonction `estDansCercle()` prenant en paramètre un point du carré (donné par ses coordonnées en $x$ et $y$) et retournant `True` si ce point est un point du cercle, ou `False` sinon.\n",
    "\n",
    "**Remarque :** Pour déterminer si le point $(x,y)$ est dans le cercle, il faut calculer la longueur du segment en pointillé sur la figure. Cela revient à calculer l'hypothénuse d'un triangle rectangle dont les segments adjacents à l'angle droit ont pour longueur respectives $x$ et $y$ (autrement dit, la valeur est donnée par $\\sqrt{x^2 + y^2}$). Si cette valeur est inférieure ou égale à 1, alors le point $(x,y)$ appartient au cercle."
   ]
  },
  {
   "cell_type": "code",
   "execution_count": null,
   "metadata": {},
   "outputs": [],
   "source": [
    "#-------------------------#\n",
    "#    Écrire le code ici   #\n",
    "#-------------------------#\n",
    "\n",
    "\n",
    "\n"
   ]
  },
  {
   "cell_type": "markdown",
   "metadata": {},
   "source": [
    "### Question 4 \n",
    "Ecrire le programme permettant de déterminer une valeur approchée de $\\pi$ à l'aide de la méthode de Monte-Carlo."
   ]
  },
  {
   "cell_type": "code",
   "execution_count": null,
   "metadata": {},
   "outputs": [],
   "source": [
    "#-------------------------#\n",
    "#    Écrire le code ici   #\n",
    "#-------------------------#\n",
    "\n",
    "\n",
    "\n"
   ]
  }
 ],
 "metadata": {
  "kernelspec": {
   "display_name": "Python 3",
   "language": "python",
   "name": "python3"
  },
  "language_info": {
   "codemirror_mode": {
    "name": "ipython",
    "version": 3
   },
   "file_extension": ".py",
   "mimetype": "text/x-python",
   "name": "python",
   "nbconvert_exporter": "python",
   "pygments_lexer": "ipython3",
   "version": "3.6.4"
  }
 },
 "nbformat": 4,
 "nbformat_minor": 2
}
