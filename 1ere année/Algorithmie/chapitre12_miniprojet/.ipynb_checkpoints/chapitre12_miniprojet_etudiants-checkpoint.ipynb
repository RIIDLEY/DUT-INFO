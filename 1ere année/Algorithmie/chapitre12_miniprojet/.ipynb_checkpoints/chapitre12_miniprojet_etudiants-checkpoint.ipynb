{
 "cells": [
  {
   "cell_type": "markdown",
   "metadata": {},
   "source": [
    "# Chapitre 12: Miniprojet Crafter et Survive"
   ]
  },
  {
   "cell_type": "markdown",
   "metadata": {},
   "source": [
    "Le but de ce projet est de construire un début de jeu de type \"Craft\" ou pour survivre le joueur devra construire des objets et cultiver des produits à partir de ressources de base."
   ]
  },
  {
   "cell_type": "markdown",
   "metadata": {},
   "source": [
    "## Spécifications\n",
    "\n",
    "### Développement\n",
    "\n",
    "Pour chaque fonction demandée, un exemple d'appel est donné. Il doit vous servir à vérifier la conformité de votre proposition.\n",
    "\n",
    "### Cycle de jeu"
   ]
  },
  {
   "cell_type": "markdown",
   "metadata": {},
   "source": [
    "Le jeu, dans cette version simple, ne comporte qu'un seul joueur dont il doit maintenir les points de vie au dessus de zero. Il n'y a pas de déplacements explicites. La santé du joueur est décrite par des points de vie et le joueur évolue dans un monde où il peut trouver, fabriquer (crafter) ou consommer des items.\n",
    "\n",
    "- Le joueur perd des points de vie à chaque tour de façon constante.\n",
    "- Si le joueur dispose de vetements, d'une hutte ou d'un lit il perd moins de points de vie.\n",
    "- Si le joueur mange des tomates ou du pain il regagne des points de vie.\n",
    "- Le joueur glane (récolte) des items à chaque tour de jeu.\n",
    "- Le joueur peu crafter des items à chaque tour de jeu.\n",
    "\n",
    "Nous ne programmerons qu'une partie de ces fonctionnalités durant la scéance mais vous êtes libre de le porsuivre sur votre temps personnel."
   ]
  },
  {
   "cell_type": "markdown",
   "metadata": {},
   "source": [
    "### Les fonctions les plus simples à faire impérativement\n",
    "\n",
    "- `fixe_longueur()`\n",
    "- `est_dans()`\n",
    "- `saisie_controlee()`"
   ]
  },
  {
   "cell_type": "markdown",
   "metadata": {},
   "source": [
    "## Lecture des lignes des fichiers TSV\n",
    "\n",
    "Les fichiers utiles au paramétrage du jeu sont dans le répertoire `data` et sont disponibles à la copie dans le répertoire `Donner/un/chemin/valide/de/teléchargement`. Afin de faciliter la lecture vous devez évaluer la cellule suivante:"
   ]
  },
  {
   "cell_type": "code",
   "execution_count": 1,
   "metadata": {},
   "outputs": [],
   "source": [
    "from os import chdir\n",
    "chdir(\"/Users/santini/CloudLIPN/IUT/Enseignements/2018_2019/M1102/2018/chapitre12_miniprojet/\")"
   ]
  },
  {
   "cell_type": "markdown",
   "metadata": {},
   "source": [
    "Tous les fichiers de ce répertoire sont au format tsv. La valeur de chaque champs est séparée de la suivante par une tabulation.\n",
    "\n",
    "Afin de pouvoir lire de façon simple les fichiers de données définissez une fonction `decoupe_tab()` qui prend en paramètre une ligne (une chaîne de caractères) composée de tokens séparés par des tabulations (`\\t`) et renvoie la liste des tokens dans un tableau."
   ]
  },
  {
   "cell_type": "markdown",
   "metadata": {},
   "source": [
    "**Attention:** Comme le montre l'exemple précédent, les lignes lues dans le fichier finiront toutes par un retour à la ligne (`\\n`). Faites bien attention à gérer ce point lors du développement de la fonction."
   ]
  },
  {
   "cell_type": "code",
   "execution_count": 65,
   "metadata": {},
   "outputs": [
    {
     "name": "stdout",
     "output_type": "stream",
     "text": [
      "True\n"
     ]
    }
   ],
   "source": [
    "# ------------  TEST/EXEMPLE ---------- #\n",
    "print( decoupe_tab(\"Bonjour\\ta\\ttous\\n\") == ['Bonjour', 'a', 'tous'] )"
   ]
  },
  {
   "cell_type": "markdown",
   "metadata": {},
   "source": [
    "## Initialisation\n",
    "\n",
    "Le fichier `data/ressources` contient la liste des items que l'on peut glaner ou crafter dans le jeu. Sur chaque ligne est donné le nom d'un item et sa proportion dans la distribution des ressources du monde du jeu. La somme des ressources est égale à 1000; elles sont en proportion constante et quantité illimitées (renouvelées à chaque tour).\n",
    "\n",
    "Par exemple (cf. lignes 6 et 4 du fichier) la proportion de corde ou de bois que l'on peut trouver dans le monde du jeu est respectivement de 10/1000=1% et 200/1000=20%. \n",
    "\n",
    "Certains items ont une proportion de 0. Ce sont les items que l'on ne peut trouver et que l'on ne peut obtenir qu'en les craftant (fabriquant)."
   ]
  },
  {
   "cell_type": "markdown",
   "metadata": {},
   "source": [
    "### Définition du tableau de glanage\n",
    "\n",
    "Nous souhaitons ici définir un tableau de glanage qui représente les ressources disponibles dans le monde. Les proportions de chaque items sont données dans le fichier `data/ressources`. Dans ce tableau glanage chaque item sera représenté autant de fois que spécifié dans la distribution des ressources.\n",
    "\n",
    "D'après le fichier `data/ressources`, la somme des ressources est égale à 1000: le tableau de glanage comportera donc 1000 cases. En accord avec les lignes 1, 2 et 4 du fichier, 2 cases contiendront la chaîne de caractères `\"aiguille\"`, 10 cases contiendront la chaîne de caractères `\"beche\"` et 200 cases contiendront la chaîne de caractères `\"bois\"`.\n",
    "\n",
    "Définissez une fonction `import_distrib_ressources()` qui lit les données du fichier et retourne le tableau de distribution de ressources. Le tableau retourné par la fonction sera stockée dans une variable `ressources`\n",
    "\n",
    "**Remarque:** La fontion `import_distrib_ressources()` utilise la fonction `decoupe_tab(li)`. Elle gère l'ouverture, la lecture et la fermeture du fichier de données. Le chemin vers le fichier est passé en paramètre."
   ]
  },
  {
   "cell_type": "code",
   "execution_count": 67,
   "metadata": {},
   "outputs": [
    {
     "name": "stdout",
     "output_type": "stream",
     "text": [
      "1000\n",
      "True\n"
     ]
    }
   ],
   "source": [
    "# ------------  TEST/EXEMPLE ---------- #\n",
    "ressources = import_distrib_ressources(\"data/ressources\")\n",
    "print(len(ressources))\n",
    "print(ressources[500] == \"osier\")"
   ]
  },
  {
   "cell_type": "markdown",
   "metadata": {},
   "source": [
    "### Création du coffre\n",
    "\n",
    "Définissez une fonction `init_coffre()` qui construit et initialise un `coffre`. Le `coffre` prendra la forme d'un distionnaire ou\n",
    "- les clefs sont les noms des items\n",
    "- les valeurs sont le nombre d'items en possession du joueur.\n",
    "Au départ le coffre est vide. La liste des clefs est lue dans le fichier `data/ressources`.\n",
    "\n",
    "**Remarque:** Cette fonction est assez similaire à la précédente."
   ]
  },
  {
   "cell_type": "code",
   "execution_count": 69,
   "metadata": {},
   "outputs": [
    {
     "name": "stdout",
     "output_type": "stream",
     "text": [
      "{'aiguille': 0, 'beche': 0, 'ble': 0, 'bois': 0, 'clou': 0, 'corde': 0, 'coton': 0, 'fer': 0, 'graine_ble': 0, 'graine_coton': 0, 'graine_tomate': 0, 'hutte': 0, 'lit': 0, 'marteau': 0, 'metier_a_tisser': 0, 'osier': 0, 'paille': 0, 'pain': 0, 'panier': 0, 'tissu': 0, 'tomate': 0, 'vetement': 0}\n"
     ]
    }
   ],
   "source": [
    "# ------------  TEST/EXEMPLE ---------- #\n",
    "coffre = init_coffre(\"data/ressources\")\n",
    "print( coffre)"
   ]
  },
  {
   "cell_type": "markdown",
   "metadata": {},
   "source": [
    "## Gestion du coffre\n",
    "\n",
    "Dans ce jeu, la taille du coffre est infinie: ie si le nombre de clefs est fixé par le nombre d'items, le nombre d'items que l'on peut avoir dans le coffre est illimité...\n",
    "\n",
    "### Représentation du coffre\n",
    "\n",
    "Afin de pouvoir représenter le contenu du tableau de façon élégante nous voulons pouvoir afficher à l'écran des chaînes de caractère de longueur différentes sur un même nombre de caractères. Définissez une fonction `fixe_longueur()` qui prend en paramètres une chaîne de caractère et une longueur entière et qui retourne la chaine de caractère en lui ayant ajouté à gauche autant de caractères espace que nécessaire pour que sa longueur soit celle passé en paramètre.\n",
    "Si la longueur de la chaine de départ est plus longue que la longueur de la chaine souhaitée alors la fonction ne fait rien et retourne la chaine initiale"
   ]
  },
  {
   "cell_type": "code",
   "execution_count": 71,
   "metadata": {},
   "outputs": [
    {
     "name": "stdout",
     "output_type": "stream",
     "text": [
      "->1234<-\n",
      "->1234<-\n",
      "->  1234<-\n",
      "->    1234<-\n"
     ]
    }
   ],
   "source": [
    "# ------------  TEST/EXEMPLE ---------- #\n",
    "print( \"->\" + fixe_longueur( \"1234\", 2) + \"<-\")\n",
    "print( \"->\" + fixe_longueur( \"1234\", 4) + \"<-\")\n",
    "print( \"->\" + fixe_longueur( \"1234\", 6) + \"<-\")\n",
    "print( \"->\" + fixe_longueur( \"1234\", 8) + \"<-\")"
   ]
  },
  {
   "cell_type": "markdown",
   "metadata": {},
   "source": [
    "Définissez une fonction `liste_items()` qui renvoie la liste des items d'un coffre -ie la liste des clefs d'un dictionnaire. La fonction prend en paramètre un dictionnaire (un coffre) et retourne la liste des noms des items du coffre (la liste des clefs du dictionnaire)"
   ]
  },
  {
   "cell_type": "code",
   "execution_count": 73,
   "metadata": {},
   "outputs": [
    {
     "name": "stdout",
     "output_type": "stream",
     "text": [
      "[1, 2, 'tutu']\n",
      "---------------------\n",
      "['aiguille', 'beche', 'ble', 'bois', 'clou', 'corde', 'coton', 'fer', 'graine_ble', 'graine_coton', 'graine_tomate', 'hutte', 'lit', 'marteau', 'metier_a_tisser', 'osier', 'paille', 'pain', 'panier', 'tissu', 'tomate', 'vetement']\n"
     ]
    }
   ],
   "source": [
    "# ------------  TEST/EXEMPLE ---------- #\n",
    "print(liste_items({1:\"a\", 2:\"b\", \"tutu\":\"TOTO\"}))\n",
    "print(\"---------------------\")\n",
    "print(liste_items(coffre ))"
   ]
  },
  {
   "cell_type": "markdown",
   "metadata": {},
   "source": [
    "Définissez une fonction `ouvre_coffre()` qui permette d'affichier de façon formatée le contenu du coffre. La fonction prend en paramètre un coffre (un dictionnaire), ne renvoie rien mais affiche un tableau comportant deux colonnes:\n",
    "    - une colonne pour les clefs - ie les items et\n",
    "    - une colonne pour les valeurs - ie les quantités d'items\n",
    "et autant de lignes qu'il y a de couples (clef,valeur) dans le coffre.\n",
    "\n",
    "**Remarque:** cette fonction utilise les fonctions `fixe_longueur()` et `liste_items()`"
   ]
  },
  {
   "cell_type": "code",
   "execution_count": 75,
   "metadata": {},
   "outputs": [
    {
     "name": "stdout",
     "output_type": "stream",
     "text": [
      "       aiguille |     0\n",
      "          beche |     0\n",
      "            ble |     0\n",
      "           bois |     0\n",
      "           clou |     0\n",
      "          corde |     0\n",
      "          coton |     0\n",
      "            fer |     0\n",
      "     graine_ble |     0\n",
      "   graine_coton |     0\n",
      "  graine_tomate |     0\n",
      "          hutte |     0\n",
      "            lit |     0\n",
      "        marteau |     0\n",
      "metier_a_tisser |     0\n",
      "          osier |     0\n",
      "         paille |     0\n",
      "           pain |     0\n",
      "         panier |     0\n",
      "          tissu |     0\n",
      "         tomate |     0\n",
      "       vetement |     0\n"
     ]
    }
   ],
   "source": [
    "# ------------  TEST/EXEMPLE ---------- #\n",
    "ouvre_coffre( coffre )"
   ]
  },
  {
   "cell_type": "markdown",
   "metadata": {},
   "source": [
    "### Ajouter d'un item au coffre\n",
    "\n",
    "Définissez une fonction `ajoute()` qui prend en paramètre un coffre et le nom d'un item et ajoute cet item au coffre (augmente la quantité d'item de ce nom de +1)."
   ]
  },
  {
   "cell_type": "code",
   "execution_count": 77,
   "metadata": {},
   "outputs": [
    {
     "name": "stdout",
     "output_type": "stream",
     "text": [
      "0\n",
      "1\n"
     ]
    }
   ],
   "source": [
    "# ------------  TEST/EXEMPLE ---------- #\n",
    "print( coffre[\"aiguille\"])\n",
    "ajoute(coffre, \"aiguille\")\n",
    "print( coffre[\"aiguille\"])"
   ]
  },
  {
   "cell_type": "markdown",
   "metadata": {},
   "source": [
    "### Ajout au panier des objets glanés\n",
    "\n",
    "Définissez une fonction `ajoute_plusieurs()` qui prend en paramètre un coffre et une liste d'items (glanés) et les ajoute au coffre.\n",
    "\n",
    "**Remarque:** cette fonction utilise et généralise la fonction `ajoute()` définie supra."
   ]
  },
  {
   "cell_type": "code",
   "execution_count": 79,
   "metadata": {},
   "outputs": [
    {
     "name": "stdout",
     "output_type": "stream",
     "text": [
      "1\n",
      "0\n",
      "3\n",
      "1\n"
     ]
    }
   ],
   "source": [
    "# ------------  TEST/EXEMPLE ---------- #\n",
    "print(coffre[\"aiguille\"])\n",
    "print(coffre[\"beche\"])\n",
    "ajoute_plusieurs(coffre, [\"aiguille\",\"beche\",\"aiguille\"])\n",
    "print(coffre[\"aiguille\"])\n",
    "print(coffre[\"beche\"])"
   ]
  },
  {
   "cell_type": "markdown",
   "metadata": {},
   "source": [
    "### Tester la présence d'un item dans le coffre\n",
    "\n",
    "Définissez une fonction `est_present()` qui teste la présence en quantité superieur ou égale à 1 d'un item dans le coffre. La fonction prend en paramètre un coffre, le nom d'un item et retourne `True` si il y a au moins un item de ce type dans le coffre et `False` sinon."
   ]
  },
  {
   "cell_type": "code",
   "execution_count": 81,
   "metadata": {},
   "outputs": [
    {
     "name": "stdout",
     "output_type": "stream",
     "text": [
      "3\n",
      "True\n",
      "0\n",
      "False\n"
     ]
    }
   ],
   "source": [
    "# ------------  TEST/EXEMPLE ---------- #\n",
    "print(coffre[\"aiguille\"])\n",
    "print(est_present(coffre, \"aiguille\"))\n",
    "print(coffre[\"hutte\"])\n",
    "print(est_present(coffre, \"hutte\"))"
   ]
  },
  {
   "cell_type": "markdown",
   "metadata": {},
   "source": [
    "### Tester la présence d'une liste item dans le coffre\n",
    "\n",
    "Définissez une fonction `sont_presents()` qui teste la présence de plusieurs item dans le coffre. La fonction prend en paramètre un coffre, un tableau d'items et retourne `True` si tous les items du tableau sont présents dans le coffre et `False` sinon.\n",
    "\n",
    "**Remarque:** Vous devez utiliser la fonction `est_present()`"
   ]
  },
  {
   "cell_type": "code",
   "execution_count": 83,
   "metadata": {},
   "outputs": [
    {
     "name": "stdout",
     "output_type": "stream",
     "text": [
      "True\n",
      "False\n"
     ]
    }
   ],
   "source": [
    "# ------------  TEST/EXEMPLE ---------- #\n",
    "ajoute_plusieurs(coffre,[\"bois\",\"fer\"])\n",
    "print(sont_presents( coffre, [\"bois\",\"fer\"]))\n",
    "print(sont_presents( coffre, [\"bois\",\"fer\",\"hutte\"]))"
   ]
  },
  {
   "cell_type": "markdown",
   "metadata": {},
   "source": [
    "### Retirer un item du coffre\n",
    "\n",
    "Définissez une fonction `retire()` qui prend en paramètre un coffre et le nom d'un item. Si le coffre contient l'item, la quantité de cet item est décrémentée dans le coffre et la fonction renvoie `True`, sinon la quantité de cet item n'est pas décrémentée dans le coffre et la fonction renvoie `False`.\n",
    "\n",
    "**Attention:** Vous devez utiliser la fonction `est_present()`"
   ]
  },
  {
   "cell_type": "code",
   "execution_count": 85,
   "metadata": {},
   "outputs": [
    {
     "name": "stdout",
     "output_type": "stream",
     "text": [
      "3\n",
      "2\n"
     ]
    }
   ],
   "source": [
    "# ------------  TEST/EXEMPLE ---------- #\n",
    "print( coffre[\"aiguille\"])\n",
    "retire(coffre, \"aiguille\")\n",
    "print( coffre[\"aiguille\"])"
   ]
  },
  {
   "cell_type": "markdown",
   "metadata": {},
   "source": [
    "### Retirer un item du coffre\n",
    "\n",
    "Définissez une fonction `retire_plusieurs()` qui prend en paramètre un coffre et un tableau d'item a retirer du coffre.\n",
    "- Si tous les items du tableau sont présents dans le coffre la quantié de chacun est décrémentée de 1 et la fonction retourne `True`. Si il manque au moins 1 item du tableau dans le coffre la fonction ne modifie pas le contenu du coffre et renvoie `False`.\n",
    "\n",
    "**Attention:** Vous devez utiliser les fonctions `sont_presents()` et `retire()`"
   ]
  },
  {
   "cell_type": "code",
   "execution_count": 87,
   "metadata": {},
   "outputs": [
    {
     "name": "stdout",
     "output_type": "stream",
     "text": [
      "2\n",
      "1\n",
      "1\n",
      "0\n"
     ]
    }
   ],
   "source": [
    "# ------------  TEST/EXEMPLE ---------- #\n",
    "print( coffre[\"aiguille\"])\n",
    "print( coffre[\"bois\"])\n",
    "retire_plusieurs(coffre, [\"aiguille\",\"bois\"])\n",
    "print( coffre[\"aiguille\"])\n",
    "print( coffre[\"bois\"])"
   ]
  },
  {
   "cell_type": "markdown",
   "metadata": {},
   "source": [
    "## Glanage\n",
    "\n",
    "A chaque tour de jeu, le joueur reçoit 5 items qu'il a glané (trouvé et ramassé) durant le tour précédent.  Les items trouvés suivent la distribution des ressources du monde du jeu et sont décrites dans le tableau `ressources` définit supra.\n",
    "\n",
    "### Tirage des items glanés\n",
    "\n",
    "Définissez une fonction `glaner()` qui prend en paramètre le tableau de ressources et retourne un tableau des objets glanés. Pour faire cela, vous tirerez 5 fois un entier `i` compris entre 0 et la taille du tableau de ressources et renverrez dans le tableau les noms des 5 items trouvés aux positions `i`."
   ]
  },
  {
   "cell_type": "code",
   "execution_count": 89,
   "metadata": {},
   "outputs": [
    {
     "data": {
      "text/plain": [
       "['fer', 'graine_ble', 'corde', 'bois', 'osier']"
      ]
     },
     "execution_count": 89,
     "metadata": {},
     "output_type": "execute_result"
    }
   ],
   "source": [
    "# ------------  TEST/EXEMPLE ---------- #\n",
    "# Attention: fonction aleatoire, le     #\n",
    "# resultat peut être différent          #\n",
    "glaner(ressources)"
   ]
  },
  {
   "cell_type": "markdown",
   "metadata": {},
   "source": [
    "### Tirage des items glanés - suite\n",
    "\n",
    "Modifiez la fonction pour que le nombre d'items glanés soit un paramètre de la fonction"
   ]
  },
  {
   "cell_type": "code",
   "execution_count": 91,
   "metadata": {},
   "outputs": [
    {
     "name": "stdout",
     "output_type": "stream",
     "text": [
      "True\n",
      "True\n"
     ]
    }
   ],
   "source": [
    "# ------------  TEST/EXEMPLE ---------- #\n",
    "print( len(glaner(ressources,   2)) ==   2 )\n",
    "print( len(glaner(ressources, 500)) == 500 )"
   ]
  },
  {
   "cell_type": "markdown",
   "metadata": {},
   "source": [
    "## Craft\n",
    "\n",
    "Les règles de *craft* définissent les objets nécessaires pour en fabriquer d'autres. Ces règles sont détaillées dans le fichier `data/regles_craft`. Le format de ce fichier est le suivant:\n",
    "- la première colonne donne le type/nom de l'objet à fabriquer\n",
    "- les colonnes suivantes donnent les noms/types des items nécessaires à la fabrication\n",
    "\n",
    "Par exemple, d'après le fichier:\n",
    "- pour fabriquer 1 item *panier* il faut 1 item *osier*\n",
    "- pour fabriquer 1 items *ble* il faut 1 item *graine_ble* et 1 item *beche*\n",
    "\n",
    "### Initialisation du dictionnaire de règles de craft\n",
    "\n",
    "Afin de stocker les règles de craft nous allons utiliser un dictionnaire ou:\n",
    "- les clefs sont les objets à fabriquer\n",
    "- les valeurs sont un tableau contenant la liste des items nécessaires à sa fabrication\n",
    "\n",
    "Définissez une fonction `import_regles_craft()` qui lit les données du fichier et retourne le dictionnaire des règles de craft. Le dictionnaire retourné par la fonction sera stockée dans une variable `règles_craft`.\n",
    "\n",
    "**Remarque:** La fontion `import_regles_craft()` utilise la fonction `decoupe_tab(li)`. Elle gère l'ouverture, la lecture et la fermeture du fichier de données. Le chemin vers le fichier est passé en paramètre."
   ]
  },
  {
   "cell_type": "code",
   "execution_count": 93,
   "metadata": {},
   "outputs": [
    {
     "name": "stdout",
     "output_type": "stream",
     "text": [
      "True\n",
      "True\n"
     ]
    }
   ],
   "source": [
    "# ------------  TEST/EXEMPLE ---------- #\n",
    "regles_craft = import_regles_craft(\"data/regles_craft\")\n",
    "print(regles_craft[\"pain\"] == [\"ble\", \"bois\"])\n",
    "print(regles_craft[\"hutte\"] == [\"osier\", \"bois\", \"clou\", \"marteau\"] )"
   ]
  },
  {
   "cell_type": "markdown",
   "metadata": {},
   "source": [
    "### Tester si on peut crafter un item\n",
    "\n",
    "Avant de crafter un item nous aurons besoin de comparer le stock d'item dans le coffre à la règle de craft pour s'assurer que l'on dispose de tous les items nécessaires à la fabrication.\n",
    "\n",
    "Définissez une fonction `craft_possible()` qui prend en paramètre un coffre, un dictionnaire de règles de craft et le nom d'un item à crafter et retourne le booléen `True` si les items nécessaires au craft sont disponibles dans le coffre et `False` sinon.\n",
    "\n",
    "**Attention:** Vous devez utiliser la fonction `sont_presents()`"
   ]
  },
  {
   "cell_type": "code",
   "execution_count": 95,
   "metadata": {},
   "outputs": [
    {
     "name": "stdout",
     "output_type": "stream",
     "text": [
      "True\n",
      "False\n"
     ]
    }
   ],
   "source": [
    "# ------------  TEST/EXEMPLE ---------- #\n",
    "coffre = init_coffre(\"data/ressources\")\n",
    "ajoute_plusieurs(coffre, [\"fer\",\"bois\"])\n",
    "print(craft_possible(coffre, regles_craft, \"beche\"))\n",
    "print(craft_possible(coffre, regles_craft, \"pain\"))"
   ]
  },
  {
   "cell_type": "markdown",
   "metadata": {},
   "source": [
    "### Crafter\n",
    "\n",
    "Définissez une fonction `craft()` qui prend en paramètre un coffre, les règles de craft et le nom d'un item et si le craft de l'item indiqué est possible, décrémente le coffre des items utilisés pour la fabrication et incrémente le coffre de l'item crafté. La fonction renvoie `True` si le craft a eu lieu et `False` sinon."
   ]
  },
  {
   "cell_type": "code",
   "execution_count": 97,
   "metadata": {},
   "outputs": [
    {
     "name": "stdout",
     "output_type": "stream",
     "text": [
      "1\n",
      "1\n",
      "0\n",
      "True\n",
      "0\n",
      "0\n",
      "0\n"
     ]
    }
   ],
   "source": [
    "# ------------  TEST/EXEMPLE ---------- #\n",
    "coffre = init_coffre(\"data/ressources\")\n",
    "ajoute_plusieurs(coffre, [\"fer\",\"bois\"])\n",
    "print(coffre[\"fer\"])\n",
    "print(coffre[\"bois\"])\n",
    "print(coffre[\"beche\"])\n",
    "print(craft(coffre,regles_craft,\"beche\"))\n",
    "print(coffre[\"fer\"])\n",
    "print(coffre[\"bois\"])\n",
    "print(coffre[\"beche\"])"
   ]
  },
  {
   "cell_type": "markdown",
   "metadata": {},
   "source": [
    "### Manger\n",
    "\n",
    "Les items mangeables sont les suivants: `\"pain\"`, `\"tomate\"` ou `\"ble\"`. Ils rapportent respectivement 10, 5 et 1 point de vie.\n",
    "\n",
    "Définissez une fonction `manger()` qui prend en paramètre un coffre, un nom d'item et un niveau de point de vie. Si le nom de l'item est une des 3 items mangeable et que l'item est présent dans le coffre, alors la fonction retourne le nombre de points de vie augmenté du gain défini supra et décrémente le coffre de l'item consommé. Si l'item n'est pas mangeable ou si il n'est pas disponible dans le coffre, la fonction affiche un message d'erreur et retourne la valeur des points de vie inchangée.\n",
    "\n",
    "**Attention:** Vous devez utiliser les fonctions `retire()`et `est_present()`"
   ]
  },
  {
   "cell_type": "code",
   "execution_count": 99,
   "metadata": {},
   "outputs": [
    {
     "name": "stdout",
     "output_type": "stream",
     "text": [
      "1010\n",
      "Erreur : l'item fer n'est pas comestible !\n",
      "1000\n",
      "Erreur : l'item tomate n'est pas présent dans votre coffre !\n",
      "1000\n"
     ]
    }
   ],
   "source": [
    "# ------------  TEST/EXEMPLE ---------- #\n",
    "coffre = init_coffre(\"data/ressources\")\n",
    "ajoute_plusieurs(coffre, [\"fer\",\"pain\"])\n",
    "PdV = 1000\n",
    "print( manger(coffre, \"pain\", PdV) )\n",
    "print( manger(coffre, \"fer\", PdV) )\n",
    "print( manger(coffre, \"tomate\", PdV) )"
   ]
  },
  {
   "cell_type": "markdown",
   "metadata": {},
   "source": [
    "### Point de vie\n",
    "\n",
    "A chaque tour les points de vie du joueur sont recalculés. Par défaut il sont décrémenté de 50. Cependant, si le coffre contient un vetement, un lit ou une hutte, alors ils décroissent moins:\n",
    "- la possession d'au moins un vetement diminue de 5 le décrément\n",
    "- la possession d'au moins un lit diminue de 7 le décrément\n",
    "- la possession d'au moins une hutte diminue de 15 le décrément\n",
    "Définissez une fonction `maj_PdV()` qui prend en paramètre un coffre et la valeur des point de vie avant décrément de tour et retourne la valeur des points de vie après le décrément en tenant compte du contenu du coffre.\n",
    "\n",
    "**Attention:** Vous devez utiliser la fonctiona `est_present()`"
   ]
  },
  {
   "cell_type": "code",
   "execution_count": 101,
   "metadata": {},
   "outputs": [
    {
     "name": "stdout",
     "output_type": "stream",
     "text": [
      "True\n",
      "True\n",
      "True\n",
      "True\n"
     ]
    }
   ],
   "source": [
    "# ------------  TEST/EXEMPLE ---------- #\n",
    "coffre = init_coffre(\"data/ressources\")\n",
    "print(maj_PdV(coffre, 100) == 50)\n",
    "ajoute( coffre, \"vetement\")\n",
    "print(maj_PdV(coffre, 100) == 55) # avec un vetement\n",
    "ajoute( coffre, \"lit\")\n",
    "print(maj_PdV(coffre, 100) == 62) # avec un vetement et un lit\n",
    "ajoute( coffre, \"hutte\")\n",
    "print(maj_PdV(coffre, 100) == 77) # avec un vetement, un lit et une hutte"
   ]
  },
  {
   "cell_type": "markdown",
   "metadata": {},
   "source": [
    "## Menu et tours de jeu\n",
    "### Test d'appartenance à une liste\n",
    "\n",
    "Définissez une fonction `est_dans()` qui prend en paramètre une chaine de caractère et un tableau de chaines de caractères et renvoie `True` si la chaine est présente dans le tableau et `False` sinon."
   ]
  },
  {
   "cell_type": "code",
   "execution_count": 103,
   "metadata": {},
   "outputs": [
    {
     "name": "stdout",
     "output_type": "stream",
     "text": [
      "False\n",
      "True\n"
     ]
    }
   ],
   "source": [
    "# ------------  TEST/EXEMPLE ---------- #\n",
    "print(est_dans( \"Hello\", [\"Bonjour\", \"a\", \"tous\"] ))\n",
    "print(est_dans( \"Bonjour\", [\"Bonjour\", \"a\", \"tous\"] ))"
   ]
  },
  {
   "cell_type": "markdown",
   "metadata": {},
   "source": [
    "### Saisie controlée\n",
    "\n",
    "Définissez une fonction `saisie_controlee()` qui prend en paramètre un message d'invite et une liste de valeurs admissibles à la saisie. La fonction répète la demande de la saisie au clavier tant que l'utilisateur n'a pas saisie une valeur présente dans la liste des valeurs admissibles et retourne la première valeur admissible saisie par l'utilisateur.\n",
    "\n",
    "**Attention:** Vous devez utiliser la fonctiona `est_dans()`"
   ]
  },
  {
   "cell_type": "code",
   "execution_count": 105,
   "metadata": {},
   "outputs": [
    {
     "name": "stdout",
     "output_type": "stream",
     "text": [
      "Tapez [y,n]\n",
      "toto\n",
      "Saisie non reconnue\n",
      "Tapez [y,n]\n",
      "y\n"
     ]
    },
    {
     "data": {
      "text/plain": [
       "'y'"
      ]
     },
     "execution_count": 105,
     "metadata": {},
     "output_type": "execute_result"
    }
   ],
   "source": [
    "# ------------  TEST/EXEMPLE ---------- #\n",
    "saisie_controlee( \"Tapez [y,n]\", [\"y\",\"n\"])"
   ]
  },
  {
   "cell_type": "markdown",
   "metadata": {},
   "source": [
    "### Choix d'un item\n",
    "\n",
    "Définissez une fonction de saisie controlée `choix_item()` qui permet de choisir le nom d'un item d'un coffre (ie une clef parmi les clefs d'un dictionnaire). La fonction prend en paramètre un coffre et retourne le nom d'un item du coffre.\n",
    "\n",
    "**Attention:** Vous devez utiliser les fonctions `saisie_controlee()` et `liste_items(coffre )`"
   ]
  },
  {
   "cell_type": "code",
   "execution_count": 107,
   "metadata": {},
   "outputs": [
    {
     "name": "stdout",
     "output_type": "stream",
     "text": [
      "Saisissez le nom d'un item\n",
      "carotte\n",
      "Saisie non reconnue\n",
      "Saisissez le nom d'un item\n",
      "tomate\n"
     ]
    },
    {
     "data": {
      "text/plain": [
       "'tomate'"
      ]
     },
     "execution_count": 107,
     "metadata": {},
     "output_type": "execute_result"
    }
   ],
   "source": [
    "# ------------  TEST/EXEMPLE ---------- #\n",
    "choix_item(coffre)"
   ]
  },
  {
   "cell_type": "markdown",
   "metadata": {},
   "source": [
    "## Définition du menu de tour\n",
    "\n",
    "Définissez la focntion `partie()` permettant de jouer..."
   ]
  },
  {
   "cell_type": "code",
   "execution_count": 119,
   "metadata": {},
   "outputs": [
    {
     "name": "stdout",
     "output_type": "stream",
     "text": [
      "Craft and Survive\n",
      "---------------------\n",
      "Votre coffre :\n",
      "       aiguille |     0\n",
      "          beche |     0\n",
      "            ble |     0\n",
      "           bois |     0\n",
      "           clou |     0\n",
      "          corde |     0\n",
      "          coton |     0\n",
      "            fer |     0\n",
      "     graine_ble |     0\n",
      "   graine_coton |     1\n",
      "  graine_tomate |     0\n",
      "          hutte |     0\n",
      "            lit |     0\n",
      "        marteau |     0\n",
      "metier_a_tisser |     0\n",
      "          osier |     2\n",
      "         paille |     1\n",
      "           pain |     0\n",
      "         panier |     0\n",
      "          tissu |     0\n",
      "         tomate |     1\n",
      "       vetement |     0\n",
      "---------------------\n",
      "Vos PdV : 1000\n",
      "Souhaitez vous crafter?\n",
      "non\n",
      "Souhaitez vous manger?\n",
      "non\n",
      "Souhaitez vous continuer?\n",
      "oui\n",
      "---------------------\n",
      "Votre coffre :\n",
      "       aiguille |     0\n",
      "          beche |     0\n",
      "            ble |     0\n",
      "           bois |     0\n",
      "           clou |     0\n",
      "          corde |     0\n",
      "          coton |     0\n",
      "            fer |     0\n",
      "     graine_ble |     1\n",
      "   graine_coton |     2\n",
      "  graine_tomate |     2\n",
      "          hutte |     0\n",
      "            lit |     0\n",
      "        marteau |     0\n",
      "metier_a_tisser |     0\n",
      "          osier |     2\n",
      "         paille |     2\n",
      "           pain |     0\n",
      "         panier |     0\n",
      "          tissu |     0\n",
      "         tomate |     1\n",
      "       vetement |     0\n",
      "---------------------\n",
      "Vos PdV : 1000\n",
      "Souhaitez vous crafter?\n",
      "oui\n",
      "la liste des items est:\n",
      "['aiguille', 'beche', 'ble', 'bois', 'clou', 'corde', 'coton', 'fer', 'graine_ble', 'graine_coton', 'graine_tomate', 'hutte', 'lit', 'marteau', 'metier_a_tisser', 'osier', 'paille', 'pain', 'panier', 'tissu', 'tomate', 'vetement']\n",
      "Que souhaitez vous crafter?\n",
      "panier\n",
      "Souhaitez vous manger?\n",
      "oui\n",
      "Que souhaitez vous manger? (ble, pain, tomate)\n",
      "ble\n",
      "Erreur : l'item ble n'est pas présent dans votre coffre !\n",
      "Souhaitez vous continuer?\n",
      "non\n"
     ]
    }
   ],
   "source": [
    "# ------------  TEST/EXEMPLE ---------- #\n",
    "partie()"
   ]
  },
  {
   "cell_type": "markdown",
   "metadata": {},
   "source": [
    "## Pistes pour aller plus loin\n",
    "\n",
    "- afficher les règles de craft\n",
    "- définir des règles de gain de points de vie quand on mange pain ou tomate\n",
    "- Pour rendre le jeu plus intéressant on pourra chercher à tirer aléatoirement le nombre d'items glanés à chaque tour. Par exemple, on pourra se donner comme règle que le nombre d'items glaner varie de façon uniforme entre 0 et 5. On pourra aussi chercher à utiliser une distribution non uniforme sur le nombre d'items trouvés à chaque tour\n",
    "- Les règles données dans le fichier data/regles_craft_plus sont plus évoluées que les précédentes. Celles-ci définissent les quantités et type d'objets nécessaires pour en fabriquer d'autres. Le format de ce fichier est le suivant:\n",
    "\n",
    "    la première colonne donne le type/nom de l'objet à fabriquer\n",
    "    la deuxième colonne donne la quantité produite lors de la fabrication\n",
    "    les colonnes suivantes donnent les noms/types et quantités nécessaire à la fabrication\n",
    "\n",
    "Par exemple, d'après le fichier:\n",
    "\n",
    "    pour fabriquer 1 item panier il faut 10 items osier\n",
    "    pour fabriquer 10 items ble il faut 1000 items graine_ble et 1 item beche\n",
    "\n",
    "Afin d'utiliser ces règles de craft vous devrez:\n",
    "\n",
    "    modifier la structure du dictionnaire de craft\n",
    "    modifier la fonction de lecture/initialisation des règles\n",
    "    modifier la fonction qui teste si il y a suffisament d'éléments pour en crafter un autre\n",
    "    modifier la fonction de craft qui supprime les éléments utilisé dans la fabrication et ajoute les éléments craftés."
   ]
  }
 ],
 "metadata": {
  "kernelspec": {
   "display_name": "Python 3",
   "language": "python",
   "name": "python3"
  },
  "language_info": {
   "codemirror_mode": {
    "name": "ipython",
    "version": 3
   },
   "file_extension": ".py",
   "mimetype": "text/x-python",
   "name": "python",
   "nbconvert_exporter": "python",
   "pygments_lexer": "ipython3",
   "version": "3.6.4"
  }
 },
 "nbformat": 4,
 "nbformat_minor": 2
}
