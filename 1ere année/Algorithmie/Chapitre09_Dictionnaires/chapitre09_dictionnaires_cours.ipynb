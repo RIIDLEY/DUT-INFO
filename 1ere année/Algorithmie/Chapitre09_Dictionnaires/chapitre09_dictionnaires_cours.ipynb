{
 "cells": [
  {
   "cell_type": "markdown",
   "metadata": {},
   "source": [
    "# <center> Chapitre 9 : Dictionnaires </center>"
   ]
  },
  {
   "cell_type": "markdown",
   "metadata": {},
   "source": [
    "Les dictionnaires sont des structures de données qui, comme les tableaux, permettent de stocker des collections de valeurs. Ils sont utiles dans de nombreuses situations où les tableaux n'offrent plus assez de souplesse ou d'expressivité pour structurer un jeu de données. La particularité principale qui distingue les dictionnaires des tableaux, est que les données sont stockées sous forme de couples **(clef:valeur)**.\n",
    "\n",
    "Dans un tableau\n",
    "<img src=\"x-1.png\" alt=\"Drawing\" style=\"height: 60px;\"/>\n",
    "on accède aux éléments par leur indice "
   ]
  },
  {
   "cell_type": "code",
   "execution_count": null,
   "metadata": {
    "scrolled": true
   },
   "outputs": [],
   "source": [
    "tab_astro = [\"Terre\", \"Lune\", \"Soleil\"]\n",
    "print( tab_astro[1] )"
   ]
  },
  {
   "cell_type": "markdown",
   "metadata": {},
   "source": [
    "Dans un dictionnaire **il n'y a pas de notion d'ordre et donc pas de position**. Pour accéder à une valeur, on utilise  un autre moyen : une clef unique associée à chaque valeur lors de la définition du dictionnaire.\n",
    "<img src=\"x-2.png\" alt=\"Drawing\" style=\"height: 60px;\"/>\n",
    "Ainsi `print(dic_astro['Satellite'] )` donnera à l'affichage : \"Lune\"\n",
    "\n",
    "Les dictionnaires sont aussi appelés tableaux associatifs dans le sens où ils associent des valeurs à des clefs (et non à des positions). Dans le dictionnaire `dico_astro` précédent, trois couples `clef:valeur` sont définis: `'Planete':'Terre'`, ``'Satellite':'Lune'`` et``'Etoile':'Soleil'``.\n",
    "\n",
    "On accède donc différemment aux valeurs stockées dans un tableau et dans un dictionnaire. La façon dont on veut accéder aux valeurs stockées va conditionner le choix entre une structure de données ou l'autre. \n",
    "\n",
    "Pour certains jeux de données, l'utilisation d'un tableau est naturelle car il y a une correspondance simple entre la valeur et sa position. Pour d'autres jeux de données, cette correspondance n'est pas évidente. Dans de nombreux cas, il sera avantageux d'utiliser des dictionnaires."
   ]
  },
  {
   "cell_type": "markdown",
   "metadata": {},
   "source": [
    "## Définition d'un dictionnaire"
   ]
  },
  {
   "cell_type": "markdown",
   "metadata": {},
   "source": [
    "Il existe deux façons de définir un dictionnaire.\n",
    "La première consiste à donner littéralement l'ensemble des couples `clef-valeur` lors de sa déclaration. La collection de couples  `clef-valeur` est donnée entre accolades, et chaque couple est séparé par une virgule. Un couple `clef-valeur` est spécifié littéralement en donnant la clef suivie de la valeur qui lui est associée, les deux étant séparés par deux points, soit\n",
    "\n",
    "``dico={clef_1:valeur_1 , clef_2:valeur_2 , ...}``"
   ]
  },
  {
   "cell_type": "code",
   "execution_count": null,
   "metadata": {},
   "outputs": [],
   "source": [
    "dico_astr={'Planete':'Terre', 'Satellite':'Lune', 'Etoile':'Soleil'}"
   ]
  },
  {
   "cell_type": "markdown",
   "metadata": {},
   "source": [
    "La deuxième façon de définir un dictionnaire, consiste à déclarer un dictionnaire vide, puis à le remplir. La déclaration d'un dictionnaire vide `{}`. Par exemple, \n",
    "\n",
    "``dico_astro2 = {}``\n",
    "\n",
    "L'ajout de nouveaux couples ``clef:valeur``  au dictionnaire ``dico_astro2`` ainsi initialisé se fait au moyen de la syntaxe suivante:``dico_astro2[clef] = valeur``\n"
   ]
  },
  {
   "cell_type": "code",
   "execution_count": 1,
   "metadata": {},
   "outputs": [
    {
     "name": "stdout",
     "output_type": "stream",
     "text": [
      "{'Planete': 'Terre', 'Satellite': 'Lune', 'Etoile': 'Soleil'}\n"
     ]
    }
   ],
   "source": [
    "dico_astro2 = {}\n",
    "dico_astro2['Planete']= 'Terre'\n",
    "dico_astro2['Satellite']= 'Lune'\n",
    "dico_astro2['Etoile']= 'Soleil'\n",
    "print( str( dico_astro2 ) )"
   ]
  },
  {
   "cell_type": "markdown",
   "metadata": {},
   "source": [
    "## Manipulation d'un dictionnaire"
   ]
  },
  {
   "cell_type": "markdown",
   "metadata": {},
   "source": [
    "Nous avons vu dans l'introduction que les clefs des dictionnaires jouent en quelque sorte le rôle des indices dans les tableaux :\n",
    "\n",
    "- les clefs permettent d'accéder à une valeur stockée dans le dictionnaire,\n",
    "- les clefs permettent de modifier une valeur stockée dans le dictionnaire.\n",
    "\n",
    "Pour illustrer ces cas nous utiliserons les tableaux et le dictionnaires décrits précédemment dans l'introduction et dont la syntaxe de définition littérale est la suivante: \n"
   ]
  },
  {
   "cell_type": "code",
   "execution_count": 1,
   "metadata": {},
   "outputs": [],
   "source": [
    "tab_astr=['Terre', 'Lune', 'Soleil']\n",
    "dico_astr={'Planete':'Terre', 'Satellite':'Lune', 'Etoile':'Soleil'}"
   ]
  },
  {
   "cell_type": "markdown",
   "metadata": {},
   "source": [
    "##  Accéder à une valeur"
   ]
  },
  {
   "cell_type": "markdown",
   "metadata": {},
   "source": [
    "- Dans un tableau la valeur correspondant à l'indice de position i est accessible en faisant suivre le nom du tableau de l'indice donné entre crochets : \n",
    "\n",
    "`print(str(tab_astro[1]))`\n",
    "\n",
    "- Dans un dictionnaire c'est la même chose, à la différence que l'indice de position est remplacé par la clef : \n",
    "\n",
    "`print(str( dico_astro['Satellite']))`\n",
    "\n",
    "**Lorsqu'on appelle une valeur d'un tableau avec un indice qui dépasse sa taille, l'interpréteur affiche un message d'erreur. Il en est de même si on utilise une clef non contenue dans le dictionnaire lors d'un appel de valeur.**\n",
    "\n",
    "L'instruction ci-dessous produit ainsi un message signalant une erreur de syntaxe."
   ]
  },
  {
   "cell_type": "code",
   "execution_count": 3,
   "metadata": {},
   "outputs": [
    {
     "ename": "NameError",
     "evalue": "name 'dico_astro' is not defined",
     "output_type": "error",
     "traceback": [
      "\u001b[0;31m---------------------------------------------------------------------------\u001b[0m",
      "\u001b[0;31mNameError\u001b[0m                                 Traceback (most recent call last)",
      "\u001b[0;32m<ipython-input-3-5568f37b6092>\u001b[0m in \u001b[0;36m<module>\u001b[0;34m()\u001b[0m\n\u001b[0;32m----> 1\u001b[0;31m \u001b[0mprint\u001b[0m\u001b[0;34m(\u001b[0m\u001b[0mstr\u001b[0m\u001b[0;34m(\u001b[0m\u001b[0mdico_astro\u001b[0m\u001b[0;34m[\u001b[0m\u001b[0;34m'Galaxie'\u001b[0m\u001b[0;34m]\u001b[0m\u001b[0;34m)\u001b[0m\u001b[0;34m)\u001b[0m\u001b[0;34m\u001b[0m\u001b[0m\n\u001b[0m",
      "\u001b[0;31mNameError\u001b[0m: name 'dico_astro' is not defined"
     ]
    }
   ],
   "source": [
    "print(str(dico_astro['Galaxie']))"
   ]
  },
  {
   "cell_type": "markdown",
   "metadata": {},
   "source": [
    "## Modifier une valeur"
   ]
  },
  {
   "cell_type": "markdown",
   "metadata": {},
   "source": [
    "Il suffit d'affecter une nouvelle valeur à une clef"
   ]
  },
  {
   "cell_type": "code",
   "execution_count": null,
   "metadata": {
    "scrolled": true
   },
   "outputs": [],
   "source": [
    "dico_astr={'Planete':'Terre', 'Satellite':'Lune', 'Etoile':'Soleil'}\n",
    "print(str(dico_astr))\n",
    "dico_astr['Planete']='Mars'\n",
    "print(str(dico_astr))"
   ]
  },
  {
   "cell_type": "markdown",
   "metadata": {},
   "source": [
    "## Ajouter une valeur"
   ]
  },
  {
   "cell_type": "markdown",
   "metadata": {},
   "source": [
    "Pour ajouter une valeur dans un dictionnaire, il suffit d'affecter une valeur à une clef non encore utilisée."
   ]
  },
  {
   "cell_type": "code",
   "execution_count": null,
   "metadata": {
    "scrolled": true
   },
   "outputs": [],
   "source": [
    "dico_astr={'Planete':'Terre', 'Satellite':'Lune', 'Etoile':'Soleil'}\n",
    "print(str(dico_astr))\n",
    "dico_astr['Galaxie'] = 'Voie Lactee'\n",
    "print(str(dico_astr))"
   ]
  },
  {
   "cell_type": "markdown",
   "metadata": {},
   "source": [
    "Il faut remarquer ici que la syntaxe utilisée pour ajouter une valeur à un dictionnaire est la même que celle employée pour modifier la valeur associée à une clef existante. Pour ajouter une valeur (ou plus exactement ajouter un couple `clef:valeur`, il faut impérativement que la clef ne soit pas encore utilisée dans le dictionnaire. En d'autres termes :\n",
    "- Si on utilise une clef existante, la syntaxe conduit à changer la valeur associée à la clef, et le dictionnaire ne change pas de taille,\n",
    "- Si on utilise une nouvelle clef, la syntaxe ajoute un couple clef:valeur au dictionnaire et augmente sa taille."
   ]
  },
  {
   "cell_type": "markdown",
   "metadata": {},
   "source": [
    "# Quelques fonctions liées à l'utilisation de dictionnaires   "
   ]
  },
  {
   "cell_type": "markdown",
   "metadata": {},
   "source": [
    "## Accéder à la liste des clefs et des valeurs"
   ]
  },
  {
   "cell_type": "markdown",
   "metadata": {},
   "source": [
    "Dans certains cas, il peut être utile d'avoir accès à la liste des clefs d'un dictionnaire. Cela est réalisé par \n",
    "* la méthode ``keys()`` qui renvoie un tableau dont les éléments sont les clefs du dictionnaire auquel la méthode s'applique : "
   ]
  },
  {
   "cell_type": "code",
   "execution_count": 9,
   "metadata": {},
   "outputs": [
    {
     "name": "stdout",
     "output_type": "stream",
     "text": [
      "['Planete', 'Satellite', 'Etoile']\n"
     ]
    }
   ],
   "source": [
    "dico_astr={'Planete':'Terre', 'Satellite':'Lune', 'Etoile':'Soleil'}\n",
    "print(str(list(dico_astr.keys())))"
   ]
  },
  {
   "cell_type": "markdown",
   "metadata": {},
   "source": [
    "**NB** : On utilise la fonction `list()`pour extraire les éléments et en faire un tableau exploitable. \n",
    "* ou la méthode `values()` qui renvoie un tableau dont les éléments sont les valeurs du dictionnaire à laquelle la méthode s'applique :"
   ]
  },
  {
   "cell_type": "code",
   "execution_count": 10,
   "metadata": {},
   "outputs": [
    {
     "name": "stdout",
     "output_type": "stream",
     "text": [
      "['Terre', 'Lune', 'Soleil']\n"
     ]
    }
   ],
   "source": [
    "dico_astr={'Planete':'Terre', 'Satellite':'Lune', 'Etoile':'Soleil'}\n",
    "print(str(list(dico_astr.values())))"
   ]
  },
  {
   "cell_type": "markdown",
   "metadata": {},
   "source": [
    "- Sur ce thème : **Exercice 1, TD 9**"
   ]
  },
  {
   "cell_type": "markdown",
   "metadata": {},
   "source": [
    "## Supprimer une entrée (clef-valeur)"
   ]
  },
  {
   "cell_type": "markdown",
   "metadata": {},
   "source": [
    "L'instruction `del(mondico[cl])` permet de supprimer du dictionnaire `mondico`la clef `cl` et la valeur associée."
   ]
  },
  {
   "cell_type": "code",
   "execution_count": null,
   "metadata": {},
   "outputs": [],
   "source": [
    "dico_astr={'Planete':'Terre', 'Satellite':'Lune', 'Etoile':'Soleil'}\n",
    "del(dico_astr['Etoile'])\n",
    "print(str(dico_astr))"
   ]
  },
  {
   "cell_type": "markdown",
   "metadata": {},
   "source": [
    "# Les clefs des dictionnaires"
   ]
  },
  {
   "cell_type": "markdown",
   "metadata": {},
   "source": [
    "Un même dictionnaire peut admettre des clefs de différents types"
   ]
  },
  {
   "cell_type": "code",
   "execution_count": null,
   "metadata": {},
   "outputs": [],
   "source": [
    "semaine={}\n",
    "semaine[1]='Lundi'\n",
    "semaine['couleur']='rouge'\n",
    "print(str(semaine))"
   ]
  },
  {
   "cell_type": "markdown",
   "metadata": {},
   "source": [
    "# Les valeurs des dictionnaires"
   ]
  },
  {
   "cell_type": "markdown",
   "metadata": {},
   "source": [
    "Une valeur d'un dictionnaire peut être un nombre entier ou flottant, une chaîne de caractères, un booléen mais aussi des collections contenant d'autres valeurs comme un tableau ou un autre dictionnaire. Par exemple, le dictionnaire suivant contient des données hétérogènes:\n",
    "\n",
    "<img src=\"x-3.png\" alt=\"Drawing\" style=\"height: 150px;\"/>"
   ]
  },
  {
   "cell_type": "code",
   "execution_count": null,
   "metadata": {},
   "outputs": [],
   "source": [
    "terre= {}\n",
    "terre['Satellites']= 1\n",
    "terre['Rayon']= 6378.137\n",
    "terre['Tellurique']= True\n",
    "terre['Oceans']= ['Pacifique', 'Atlantique', 'Indien']\n",
    "terre['Superficie']= {'Pacifique':49.7, 'Atlantique':29.5,'Indien':20.4}\n",
    "print(str(terre))"
   ]
  },
  {
   "cell_type": "markdown",
   "metadata": {},
   "source": [
    "## Récapitulatif et comparaison Dictionnaire/Tableau"
   ]
  },
  {
   "cell_type": "markdown",
   "metadata": {},
   "source": [
    "<img src=\"x-4.png\" alt=\"Drawing\" style=\"height: 150px;\"/>"
   ]
  },
  {
   "cell_type": "markdown",
   "metadata": {},
   "source": [
    "- Sur ce thème : **Exercice 2, TD 9**"
   ]
  }
 ],
 "metadata": {
  "kernelspec": {
   "display_name": "Python 3",
   "language": "python",
   "name": "python3"
  },
  "language_info": {
   "codemirror_mode": {
    "name": "ipython",
    "version": 3
   },
   "file_extension": ".py",
   "mimetype": "text/x-python",
   "name": "python",
   "nbconvert_exporter": "python",
   "pygments_lexer": "ipython3",
   "version": "3.6.4"
  }
 },
 "nbformat": 4,
 "nbformat_minor": 2
}
