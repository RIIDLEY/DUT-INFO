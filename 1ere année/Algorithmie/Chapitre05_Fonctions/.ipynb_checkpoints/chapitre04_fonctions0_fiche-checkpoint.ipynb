{
 "cells": [
  {
   "cell_type": "markdown",
   "metadata": {},
   "source": [
    "# <center>Chapitre 4 : Fonctions (Première partie) </center>"
   ]
  },
  {
   "cell_type": "markdown",
   "metadata": {},
   "source": [
    "# Rappels"
   ]
  },
  {
   "cell_type": "markdown",
   "metadata": {},
   "source": [
    "* Une fonction est un algorithme spécifique effectuant une tâche précise (par exemple, calcul ou un affichage) et est destinée à être utilisée par un autre algorithme.\n",
    "*  L'algorithme appelle une fonction, son exécution est arrêté et le flux de contrôle est transmis à la fonction jusqu'à ce que cette dernière ait terminé sa tâche et \"rende la main\"."
   ]
  },
  {
   "cell_type": "markdown",
   "metadata": {},
   "source": [
    "<img src=\"img/appel_fonction.PNG\" alt=\"Appel d'une fonction\"  width=\"400px\"/>"
   ]
  },
  {
   "cell_type": "markdown",
   "metadata": {},
   "source": [
    "## Intérêts d'écrire des fonctions :"
   ]
  },
  {
   "cell_type": "markdown",
   "metadata": {},
   "source": [
    "* Réutilisation d'algorithmes spécifiques effectuant une tâche précise ;\n",
    "* Rendre un algorithme lisible et clair en le decoupant en fonctions avec des noms explicites."
   ]
  },
  {
   "cell_type": "markdown",
   "metadata": {},
   "source": [
    "## Définition d'une fonction sans paramètres et sans valeur de retour"
   ]
  },
  {
   "cell_type": "markdown",
   "metadata": {},
   "source": [
    "### Syntaxe : \n",
    "```python\n",
    "    def nom_fonction() :\n",
    "        # algorithme de la fonction\n",
    "```\n",
    "    * def : indique que nous souhaitons définir une fonction ;\n",
    "    * nom_fonction : est le nom de la fonction ; suit les mêmes règles que les noms de variables ;\n",
    "    * les parenthèses ouvrantes et fermantes sont obligatoires pour indiquer que nom_fonction est bien une fonction (on est dans le cas d'une fonction qui ne possède pas de paramètres)."
   ]
  },
  {
   "cell_type": "markdown",
   "metadata": {},
   "source": [
    "### Exemple"
   ]
  },
  {
   "cell_type": "code",
   "execution_count": null,
   "metadata": {},
   "outputs": [],
   "source": [
    "# Définition de la fonction hello()\n",
    "\n",
    "def hello() :\n",
    "    \"\"\"Affiche un message de bienvenue Bonjour le monde\"\"\"\n",
    "    print(\"Bonjour le monde !\")\n",
    "\n",
    "##########################################################\n",
    "##########################################################\n",
    "\n",
    "# Algorithme principal\n",
    "# \n",
    "for i in range(1,4):\n",
    "    hello()"
   ]
  },
  {
   "cell_type": "markdown",
   "metadata": {},
   "source": [
    "## Définition d'une fonction avec paramètres et sans valeur de retour"
   ]
  },
  {
   "cell_type": "markdown",
   "metadata": {},
   "source": [
    "### Syntaxe : \n",
    "```python\n",
    "    def nom_fonction(param_1, param_2, ..., param_n) :\n",
    "        # algorithme de la fonction\n",
    "```\n",
    "    * def : indique que nous souhaitons définir une fonction ;\n",
    "    * nom_fonction : est le nom de la fonction ; suit les mêmes règles que les noms de variables ;\n",
    "    * une parenthèse ouvrante, suivie des paramètres en entrées de la fonction, on parle de paramètres formels. L'ordre des paramètres est important.\n",
    "    * les parenthèses ouvrantes et fermantes sont obligatoires pour indiquer que nom_fonction est bien une fonction."
   ]
  },
  {
   "cell_type": "markdown",
   "metadata": {},
   "source": [
    "* Exemple d'utilisation de la fonction affiche_age"
   ]
  },
  {
   "cell_type": "code",
   "execution_count": null,
   "metadata": {},
   "outputs": [],
   "source": [
    "# Définition de la fonction affiche_age()\n",
    "def affiche_age(est_femme, nom, age) : \n",
    "    \"\"\" Affiche un message personnalisé suivant le sexe, le nom et l'âge d'une personne \n",
    "        est_femme (entrée de type bool)\n",
    "        nom (entrée de type str)\n",
    "        age (entrée de type int)\n",
    "    \"\"\"\n",
    "    prefix=\"\"\n",
    "    if est_femme :\n",
    "        prefix=\"Mme \"\n",
    "    else :\n",
    "        prefix=\"Mr \"\n",
    "        \n",
    "    print(prefix,\" \", nom, \" a \", age, \" ans.\\n\");\n",
    "##########################################################\n",
    "##########################################################\n",
    "\n",
    "# Algorithme principal\n",
    "# \n",
    "affiche_age(False,\"Martin\",23);\n",
    "affiche_age(True,\"Sophie\",32);"
   ]
  },
  {
   "cell_type": "markdown",
   "metadata": {},
   "source": [
    "### Portées de variables\n",
    "* La portée ou visibilité d'une variable est l'endroit dans le code où cette variable est accessible.\n",
    "* Une variable déclarée dans le corps d'une fonction n'est visible (ou accessible) qu'à l'intérieur de cette fonction. "
   ]
  },
  {
   "cell_type": "markdown",
   "metadata": {},
   "source": [
    "### Passage des paramètres par copie\n",
    "* Lors de l'appel d'une fonction, la transmission des paramètres se fait par copie de la valeur des paramètres effectifs (de l'algorithme appelant).\n",
    "* Toute modification de la valeur des paramètres dans le corps de la fonction n'entraine pas la modification des paramètres effectifs (de l'algorithme appelant)."
   ]
  },
  {
   "cell_type": "markdown",
   "metadata": {},
   "source": [
    "### Vocabulaire\n",
    "* fonction, paramètre effectif, paramètre formel, portée de variables, variable locale, transmission des paramètres par copie."
   ]
  }
 ],
 "metadata": {
  "kernelspec": {
   "display_name": "Python 3",
   "language": "python",
   "name": "python3"
  },
  "language_info": {
   "codemirror_mode": {
    "name": "ipython",
    "version": 3
   },
   "file_extension": ".py",
   "mimetype": "text/x-python",
   "name": "python",
   "nbconvert_exporter": "python",
   "pygments_lexer": "ipython3",
   "version": "3.6.5"
  }
 },
 "nbformat": 4,
 "nbformat_minor": 2
}
