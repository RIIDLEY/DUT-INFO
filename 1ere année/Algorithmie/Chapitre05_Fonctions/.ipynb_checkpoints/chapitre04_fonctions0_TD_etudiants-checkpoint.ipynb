{
 "cells": [
  {
   "cell_type": "markdown",
   "metadata": {
    "collapsed": true
   },
   "source": [
    "# <center>Chapitre 4 : Fonctions (Première partie) </center>\n",
    "# <center>TD corrigé</center>"
   ]
  },
  {
   "cell_type": "markdown",
   "metadata": {},
   "source": [
    "## Exercice 1 : Test de compréhension*"
   ]
  },
  {
   "cell_type": "markdown",
   "metadata": {},
   "source": [
    "* Quelle est la différence entre définition et appel d'une fonction ?"
   ]
  },
  {
   "cell_type": "markdown",
   "metadata": {},
   "source": [
    "* Qu'est-ce que l'en-tête d'une fonction ? le corps d'une fonction ?"
   ]
  },
  {
   "cell_type": "markdown",
   "metadata": {},
   "source": [
    "* Quelle est la différence entre paramètres et valeurs des paramètres ?"
   ]
  },
  {
   "cell_type": "markdown",
   "metadata": {},
   "source": [
    "* Qu'est-ce qu'un algorithme appelant ?"
   ]
  },
  {
   "cell_type": "markdown",
   "metadata": {},
   "source": [
    "* Les parenthèses sont-elles obligatoires dans la définition d'une fonction s'il n'y a pas de paramètres ? Sont-elles nécessaires dans un appel de fonction s'il n'y a pas de valeurs de paramètre ?"
   ]
  },
  {
   "cell_type": "markdown",
   "metadata": {},
   "source": [
    "* Combien de fois une fonction peut-elle être appelée au\n",
    "minimum ? Au maximum ? Donner deux exemples où une fonction est\n",
    "appelée 100 fois, un avec les mêmes valeurs de paramètre pour tous\n",
    "les appels, puis l'autre avec des différentes valeurs de paramètre\n",
    "à chaque appel."
   ]
  },
  {
   "cell_type": "markdown",
   "metadata": {},
   "source": [
    "\n",
    "### Considérons le code : "
   ]
  },
  {
   "cell_type": "code",
   "execution_count": null,
   "metadata": {},
   "outputs": [],
   "source": [
    "def afficheRes(nb) : # 1\n",
    "    print( \"Le résultat est \" , nb) # 2\n",
    "\n",
    "\n",
    "def somme2nb( a, b) : #3\n",
    "    print(\"Premier nombre = \" , a , \", deuxième nombre = \" , b) #4\n",
    "    afficheRes(a+b) #5\n",
    "   \n",
    "somme2nb(1,2); #6"
   ]
  },
  {
   "cell_type": "markdown",
   "metadata": {},
   "source": [
    "Donner, pour la fonction somme2nb, les numéros des lignes associées à l'en-tête, au corps de la fonction, à la définition et à l'appel de la fonction. Indiquer également l'algorithme appelant. Donner finalement ses paramètres et ses valeurs de paramètres lors de son appel. Répondre ensuite aux mêmes questions pour la fonction afficheRes."
   ]
  },
  {
   "cell_type": "markdown",
   "metadata": {},
   "source": [
    "## Exercice 2 : Nombre d'appels*"
   ]
  },
  {
   "cell_type": "markdown",
   "metadata": {},
   "source": [
    "\n",
    "### Considérons le code : "
   ]
  },
  {
   "cell_type": "code",
   "execution_count": null,
   "metadata": {},
   "outputs": [],
   "source": [
    "def f1() :\n",
    "    print (\"hello\")\n",
    "    print (\"hello\")\n",
    "\n",
    "\n",
    "# Algorithme principal\n",
    "print( \"hello\");"
   ]
  },
  {
   "cell_type": "markdown",
   "metadata": {},
   "source": [
    "* À l'exécution, combien de fois la fonction f1 est-elle\n",
    "appelée ? \n",
    "* Combien de fois est affiché hello ?"
   ]
  },
  {
   "cell_type": "markdown",
   "metadata": {},
   "source": [
    "\n",
    "### Considérons le code : "
   ]
  },
  {
   "cell_type": "code",
   "execution_count": null,
   "metadata": {},
   "outputs": [],
   "source": [
    "def f2() :\n",
    "    print (\"hello\")\n",
    "    print (\"hello\")\n",
    "    \n",
    "# Algorithme principal\n",
    "print(\"hello\")\n",
    "f2()\n",
    "f2()"
   ]
  },
  {
   "cell_type": "markdown",
   "metadata": {},
   "source": [
    "* À l'exécution, combien de fois la fonction f2 est-elle appelée ? \n",
    "* Combien de fois est affiché hello ?"
   ]
  },
  {
   "cell_type": "markdown",
   "metadata": {},
   "source": [
    "\n",
    "### Considérons le code : "
   ]
  },
  {
   "cell_type": "code",
   "execution_count": null,
   "metadata": {},
   "outputs": [],
   "source": [
    "def f3() :\n",
    "    print ( \"hello\")\n",
    "    print ( \"hello\")\n",
    "    \n",
    "def f4() :\n",
    "    f3()\n",
    "    print(\"hello\")\n",
    "    f3()\n",
    "\n",
    "\n",
    "# Algorithme principal\n",
    "print(\"hello\")\n",
    "f3()\n",
    "f4()"
   ]
  },
  {
   "cell_type": "markdown",
   "metadata": {},
   "source": [
    "* Combien de fois sont appelées f3 et f4 ?\n",
    "* Combien de fois est affiché hello ? "
   ]
  },
  {
   "cell_type": "markdown",
   "metadata": {},
   "source": [
    "\n",
    "### Considérons le code : "
   ]
  },
  {
   "cell_type": "code",
   "execution_count": null,
   "metadata": {},
   "outputs": [],
   "source": [
    "def f5() :\n",
    "    print(\"hello\")\n",
    "    print (\"hello\")\n",
    "\n",
    "def f6(n) :\n",
    "    i = 0\n",
    "    while i<n :\n",
    "        f5()\n",
    "        i=i+1\n",
    "        print(\"hello\")\n",
    "\n",
    "\n",
    "# Algorithme principal\n",
    "print(\"hello\")\n",
    "f5()\n",
    "f6(2)\n",
    "f6(4)"
   ]
  },
  {
   "cell_type": "markdown",
   "metadata": {},
   "source": [
    "* Combien de fois sont appelées f5 et f6 ?\n",
    "* Combien de fois est affiché hello ? "
   ]
  },
  {
   "cell_type": "markdown",
   "metadata": {},
   "source": [
    "## Exercice 3 : Valeur de paramètres*\n",
    "*  Qu'affiche le code :\n"
   ]
  },
  {
   "cell_type": "code",
   "execution_count": null,
   "metadata": {},
   "outputs": [],
   "source": [
    "def f(a) :\n",
    "    print( \"a = \", a )\n",
    "\n",
    "# Algorithme principal\n",
    "a = 3\n",
    "b = 5\n",
    "a = 18\n",
    "f(b)"
   ]
  },
  {
   "cell_type": "markdown",
   "metadata": {},
   "source": [
    "*  Qu'affiche le code :\n"
   ]
  },
  {
   "cell_type": "code",
   "execution_count": null,
   "metadata": {},
   "outputs": [],
   "source": [
    "def f(a, b) :\n",
    "    print( \"a = \" , a , \", b = \" , b)\n",
    "\n",
    "# Algorithme principal\n",
    "a = 3\n",
    "b = 4\n",
    "f(a,b)\n",
    "f(b,a)\n",
    "f(a,a)\n",
    "f(b+2,b-3)"
   ]
  },
  {
   "cell_type": "markdown",
   "metadata": {},
   "source": [
    "## Exercice 4 : Portée des variables\n",
    "*  Qu'affiche le code :"
   ]
  },
  {
   "cell_type": "code",
   "execution_count": null,
   "metadata": {},
   "outputs": [],
   "source": [
    "def f() :\n",
    "    a = 18\n",
    "    print (\"a = \" , a)\n",
    "\n",
    "# Algorithme principal\n",
    "a = 5\n",
    "f()\n",
    "print( \"a = \" , a )"
   ]
  },
  {
   "cell_type": "markdown",
   "metadata": {},
   "source": [
    "## Exercice 5 : Paramètres et variables locales*\n",
    "\n",
    "* Qu'affiche le code : "
   ]
  },
  {
   "cell_type": "code",
   "execution_count": null,
   "metadata": {},
   "outputs": [],
   "source": [
    "def f(a) :\n",
    "    a = 10\n",
    "    a +=1\n",
    "    print ( \"a = \" , a)\n",
    "\n",
    "# Algorithme principal\n",
    "f(3)\n",
    "f(6)"
   ]
  },
  {
   "cell_type": "markdown",
   "metadata": {},
   "source": [
    "## Exercice 6 : Comparer deux nombres (Révisions)\n",
    "\n",
    "Ecrire la fonction compare qui reçoit deux nombres entiers en paramètre a et b et affiche un message adapté selon que a est supérieur, inférieur ou égal à à b. "
   ]
  }
 ],
 "metadata": {
  "kernelspec": {
   "display_name": "Python 3",
   "language": "python",
   "name": "python3"
  },
  "language_info": {
   "codemirror_mode": {
    "name": "ipython",
    "version": 3
   },
   "file_extension": ".py",
   "mimetype": "text/x-python",
   "name": "python",
   "nbconvert_exporter": "python",
   "pygments_lexer": "ipython3",
   "version": "3.6.5"
  }
 },
 "nbformat": 4,
 "nbformat_minor": 2
}
