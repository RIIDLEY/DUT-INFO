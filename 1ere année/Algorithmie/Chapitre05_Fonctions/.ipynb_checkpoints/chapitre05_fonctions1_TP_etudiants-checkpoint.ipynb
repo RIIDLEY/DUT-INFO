{
 "cells": [
  {
   "cell_type": "markdown",
   "metadata": {
    "collapsed": true
   },
   "source": [
    "# <center>Chapitre 5 : Fonctions (Deuxième partie) - TP</center>"
   ]
  },
  {
   "cell_type": "markdown",
   "metadata": {},
   "source": [
    "## Exercice 1 : Définitions de fonctions et appels*"
   ]
  },
  {
   "cell_type": "markdown",
   "metadata": {},
   "source": [
    "Pour chaque cas, définir la fonction demandée. Donner également un exemple d'appel de la fonction dans un programme principal.\n",
    "\n",
    "* Fonction calculant la valeur absolue d'un nombre sans utiliser la fonction `abs`."
   ]
  },
  {
   "cell_type": "code",
   "execution_count": null,
   "metadata": {},
   "outputs": [],
   "source": [
    "#-------------------------#\n",
    "#    Écrire le code ici   #\n",
    "#-------------------------#\n",
    "\n",
    "\n",
    "\n"
   ]
  },
  {
   "cell_type": "markdown",
   "metadata": {},
   "source": [
    "* Fonction demandant la saisie d'un entier positif ou nul et répétant la saisie jusqu'à ce que ce nombre soit correct. "
   ]
  },
  {
   "cell_type": "code",
   "execution_count": null,
   "metadata": {},
   "outputs": [],
   "source": [
    "#-------------------------#\n",
    "#    Écrire le code ici   #\n",
    "#-------------------------#\n",
    "\n",
    "\n",
    "\n"
   ]
  },
  {
   "cell_type": "markdown",
   "metadata": {},
   "source": [
    "* Fonction permettant la saisie d'un entier compris dans un intervalle $[a,b]$ (Par exemple, saisie d'un entier compris entre 10 et 20)  et permettant d'effectuer des saisies jusqu'à ce que ce nombre soit correct en indiquant à l'utilisateur s'il doit donner un nombre plus petit ou plus grand. \n",
    "\n",
    "** NB :** Les bornes `a`et `b` sont passées en paramètres à la fonction."
   ]
  },
  {
   "cell_type": "code",
   "execution_count": null,
   "metadata": {},
   "outputs": [],
   "source": [
    "#-------------------------#\n",
    "#    Écrire le code ici   #\n",
    "#-------------------------#\n",
    "\n",
    "\n",
    "\n"
   ]
  },
  {
   "cell_type": "markdown",
   "metadata": {},
   "source": [
    "## Exercice 2 : Discriminant d'un polynôme de second degré*"
   ]
  },
  {
   "cell_type": "markdown",
   "metadata": {},
   "source": [
    "Le but de cet exercice est dedéfinir une fonction `discriminant` permettant de calculer et de retourner la valeur du discriminant d'un polynôme de second degré $ax^2 + bx + c = 0$.\n",
    "\n",
    "** Rappel : ** Le discrimant de l'équation $ax^2 + bx + c = 0$ est égal à $b^2-4ac$. Cette équation admet deux solutions réelles si le discriminant est strictement positif, une solution réelle si le discriminant est nul, et pas de solution réelle autrement. \n",
    "\n",
    "* Définir la fonction `discriminant`.\n",
    "* Ecrire un programme affichant le nombre de racines réelles d'une équation $ax^2 + bx + c = 0$ où les coefficients $a$, $b$ et $c$ sont saisis par l'utilisateur."
   ]
  },
  {
   "cell_type": "code",
   "execution_count": null,
   "metadata": {},
   "outputs": [],
   "source": [
    "#-------------------------#\n",
    "#    Écrire le code ici   #\n",
    "#-------------------------#\n",
    "\n",
    "\n",
    "\n"
   ]
  },
  {
   "cell_type": "markdown",
   "metadata": {},
   "source": [
    "## Exercice 3 : Calcul de $x^n$ quand $n$ est un entier positif ou nul*"
   ]
  },
  {
   "cell_type": "markdown",
   "metadata": {},
   "source": [
    "### Question 1 :\n",
    "Ecrire une fonction calculant $x^n$ quand $n$ est un entier positif sans utiliser l'opérateur `**`.\n",
    "Dans le cas où le calcul ne peut pas se faire, la fonction renvoie la valeur -1."
   ]
  },
  {
   "cell_type": "code",
   "execution_count": 1,
   "metadata": {},
   "outputs": [],
   "source": [
    "#-------------------------#\n",
    "#    Écrire le code ici   #\n",
    "#-------------------------#\n",
    "\n",
    "\n",
    "\n"
   ]
  },
  {
   "cell_type": "markdown",
   "metadata": {},
   "source": [
    "### Question 2 :\n",
    "Définir la fonction test_puissance qui teste la fonction `puissance`."
   ]
  },
  {
   "cell_type": "code",
   "execution_count": null,
   "metadata": {},
   "outputs": [],
   "source": [
    "#-------------------------#\n",
    "#    Écrire le code ici   #\n",
    "#-------------------------#\n",
    "\n",
    "\n",
    "\n"
   ]
  },
  {
   "cell_type": "markdown",
   "metadata": {},
   "source": [
    "## Exercice 4 : Calcul du PGCD**\n",
    "L'algorithme d'Euclide calculant le plus grand diviseur commun PGCD de deux nombres entiers strictement positifs peut être décrit comme suit : \"tant que les 2 nombres sont différents soustraire le plus petit du plus grand. Une fois égaux, afficher l'un d'eux : c'est le PGCD.\"\n",
    "\n",
    "** Remarque : ** Le PGCD ne dépend pas du signe des nombres passés en paramètre. \n",
    "\n",
    "Par exemple, $PGCD(-5,-3) = PGCD(5,3)$. De plus, $PGCD(0,x) = PGCD(x,0) = x$ pour tout entier $x$.\n",
    "\n",
    "### Question 1 : \n",
    "Faire tourner cet algorithme sur papier avec les entiers 18 et 14."
   ]
  },
  {
   "cell_type": "markdown",
   "metadata": {},
   "source": [
    "** Exécution de l'algorithme **\n",
    "\n",
    "\n"
   ]
  },
  {
   "cell_type": "markdown",
   "metadata": {},
   "source": [
    "### Question 2 : \n",
    "Définir la fonction `pgcd` qui calcule et retourne le PGCD de deux arguments entiers."
   ]
  },
  {
   "cell_type": "code",
   "execution_count": null,
   "metadata": {},
   "outputs": [],
   "source": [
    "#-------------------------#\n",
    "#    Écrire le code ici   #\n",
    "#-------------------------#\n",
    "\n",
    "\n",
    "\n"
   ]
  },
  {
   "cell_type": "markdown",
   "metadata": {},
   "source": [
    "### Question 3 :\n",
    "Définir la fonction `test_pgcd` qui teste la fonction `pgcd`."
   ]
  },
  {
   "cell_type": "code",
   "execution_count": null,
   "metadata": {},
   "outputs": [],
   "source": [
    "#-------------------------#\n",
    "#    Écrire le code ici   #\n",
    "#-------------------------#\n",
    "\n",
    "\n",
    "\n"
   ]
  }
 ],
 "metadata": {
  "kernelspec": {
   "display_name": "Python 3",
   "language": "python",
   "name": "python3"
  },
  "language_info": {
   "codemirror_mode": {
    "name": "ipython",
    "version": 3
   },
   "file_extension": ".py",
   "mimetype": "text/x-python",
   "name": "python",
   "nbconvert_exporter": "python",
   "pygments_lexer": "ipython3",
   "version": "3.6.4"
  }
 },
 "nbformat": 4,
 "nbformat_minor": 2
}
