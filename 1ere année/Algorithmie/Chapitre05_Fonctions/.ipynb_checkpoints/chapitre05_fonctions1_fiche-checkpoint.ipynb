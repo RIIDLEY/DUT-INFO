{
 "cells": [
  {
   "cell_type": "markdown",
   "metadata": {},
   "source": [
    "# <center>Chapitre 5 : Fonctions (Deuxième partie) </center>"
   ]
  },
  {
   "cell_type": "markdown",
   "metadata": {},
   "source": [
    "### Définition d'une fonction avec une valeur de retour"
   ]
  },
  {
   "cell_type": "markdown",
   "metadata": {},
   "source": [
    "#### Intérêts : \n",
    "        * Effectuer un traitement spécifique et communiquer à l'algorithme appelant le resultat de ce traitement.\n",
    "        * Intégrer l'appel de fonction dans une expression arithmétique ou booléenne par exemple."
   ]
  },
  {
   "cell_type": "markdown",
   "metadata": {},
   "source": [
    "#### Syntaxe : \n",
    "```python\n",
    "    def nom_fonction(param_1, param_2, ..., param_n) :\n",
    "        # algorithme de la fonction\n",
    "        \n",
    "        return resultat_a_retourner\n",
    "```\n",
    "    * def : indique que nous souhaitons définir une fonction ; le type de la valeur retourné n'est pas indiqué (il est implicite).\n",
    "    * nom_fonction : est le nom de la fonction ; suit les mêmes règles que les noms de variables ;\n",
    "    * une parenthèse ouvrante, suivie des paramètres en entrées de la fonction, on parle de paramètres formels. L'ordre des paramètres est important.\n",
    "    * la fonction se termine par l'instruction return, permettant de retourner le résultat à l'algorithme appelant."
   ]
  },
  {
   "cell_type": "markdown",
   "metadata": {},
   "source": [
    "#### Exemple"
   ]
  },
  {
   "cell_type": "code",
   "execution_count": null,
   "metadata": {},
   "outputs": [],
   "source": [
    "# Définition de la fonction perimetre_rectangle()\n",
    "\n",
    "def perimetre_rectangle( longueur, largeur ) :\n",
    "    \"\"\"\n",
    "    Retourne le périmètre d'un rectangle.\n",
    "    longueur (entrée) : longueur du rectangle, de type float\n",
    "    largeur (entrée) : largeur du rectangle, de type float\n",
    "    valeur retournée : périmètre du rectancle, de type float\n",
    "    \"\"\"\n",
    "    perimetre =  2 * (longueur + largeur)\n",
    "    \n",
    "    return perimetre # le résultat est communiqué au programme appelant\n",
    "\n",
    "\n",
    "##########################################################\n",
    "##########################################################\n",
    "\n",
    "# Algorithme principal\n",
    "\n",
    "pr = perimetre_rectangle(5.2,3.4)\n",
    "print(\"Le périmètre du rectangle est : \", pr );\n"
   ]
  },
  {
   "cell_type": "markdown",
   "metadata": {},
   "source": [
    "#### Remarques importantes : \n",
    "* Lorsque l'instruction return est exécutée, la fonction se termine : aucune instruction de la fonction n'est exécutée ensuite. \n",
    "* L'instruction return peut être utilisée même sans renvoyer de valeur pour quitter la fonction."
   ]
  },
  {
   "cell_type": "markdown",
   "metadata": {},
   "source": [
    "### Comment concevoir une fonction"
   ]
  },
  {
   "cell_type": "markdown",
   "metadata": {},
   "source": [
    "#### Démarche : \n",
    "Lorsqu'on définit une fonction : \n",
    "* il faut clarifier le rôle de la fonction ;\n",
    "* il faut déterminer les paramètres en entrées éventuels dont nécessair à la fonction pour effectuer sont traitement ; il faudra préciser le type de chaque paramètre, bien qu'ils n'apparaitront pas explicitement dans l'entête de la fonction ;\n",
    "* la valeur de retour éventuelle ainsi que son type bien qu'il n'apparaitra pas explicitement dans l'entête de la fonction ;\n",
    "* ecrire l'entête de la fonction et un algorithme utilisant la fonction ;\n",
    "* écrire le corps de la fonction ;\n",
    "* testez la fonction pour vérifier que le traitement qu'elle effectue est bien celui décrit dans le cahier des charges."
   ]
  },
  {
   "cell_type": "markdown",
   "metadata": {},
   "source": [
    "##### Etape 1 : Déterminer le rôle de la fonction\n",
    "Les questions à se poser :\n",
    "* Pourquoi j'écris la fonction ?\n",
    "* Que doit faire réellement la fonction ?\n",
    "* Il faut choisir un nom explicite pour la fonction."
   ]
  },
  {
   "cell_type": "markdown",
   "metadata": {},
   "source": [
    "##### Etape 2 : Déterminer les paramètres de la fonction et la valeur de retour\n",
    "Il est très important de déterminer les paramètres (appelés aussi arguments) nécessaires à la fonction et la valeur de retour :\n",
    "* Avant de penser à écrire le corps de la fonction, il faut impérativement réfléchir aux informations nécessaires pour effectuer le traitement ; ces informations déterminerons les paramètres en entrées ainsi que leur type ;\n",
    "* la fonction doit-elle retourner un résultat ; si oui, il faudra déterminer le type de la valeur retournée ;\n",
    "* écrire un exemple d'appel pour valider l'entête de la foncion à écrire."
   ]
  },
  {
   "cell_type": "markdown",
   "metadata": {},
   "source": [
    "##### Etape 3 : Ecrire la  fonction\n",
    "Ecrire le corps de la fonction."
   ]
  },
  {
   "cell_type": "markdown",
   "metadata": {},
   "source": [
    "##### Etape 4 : Test de la fonction\n",
    "* Prévoir un jeu de test significatif ;\n",
    "* Testez la fonction pour vérifier qu'elle répond bien au cahier des charges."
   ]
  },
  {
   "cell_type": "markdown",
   "metadata": {},
   "source": [
    "#### Remarques importantes : \n",
    "* Il est inutile de commencer à écrire le corps de la fonction si les\n",
    "autres étapes n'ont pas été franchies.\n",
    "* Il est important de commenter une fonction lors de sa définition pour expliquer son utilisation (Que fait la fonction ? Quels sont ses paramètres ? quelle valeur retourne-t-elle ?). Ceci permet à d'autres programmeurs de pouvoir utiliser cette fonction sans devoir lire son code."
   ]
  },
  {
   "cell_type": "markdown",
   "metadata": {},
   "source": [
    "#### Vocabulaire\n",
    "Fonction, valeur de retour, etapes, tests"
   ]
  }
 ],
 "metadata": {
  "kernelspec": {
   "display_name": "Python 3",
   "language": "python",
   "name": "python3"
  },
  "language_info": {
   "codemirror_mode": {
    "name": "ipython",
    "version": 3
   },
   "file_extension": ".py",
   "mimetype": "text/x-python",
   "name": "python",
   "nbconvert_exporter": "python",
   "pygments_lexer": "ipython3",
   "version": "3.6.5"
  }
 },
 "nbformat": 4,
 "nbformat_minor": 2
}
