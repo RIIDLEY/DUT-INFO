{
 "cells": [
  {
   "cell_type": "markdown",
   "metadata": {
    "collapsed": true
   },
   "source": [
    "# <center>Chapitre 5 : Fonctions (Deuxième partie) - TP corrigé</center>"
   ]
  },
  {
   "cell_type": "markdown",
   "metadata": {},
   "source": [
    "## Exercice 1 : Définitions de fonctions et appels*"
   ]
  },
  {
   "cell_type": "markdown",
   "metadata": {},
   "source": [
    "Pour chaque cas, définir la fonction demandée. Donner également un exemple d'appel de la fonction dans un programme principal.\n",
    "\n",
    "* Fonction calculant la valeur absolue d'un nombre sans utiliser la fonction `abs`."
   ]
  },
  {
   "cell_type": "code",
   "execution_count": null,
   "metadata": {},
   "outputs": [],
   "source": [
    "# Correction #\n",
    "\n",
    "# Définition de la fonction absolue\n",
    "def absolue(nb) :\n",
    "    resultat=nb\n",
    "    if nb<0 :\n",
    "        resultat*=-1\n",
    "    return resultat\n",
    "\n",
    "# Algorithme principal\n",
    "print(\"Entrez un nombre : \")\n",
    "nombre = float(input())\n",
    "print(\"la valeur absolue de \" + str(nombre) + \" est \" + str(absolue(nombre)))"
   ]
  },
  {
   "cell_type": "markdown",
   "metadata": {},
   "source": [
    "*  Fonction demandant la saisie d'un entier positif ou nul et répétant la saisie jusqu'à ce que ce nombre soit correct. "
   ]
  },
  {
   "cell_type": "code",
   "execution_count": null,
   "metadata": {},
   "outputs": [],
   "source": [
    "# Correction #\n",
    "\n",
    "# Définition de la fonction saisiePosNul\n",
    "def saisiePosNul() :\n",
    "    \n",
    "    nb =-1\n",
    "    while nb < 0 :\n",
    "        # saisie controlee d'un nombre positif ou nul\n",
    "         print(\"Saisir un nombre positif ou nul\")\n",
    "         nb = int(input())\n",
    "    return nb\n",
    "\n",
    "# Algorithme principal\n",
    "nombre=saisiePosNul()\n",
    "print(str(nombre) + \" est positif ou nul\")"
   ]
  },
  {
   "cell_type": "markdown",
   "metadata": {},
   "source": [
    "* Fonction permettant la saisie d'un entier compris dans un intervalle $[a,b]$ (Par exemple, saisie d'un entier compris entre 10 et 20)  et permettant d'effectuer des saisies jusqu'à ce que ce nombre soit correct en indiquant à l'utilisateur s'il doit donner un nombre plus petit ou plus grand. \n",
    "\n",
    "** NB :** Les bornes `a`et `b` sont passées en paramètres à la fonction."
   ]
  },
  {
   "cell_type": "code",
   "execution_count": null,
   "metadata": {},
   "outputs": [],
   "source": [
    "# Correction #\n",
    "\n",
    "# Définition de la fonction saisieBornee\n",
    "def saisieBornee(a, b) :\n",
    "    \"\"\" \n",
    "    Saisie controlee avec indications nombre compris entre a et b (inclus)\n",
    "    \"\"\"\n",
    "    print(\"Saisir un nombre entre \" + str(a) + \" et \" + str(b) + \" (inclus)\")\n",
    "    nb = int(input())\n",
    "    while nb < a or  nb > b :\n",
    "        if nb<a :\n",
    "            print(\"Plus grand !\")\n",
    "        else :\n",
    "            print(\"Plus petit !\")\n",
    "        print(\"Saisir un nombre entre \" + str(a) + \" et \" + str(b) + \" (inclus)\")\n",
    "        nb = int(input())\n",
    "    return nb\n",
    "\n",
    "# Algorithme principal\n",
    "nombre=saisieBornee(10,20)\n",
    "print(str(nombre) + \" est dans le bon intervalle\")\n"
   ]
  },
  {
   "cell_type": "markdown",
   "metadata": {},
   "source": [
    "## Exercice 2 : Discriminant d'un polynôme de second degré*"
   ]
  },
  {
   "cell_type": "markdown",
   "metadata": {},
   "source": [
    "Le but de cet exercice est de définir une fonction `discriminant` permettant de calculer et retourner la valeur du discriminant d'un polynôme de second degré $ax^2 + bx + c = 0$.\n",
    "\n",
    "** Rappel : **  Le discrimant de l'équation $ax^2 + bx + c = 0$ est égal à $b^2-4ac$. Cette équation admet deux solutions réelles si le discriminant est strictement positif, une solution réelle si le discriminant est nul, et pas de solution réelle autrement. \n",
    "\n",
    "* Définir la fonction `discriminant`.\n",
    "* Ecrire un programme affichant le nombre de racines réelles d'une équation $ax^2 + bx + c = 0$ où les coefficients $a$, $b$ et $c$ sont saisis par l'utilisateur."
   ]
  },
  {
   "cell_type": "code",
   "execution_count": null,
   "metadata": {},
   "outputs": [],
   "source": [
    "# Correction #\n",
    "\n",
    "# Définition de la fonction discriminantPlySecondDegre\n",
    "\n",
    "def discriminantPlySecondDegre (a, b, c) :\n",
    "    \"\"\"\n",
    "    Fonction retournant la valeur du discriminant du polynome a*x*x + b *x + c = 0\n",
    "    \"\"\"\n",
    "    return b*b-4*a*c;\n",
    "\n",
    "# Algorithme principal\n",
    "print(\"Saisir les coefficients a, b et c de l'equation\")\n",
    "a = int(input())\n",
    "b = int(input())\n",
    "c = int(input())\n",
    "\n",
    "discriminant = discriminantPlySecondDegre (a,b,c)\n",
    "\n",
    "if discriminant > 0 :\n",
    "    print(\"Deux racines réelles\")\n",
    "elif discriminant == 0 :\n",
    "    print(\"Racine réelle double\")\n",
    "else :\n",
    "    print(\"Aucune solution réelle\")"
   ]
  },
  {
   "cell_type": "markdown",
   "metadata": {},
   "source": [
    "## Exercice 3 : Calcul de $x^n$ quand $n$ est un entier positif ou nul*"
   ]
  },
  {
   "cell_type": "markdown",
   "metadata": {},
   "source": [
    "### Question 1 :\n",
    "Ecrire une fonction calculant $x^n$ quand $n$ est un entier positif sans utiliser l'opérateur `**`.\n",
    "Dans le cas où le calcul ne peut pas se faire, la fonction renvoie la valeur -1."
   ]
  },
  {
   "cell_type": "code",
   "execution_count": null,
   "metadata": {},
   "outputs": [],
   "source": [
    "# Correction #\n",
    "\n",
    "# Définition de la fonction puissance\n",
    "def puissance( x, n) :\n",
    "    if n < 0 :\n",
    "        return -1\n",
    "    \n",
    "    resultat=1\n",
    "    compteur =n\n",
    "    while compteur > 0 :\n",
    "        resultat = resultat * x\n",
    "        compteur = compteur -1\n",
    "    return resultat"
   ]
  },
  {
   "cell_type": "markdown",
   "metadata": {},
   "source": [
    "### Question 2 :\n",
    "Définir la fonction `test_puissance` qui teste la fonction puissance."
   ]
  },
  {
   "cell_type": "code",
   "execution_count": null,
   "metadata": {},
   "outputs": [],
   "source": [
    "# Correction #\n",
    "\n",
    "# Définition de la fonction puissance\n",
    "def puissance( x, n) :\n",
    "    if n < 0 :\n",
    "        return -1\n",
    "    \n",
    "    resultat=1\n",
    "    compteur =n\n",
    "    while compteur > 0 :\n",
    "        resultat = resultat * x\n",
    "        compteur = compteur -1\n",
    "    return resultat\n",
    "\n",
    "def test_puissance() :\n",
    "    erreur = False\n",
    "    \n",
    "    if abs(puissance(2,3) - 8) > 0.001 :\n",
    "        print(\"Probleme avec 2 puissance 3\")\n",
    "        erreur = True\n",
    "        \n",
    "    if abs(puissance(-2,3) - -8) > 0.001 :\n",
    "        print(\"Probleme avec -2 puissance 3\");\n",
    "        erreur = True\n",
    "        \n",
    "    if abs(puissance(-2,1) - -2) > 0.001 :\n",
    "        print(\"Probleme avec -2 puissance 1\")\n",
    "        erreur = True\n",
    "        \n",
    "    if abs(puissance(-17,0) - 1) > 0.001 :\n",
    "        print(\"Probleme avec -17 puissance 0\")\n",
    "        erreur = True\n",
    "        \n",
    "    if abs(puissance(-2,-1) - -1) > 0.001 :\n",
    "        print(\"Probleme puissances négatives\")\n",
    "        erreur = True\n",
    "    \n",
    "    if not(erreur) :\n",
    "        print(\"Tous les tests ont été validés\")\n",
    "\n",
    "# algorithme principal\n",
    "test_puissance()"
   ]
  },
  {
   "cell_type": "markdown",
   "metadata": {},
   "source": [
    "## Exercice 4 : Calcul du PGCD**\n",
    "L'algorithme d'Euclide calculant le plus grand diviseur commun PGCD de deux nombres entiers strictement positifs peut être décrit comme suit : \"tant que les 2 nombres sont différents soustraire le plus petit du plus grand. Une fois égaux, afficher l'un d'eux : c'est le PGCD.\"\n",
    "\n",
    "** Remarque : **  Le PGCD ne dépend pas du signe des nombres passés en paramètre. \n",
    "\n",
    "Par exemple, $PGCD(-5,-3) = PGCD(5,3)$. De plus, $PGCD(0,x) = PGCD(x,0) = x$ pour tout entier $x$.\n",
    "\n",
    "### Question 1 : \n",
    "Faire tourner cet algorithme sur papier avec les entiers 18 et 14."
   ]
  },
  {
   "cell_type": "code",
   "execution_count": null,
   "metadata": {},
   "outputs": [],
   "source": [
    "# Correction #\n",
    "n1 = 18\n",
    "n2 = 14\n",
    "\n",
    "n2<n1 donc n1=n1-n2 n1 = 4\n",
    "n1<n2  donc n2=n2-n1  n2 = 10\n",
    "n1<n2  donc n2=n2-n1  n2 = 6\n",
    "n1<n2  donc n2=n2-n1  n2 = 2\n",
    "n2<n1  donc n1 = n1-n2  n1 = 2\n",
    "n1 = n2  donc pgcd = 2\n"
   ]
  },
  {
   "cell_type": "markdown",
   "metadata": {},
   "source": [
    "### Question 2 : \n",
    "Définir la fonction `pgcd` qui calcule et retourne le PGCD de deux arguments entiers."
   ]
  },
  {
   "cell_type": "code",
   "execution_count": null,
   "metadata": {},
   "outputs": [],
   "source": [
    "# Correction #\n",
    "\n",
    "# Définition de la fonction produit\n",
    "\n",
    "def pgcd(n1, n2) :\n",
    "    if n1 < 0 :\n",
    "        n1 = -n1\n",
    "    elif n1 == 0 :\n",
    "        return n2\n",
    "\n",
    "    if n2 < 0 :\n",
    "        n2 = -n2\n",
    "    elif n2 == 0 :\n",
    "        return n1;\n",
    "\n",
    "    while n1 != n2 :\n",
    "        if n1>n2 :\n",
    "            n1 = n1-n2\n",
    "        else :\n",
    "            n2 = n2-n1;\n",
    "    return n1"
   ]
  },
  {
   "cell_type": "markdown",
   "metadata": {},
   "source": [
    "### Question 3 :\n",
    "Définir la fonction `test_pgcd` qui teste la fonction `pgcd`."
   ]
  },
  {
   "cell_type": "code",
   "execution_count": null,
   "metadata": {},
   "outputs": [],
   "source": [
    "# Correction #\n",
    "\n",
    "# Définition de la fonction puissance\n",
    "def pgcd(n1, n2) :\n",
    "    if n1 < 0 :\n",
    "        n1 = -n1\n",
    "    elif n1 == 0 :\n",
    "        return n2\n",
    "\n",
    "    if n2 < 0 :\n",
    "        n2 = -n2\n",
    "    elif n2 == 0 :\n",
    "        return n1;\n",
    "\n",
    "    while n1 != n2 :\n",
    "        if n1>n2 :\n",
    "            n1 = n1-n2\n",
    "        else :\n",
    "            n2 = n2-n1;\n",
    "    return n1\n",
    "\n",
    "def test_pgcd() :\n",
    "    erreur = False\n",
    "    \n",
    "    if pgcd(8,14) != 2 :\n",
    "        print(\"Probleme avec PGCD(8,14)\")\n",
    "        erreur = True\n",
    "        \n",
    "    if pgcd(-8,-14) != 2 :\n",
    "        print(\"Probleme avec PGCD(-8,-14)\")\n",
    "        erreur = True\n",
    "        \n",
    "    if pgcd(8,-14) != 2 :\n",
    "        print(\"Probleme avec PGCD(8,-14)\")\n",
    "        erreur = True\n",
    "        \n",
    "    if pgcd(25,100) != 25 :\n",
    "        print(\"Probleme avec PGCD(25,100)\")\n",
    "        erreur = True\n",
    "        \n",
    "    if pgcd(23,14) != 1 :\n",
    "        print(\"Probleme avec PGCD(23,1)\")\n",
    "        erreur = True\n",
    "            \n",
    "    if pgcd(8,0) != 8 :\n",
    "        print(\"Probleme avec PGCD(8,0)\")\n",
    "        erreur = True\n",
    "        \n",
    "    if pgcd(0,8) != 8 :\n",
    "        print(\"Probleme avec PGCD(0,8)\\n\")\n",
    "        erreur = True\n",
    "\n",
    "    if not(erreur) :\n",
    "        print(\"Tous les tests ont été validés\")\n",
    "\n",
    "# algorithme principal\n",
    "test_pgcd()"
   ]
  }
 ],
 "metadata": {
  "kernelspec": {
   "display_name": "Python 3",
   "language": "python",
   "name": "python3"
  },
  "language_info": {
   "codemirror_mode": {
    "name": "ipython",
    "version": 3
   },
   "file_extension": ".py",
   "mimetype": "text/x-python",
   "name": "python",
   "nbconvert_exporter": "python",
   "pygments_lexer": "ipython3",
   "version": "3.6.4"
  }
 },
 "nbformat": 4,
 "nbformat_minor": 2
}
