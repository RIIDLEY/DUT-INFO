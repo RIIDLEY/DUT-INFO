{
 "cells": [
  {
   "cell_type": "markdown",
   "metadata": {
    "collapsed": true
   },
   "source": [
    "# <center>Chapitre 5 : Fonctions (Deuxième partie) - TD</center>"
   ]
  },
  {
   "cell_type": "markdown",
   "metadata": {},
   "source": [
    "## Exercice 1 : Valeur de retour*"
   ]
  },
  {
   "cell_type": "markdown",
   "metadata": {},
   "source": [
    "* A l'exécution de ce code, combien de fois est appelée `f` ? Combien de fois est affiché `hello` ? "
   ]
  },
  {
   "cell_type": "code",
   "execution_count": null,
   "metadata": {},
   "outputs": [],
   "source": [
    "# Définition de la fonction\n",
    "def f(a) :\n",
    "    if a < 0 : \n",
    "        return\n",
    "    print(\"hello\")\n",
    "\n",
    "# Algorithme principal\n",
    "f(3)\n",
    "f(-2)"
   ]
  },
  {
   "cell_type": "markdown",
   "metadata": {},
   "source": [
    "* Quel est l'affichage produit ? Quelles sont les valeurs des variables ?"
   ]
  },
  {
   "cell_type": "code",
   "execution_count": null,
   "metadata": {},
   "outputs": [],
   "source": [
    "# Définition de la fonction\n",
    "def f(x) :\n",
    "    return 2 * x + 3;\n",
    "\n",
    "# Algorithme principal\n",
    "res = f(3);\n",
    "print(res);\n",
    "z = 2;\n",
    "res = f(z);\n",
    "print(res);\n",
    "print(f(res));\n",
    "res = f(res);\n",
    "print(res);\n",
    "print(f(res));"
   ]
  },
  {
   "cell_type": "markdown",
   "metadata": {},
   "source": [
    "* On considère les fonctions `somme1` et `somme2` définies par :\n",
    "\n",
    "```python\n",
    "def somme1( a, b) :\n",
    "    print(a+b)\n",
    "\n",
    "def somme2(a, b) :\n",
    "    return a+b\n",
    "```\n",
    "1. Quelle est la différence entre `somme1` et `somme2` ?\n",
    "2. Utiliser la fonction `somme1` pour afficher le résultat de 2 + 7 (sans utiliser l'opérateur `+`).\n",
    "Même question avec la fonction `somme2`.\n",
    "3. Utiliser la fonction `somme1` pour afficher le résultat de 2 + 7 + 18 (sans utiliser l'opérateur `+`). \n",
    "Même question avec la fonction somme2. Quelle est alors la fonction la mieux programmée ?"
   ]
  },
  {
   "cell_type": "markdown",
   "metadata": {},
   "source": [
    "## Exercice 2 : Test de parité*"
   ]
  },
  {
   "cell_type": "markdown",
   "metadata": {},
   "source": [
    "### Question 1 : \n",
    "Ecrire la  fonction `estPair` qui affiche si un nombre reçu en paramètre est pair ou non. Tester la sur un jeu de valeurs significatives."
   ]
  },
  {
   "cell_type": "markdown",
   "metadata": {},
   "source": [
    "### Question 2 : \n",
    "Ré-écrire la fonction `estPair`  pour que cette dernière renvoie `True` si le nombre reçu en paramètre est pair, `False` sinon. Ecrire des tests pour des valeurs significatives."
   ]
  },
  {
   "cell_type": "markdown",
   "metadata": {},
   "source": [
    "## Exercice 3 : Moyenne de deux nombres*"
   ]
  },
  {
   "cell_type": "markdown",
   "metadata": {},
   "source": [
    "Ecrire la fonction `moyenne` qui reçoit deux nombres flottants en argument et qui calcule et renvoie leur moyenne."
   ]
  },
  {
   "cell_type": "markdown",
   "metadata": {},
   "source": [
    "## Exercice 4 : Année bissextile**"
   ]
  },
  {
   "cell_type": "markdown",
   "metadata": {},
   "source": [
    "Ecrire une fonction qui permet de determiner si une année est bissextile. \n",
    "\n",
    "On rappelle qu'une année est bissextile si \n",
    "* elle est divisible par 4\n",
    "* mais n'est pas divible par 100\n",
    "* sauf si elle est divisible par 400\n",
    "\n",
    "Ainsi 2008 était bissextile, 1900 n'était pas bissextile et 2000 était bissextile."
   ]
  },
  {
   "cell_type": "markdown",
   "metadata": {},
   "source": [
    "## Exercice 5 : Produit d'entiers**\n",
    "### Question 1 : \n",
    "Définir la fonction `produit` qui calcule et renvoie le produit des entiers compris entre $n_1$ et et $n_2$ inclus. Si $n_1\\leq n_2$, alors ce produit est égal à $n_1 * (n_1 + 1) * ... * n_2$."
   ]
  },
  {
   "cell_type": "markdown",
   "metadata": {},
   "source": [
    "### Question 2 : \n",
    "Définir une fonction `test_produit` qui teste la fonction de la question précédente."
   ]
  },
  {
   "cell_type": "markdown",
   "metadata": {},
   "source": [
    "## Exercice 6 : Série harmonique**\n",
    "La série harmonique est la série définie pour tout $n >$ 0 par: \n",
    "$$H_n= 1 + \\frac12 + \\frac13 + \\frac14 + \\cdots + \\frac1n$$\n",
    "\n",
    "### Question 1 : \n",
    "Définir la fonction `harmonique` prenant en paramètre un entier n et retournant la valeur $H_n$ (la fonction retournera `-1` si $H_n$ n'est pas défini)."
   ]
  },
  {
   "cell_type": "markdown",
   "metadata": {},
   "source": [
    "### Question 2 : \n",
    "Définir une fonction `test_harmonique` qui teste la fonction de la question précédente."
   ]
  }
 ],
 "metadata": {
  "kernelspec": {
   "display_name": "Python 3",
   "language": "python",
   "name": "python3"
  },
  "language_info": {
   "codemirror_mode": {
    "name": "ipython",
    "version": 3
   },
   "file_extension": ".py",
   "mimetype": "text/x-python",
   "name": "python",
   "nbconvert_exporter": "python",
   "pygments_lexer": "ipython3",
   "version": "3.6.4"
  }
 },
 "nbformat": 4,
 "nbformat_minor": 2
}
