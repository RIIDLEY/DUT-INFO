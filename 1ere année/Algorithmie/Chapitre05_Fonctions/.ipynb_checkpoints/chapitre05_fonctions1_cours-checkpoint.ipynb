{
 "cells": [
  {
   "cell_type": "markdown",
   "metadata": {},
   "source": [
    "# <center>Chapitre 5 : Fonctions (Deuxième partie)</center>"
   ]
  },
  {
   "cell_type": "markdown",
   "metadata": {},
   "source": [
    "## Définition d'une fonction avec une valeur de retour"
   ]
  },
  {
   "cell_type": "markdown",
   "metadata": {},
   "source": [
    "### Intérêt : \n",
    "* Effectuer un traitement spécifique et communiquer à l'algorithme appelant le résultat de ce traitement.\n",
    "* Intégrer l'appel de fonction dans une expression arithmétique ou booléenne par exemple."
   ]
  },
  {
   "cell_type": "markdown",
   "metadata": {},
   "source": [
    "### Syntaxe : \n",
    "```python\n",
    "    def nom_fonction(param_1, param_2, ..., param_n) :\n",
    "        # algorithme de la fonction\n",
    "        \n",
    "        return resultat_a_retourner\n",
    "```\n",
    "* `def` : indique qu'on définit une fonction, le type de la valeur retournée n'est pas indiqué, il est implicite.\n",
    "* `nom_fonction` : est le nom de la fonction, il suit les mêmes règles que les noms de variables ;\n",
    "* une parenthèse ouvrante, suivie des paramètres en entrées de la fonction, les *paramètres formels*, suivis d'une parenthèse fermante. L'ordre des paramètres est important.\n",
    "* la fonction se termine par l'instruction `return` permettant de renvoyer le résultat à l'algorithme appelant."
   ]
  },
  {
   "cell_type": "markdown",
   "metadata": {},
   "source": [
    "### Exemple"
   ]
  },
  {
   "cell_type": "code",
   "execution_count": null,
   "metadata": {},
   "outputs": [],
   "source": [
    "# Définition de la fonction perimetre_rectangle()\n",
    "\n",
    "def perimetre_rectangle( longueur, largeur ) :\n",
    "    \"\"\"\n",
    "    Retourne le périmètre d'un rectangle.\n",
    "    longueur (entrée) : longueur du rectangle, de type float\n",
    "    largeur (entrée) : largeur du rectangle, de type float\n",
    "    valeur retournée : périmètre du rectancle, de type float\n",
    "    \"\"\"\n",
    "    perimetre =  2 * (longueur + largeur)\n",
    "    \n",
    "    return perimetre # le résultat est communiqué au programme appelant\n",
    "\n",
    "\n",
    "##########################################################\n",
    "##########################################################\n",
    "\n",
    "# Algorithme principal\n",
    "\n",
    "pr = perimetre_rectangle(5.2,3.4)\n",
    "print(\"Le périmètre du rectangle est : \", pr );\n"
   ]
  },
  {
   "cell_type": "markdown",
   "metadata": {},
   "source": [
    "**Remarques importantes :**\n",
    "* Lorsque l'instruction `return` est exécutée, la fonction se termine : aucune instruction de la fonction n'est exécutée ensuite. \n",
    "* L'instruction `return` peut être utilisée même sans renvoyer de valeur pour quitter la fonction."
   ]
  },
  {
   "cell_type": "markdown",
   "metadata": {},
   "source": [
    "-  Sur ce thème : **Exercices 1 et 2, TD 5**"
   ]
  },
  {
   "cell_type": "markdown",
   "metadata": {},
   "source": [
    "## Comment concevoir une fonction ?"
   ]
  },
  {
   "cell_type": "markdown",
   "metadata": {},
   "source": [
    "### Démarche : \n",
    "Lorsqu'on définit une fonction , il faut :\n",
    "1. clarifier le rôle de la fonction ;\n",
    "* déterminer les éventuels paramètres en entrée nécessaires à la fonction pour effectuer son traitement ainsi que l'éventuelle valeur de retour ; il faut préciser le type de chaque paramètre, bien qu'il n'apparaisse pas explicitement dans la définition de la fonction ; écrire l'en-tête de la fonction et un algorithme utilisant cette fonction ;\n",
    "* écrire le corps de la fonction ;\n",
    "* tester la fonction pour vérifier que le traitement qu'elle effectue est bien celui décrit dans le cahier des charges.\n",
    "\n",
    "La création d'une fonction se fait donc en plusieurs étapes qui sont détaillées dans ce qui suit."
   ]
  },
  {
   "cell_type": "markdown",
   "metadata": {},
   "source": [
    "#### Etape 1 : Déterminer le rôle de la fonction\n",
    "Les questions à se poser :\n",
    "* Pourquoi écrit-on cette fonction ?\n",
    "* Que doit faire exactement cette  fonction ?\n",
    "* Quel nom explicite lui donner ? "
   ]
  },
  {
   "cell_type": "markdown",
   "metadata": {},
   "source": [
    "#### Etape 2 : Déterminer les paramètres de la fonction et la valeur de retour\n",
    "Il est très important de déterminer les paramètres (appelés aussi arguments) nécessaires à la fonction et la valeur de retour :\n",
    "* Avant d'écrire le corps de la fonction, il faut impérativement réfléchir aux informations nécessaires pour effectuer le traitement ; ces informations déterminent les paramètres en entrée ainsi que leur type ;\n",
    "* si la fonction retourne un résultat, il faut déterminer le type de la valeur retournée ;\n",
    "* écrire également un exemple d'appel pour valider l'en-tête de la foncion à écrire."
   ]
  },
  {
   "cell_type": "markdown",
   "metadata": {},
   "source": [
    "##### Etape 3 : Ecrire la  fonction\n",
    "* Ecrire le corps de la fonction."
   ]
  },
  {
   "cell_type": "markdown",
   "metadata": {},
   "source": [
    "##### Etape 4 : Tester la fonction\n",
    "* Prévoir un jeu de tests significatifs ;\n",
    "* Tester la fonction pour vérifier qu'elle répond bien au cahier des charges.\n",
    "\n",
    "**Remarques importantes :**\n",
    "* Il est inutile de commencer à écrire le corps de la fonction si les autres étapes n'ont pas été franchies.\n",
    "* Il est important de commenter une fonction lors de sa définition pour expliquer son utilisation (Que fait la fonction ? Quels sont ses paramètres ? quelle valeur retourne-t-elle ?). Ceci permet à d'autres programmeurs de pouvoir utiliser cette fonction sans devoir lire son code.\n",
    "\n",
    "### Exemple\n",
    "##### Cahier des charges :\n",
    "Une des interactions les plus courantes avec l'utilisateur consiste à lui demander confirmation d'une proposition (répondre par oui ou par non) et à contrôler que sa réponse est bien une des réponses attendues. C'est si fréquent que cela vaut la peine d'en faire une fonction. \n",
    "\n",
    "###### Etape 1 : Que doit faire la fonction ?\n",
    "La fonction doit permettre à l'utilisateur de confirmer ou d'infirmer une proposition. La fonction va donc devoir afficher un message puis lire la réponse saisie par l'utilisateur. Bien que cette fonction soit extrêmement simple, elle soulève plusieurs questions :\n",
    "- Quelles sont les réponses possibles ? \n",
    "\n",
    "Comme on suppose que le programme est écrit en français, on choisit alors d'admettre comme réponses possibles : les chaines de caracatères `\"oui\", \"non\", \"o\", \"n\"`. \n",
    "De plus, les réponses peuvent être écrites avec des lettres minuscules et/ou majuscules.\n",
    "\n",
    "- Que se passe-t-il si l'utilisateur ne saisit pas une des réponses permises ? \n",
    "\n",
    "On décide alors que l'on répète la saisie jusqu'à obtenir une réponse admissible.\n",
    "\n",
    "- Il faut donner un nom à la fonction :\n",
    "\n",
    "On peut nommer cette fonction `confirmation`.\n",
    "\n",
    "###### Etape 2 : Déterminer les paramètres de la fonction et la valeur de retour\n",
    "* Quels sont ses paramètres ? \n",
    "* Quels sont leurs types ? \n",
    "* Y a t- il une valeur de retour ? Dans l'affirmative, quel est son type ?\n",
    "\n",
    "Comme la saisie est faite à l'intérieur de la fonction, il n'y a pas besoin de paramètre en entrée.\n",
    "\n",
    "La fonction doit retourner à l'algorithme appelant la réponse de l'utilisateur. Il n'y a *sémantiquement* que deux réponses possibles ; un booléen sera adapté pour communiquer le résultat.\n",
    "\n",
    "* On peut écrire l'entête de la fonction :\n",
    "```python\n",
    "def confirmation() :\n",
    "    \"\"\"\n",
    "    Retourne la réponse de l'utilisateur\n",
    "    valeur de retour (bool) : True si l'utilisateur confirme, False sinon\n",
    "    \"\"\"\n",
    "    \n",
    "    # Corps de la fonction\n",
    "```\n",
    "\n",
    "* Un exemple d'appel de la fonction sera :\n",
    "\n",
    "```python\n",
    "\n",
    "print(\"La terre est-elle ronde ?\");\n",
    "if confirmation() :\n",
    "    print(\"Bravo\\n\");\n",
    "else :\n",
    "    print(\"Il faut revoir les bases de l'astronomie...\");\n",
    "```\n",
    "\n",
    "###### Etape 3 : Ecrire la  fonction\n",
    "```python\n",
    "def confirmation() :\n",
    "    \"\"\"\n",
    "    Retourne la réponse de l'utilisateur\n",
    "    valeur de retour (bool) : True si l'utilisateur confirme, False sinon\n",
    "    \"\"\"\n",
    "    \n",
    "    # Corps de la fonction\n",
    "    rep = \"\"\n",
    "    while rep!= \"oui\" and rep != \"o\" and rep != \"non\" and rep != \"n\" :\n",
    "        print(\"Répondre par oui ou par non (o/n) : \")\n",
    "        rep = input()\n",
    "        rep = rep.lower() # met la réponse en minuscules\n",
    "    \n",
    "    if rep==\"oui\" or rep==\"o\" :\n",
    "        return True\n",
    "    else :\n",
    "        return False\n",
    "```\n",
    "\n",
    "###### Etape 4 : Test de la fonction\n",
    "Il est très important de tester les fonctions que l'on a écrites pour vérifier qu'elles ne comportent pas d'erreurs. Tester une fonction consiste à vérifier que la fonction est \"robuste\" et répond bien au cahier des charges, et se comporte \"correctement\" aux situations limites.\n",
    "\n",
    "Par exemple, pour tester la fonction `factorielle()`prenant en paramètre un entier `nb` et retournant la valeur $nb! = nb * (nb-1) * ... * 1$, \n",
    "Il faut tester le comportement de la fonction pour différents nombres entiers : \n",
    "- un nombre positif, par exemple 6, pour vérifier que la fonction calcule correctement la factorielle d'un nombre positif,\n",
    "- la valeur 0, pour vérifier que le cas particulier du 0 est traité correctement,\n",
    "- un nombre négatif pour vérifier que la fonction sait traiter les appels avec des valeurs de paramètres incorrectes (on supposera que la fonction retourne dans ce cas `-1`),\n",
    "- la valeur `1` qui correspond au cas limite : c'est le premier entier qui est traité comme un nombre positif (et ni comme  un cas particulier, ni comme une erreur).\n",
    "- tester la fonction avec les valeurs 2, 3, 4, 5 et 6 n'est pas nécessair car la fonction traite ces nombres de manière similaire et tester `6` est suffisant.\n",
    "\n",
    "Voici  un exemple d'algorithme de test :\n",
    "```python\n",
    "if factorielle(1) != 1 :\n",
    "    print(\"Pb avec 1\")\n",
    "\n",
    "if factorielle(0) != 1 :\n",
    "    print(\"Pb avec 0\");\n",
    "\n",
    "if factorielle(-5) != -1 :\n",
    "    print(\"Pb avec -5\")\n",
    "\n",
    "if factorielle(6) != 720 :\n",
    "    print(\"Pb avec 6\")\n",
    "\n",
    "if factorielle(10) != 3628800 : # pas nécessaire\n",
    "    print(\"Pb avec 10\")\n",
    "```\n",
    "Dans cet algorithme, on teste si la valeur retournée par la fonction est égale au résultat attendu. Si ce n'est pas le cas, on affiche un message d'erreur. \n",
    "Cette fonction pourrait être améliorée: on pourrait afficher le nombre de tests qui ne sont pas corrects, ajouter un message signalant quand tous les tests se sont passés sans erreur, etc.\n",
    "\n",
    "Pour tester de la fonction `confirmation()`, on essaiera les réponses  \"o\", \"O\", \"oui\", \"OUI\"\n",
    "et \"n\", \"N\", \"non\", \"NON\"."
   ]
  },
  {
   "cell_type": "markdown",
   "metadata": {},
   "source": [
    "# Définition de la fonction confirmation"
   ]
  },
  {
   "cell_type": "code",
   "execution_count": null,
   "metadata": {},
   "outputs": [],
   "source": [
    "def confirmation() :\n",
    "    \"\"\"\n",
    "    Retourne la réponse de l'utilisateur\n",
    "    valeur de retour (bool) : True si l'utilisateur confirme, False sinon\n",
    "    \"\"\"\n",
    "    \n",
    "    # Corps de la fonction\n",
    "    rep = \"\"\n",
    "    while rep!= \"oui\" and rep != \"o\" and rep != \"non\" and rep != \"n\" :\n",
    "        print(\"Répondez par oui ou par non (o/n) : \")\n",
    "        rep = input()\n",
    "        rep = rep.lower() # On met la réponse en minuscules\n",
    "    \n",
    "    if rep==\"oui\" or rep==\"o\" :\n",
    "        return True\n",
    "    else :\n",
    "        return False\n",
    "\n",
    "# Algorithme principal\n",
    "print(\"La terre est-elle ronde ?\");\n",
    "if confirmation() :\n",
    "    print(\"Bravo\");\n",
    "else :\n",
    "    print(\"Il faut revoir les bases de l'astronomie...\");\n",
    "\n",
    "print (\"Pour les réponses :\", \"o\", \"O\", \"oui\", \"OUI\")\n",
    "if confirmation() != True :\n",
    "    print(\"Pb\")\n",
    "else :\n",
    "    \n",
    "print (\"pour les réponses :\" ,\"n\", \"N\", \"non\", \"NON\")\n",
    "if confirmation() != False :\n",
    "    print(\"Pb\");\n",
    "else :\n",
    "    print (\"ok\")"
   ]
  },
  {
   "cell_type": "markdown",
   "metadata": {},
   "source": [
    "- Sur ce thème : **Exercices 3, 4, 5 et 6, TD 5**"
   ]
  }
 ],
 "metadata": {
  "kernelspec": {
   "display_name": "Python 3",
   "language": "python",
   "name": "python3"
  },
  "language_info": {
   "codemirror_mode": {
    "name": "ipython",
    "version": 3
   },
   "file_extension": ".py",
   "mimetype": "text/x-python",
   "name": "python",
   "nbconvert_exporter": "python",
   "pygments_lexer": "ipython3",
   "version": "3.6.6"
  }
 },
 "nbformat": 4,
 "nbformat_minor": 2
}
