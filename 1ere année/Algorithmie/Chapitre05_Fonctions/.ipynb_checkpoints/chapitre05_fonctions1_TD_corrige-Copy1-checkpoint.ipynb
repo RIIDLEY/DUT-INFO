{
 "cells": [
  {
   "cell_type": "markdown",
   "metadata": {
    "collapsed": true
   },
   "source": [
    "# <center>Chapitre 5 : Fonctions (Deuxième partie)</center>\n",
    "# <center>TP corrigé</center>"
   ]
  },
  {
   "cell_type": "markdown",
   "metadata": {},
   "source": [
    "## Exercice 1 : Définitions de fonctions et appels"
   ]
  },
  {
   "cell_type": "markdown",
   "metadata": {},
   "source": [
    "Pour chaque cas, définir la fonction demandée. Donner également un exemple d'appel de la fonction dans un programme principal.\n",
    "\n",
    "* Fonction calculant la valeur absolue d'un nombre sans utiliser la fonction abs."
   ]
  },
  {
   "cell_type": "code",
   "execution_count": null,
   "metadata": {},
   "outputs": [],
   "source": [
    "# Correction #\n",
    "\n",
    "# Définition de la fonction absolue\n",
    "def absolue(nb) :\n",
    "    resultat=nb\n",
    "    if nb<0 :\n",
    "        resultat*=-1\n",
    "    return resultat\n",
    "\n",
    "# Algorithme principal\n",
    "print(\"Entrez un nombre : \")\n",
    "nombre = float(input())\n",
    "print(\"la valeur absolue de \" + str(nombre) + \" est \" + str(absolue(nombre)))"
   ]
  },
  {
   "cell_type": "markdown",
   "metadata": {},
   "source": [
    "*  Fonction demandant la saisie d'un entier positif ou nul et répétant la saisie jusqu'à ce que ce nombre soit correct. "
   ]
  },
  {
   "cell_type": "code",
   "execution_count": null,
   "metadata": {},
   "outputs": [],
   "source": [
    "# Correction #\n",
    "\n",
    "# Définition de la fonction saisiePosNul\n",
    "def saisiePosNul() :\n",
    "    \n",
    "    nb =-1\n",
    "    while nb < 0 :\n",
    "        # saisie controlee d'un nombre positif ou nul\n",
    "         print(\"Saisir un nombre positif ou nul\")\n",
    "         nb = int(input())\n",
    "    return nb\n",
    "\n",
    "# Algorithme principal\n",
    "nombre=saisiePosNul()\n",
    "print(str(nombre) + \" est positif ou nul\")"
   ]
  },
  {
   "cell_type": "markdown",
   "metadata": {},
   "source": [
    "* Fonction permettant la saisie d'un entier compris dans un intervalle [a,b] (Par exemple, saisie d'un entier entre 10 et 20)  et permettant d'effectuer des saisies jusqu'à ce que ce nombre soit correct en indiquant à l'utilisateur s'il doit donner un nombre plus petit ou plus grand. "
   ]
  },
  {
   "cell_type": "code",
   "execution_count": 4,
   "metadata": {},
   "outputs": [
    {
     "name": "stdout",
     "output_type": "stream",
     "text": [
      "Saisir un nombre entre 10 et 20 (inclus)\n",
      "5\n",
      "Plus grand !\n",
      "Saisir un nombre entre 10 et 20 (inclus)\n",
      "21\n",
      "Plus petit !\n",
      "Saisir un nombre entre 10 et 20 (inclus)\n",
      "15\n",
      "15 est dans le bon intervalle\n"
     ]
    }
   ],
   "source": [
    "# Correction #\n",
    "\n",
    "# Définition de la fonction saisieBornee\n",
    "def saisieBornee(a, b) :\n",
    "    \"\"\" \n",
    "    Saisie controlee avec indications nombre compris entre a et b (inclus)\n",
    "    \"\"\"\n",
    "    print(\"Saisir un nombre entre \" + str(a) + \" et \" + str(b) + \" (inclus)\")\n",
    "    nb = int(input())\n",
    "    while nb < a or  nb > b :\n",
    "        if nb<a :\n",
    "            print(\"Plus grand !\")\n",
    "        else :\n",
    "            print(\"Plus petit !\")\n",
    "        print(\"Saisir un nombre entre \" + str(a) + \" et \" + str(b) + \" (inclus)\")\n",
    "        nb = int(input())\n",
    "    return nb\n",
    "\n",
    "# Algorithme principal\n",
    "nombre=saisieBornee(10,20)\n",
    "print(str(nombre) + \" est dans le bon intervalle\")\n"
   ]
  },
  {
   "cell_type": "markdown",
   "metadata": {},
   "source": [
    "## Exercice 2 : Discriminant d'un polynôme de second degré*"
   ]
  },
  {
   "cell_type": "markdown",
   "metadata": {},
   "source": [
    "Le but de cet exercice est de créer une fonction discriminant permettant de calculer et retourner la valeur du discriminant d'un polynôme de second degré ax^2 + bx + c = 0.\n",
    "\n",
    "<strong>Rappel : </strong> Le discrimant de l'équation $ax^2 + bx + c = 0$ est égal à $b^2-4ac$. Cette équation admet deux solutions réelles si le discriminant est strictement positif, une solution réelle si le discriminant est nul, et pas de solution réelle autrement. \n",
    "\n",
    "* Définir la fonction \\texttt{discriminant}.\n",
    "* Ecrire un programme affichant le nombre de racines réelles d'une équation $ax^2 + bx + c = 0$ où les coefficients $a$, $b$ et $c$ sont saisis par l'utilisateur."
   ]
  },
  {
   "cell_type": "code",
   "execution_count": 6,
   "metadata": {},
   "outputs": [
    {
     "name": "stdout",
     "output_type": "stream",
     "text": [
      "Saisir les coefficients a, b et c de l'equation\n",
      "1\n",
      "-2\n",
      "1\n",
      "Racine réelle double\n"
     ]
    }
   ],
   "source": [
    "# Correction #\n",
    "\n",
    "# Définition de la fonction discriminantPlySecondDegre\n",
    "\n",
    "def discriminantPlySecondDegre (a, b, c) :\n",
    "    \"\"\"\n",
    "    Fonction retournant la valeur du discriminant du polynome a*x*x + b *x + c = 0\n",
    "    \"\"\"\n",
    "    return b*b-4*a*c;\n",
    "\n",
    "# Algorithme principal\n",
    "print(\"Saisir les coefficients a, b et c de l'equation\")\n",
    "a = int(input())\n",
    "b = int(input())\n",
    "c = int(input())\n",
    "\n",
    "discriminant = discriminantPlySecondDegre (a,b,c)\n",
    "\n",
    "if discriminant > 0 :\n",
    "    print(\"Deux racines réelles\")\n",
    "elif discriminant == 0 :\n",
    "    print(\"Racine réelle double\")\n",
    "else :\n",
    "    print(\"Aucune solution réelle\")"
   ]
  },
  {
   "cell_type": "markdown",
   "metadata": {},
   "source": [
    "## Exercice 3 : Calcul de $x^n$ quand $n$ est un entier positif ou nul*"
   ]
  },
  {
   "cell_type": "markdown",
   "metadata": {},
   "source": [
    "### Question 1 :\n",
    "Ecrire une fonction calculant $x^n$ quand $n$ est un entier positif sans utiliser la fonction l'opérateur \\*\\*"
   ]
  },
  {
   "cell_type": "code",
   "execution_count": 7,
   "metadata": {},
   "outputs": [
    {
     "name": "stdout",
     "output_type": "stream",
     "text": [
      "Donner un nombre :\n",
      "2\n",
      "Donner une puissance\n",
      "8\n",
      "2.0 puissance 8 = 256.0\n"
     ]
    }
   ],
   "source": [
    "# Correction #\n",
    "\n",
    "# Définition de la fonction puissance\n",
    "def puissance( x, n) :\n",
    "    resultat=1\n",
    "    compteur =n\n",
    "    while compteur > 0 :\n",
    "        resultat = resultat * x\n",
    "        compteur = compteur -1\n",
    "    return resultat"
   ]
  },
  {
   "cell_type": "markdown",
   "metadata": {},
   "source": [
    "### Question 2 :\n",
    "Définir la fonction test_puissance qui teste la fonction puissance."
   ]
  },
  {
   "cell_type": "code",
   "execution_count": 7,
   "metadata": {},
   "outputs": [
    {
     "name": "stdout",
     "output_type": "stream",
     "text": [
      "Donner un nombre :\n",
      "2\n",
      "Donner une puissance\n",
      "8\n",
      "2.0 puissance 8 = 256.0\n"
     ]
    }
   ],
   "source": [
    "# Correction #\n",
    "\n",
    "# Définition de la fonction puissance\n",
    "def puissance( x, n) :\n",
    "    resultat=1\n",
    "    compteur =n\n",
    "    while compteur > 0 :\n",
    "        resultat = resultat * x\n",
    "        compteur = compteur -1\n",
    "    return resultat\n",
    "\n",
    "def test_puissance() :\n",
    "    erreur = False\n",
    "    \n",
    "    if abs(puissance(2,3) - 8) > 0.001 :\n",
    "        print(\"Probleme avec 2 puissance 3\")\n",
    "        erreur = True\n",
    "        \n",
    "    if abs(puissance(-2,3) - -8) > 0.001 :\n",
    "        print(\"Probleme avec -2 puissance 3\");\n",
    "        erreur = True\n",
    "        \n",
    "    if abs(puissance(-2,1) - -2) > 0.001 :\n",
    "        print(\"Probleme avec -2 puissance 1\")\n",
    "        erreur = True\n",
    "        \n",
    "    if abs(puissance(-17,0) - 1) > 0.001 :\n",
    "        print(\"Probleme avec -17 puissance 0\")\n",
    "        erreur = True\n",
    "        \n",
    "    if( abs(puissance(-2,-1) - -1) > 0.001 :\n",
    "        print(\"Probleme puissances négatives\")\n",
    "        erreur = True\n",
    "    \n",
    "    if not(erreur) :\n",
    "        print(\"Tous les tests ont été validés\")\n",
    "\n",
    "# algorithme principal\n",
    "test_puissance()"
   ]
  },
  {
   "cell_type": "markdown",
   "metadata": {},
   "source": [
    "## Exercice 5 : Produit d'entiers**\n",
    "### Question 1 : \n",
    "Définir la fonction produit qui calcule et renvoie le produit des entiers compris entre n_1 et et n_2 inclus. Si n_1 <= n_2, alors ce produit est égal à n_1 \\* (n_1 + 1) \\* ... \\* n_2."
   ]
  },
  {
   "cell_type": "code",
   "execution_count": null,
   "metadata": {},
   "outputs": [],
   "source": [
    "# Correction #\n",
    "\n",
    "# Définition de la fonction produit\n",
    "\n",
    "def produit(n1, n2) :\n",
    "    if (n1>n2) :\n",
    "        tmp = n1\n",
    "        n1 = n2\n",
    "        n2 = tmp\n",
    "    \n",
    "    resultat = n1\n",
    "    while n2 > n1 :\n",
    "        resultat *= n2\n",
    "        n2 = n2 -1\n",
    "        \n",
    "    return resultat"
   ]
  },
  {
   "cell_type": "markdown",
   "metadata": {},
   "source": [
    "### Question 2 : \n",
    "Définir une fonction test_produit qui teste la fonction de la question précédente."
   ]
  },
  {
   "cell_type": "code",
   "execution_count": null,
   "metadata": {},
   "outputs": [],
   "source": [
    "# Correction #\n",
    "\n",
    "# Définition de la fonction produit\n",
    "\n",
    "def produit(n1, n2) :\n",
    "    if (n1>n2) :\n",
    "        tmp = n1\n",
    "        n1 = n2\n",
    "        n2 = tmp\n",
    "    \n",
    "    resultat = n1\n",
    "    while n2 > n1 :\n",
    "        resultat *= n2\n",
    "        n2 = n2 -1\n",
    "        \n",
    "    return resultat\n",
    "\n",
    "def test_produit() :\n",
    "    erreur = False\n",
    "    \n",
    "    if produit(2,5) != 120 :\n",
    "        print(\"Probleme avec 2 et 5\")\n",
    "        erreur = True\n",
    "\n",
    "    if produit(5,2) != 120 :\n",
    "        print(\"Probleme avec 5 et 2\")\n",
    "        erreur = True\n",
    "\n",
    "    if produit(5,5) != 5 :\n",
    "        print(\"Probleme avec 5 et 5\")\n",
    "        erreur = True\n",
    "\n",
    "    if produit(-1,1) != 0 :\n",
    "        print(\"Probleme avec -1 et 1\")\n",
    "        erreur = True\n",
    "  \n",
    "    if not(erreur) :\n",
    "        print(\"Tous les tests ont été validés\")\n",
    "\n",
    "\n",
    "\n",
    "# algorithme principal\n",
    "\n",
    "test_produit()"
   ]
  },
  {
   "cell_type": "markdown",
   "metadata": {},
   "source": [
    "## Exercice 6 : Série harmonique**\n",
    "La série harmonique est la série définie pour tout n > 0 par H_n : \n",
    "H_n= 1 + 1\\2 + 1/3 + 1/4 + ... + 1/n\n",
    "\n",
    "### Question 1 : \n",
    "Définir la fonction harmonique prenant en paramètre un entier n et retournant la valeur H_n (la fonction retournera -1 si H_n n'est pas défini)."
   ]
  },
  {
   "cell_type": "code",
   "execution_count": null,
   "metadata": {},
   "outputs": [],
   "source": [
    "# Correction #\n",
    "\n",
    "# Définition de la fonction harmonique\n",
    "def harmonique(n) :\n",
    "    if n < 1 :\n",
    "        return -1\n",
    "\n",
    "    res = 1\n",
    "    while n > 1 :\n",
    "        res = res + 1/n\n",
    "        n=n-1\n",
    "        \n",
    "    return res"
   ]
  },
  {
   "cell_type": "markdown",
   "metadata": {},
   "source": [
    "### Question 2 : \n",
    "Définir une fonction test_harmonique qui teste la fonction de la question précédente."
   ]
  },
  {
   "cell_type": "code",
   "execution_count": null,
   "metadata": {},
   "outputs": [],
   "source": [
    "# Correction #\n",
    "\n",
    "# Définition de la fonction harmonique\n",
    "def harmonique(n) :\n",
    "    if n < 1 :\n",
    "        return -1\n",
    "\n",
    "    res = 1\n",
    "    while n > 1 :\n",
    "        res = res + 1/n\n",
    "        n=n-1\n",
    "        \n",
    "    return res\n",
    "\n",
    "def test_harmonique() :\n",
    "    erreur = False\n",
    "    \n",
    "    if abs(harmonique(5) - 2.2833) > 0.0001 :\n",
    "        print(\"Problème avec H(5)\")\n",
    "        erreur = True\n",
    "        \n",
    "    if abs(harmonique(20) - 3.597739) >0.0001 :\n",
    "        print(\"Problème avec H(20)\")\n",
    "        erreur = True\n",
    "           \n",
    "    if abs(harmonique(1) - 1) > 0.0001 :\n",
    "        print(\"Problème avec H(1)\")\n",
    "        erreur = True\n",
    "           \n",
    "    if abs(harmonique(0) - -1) > 0.0001 :\n",
    "        print(\"Problème avec H(0)\")\n",
    "        erreur = True\n",
    "           \n",
    "    if abs(harmonique(-10) - -1) > 0.0001 :\n",
    "        print(\"Problème avec H(10)\\n\")\n",
    "        erreur = True\n",
    "           \n",
    "    if not(erreur) :\n",
    "        print(\"Tous les tests ont été validés\")\n",
    "\n",
    "\n",
    "\n",
    "# algorithme principal\n",
    "\n",
    "test_harmonique()\n"
   ]
  },
  {
   "cell_type": "code",
   "execution_count": null,
   "metadata": {},
   "outputs": [],
   "source": []
  }
 ],
 "metadata": {
  "kernelspec": {
   "display_name": "Python 3",
   "language": "python",
   "name": "python3"
  }
 },
 "nbformat": 4,
 "nbformat_minor": 2
}
