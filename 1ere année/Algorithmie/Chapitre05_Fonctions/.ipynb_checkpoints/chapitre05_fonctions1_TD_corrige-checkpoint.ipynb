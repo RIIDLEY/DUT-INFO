{
 "cells": [
  {
   "cell_type": "markdown",
   "metadata": {
    "collapsed": true
   },
   "source": [
    "# <center>Chapitre 5 : Fonctions (Deuxième partie) - TD (corrigé)</center>"
   ]
  },
  {
   "cell_type": "markdown",
   "metadata": {},
   "source": [
    "## Exercice 1 : Valeur de retour*"
   ]
  },
  {
   "cell_type": "markdown",
   "metadata": {},
   "source": [
    "* A l'exécution de ce code, combien de fois est appelée `f` ? Combien de fois est affiché `hello` ? "
   ]
  },
  {
   "cell_type": "code",
   "execution_count": null,
   "metadata": {},
   "outputs": [],
   "source": [
    "# Définition de la fonction\n",
    "def f(a) :\n",
    "    if a < 0 : \n",
    "        return\n",
    "    print(\"hello\")\n",
    "\n",
    "# Algorithme principal\n",
    "f(3)\n",
    "f(-2)"
   ]
  },
  {
   "cell_type": "markdown",
   "metadata": {},
   "source": [
    "** CORRECTION :**\n",
    "La fonction `f` est appelée 2 fois et `hello` est affiché une seule fois."
   ]
  },
  {
   "cell_type": "markdown",
   "metadata": {},
   "source": [
    "* Quel est l'affichage produit ? Quelles sont les valeurs des variables ?"
   ]
  },
  {
   "cell_type": "code",
   "execution_count": null,
   "metadata": {},
   "outputs": [],
   "source": [
    "%load_ext tutormagic"
   ]
  },
  {
   "cell_type": "code",
   "execution_count": null,
   "metadata": {},
   "outputs": [],
   "source": [
    "%%tutor -r -l python3\n",
    "# Définition de la fonction\n",
    "def f(x) :\n",
    "    return 2 * x + 3;\n",
    "\n",
    "# Algorithme principal\n",
    "res = f(3);\n",
    "print(res);\n",
    "z = 2;\n",
    "res = f(z);\n",
    "print(res);\n",
    "print(f(res));\n",
    "res = f(res);\n",
    "print(res);\n",
    "print(f(res));"
   ]
  },
  {
   "cell_type": "markdown",
   "metadata": {},
   "source": [
    "* On considère les fonctions `somme1` et `somme2` définies par :\n",
    "\n",
    "```python\n",
    "def somme1( a, b) :\n",
    "    print(a+b)\n",
    "\n",
    "def somme2(a, b) :\n",
    "    return a+b\n",
    "```\n",
    "1. Quelle est la différence entre `somme1` et `somme2` ?\n",
    "2. Utiliser la fonction `somme1` pour afficher le résultat de 2 + 7 (sans utiliser l'opérateur `+`).\n",
    "Même question avec la fonction `somme2`.\n",
    "3. Utiliser la fonction `somme1` pour afficher le résultat de 2 + 7 + 18 (sans utiliser l'opérateur `+`). \n",
    "Même question avec la fonction somme2. Quelle est alors la fonction la mieux programmée ?"
   ]
  },
  {
   "cell_type": "markdown",
   "metadata": {},
   "source": [
    "** CORRECTION :**\n",
    "\n",
    "1. `somme1` prend deux paramètres et ne retourne aucune valeur. Elle affiche le résultat de l'opération `+`. \n",
    "`somme2` prend deux paramètres et retourne le résultat de l'opération `+` à l'algorithme appelant.\n",
    "```python\n",
    "somme1(2,7)\n",
    "print(somme2(2,7))\n",
    "```\n",
    "2. Il n'est pas possible de faire un calcul (autre qu'une seule addition) avec `somme1`.\n",
    "Avec `somme2` :\n",
    "```python\n",
    "print(somme2(somme2(2,7),18))\n",
    "```\n",
    "En conclusion, la fonction `somme2` est mieux programmée puisqu'elle est plus générique."
   ]
  },
  {
   "cell_type": "markdown",
   "metadata": {},
   "source": [
    "## Exercice 2 : Test de parité*"
   ]
  },
  {
   "cell_type": "markdown",
   "metadata": {},
   "source": [
    "### Question 1 : \n",
    "Ecrire la fonction `estPair` qui affiche si un nombre reçu en paramètre est pair ou non. Tester la sur un jeu de valeurs significatives."
   ]
  },
  {
   "cell_type": "code",
   "execution_count": 6,
   "metadata": {},
   "outputs": [
    {
     "name": "stdout",
     "output_type": "stream",
     "text": [
      "Le nombre 0 est pair.\n",
      "Le nombre 4 est pair.\n",
      "Le nombre 3 est impair.\n"
     ]
    }
   ],
   "source": [
    "#------------------------------#\n",
    "#    CORRECTION  ! ! ! ! ! !   #\n",
    "#------------------------------#\n",
    "\n",
    "# Définition de la fonction\n",
    "def estPair(nombre) :\n",
    "    \"\"\"\n",
    "    Affiche si nombre est pair ou impair\n",
    "    nombre (entree) : nombre (int) dont on veut déterminer la parité (pair ou impair)\n",
    "    \"\"\"\n",
    "    if nombre%2 == 0 :\n",
    "        print(\"Le nombre \" + str(nombre) + \" est pair.\")\n",
    "    else :\n",
    "        print(\"Le nombre \" + str(nombre) + \" est impair.\");\n",
    "\n",
    "        # Algorithme principal\n",
    "estPair(0)\n",
    "estPair(4)\n",
    "estPair(3)"
   ]
  },
  {
   "cell_type": "markdown",
   "metadata": {},
   "source": [
    "### Question 2 : \n",
    "Ré-écrire la fonction estPair pour que cette dernière renvoie True si le nombre reçu en paramètre est pair, False sinon. Ecrire des tests pour des valeurs significatives."
   ]
  },
  {
   "cell_type": "code",
   "execution_count": null,
   "metadata": {},
   "outputs": [],
   "source": [
    "#------------------------------#\n",
    "#    CORRECTION  ! ! ! ! ! !   #\n",
    "#------------------------------#\n",
    "\n",
    "# Définition de la fonction\n",
    "def estPair(nombre) :\n",
    "    \"\"\"\n",
    "    Affiche si nombre est pair ou impair\n",
    "    nombre (entree) : nombre (int) dont on veut déterminer la parité (pair ou impair)\n",
    "    valeur retournée : (bool)  True si le nombre est pair, False sinon\n",
    "    \"\"\"\n",
    "    return nombre%2 == 0\n",
    "\n",
    "# Algorithme principal\n",
    "n = 0\n",
    "if estPair(n) :\n",
    "    print(\"Le nombre \" + str(n) + \" est pair.\")\n",
    "else :\n",
    "    print(\"Le nombre \" + str(n) + \" est impair.\");\n",
    "\n",
    "n = 4\n",
    "if estPair(n) :\n",
    "    print(\"Le nombre \" + str(n) + \" est pair.\")\n",
    "else :\n",
    "    print(\"Le nombre \" + str(n) + \" est impair.\");\n",
    " \n",
    "n = 3\n",
    "if estPair(n) :\n",
    "    print(\"Le nombre \" + str(n) + \" est pair.\")\n",
    "else :\n",
    "    print(\"Le nombre \" + str(n) + \" est impair.\");"
   ]
  },
  {
   "cell_type": "markdown",
   "metadata": {},
   "source": [
    "## Exercice 3 : Moyenne de deux nombres*"
   ]
  },
  {
   "cell_type": "markdown",
   "metadata": {},
   "source": [
    "Ecrire la fonction `moyenne' qui reçoit deux nombres flottants en argument et qui calcule et renvoie leur moyenne."
   ]
  },
  {
   "cell_type": "code",
   "execution_count": 7,
   "metadata": {},
   "outputs": [
    {
     "name": "stdout",
     "output_type": "stream",
     "text": [
      "Moyenne de 2 et 3 = 2.5\n"
     ]
    }
   ],
   "source": [
    "#------------------------------#\n",
    "#    CORRECTION  ! ! ! ! ! !   #\n",
    "#------------------------------#\n",
    "\n",
    "# Définition de la fonction\n",
    "def moyenne(a, b) :\n",
    "    \"\"\"\n",
    "    Calcule et retourne la moyenne de deux nombres\n",
    "    a (entree) : premier nombre (float)\n",
    "    b (entree) : deuxième nombre (float)\n",
    "    valeur retournée : (float) moyenne de a et b\n",
    "    \"\"\"\n",
    "    return (a+b)/2\n",
    "\n",
    "# Algorithme principal\n",
    "\n",
    "print(\"Moyenne de 2 et 3 = \" + str(moyenne(2,3)))"
   ]
  },
  {
   "cell_type": "markdown",
   "metadata": {},
   "source": [
    "## Exercice 4 : Année bissextile**"
   ]
  },
  {
   "cell_type": "markdown",
   "metadata": {},
   "source": [
    "Ecrire une fonction qui permet de determiner si une année est bissextile. \n",
    "\n",
    "On rappelle qu'une année est bissextile si \n",
    "* elle est divisible par 4\n",
    "* mais n'est pas divible par 100\n",
    "* sauf si elle est divisible par 400\n",
    "\n",
    "Ainsi 2008 était bissextile, 1900 n'était pas bissextile et 2000 était bissextile."
   ]
  },
  {
   "cell_type": "code",
   "execution_count": 8,
   "metadata": {},
   "outputs": [
    {
     "name": "stdout",
     "output_type": "stream",
     "text": [
      "2008 est bissextile\n",
      "1900 n'est pas bissextile\n",
      "2000 est bissextile\n"
     ]
    }
   ],
   "source": [
    "#------------------------------#\n",
    "#    CORRECTION  ! ! ! ! ! !   #\n",
    "#------------------------------#\n",
    "\n",
    "# Définition de la fonction\n",
    "def estBissextile(annee) :\n",
    "    \"\"\"\n",
    "    Determine si annee est bissextile ou pas\n",
    "    annee (entree) : annee (int) a tester\n",
    "    valeur retournée : (bool) True si annee est bissextile, false sinon\n",
    "    \"\"\"\n",
    "    return annee%4==0 and (annee%100!=0 or annee%400==0)\n",
    "\n",
    "# Algorithme principal\n",
    "an = 2008\n",
    "if estBissextile(an) : \n",
    "    print (str(an) + \" est bissextile\")\n",
    "else :\n",
    "    print (str(an) + \" n'est pas bissextile\")\n",
    "    \n",
    "an = 1900\n",
    "if estBissextile(an) : \n",
    "    print (str(an) + \" est bissextile\")\n",
    "else :\n",
    "    print (str(an) + \" n'est pas bissextile\")\n",
    "    \n",
    "an = 2000\n",
    "if estBissextile(an) : \n",
    "    print (str(an) + \" est bissextile\")\n",
    "else :\n",
    "    print (str(an) + \" n'est pas bissextile\")"
   ]
  },
  {
   "cell_type": "markdown",
   "metadata": {},
   "source": [
    "## Exercice 5 : Produit d'entiers**\n",
    "### Question 1 : \n",
    "Définir la fonction `produit` qui calcule et renvoie le produit des entiers compris entre $n_1$ et et $n_2$ inclus. Si $n_1\\leq n_2$, alors ce produit est égal à $n_1 * (n_1 + 1) * ... * n_2$.\n"
   ]
  },
  {
   "cell_type": "code",
   "execution_count": null,
   "metadata": {},
   "outputs": [],
   "source": [
    "#------------------------------#\n",
    "#    CORRECTION  ! ! ! ! ! !   #\n",
    "#------------------------------#\n",
    "\n",
    "# Définition de la fonction produit\n",
    "def produit(n1, n2) :\n",
    "    if (n1>n2) :\n",
    "        tmp = n1\n",
    "        n1 = n2\n",
    "        n2 = tmp\n",
    "    \n",
    "    resultat = n1\n",
    "    while n2 > n1 :\n",
    "        resultat *= n2\n",
    "        n2 = n2 -1\n",
    "        \n",
    "    return resultat"
   ]
  },
  {
   "cell_type": "markdown",
   "metadata": {},
   "source": [
    "### Question 2 : \n",
    "Définir une fonction `test_produit` qui teste la fonction de la question précédente."
   ]
  },
  {
   "cell_type": "code",
   "execution_count": null,
   "metadata": {},
   "outputs": [],
   "source": [
    "#------------------------------#\n",
    "#    CORRECTION  ! ! ! ! ! !   #\n",
    "#------------------------------#\n",
    "\n",
    "# Définition de la fonction produit\n",
    "def produit(n1, n2) :\n",
    "    if (n1>n2) :\n",
    "        tmp = n1\n",
    "        n1 = n2\n",
    "        n2 = tmp\n",
    "    \n",
    "    resultat = n1\n",
    "    while n2 > n1 :\n",
    "        resultat *= n2\n",
    "        n2 = n2 -1\n",
    "        \n",
    "    return resultat\n",
    "\n",
    "def test_produit() :\n",
    "    erreur = False\n",
    "    \n",
    "    if produit(2,5) != 120 :\n",
    "        print(\"Probleme avec 2 et 5\")\n",
    "        erreur = True\n",
    "\n",
    "    if produit(5,2) != 120 :\n",
    "        print(\"Probleme avec 5 et 2\")\n",
    "        erreur = True\n",
    "\n",
    "    if produit(5,5) != 5 :\n",
    "        print(\"Probleme avec 5 et 5\")\n",
    "        erreur = True\n",
    "\n",
    "    if produit(-1,1) != 0 :\n",
    "        print(\"Probleme avec -1 et 1\")\n",
    "        erreur = True\n",
    "  \n",
    "    if not(erreur) :\n",
    "        print(\"Tous les tests ont été validés\")\n",
    "\n",
    "\n",
    "\n",
    "# algorithme principal\n",
    "test_produit()"
   ]
  },
  {
   "cell_type": "markdown",
   "metadata": {},
   "source": [
    "## Exercice 6 : Série harmonique**\n",
    "La série harmonique est la série définie pour tout $n >$ 0 par: \n",
    "$$H_n= 1 + \\frac12 + \\frac13 + \\frac14 + \\cdots + \\frac1n$$\n",
    "\n",
    "### Question 1 : \n",
    "Définir la fonction `harmonique` prenant en paramètre un entier n et retournant la valeur $H_n$ (la fonction retournera `-1` si $H_n$ n'est pas défini)."
   ]
  },
  {
   "cell_type": "code",
   "execution_count": null,
   "metadata": {},
   "outputs": [],
   "source": [
    "#------------------------------#\n",
    "#    CORRECTION  ! ! ! ! ! !   #\n",
    "#------------------------------#\n",
    "\n",
    "\n",
    "# Définition de la fonction harmonique\n",
    "def harmonique(n) :\n",
    "    if n < 1 :\n",
    "        return -1\n",
    "\n",
    "    res = 1\n",
    "    while n > 1 :\n",
    "        res = res + 1/n\n",
    "        n=n-1\n",
    "        \n",
    "    return res"
   ]
  },
  {
   "cell_type": "markdown",
   "metadata": {},
   "source": [
    "### Question 2 : \n",
    "Définir une fonction `test_harmonique` qui teste la fonction de la question précédente."
   ]
  },
  {
   "cell_type": "code",
   "execution_count": 9,
   "metadata": {},
   "outputs": [
    {
     "name": "stdout",
     "output_type": "stream",
     "text": [
      "2.283333333333333\n",
      "3.597739657143682\n"
     ]
    }
   ],
   "source": [
    "#------------------------------#\n",
    "#    CORRECTION  ! ! ! ! ! !   #\n",
    "#------------------------------#\n",
    "\n",
    "# Définition de la fonction harmonique\n",
    "def harmonique(n) :\n",
    "    if n < 1 :\n",
    "        return -1\n",
    "\n",
    "    res = 1\n",
    "    while n > 1 :\n",
    "        res = res + 1/n\n",
    "        n=n-1\n",
    "        \n",
    "    return res\n",
    "\n",
    "def test_harmonique2() :\n",
    "    erreur = False\n",
    "    \n",
    "    if abs(harmonique(5) - 2.2833) > 0.0001 :\n",
    "        print(\"Problème avec H(5)\")\n",
    "        erreur = True\n",
    "        \n",
    "    if abs(harmonique(20) - 3.597739) >0.0001 :\n",
    "        print(\"Problème avec H(20)\")\n",
    "        erreur = True\n",
    "           \n",
    "    if abs(harmonique(1) - 1) > 0.0001 :\n",
    "        print(\"Problème avec H(1)\")\n",
    "        erreur = True\n",
    "           \n",
    "    if abs(harmonique(0) - -1) > 0.0001 :\n",
    "        print(\"Problème avec H(0)\")\n",
    "        erreur = True\n",
    "           \n",
    "    if abs(harmonique(-10) - -1) > 0.0001 :\n",
    "        print(\"Problème avec H(10)\\n\")\n",
    "        erreur = True\n",
    "           \n",
    "    if not(erreur) :\n",
    "        print(\"Tous les tests ont été validés\")\n",
    "\n",
    "def test_harmonique2() :\n",
    "    erreur = False\n",
    "    \n",
    "    if abs(harmonique(5) - 2.2833) > 0.0001 :\n",
    "        print(\"Problème avec H(5)\")\n",
    "        erreur = True\n",
    "        \n",
    "    if abs(harmonique(20) - 3.597739) >0.0001 :\n",
    "        print(\"Problème avec H(20)\")\n",
    "        erreur = True\n",
    "           \n",
    "    if abs(harmonique(1) - 1) > 0.0001 :\n",
    "        print(\"Problème avec H(1)\")\n",
    "        erreur = True\n",
    "           \n",
    "    if abs(harmonique(0) - -1) > 0.0001 :\n",
    "        print(\"Problème avec H(0)\")\n",
    "        erreur = True\n",
    "           \n",
    "    if abs(harmonique(-10) - -1) > 0.0001 :\n",
    "        print(\"Problème avec H(10)\\n\")\n",
    "        erreur = True\n",
    "           \n",
    "    if not(erreur) :\n",
    "        print(\"Tous les tests ont été validés\")\n",
    "\n",
    "\n",
    "\n",
    "# algorithme principal\n",
    "print(harmonique(5))\n",
    "print(harmonique(20))\n",
    "#test_harmonique()\n"
   ]
  },
  {
   "cell_type": "code",
   "execution_count": null,
   "metadata": {},
   "outputs": [],
   "source": []
  }
 ],
 "metadata": {
  "kernelspec": {
   "display_name": "Python 3",
   "language": "python",
   "name": "python3"
  },
  "language_info": {
   "codemirror_mode": {
    "name": "ipython",
    "version": 3
   },
   "file_extension": ".py",
   "mimetype": "text/x-python",
   "name": "python",
   "nbconvert_exporter": "python",
   "pygments_lexer": "ipython3",
   "version": "3.6.4"
  }
 },
 "nbformat": 4,
 "nbformat_minor": 2
}
