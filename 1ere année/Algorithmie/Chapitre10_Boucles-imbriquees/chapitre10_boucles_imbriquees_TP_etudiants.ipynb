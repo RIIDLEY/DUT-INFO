{
 "cells": [
  {
   "cell_type": "markdown",
   "metadata": {},
   "source": [
    "# <center> Chapitre 10 : Boucles imbriquées - TP </center>"
   ]
  },
  {
   "cell_type": "markdown",
   "metadata": {},
   "source": [
    "## Exercice 1:  Dessins d'étoiles**\n",
    "### Question 1 : Rectangle\n",
    "Définir une fonction affichant un rectangle d'étoiles de taille `n` $\\times$ `m`, où `n` et `m` sont deux paramètres de la fonction.\n",
    "\n",
    "**Exemple :** pour `n=3` et `m=4`\n",
    "````\n",
    "****\n",
    "****\n",
    "****\n",
    "````"
   ]
  },
  {
   "cell_type": "code",
   "execution_count": null,
   "metadata": {},
   "outputs": [],
   "source": [
    "#-------------------------#\n",
    "#    Écrire le code ici   #\n",
    "#-------------------------#\n",
    "\n",
    "\n",
    "\n"
   ]
  },
  {
   "cell_type": "markdown",
   "metadata": {},
   "source": [
    "### Question 2 : Triangle rectangle "
   ]
  },
  {
   "cell_type": "markdown",
   "metadata": {},
   "source": [
    "Définir une fonction affichant un triangle rectangle dont la hauteur et la base dépendent d'un entier `n`\n",
    " passé en paramètre. \n",
    "\n",
    "**Exemples :**\n",
    "````\n",
    "pour n=1      pour n=2     pour n=3\n",
    "*             *            *             \n",
    "              **           ** \n",
    "                           ***\n",
    "````"
   ]
  },
  {
   "cell_type": "code",
   "execution_count": null,
   "metadata": {},
   "outputs": [],
   "source": [
    "#-------------------------#\n",
    "#    Écrire le code ici   #\n",
    "#-------------------------#\n",
    "\n",
    "\n",
    "\n"
   ]
  },
  {
   "cell_type": "markdown",
   "metadata": {},
   "source": [
    "### Question 3 : Rectangle partitionné\n",
    "Ecrire une fonction `deuxTrianglesRectangles` qui prend en paramètre  la hauteur et qui affiche la figure suivante. Les symboles utilisés sont des étoiles `*` et des tirets `-`.\n",
    "\n",
    "**Exemple :** pour une hauteur de 5\n",
    "````\n",
    "        *----\n",
    "        **---\n",
    "        ***--\n",
    "        ****-\n",
    "        *****\n",
    "````"
   ]
  },
  {
   "cell_type": "code",
   "execution_count": null,
   "metadata": {},
   "outputs": [],
   "source": [
    "#-------------------------#\n",
    "#    Écrire le code ici   #\n",
    "#-------------------------#\n",
    "\n",
    "\n",
    "\n"
   ]
  },
  {
   "cell_type": "markdown",
   "metadata": {},
   "source": [
    "### Question 4 : Triangle isocèle\n",
    "Ecrire une fonction qui affiche un triangle isocèle dont la hauteur dépend d'un entier `n` passé en paramètre.\n",
    "\n",
    "**Exemples :**\n",
    "````\n",
    "pour n=1   pour n=2   pour n=3    pour n=4\n",
    " *             *          *           *\n",
    "              ***        ***         ***\n",
    "                        *****       *****\n",
    "````"
   ]
  },
  {
   "cell_type": "code",
   "execution_count": null,
   "metadata": {},
   "outputs": [],
   "source": [
    "#-------------------------#\n",
    "#    Écrire le code ici   #\n",
    "#-------------------------#\n",
    "\n",
    "\n",
    "\n"
   ]
  },
  {
   "cell_type": "markdown",
   "metadata": {},
   "source": [
    "### Question 5 : Losange\n",
    "Ecrire une fonction qui affiche un losange dont la longueur des diagonales est un entier impair `n` passé en  paramètre. Dans le cas où `n` est pair, la fonction affichera un message d'erreur.\n",
    "\n",
    "**Exemples :**\n",
    "````\n",
    "pour n=1    pour n=3     pour n=5     pour n=7\n",
    "  *            *            *            *\n",
    "              ***          ***          ***\n",
    "               *          *****        *****\n",
    "                           ***        *******\n",
    "                            *          *****\n",
    "                                        ***\n",
    "                                         *\n",
    "````"
   ]
  },
  {
   "cell_type": "code",
   "execution_count": null,
   "metadata": {},
   "outputs": [],
   "source": [
    "#-------------------------#\n",
    "#    Écrire le code ici   #\n",
    "#-------------------------#\n",
    "\n",
    "\n",
    "\n"
   ]
  },
  {
   "cell_type": "markdown",
   "metadata": {},
   "source": [
    "### Question 6 : Programme principal\n",
    "Ecrire un programme principal pour obtenir l'affichage suivant :\n",
    "````\n",
    "un rectangle 3 X 4\n",
    "****\n",
    "****\n",
    "****\n",
    "un triangle rectangle de hauteur et base 4\n",
    "*\n",
    "**\n",
    "***\n",
    "****\n",
    "deux triangles rectangles de * et - ayant pour hauteur et base 5\n",
    "*----\n",
    "**---\n",
    "***--\n",
    "****-\n",
    "*****\n",
    "un triangle isocèle de hauteur 5 \n",
    "    *\n",
    "   ***\n",
    "  *****\n",
    " *******\n",
    "*********\n",
    "un beau losange de hauteur 9\n",
    "    *\n",
    "   ***\n",
    "  *****\n",
    " *******\n",
    "*********\n",
    " *******\n",
    "  *****\n",
    "   ***\n",
    "    *\n",
    "````"
   ]
  },
  {
   "cell_type": "code",
   "execution_count": null,
   "metadata": {},
   "outputs": [],
   "source": [
    "#-------------------------#\n",
    "#    Écrire le code ici   #\n",
    "#-------------------------#\n",
    "\n",
    "\n",
    "\n"
   ]
  },
  {
   "cell_type": "markdown",
   "metadata": {},
   "source": [
    "# Exercice 2  : Table de multiplication*\n",
    "### Question 1 : Tables de multiplication de 1 à 10\n",
    "Ecrire un programme  qui calcule et affiche les tables de multiplication de 1 à 10. \n",
    "Une exécution de ce programme donnera à l'écran ce qui suit.\n",
    "````\n",
    "x | 1 2 3 4 5 6 7 8 9 10\n",
    "-----------------------------------\n",
    "1 | 1 2 3 4 5 6 7 8 9 10\n",
    "2 | 2 4 6 8 10 12 14 16 18 20\n",
    "3 | 3 6 9 12 15 18 21 24 27 30\n",
    "4 | 4 8 12 16 20 24 28 32 36 40\n",
    "5 | 5 10 15 20 25 30 35 40 45 50\n",
    "6 | 6 12 18 24 30 36 42 48 54 60\n",
    "7 | 7 14 21 28 35 42 49 56 63 70\n",
    "8 | 8 16 24 32 40 48 56 64 72 80\n",
    "9 | 9 18 27 36 45 54 63 72 81 90\n",
    "10 | 10 20 30 40 50 60 70 80 90 100\n",
    "````"
   ]
  },
  {
   "cell_type": "code",
   "execution_count": null,
   "metadata": {},
   "outputs": [],
   "source": [
    "#-------------------------#\n",
    "#    Écrire le code ici   #\n",
    "#-------------------------#\n",
    "\n",
    "\n",
    "\n"
   ]
  },
  {
   "cell_type": "markdown",
   "metadata": {},
   "source": [
    "### Question 2 : Alignement à l'affichage\n",
    "Modifier le code précédent pour obtenir l'affichage ci-dessous  (la fonction `rjust`peut être fort utile pour cela) :\n",
    "\n",
    "```\n",
    "   X |   1   2   3   4   5   6   7   8   9  10\n",
    "--------------------------------------------------\n",
    "   1 |   1   2   3   4   5   6   7   8   9  10\n",
    "   2 |   2   4   6   8  10  12  14  16  18  20\n",
    "   3 |   3   6   9  12  15  18  21  24  27  30\n",
    "   4 |   4   8  12  16  20  24  28  32  36  40\n",
    "   5 |   5  10  15  20  25  30  35  40  45  50\n",
    "   6 |   6  12  18  24  30  36  42  48  54  60\n",
    "   7 |   7  14  21  28  35  42  49  56  63  70\n",
    "   8 |   8  16  24  32  40  48  56  64  72  80\n",
    "   9 |   9  18  27  36  45  54  63  72  81  90\n",
    "  10 |  10  20  30  40  50  60  70  80  90 100\n",
    "```"
   ]
  },
  {
   "cell_type": "code",
   "execution_count": null,
   "metadata": {},
   "outputs": [],
   "source": [
    "#-------------------------#\n",
    "#    Écrire le code ici   #\n",
    "#-------------------------#\n",
    "\n",
    "\n",
    "\n"
   ]
  },
  {
   "cell_type": "markdown",
   "metadata": {},
   "source": [
    "## Exercice 3 : Dessins d'étoiles et codage**\n",
    "Un dessin d'étoiles est un dessin contenant uniquement des espaces, le symbole `*` et les retours à la ligne. Les dessins de l'Exercice 1 excepté celui de la troisième question sont des exemples de dessin d'étoiles. Pour stocker un dessin d'étoiles de manière \"compressée\", on peut représenter ce dessin par un tableau d'entiers. Chaque nombre positif du tableau correspond au nombre de symboles (espace ou `*`) consécutifs dans une ligne du dessin. La valeur -1 correspond à un retour à la ligne. On suppose que chaque ligne commence par des étoiles. A titre d'exemple, le triangle isocèle pour `n=4` dans l'Exercice 1 (Question 4) serait représenté par le tableau\n",
    "```\n",
    "tableau = [0, 3, 1, -1, 0, 2, 3, -1, 0, 1, 5, -1, 7,-1]\n",
    "```\n",
    "En effet, la première contient 0 étoile, suivi de 3 espaces puis d'une étoile. La deuxième ligne contient 0 étoile, 2 espaces puis 3 étoiles, etc.\n",
    "\n",
    "### Question 1 : Dessin à partir du codage\n",
    "Définir la fonction `afficheDessinEtoiles` prenant en paramètre un tableau d'entiers et affichant le dessin d'étoiles correspondant.\n"
   ]
  },
  {
   "cell_type": "code",
   "execution_count": null,
   "metadata": {},
   "outputs": [],
   "source": [
    "#-------------------------#\n",
    "#    Écrire le code ici   #\n",
    "#-------------------------#\n",
    "\n",
    "\n",
    "\n"
   ]
  },
  {
   "cell_type": "markdown",
   "metadata": {},
   "source": [
    "### Question 2 : Exemples d'utilisation \n",
    "Appeler la fonction `afficheDessinEtoiles()` pour afficher le triangle isocèle de taille 4 défini à la Question 4 de l'Exercice 1. \n",
    "\n",
    "Afficher également le dessin d'étoiles défini par le tableau suivant (utiliser le copier/coller pour déclarer le tableau dans votre programme principal\n",
    "```\n",
    "t=[0,3,14,-1,0,2,2,12,2,-1,0,1,2,2,2,6,2,2,2,-1,2,16,2,-1,2,7,2,7,2,-1,2,\n",
    "16,2,-1,0,1,2,14,2,-1,0,2,2,3,6,3,2,-1,0,3,2,10,2,-1,0,4,12,-1]\n",
    "```"
   ]
  },
  {
   "cell_type": "code",
   "execution_count": null,
   "metadata": {},
   "outputs": [],
   "source": [
    "#-------------------------#\n",
    "#    Écrire le code ici   #\n",
    "#-------------------------#\n",
    "\n",
    "\n",
    "\n"
   ]
  }
 ],
 "metadata": {
  "kernelspec": {
   "display_name": "Python 3",
   "language": "python",
   "name": "python3"
  },
  "language_info": {
   "codemirror_mode": {
    "name": "ipython",
    "version": 3
   },
   "file_extension": ".py",
   "mimetype": "text/x-python",
   "name": "python",
   "nbconvert_exporter": "python",
   "pygments_lexer": "ipython3",
   "version": "3.6.4"
  }
 },
 "nbformat": 4,
 "nbformat_minor": 2
}
