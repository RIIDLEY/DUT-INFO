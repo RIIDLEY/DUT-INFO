{
 "cells": [
  {
   "cell_type": "markdown",
   "metadata": {},
   "source": [
    "# <center> Chapitre 10 : Boucles imbriquées - TD</center>"
   ]
  },
  {
   "cell_type": "markdown",
   "metadata": {},
   "source": [
    "## Exercice 1 - Puissance d'un circuit\n",
    "Écrire un programme qui permet d'afficher la puissance d'un circuit en fonction de la tension `u` variant par pas de 0.5V et de l'intensité `i` variant par pas de 0.05A sachant que les valeurs initiales et finales de `u` et `i` seront demandées à l'utilisateur.\n",
    "\n",
    "_Exemple d'affichage :_ (pour `u` variant de 2 à 3V et `i` variant de 0.15 à 0.3A)\n",
    "````\n",
    "\n",
    "u=2.0 i=0.15 p=0.3\n",
    "u=2.0 i=0.2 p=0.4\n",
    "u=2.0 i=0.25 p=0.5\n",
    "u=2.0 i=0.3 p=0.6\n",
    "\n",
    "u=2.5 i=0.15 p=0.38\n",
    "u=2.5 i=0.2 p=0.5\n",
    "u=2.5 i=0.25 p=0.62\n",
    "u=2.5 i=0.3 p=0.75\n",
    "\n",
    "u=3.0 i=0.15 p=0.45\n",
    "u=3.0 i=0.2 p=0.6\n",
    "u=3.0 i=0.25 p=0.75\n",
    "u=3.0 i=0.3 p=0.9\n",
    "````\n"
   ]
  },
  {
   "cell_type": "markdown",
   "metadata": {},
   "source": [
    "## Exercice 2 : Saisie de valeurs positives dans un tableau\n",
    "Définir une fonction `saisieValPositives` prenant en paramètre un tableau d'entiers et un nombre d'éléments à saisir, et initialisant les cases du tableau avec des valeurs positives saisies par l'utilisateur. La saisie de chaque valeur sera répétée jusqu'à ce que la valeur donnée soit positive. É la fonction avec un tableau t=[] et 3 éléments à saisir."
   ]
  },
  {
   "cell_type": "markdown",
   "metadata": {},
   "source": [
    "## Exercice 3 : Calcul des puissances entières avec des additions\n",
    "\n",
    "Ecrire un programme permettant de calculer $x^y$ avec x et y entiers positifs. \n",
    "Seule l'addition est autorisée."
   ]
  },
  {
   "cell_type": "markdown",
   "metadata": {},
   "source": [
    "## Exercice 4 : Nombre de façons de rendre la monnaie\n",
    "### Question 4.1 :\n",
    "Ecrire un programme qui affiche toutes les manières possibles\n",
    "d'obtenir 1 Euro  avec des pièces de 2 centimes, 5 centimes\n",
    "et 10 centimes. On veillera à ne pas afficher les $0$ ($20*5 = 100$ et non $0*2+20*5*0*10=100$).\n",
    "Le programme calculera et affichera le nombre total de manières d'obtenir ainsi 1 Euro. "
   ]
  },
  {
   "cell_type": "markdown",
   "metadata": {},
   "source": [
    "### Question 4.2\n",
    "Modifier le programme précédent pour qu'il affiche le nombre de manières possibles \n",
    "et toutes ces manières d'obtenir une somme `somme` avec des pièces de 2 centimes, 5\n",
    "centimes et 10 centimes. La somme (en centimes) sera saisie par\n",
    "l'utilisateur."
   ]
  },
  {
   "cell_type": "markdown",
   "metadata": {},
   "source": [
    "## Exercice 5 : Tri à bulles\n",
    "### Question 5.1 :\n",
    "\n",
    "On souhaite trier un tableau d'entiers à l'aide de l'algorithme du tri à bulles. Cet algorithme fonctionne de la manière suivante. Pour toute case du tableau sauf la dernière, on compare la valeur de cette case avec celle de sa voisine de droite. Si sa valeur est supérieure à celle de sa voisine, on échange les deux valeurs. On recommence ceci tant que l'on a échangé au moins deux valeurs.\n"
   ]
  },
  {
   "cell_type": "markdown",
   "metadata": {},
   "source": [
    "#### Question 5.2\n",
    "Découper l'algorithme précédent en fonctions"
   ]
  }
 ],
 "metadata": {
  "kernelspec": {
   "display_name": "Python 3",
   "language": "python",
   "name": "python3"
  },
  "language_info": {
   "codemirror_mode": {
    "name": "ipython",
    "version": 3
   },
   "file_extension": ".py",
   "mimetype": "text/x-python",
   "name": "python",
   "nbconvert_exporter": "python",
   "pygments_lexer": "ipython3",
   "version": "3.6.5"
  },
  "toc": {
   "base_numbering": 1,
   "nav_menu": {},
   "number_sections": true,
   "sideBar": true,
   "skip_h1_title": false,
   "title_cell": "Table of Contents",
   "title_sidebar": "Contents",
   "toc_cell": false,
   "toc_position": {},
   "toc_section_display": true,
   "toc_window_display": false
  }
 },
 "nbformat": 4,
 "nbformat_minor": 2
}
