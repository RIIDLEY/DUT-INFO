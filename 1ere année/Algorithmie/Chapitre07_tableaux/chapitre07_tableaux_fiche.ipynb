{
 "cells": [
  {
   "cell_type": "markdown",
   "metadata": {},
   "source": [
    "# <center> Chapitre 7 : Tableaux </center>"
   ]
  },
  {
   "cell_type": "markdown",
   "metadata": {},
   "source": [
    "On utilise les tableaux pour traiter une grande quantité de données, de même type ou pas."
   ]
  },
  {
   "cell_type": "markdown",
   "metadata": {},
   "source": [
    "### Syntaxe \n",
    "* Pour déclarer un tableau :"
   ]
  },
  {
   "cell_type": "code",
   "execution_count": null,
   "metadata": {},
   "outputs": [],
   "source": [
    "tab = [\"Sophie\", 30.2, False]"
   ]
  },
  {
   "cell_type": "markdown",
   "metadata": {},
   "source": [
    "* On accède à l'élément `t[i]` par son *indice* `i`, qui va de 0 à `len(t)-1`\n",
    "où `len(t)` est la taille du tableau. \n",
    "\n",
    "* `t[i] = val` modifie l'élément d'indice i. <br>\n",
    "* `t.append(val)` ajoute l'élément `val` à la fin. <br>\n",
    "* `t2 = t` crée un *alias* de `t`, c'est-à-dire que\n",
    "`t2` et `t` désignent le même objet jusqu'à ce que\n",
    "l'un d'eux soit réaffecté."
   ]
  },
  {
   "cell_type": "markdown",
   "metadata": {},
   "source": [
    "### Parcours d'un tableau\n",
    "\n",
    "On parcourt un tableau avec une boucle pour le créer ou agir sur les éléments.\n",
    "\n",
    "**Exemple :**"
   ]
  },
  {
   "cell_type": "code",
   "execution_count": 1,
   "metadata": {},
   "outputs": [
    {
     "name": "stdout",
     "output_type": "stream",
     "text": [
      "[0, 1, 2, 3, 4, 5, 6, 7, 8, 9]\n"
     ]
    }
   ],
   "source": [
    "nombres = []\n",
    "i = 0\n",
    "while i < 10:\n",
    "    nombres.append(i)\n",
    "    i+=1\n",
    "print(nombres)"
   ]
  },
  {
   "cell_type": "markdown",
   "metadata": {},
   "source": [
    "On peut aussi créer un tableau avec les lignes d'un fichier :"
   ]
  },
  {
   "cell_type": "code",
   "execution_count": null,
   "metadata": {},
   "outputs": [],
   "source": [
    "tab = []\n",
    "f = open(\"donnees.txt\")          # on ouvre le fichier donnees.txt\n",
    "ligne = f.readline()             # renvoie la 1ère ligne du fichier \n",
    "while ligne.strip() != \"\" :      # tant qu'une ligne n'est pas sautée (strip() supprime tous les espaces)\n",
    "    tab.append(ligne.strip())    # on l'ajoute au tableau\n",
    "    ligne = f.readline()         # on passe à la ligne suivante\n",
    "f.close()                        # enfin on ferme le fichier\n",
    "print(tab)"
   ]
  },
  {
   "cell_type": "markdown",
   "metadata": {},
   "source": [
    "Les chaînes de caractères ressemblent aux tableaux. On peut accéder en lecture aux caractères d'une chaîne `s` par leur indice (`s[i]`), mais on ne peut pas les modifier."
   ]
  }
 ],
 "metadata": {
  "kernelspec": {
   "display_name": "Python 3",
   "language": "python",
   "name": "python3"
  },
  "language_info": {
   "codemirror_mode": {
    "name": "ipython",
    "version": 3
   },
   "file_extension": ".py",
   "mimetype": "text/x-python",
   "name": "python",
   "nbconvert_exporter": "python",
   "pygments_lexer": "ipython3",
   "version": "3.6.4"
  },
  "toc": {
   "base_numbering": 1,
   "nav_menu": {},
   "number_sections": true,
   "sideBar": true,
   "skip_h1_title": false,
   "title_cell": "Table of Contents",
   "title_sidebar": "Contents",
   "toc_cell": false,
   "toc_position": {},
   "toc_section_display": true,
   "toc_window_display": false
  }
 },
 "nbformat": 4,
 "nbformat_minor": 2
}
