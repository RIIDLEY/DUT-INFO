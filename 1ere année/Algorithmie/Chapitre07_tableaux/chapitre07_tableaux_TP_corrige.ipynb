{
 "cells": [
  {
   "cell_type": "markdown",
   "metadata": {},
   "source": [
    "# <center> Chapitre 7 : Tableaux  - TP (Corrigé)</center>"
   ]
  },
  {
   "cell_type": "markdown",
   "metadata": {},
   "source": [
    "## Exercice 1 : Traitement de notes*\n",
    "### Question 1 : Moyenne\n",
    "\n",
    "Voici les notes d'un étudiant sous forme d'un tableau :\n",
    "`[8,4,12,12,9,15,19,11,19,4,18,12,19,3,5]`. <br>\n",
    "Écrire un programme qui affiche la note maximum, la note\n",
    "minimum et la moyenne."
   ]
  },
  {
   "cell_type": "code",
   "execution_count": null,
   "metadata": {},
   "outputs": [],
   "source": [
    "#------------------------------#\n",
    "#    CORRECTION  ! ! ! ! ! !   #\n",
    "#------------------------------#\n",
    "t = [8,4,12,12,9,15,19,11,19,4,18,12,19,3,5]\n",
    "max = t[0]\n",
    "min = t[0]\n",
    "somme = 0\n",
    "\n",
    "i=1\n",
    "while i < len(t):\n",
    "    if t[i] > max:\n",
    "        max = t[i]\n",
    "    if t[i] < min:\n",
    "        min = t[i]\n",
    "    somme += t[i]\n",
    "    i+=1\n",
    "\n",
    "moyenne = somme/len(t)\n",
    "print(\"note max \" + str(max))\n",
    "print(\"note min \" + str(min))\n",
    "print(\"moyenne \" + str(moyenne))"
   ]
  },
  {
   "cell_type": "markdown",
   "metadata": {},
   "source": [
    "### Question 2 : Mention\n",
    "\n",
    "Améliorer le programme précédent en ajoutant la mention :\n",
    "redouble (moins de 10), passable (entre 10 et 12),\n",
    "assez bien (entre 12 et 14), bien (entre 14 et 16)\n",
    "et très bien (plus de 16)."
   ]
  },
  {
   "cell_type": "code",
   "execution_count": null,
   "metadata": {},
   "outputs": [],
   "source": [
    "#------------------------------#\n",
    "#    CORRECTION  ! ! ! ! ! !   #\n",
    "#------------------------------#\n",
    "m = moyenne\n",
    "if m < 10:\n",
    "    print(\"redouble\")\n",
    "elif m < 12:\n",
    "    print(\"passable\")\n",
    "elif m < 14:\n",
    "    print(\"assez bien\")\n",
    "elif m < 16:\n",
    "    print(\"bien\")\n",
    "else:\n",
    "    print(\"très bien\")"
   ]
  },
  {
   "cell_type": "markdown",
   "metadata": {},
   "source": [
    "## Exercice 2 : Nombre de jours du mois*\n",
    "\n",
    "Soit"
   ]
  },
  {
   "cell_type": "code",
   "execution_count": null,
   "metadata": {},
   "outputs": [],
   "source": [
    "jours = [31, 28, 31, 30, 31, 30, 31, 31, 30, 31, 30, 31]\n",
    "mois = [\"janvier\", \"février\", \"mars\", \"avril\", \"mai\", \"juin\",\n",
    "        \"juillet\", \"août\", \"septembre\", \"octobre\", \"novembre\", \"décembre\"]"
   ]
  },
  {
   "cell_type": "markdown",
   "metadata": {},
   "source": [
    "Créer un tableau qui alterne les éléments de `jours` et `mois` : `[\"janvier\", 31, \"février\", 28, ...]`"
   ]
  },
  {
   "cell_type": "code",
   "execution_count": null,
   "metadata": {},
   "outputs": [],
   "source": [
    "#------------------------------#\n",
    "#    CORRECTION  ! ! ! ! ! !   #\n",
    "#------------------------------#\n",
    "res = []\n",
    "i=0\n",
    "while i < len(jours):\n",
    "    res.append(mois[i])\n",
    "    res.append(jours[i])\n",
    "    i+=1\n",
    "print(res)"
   ]
  },
  {
   "cell_type": "markdown",
   "metadata": {},
   "source": [
    "## Exercice 3 : Prénoms**\n",
    "### Question 1 : Longueur des prénoms\n",
    "\n",
    "Écrire un programme qui affiche la longueur des prénoms\n",
    "Jean, Isidore, Vanessa, Anne, Maximilien, Alexandre-Benoît, Louise."
   ]
  },
  {
   "cell_type": "code",
   "execution_count": null,
   "metadata": {},
   "outputs": [],
   "source": [
    "#------------------------------#\n",
    "#    CORRECTION  ! ! ! ! ! !   #\n",
    "#------------------------------#\n",
    "noms = [\"Jean\", \"Isidore\", \"Vanessa\", \"Anne\", \"Maximilien\", \"Alexandre-Benoît\", \"Louise\"]\n",
    "i=0\n",
    "while i < len(noms):\n",
    "    nom = noms[i]\n",
    "    if (nom[0] == 'A' or nom[0] == 'E' or nom[0] == 'I'     # si voyelle initiale\n",
    "        or nom[0] == '0' or nom[0] == 'U'):\n",
    "        prep = \"d'\"                                         # élision\n",
    "    else:\n",
    "        prep = \"de \"\n",
    "    print(\"taille \" + prep + nom + \" : \" + str(len(nom)))\n",
    "    i+=1"
   ]
  },
  {
   "cell_type": "markdown",
   "metadata": {},
   "source": [
    "### Question 2 :  Tri de prénoms\n",
    "\n",
    "À partir d'un tableau de prénoms, créer deux tableaux :\n",
    "un qui contient ceux qui comptent moins de six lettres,\n",
    "l'autre le reste."
   ]
  },
  {
   "cell_type": "code",
   "execution_count": null,
   "metadata": {},
   "outputs": [],
   "source": [
    "#------------------------------#\n",
    "#    CORRECTION  ! ! ! ! ! !   #\n",
    "#------------------------------#\n",
    "t = [\"Jean\", \"Maximilien\", \"Brigitte\", \"Sonia\", \"Jean-Pierre\", \"Sandra\"]\n",
    "petits = []\n",
    "grands = []\n",
    "\n",
    "i=0\n",
    "while i < len(t):\n",
    "    if len(t[i]) < 6:\n",
    "        petits.append(t[i])\n",
    "    else:\n",
    "        grands.append(t[i])\n",
    "    i+=1\n",
    "    \n",
    "print(petits)\n",
    "print(grands)"
   ]
  },
  {
   "cell_type": "markdown",
   "metadata": {},
   "source": [
    "## Exercice 4 : Occurrences**\n",
    "\n",
    "Vérifier si un mot saisi apparaît dans le tableau\n",
    "`[\"girafe\", \"chien\", \"hippo\", \"singe\", \"chat\", \"chien\"]`\n",
    "et le nombre d'occurences. <br>\n",
    "Par exemple si on saisit `chien` l'affichage doit être\n",
    "`chien apparaît 2 fois` ; pour `lapin`, `lapin n'apparaît pas`."
   ]
  },
  {
   "cell_type": "code",
   "execution_count": null,
   "metadata": {},
   "outputs": [],
   "source": [
    "#------------------------------#\n",
    "#    CORRECTION  ! ! ! ! ! !   #\n",
    "#------------------------------#\n",
    "t = [\"girafe\", \"chien\", \"hippo\", \"singe\", \"chat\", \"chien\"]\n",
    "mot = input(\"Quel mot cherchez-vous ? \")\n",
    "\n",
    "i=0\n",
    "trouve = 0\n",
    "while i < len(t):\n",
    "    if mot == t[i]:\n",
    "        trouve += 1\n",
    "    i+=1\n",
    "\n",
    "if trouve > 0:\n",
    "    print(mot + \" apparaît \" + str(trouve) + \" fois\")\n",
    "else:\n",
    "    print(mot + \" n'apparaît pas\")"
   ]
  },
  {
   "cell_type": "markdown",
   "metadata": {},
   "source": [
    "## Exercice 5 : Palindrome**\n",
    "\n",
    "Vérifier si un mot est un palindrome, c'est-à-dire\n",
    "se lit de même dans les deux sens, comme `radar` et `rotor`."
   ]
  },
  {
   "cell_type": "code",
   "execution_count": null,
   "metadata": {},
   "outputs": [],
   "source": [
    "#------------------------------#\n",
    "#    CORRECTION  ! ! ! ! ! !   #\n",
    "#------------------------------#\n",
    "mot = input(\"votre mot : \")\n",
    "\n",
    "i=0\n",
    "while i < len(mot)//2 and mot[i] == mot[len(mot)-1-i]:\n",
    "    i+=1\n",
    "\n",
    "if i == len(mot)//2:\n",
    "    verdict = \" est \"\n",
    "else:\n",
    "    verdict = \" n'est pas \"\n",
    "print(mot + verdict + \"un palindrome\")"
   ]
  }
 ],
 "metadata": {
  "kernelspec": {
   "display_name": "Python 3",
   "language": "python",
   "name": "python3"
  },
  "language_info": {
   "codemirror_mode": {
    "name": "ipython",
    "version": 3
   },
   "file_extension": ".py",
   "mimetype": "text/x-python",
   "name": "python",
   "nbconvert_exporter": "python",
   "pygments_lexer": "ipython3",
   "version": "3.6.4"
  },
  "toc": {
   "base_numbering": 1,
   "nav_menu": {},
   "number_sections": true,
   "sideBar": true,
   "skip_h1_title": false,
   "title_cell": "Table of Contents",
   "title_sidebar": "Contents",
   "toc_cell": false,
   "toc_position": {},
   "toc_section_display": true,
   "toc_window_display": false
  }
 },
 "nbformat": 4,
 "nbformat_minor": 2
}
