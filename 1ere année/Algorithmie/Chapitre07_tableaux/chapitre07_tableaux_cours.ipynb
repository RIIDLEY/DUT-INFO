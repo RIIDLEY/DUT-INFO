{
 "cells": [
  {
   "cell_type": "markdown",
   "metadata": {},
   "source": [
    "# <center> Chapitre 7 : Tableaux </center>\n",
    "\n",
    "On doit parfois traiter une grande quantité de données.\n",
    "Par exemple, les noms d'une promotion de 100 étudiants ou\n",
    "la vitesse du vent en 1000 points pour une prévision météo.\n",
    "Définir autant de variables est peu efficace. On groupe\n",
    "alors ces données dans un *tableau* :"
   ]
  },
  {
   "cell_type": "code",
   "execution_count": null,
   "metadata": {},
   "outputs": [],
   "source": [
    "nom = [\"Sophie\", \"Martin\", \"Larry\", \"Ken\", \"Denis\"]\n",
    "vitesse  = [30.2, 37.4, 28.6, 21.1, 42.0, 18.5, 25.5]"
   ]
  },
  {
   "cell_type": "markdown",
   "metadata": {},
   "source": [
    "On a défini un tableau de 5 chaînes de caractères puis un tableau\n",
    "de 6 flottants. On écrit les éléments entre crochets,\n",
    "séparés par des virgules. <br>\n",
    "On parle également de *liste*. \n",
    "\n",
    "En Python, on peut aussi mélanger les types :"
   ]
  },
  {
   "cell_type": "code",
   "execution_count": null,
   "metadata": {},
   "outputs": [],
   "source": [
    "tab = [\"Sophie\", 30.2, False]"
   ]
  },
  {
   "cell_type": "markdown",
   "metadata": {},
   "source": [
    "Cela n'est pas possible dans tous les langages."
   ]
  },
  {
   "cell_type": "markdown",
   "metadata": {},
   "source": [
    "## Accès aux éléments \n",
    "    \n",
    "On accède à un élément par son *indice*, c'est-à-dire, sa position dans le tableau, en commençant à numéroter les cases à partir de 0."
   ]
  },
  {
   "cell_type": "code",
   "execution_count": null,
   "metadata": {},
   "outputs": [],
   "source": [
    "print(nom[0])\n",
    "print(tab[2])\n",
    "\n",
    "c = (nom[3] + \" \" + nom[4])\n",
    "print(c)\n",
    "\n",
    "print((vitesse[0] + vitesse[1]) / 2)"
   ]
  },
  {
   "cell_type": "markdown",
   "metadata": {},
   "source": [
    "- Sur ce thème : **Exercice 1, Questions 1 et 2, TD7**\n",
    "\n",
    "## Modification et ajout d'un élément\n",
    "\n",
    "On peut modifier un élément avec une affectation :"
   ]
  },
  {
   "cell_type": "code",
   "execution_count": null,
   "metadata": {},
   "outputs": [],
   "source": [
    "nom[2] = \"Guido\"\n",
    "print(nom)"
   ]
  },
  {
   "cell_type": "markdown",
   "metadata": {},
   "source": [
    "**Remarque :**  l'instruction "
   ]
  },
  {
   "cell_type": "code",
   "execution_count": null,
   "metadata": {},
   "outputs": [],
   "source": [
    "nom[5] = \"Guido\""
   ]
  },
  {
   "cell_type": "markdown",
   "metadata": {},
   "source": [
    "produit unne erreur, car le tableau n'a que 5 éléments d'indices 0 à 4.\n",
    "On obtient le message d'erreur `index out of range`.\n",
    "\n",
    "\n",
    "###  Ajouter un élément : `append()`\n",
    "\n",
    "Pour ajouter un élément, on utilise la *méthode* `append()` comme ceci :"
   ]
  },
  {
   "cell_type": "code",
   "execution_count": 1,
   "metadata": {},
   "outputs": [
    {
     "ename": "NameError",
     "evalue": "name 'nom' is not defined",
     "output_type": "error",
     "traceback": [
      "\u001b[0;31m---------------------------------------------------------------------------\u001b[0m",
      "\u001b[0;31mNameError\u001b[0m                                 Traceback (most recent call last)",
      "\u001b[0;32m<ipython-input-1-24dc1aa488e1>\u001b[0m in \u001b[0;36m<module>\u001b[0;34m()\u001b[0m\n\u001b[0;32m----> 1\u001b[0;31m \u001b[0mnom\u001b[0m\u001b[0;34m.\u001b[0m\u001b[0mappend\u001b[0m\u001b[0;34m(\u001b[0m\u001b[0;34m\"Guido\"\u001b[0m\u001b[0;34m)\u001b[0m\u001b[0;34m\u001b[0m\u001b[0m\n\u001b[0m\u001b[1;32m      2\u001b[0m \u001b[0mprint\u001b[0m\u001b[0;34m(\u001b[0m\u001b[0mnom\u001b[0m\u001b[0;34m)\u001b[0m\u001b[0;34m\u001b[0m\u001b[0m\n\u001b[1;32m      3\u001b[0m \u001b[0mprint\u001b[0m\u001b[0;34m(\u001b[0m\u001b[0;34m\"nouveau : \"\u001b[0m \u001b[0;34m+\u001b[0m \u001b[0mnom\u001b[0m\u001b[0;34m[\u001b[0m\u001b[0;36m5\u001b[0m\u001b[0;34m]\u001b[0m\u001b[0;34m)\u001b[0m\u001b[0;34m\u001b[0m\u001b[0m\n",
      "\u001b[0;31mNameError\u001b[0m: name 'nom' is not defined"
     ]
    }
   ],
   "source": [
    "nom.append(\"Guido\")\n",
    "print(nom)\n",
    "print(\"nouveau : \" + nom[5])"
   ]
  },
  {
   "cell_type": "markdown",
   "metadata": {},
   "source": [
    "### Alias\n",
    "\n",
    "L'instruction "
   ]
  },
  {
   "cell_type": "code",
   "execution_count": null,
   "metadata": {},
   "outputs": [],
   "source": [
    "t=[0,0,0]\n",
    "t2 = t"
   ]
  },
  {
   "cell_type": "markdown",
   "metadata": {},
   "source": [
    "ne crée pas une *copie* mais un *alias* de `t`, c'est-à-dire\n",
    "que `t2` et `t` désignent le même objet jusqu'à ce que l'un d'eux\n",
    "soit réaffecté."
   ]
  },
  {
   "cell_type": "code",
   "execution_count": null,
   "metadata": {},
   "outputs": [],
   "source": [
    "t[0] = 1\n",
    "print(t)\n",
    "print(t2)\n",
    "\n",
    "t2[0] = 0\n",
    "print(t)\n",
    "print(t2)\n",
    "\n",
    "t = [2,2,2]\n",
    "print(t)\n",
    "print(t2)"
   ]
  },
  {
   "cell_type": "markdown",
   "metadata": {},
   "source": [
    "- Sur ce thème : **Exercice 5, TD7**\n",
    "\n",
    "# Parcours d'un tableau\n",
    "\n",
    "On utilise très souvent des boucles pour *parcourir* un tableau\n",
    "et agir sur les éléments. <br>\n",
    "Par exemple, pour afficher uniquement les élément d'indice pair :"
   ]
  },
  {
   "cell_type": "code",
   "execution_count": null,
   "metadata": {},
   "outputs": [],
   "source": [
    "i = 0\n",
    "while i < 6:\n",
    "    if i%2 == 0 :\n",
    "        print(nom[i])\n",
    "    i += 1"
   ]
  },
  {
   "cell_type": "markdown",
   "metadata": {},
   "source": [
    "## Longueur d'un tableau `len()`\n",
    "\n",
    "L'indice ne doit pas dépasser la taille du tableau sous peine d'être `out of range`\n",
    "(cf. exemple ci-dessus). <br>\n",
    "On peut vérifier la taille par la méthode `len()` comme pour les chaînes :"
   ]
  },
  {
   "cell_type": "code",
   "execution_count": null,
   "metadata": {},
   "outputs": [],
   "source": [
    "print(len(nom))"
   ]
  },
  {
   "cell_type": "markdown",
   "metadata": {},
   "source": [
    "Le programme précédent peut alors être récrit sans risque d'erreur"
   ]
  },
  {
   "cell_type": "code",
   "execution_count": null,
   "metadata": {},
   "outputs": [],
   "source": [
    "i = 0\n",
    "while i < len(nom):\n",
    "    if i%2 == 0 :\n",
    "        print(nom[i])\n",
    "    i += 1"
   ]
  },
  {
   "cell_type": "markdown",
   "metadata": {},
   "source": [
    "- Sur ce thème : **Exercice 1, Questions 3 et 4, Exercices 2 à 4, TD7**\n",
    "\n",
    "## Tableaux et chaînes de caractères \n",
    "\n",
    "On a remarqué des points communs entre tableaux et chaînes de caractères.\n",
    "Les chaînes seraient-elles des tableaux de caractères ? Pas tout à fait. <br>\n",
    "Car si l'on peut lire une chaîne de caractères comme un tableau :"
   ]
  },
  {
   "cell_type": "code",
   "execution_count": null,
   "metadata": {},
   "outputs": [],
   "source": [
    "s = \"Perceval\"\n",
    "print(s[0])"
   ]
  },
  {
   "cell_type": "markdown",
   "metadata": {},
   "source": [
    "on ne peut pas en modifier les caractères :"
   ]
  },
  {
   "cell_type": "code",
   "execution_count": null,
   "metadata": {},
   "outputs": [],
   "source": [
    "s[0] = \"G\""
   ]
  },
  {
   "cell_type": "markdown",
   "metadata": {},
   "source": [
    "# Boucles de remplissage\n",
    "\n",
    "On peut définir un tableau en écrivant un à un ses éléments,\n",
    "comme dans le premier exemple, ou par une boucle :"
   ]
  },
  {
   "cell_type": "code",
   "execution_count": null,
   "metadata": {},
   "outputs": [],
   "source": [
    "impair = []\n",
    "i = 0\n",
    "while i < 15:\n",
    "    if i%2 != 0:\n",
    "        impair.append(i)\n",
    "    i+=1\n",
    "print(impair)"
   ]
  },
  {
   "cell_type": "markdown",
   "metadata": {},
   "source": [
    "- Sur ce thème : **Exercie 6, TD7**\n",
    "\n",
    "On peut aussi remplir un tableau avec les lignes d'un fichier :"
   ]
  },
  {
   "cell_type": "code",
   "execution_count": null,
   "metadata": {},
   "outputs": [],
   "source": [
    "tab = []\n",
    "f = open(\"donnees.txt\")          # on ouvre le fichier\n",
    "ligne = f.readline()\n",
    "\n",
    "while ligne.strip() != \"\" :      # tant qu'une ligne n'est pas sautée\n",
    "    tab.append(ligne.strip())    # on l'ajoute au tableau\n",
    "    ligne = f.readline()         # on passe à la ligne suivante\n",
    "    \n",
    "f.close()                        # enfin on ferme le fichier\n",
    "print(tab)"
   ]
  },
  {
   "cell_type": "markdown",
   "metadata": {},
   "source": [
    "**Remarques :** \n",
    "* La méthode `strip()` permet supprimer tous les espaces notamment \" \" ou le retour chariot `\\n` \n",
    "* Les éléments sont des chaînes de caractères par défaut."
   ]
  },
  {
   "cell_type": "markdown",
   "metadata": {},
   "source": [
    "- Sur ce thème : **Exercice 1, Question 5 et Exercices 7 et 8, TD7**"
   ]
  }
 ],
 "metadata": {
  "kernelspec": {
   "display_name": "Python 3",
   "language": "python",
   "name": "python3"
  },
  "language_info": {
   "codemirror_mode": {
    "name": "ipython",
    "version": 3
   },
   "file_extension": ".py",
   "mimetype": "text/x-python",
   "name": "python",
   "nbconvert_exporter": "python",
   "pygments_lexer": "ipython3",
   "version": "3.6.4"
  },
  "toc": {
   "base_numbering": 1,
   "nav_menu": {},
   "number_sections": true,
   "sideBar": true,
   "skip_h1_title": false,
   "title_cell": "Table of Contents",
   "title_sidebar": "Contents",
   "toc_cell": false,
   "toc_position": {},
   "toc_section_display": true,
   "toc_window_display": false
  }
 },
 "nbformat": 4,
 "nbformat_minor": 2
}
