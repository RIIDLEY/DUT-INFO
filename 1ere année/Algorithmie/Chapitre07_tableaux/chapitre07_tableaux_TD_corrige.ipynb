{
 "cells": [
  {
   "cell_type": "markdown",
   "metadata": {},
   "source": [
    "# <center> Chapitre 7 : Tableaux - TD </center>"
   ]
  },
  {
   "cell_type": "markdown",
   "metadata": {},
   "source": [
    "## Exercice 1 : Test de compréhension*\n",
    "### Question 1 : Définition et affichage\n",
    "* Définir un tableau contenant les jours de la semaine\n",
    "* Afficher le premier et le dernier élément"
   ]
  },
  {
   "cell_type": "code",
   "execution_count": null,
   "metadata": {},
   "outputs": [],
   "source": [
    "semaine = [\"lundi\", \"mardi\", \"mercredi\", \"jeudi\", \"vendredi\", \"samedi\", \"dimanche\"]\n",
    "print(semaine[0])\n",
    "print(semaine[6])"
   ]
  },
  {
   "cell_type": "markdown",
   "metadata": {},
   "source": [
    "### Question 2 : Indice et valeur\n",
    "\n",
    "- Qu'est-ce que l'indice d'un élément ? quelles valeurs peut-il prendre ?\n",
    "- Quelle différence entre l'indice d'un élément et sa valeur ?"
   ]
  },
  {
   "cell_type": "markdown",
   "metadata": {},
   "source": [
    "**Réponse :**\n",
    "* L'indice est un entier correspondant au numéro d'une case dans un tableau. L'indice d'un tableau de $n$ éléments est un entier entre 0 (inclus) et $n$-1 (inclus)\n",
    "* La valeur d'une case correspond au contenu stocké dans la case du tableau. Cette valeur peut être un nombre (entier ou flottant), un string, etc"
   ]
  },
  {
   "cell_type": "markdown",
   "metadata": {},
   "source": [
    "### Question 3 : Nombre d'éléments\n",
    "\n",
    "Comment connaître le nombre d'éléments d'un tableau ?"
   ]
  },
  {
   "cell_type": "markdown",
   "metadata": {},
   "source": [
    "**Réponse :** La fonction `len(tab)` retourne le nombre d'éléments du tableau `tab`"
   ]
  },
  {
   "cell_type": "markdown",
   "metadata": {},
   "source": [
    "### Question 4 : Affichage\n",
    "\n",
    "- Afficher les jours de la `semaine` précédés du numéro du jour\n",
    "- Inverser l'ordre d'affichage : commencer par le dimanche et finir par le lundi"
   ]
  },
  {
   "cell_type": "code",
   "execution_count": null,
   "metadata": {},
   "outputs": [],
   "source": [
    "print(\"Affichage du tableau semaine dans l'ordre\")\n",
    "i = 0\n",
    "while i < len(semaine):\n",
    "    print(i+1, \" - \", semaine[i])\n",
    "    i+=1\n",
    "\n",
    "print(\"Affichage du tableau semaine dans l'ordre inverse\")\n",
    "i = len(semaine) - 1\n",
    "while i >= 0:\n",
    "    print(i+1, \" - \", semaine[i])\n",
    "    i-=1\n"
   ]
  },
  {
   "cell_type": "markdown",
   "metadata": {},
   "source": [
    "### Question 5  : Affichage compact\n",
    "\n",
    "- Afficher les jours de la semaine sur une ligne, séparés par des obliques /."
   ]
  },
  {
   "cell_type": "code",
   "execution_count": null,
   "metadata": {},
   "outputs": [],
   "source": [
    "s = semaine[0]\n",
    "i = 1\n",
    "while i < len(semaine):\n",
    "    s += \"/\" + semaine[i]\n",
    "    i+=1\n",
    "print(s)"
   ]
  },
  {
   "cell_type": "markdown",
   "metadata": {},
   "source": [
    "## Exercice 2 : Somme*\n",
    "\n",
    "Mettre dans un tableau les nombres 5, 6, 8, 14, 17. Calculer et afficher leur somme."
   ]
  },
  {
   "cell_type": "code",
   "execution_count": null,
   "metadata": {},
   "outputs": [],
   "source": [
    "nombres = [5,6,8,14,17]\n",
    "somme = 0\n",
    "i = 0\n",
    "while i < len(nombres):\n",
    "    somme += nombres[i]\n",
    "    i+=1\n",
    "print(somme)"
   ]
  },
  {
   "cell_type": "markdown",
   "metadata": {},
   "source": [
    "## Exercice 3 : Maximum*\n",
    "\n",
    "Écrire un programme qui recherche le plus grand élément d'un tableau donné. <br>\n",
    "Par exemple avec `[32, 5, 12, 8, 3, 75, 2]` il doit afficher `le max est 75`."
   ]
  },
  {
   "cell_type": "code",
   "execution_count": null,
   "metadata": {},
   "outputs": [],
   "source": [
    "nombres = [32, 5, 12, 8, 3, 75, 2]\n",
    "max = nombres[0]\n",
    "i = 1\n",
    "while i < len(nombres):\n",
    "    if nombres[i] > max:\n",
    "        max = nombres[i]\n",
    "    i+=1\n",
    "print(\"maximum = \", max)"
   ]
  },
  {
   "cell_type": "markdown",
   "metadata": {},
   "source": [
    "## Exercice 4 : Saisie de notes**\n",
    "\n",
    "Écrire un programme qui permet de saisir des notes d'étudiants\n",
    "et les enregistrer dans un tableau. <br>\n",
    "La saisie s'arrête quand on saisit un nombre hors de [0,20].\n",
    "Afficher alors le tableau s'il n'est pas vide."
   ]
  },
  {
   "cell_type": "code",
   "execution_count": null,
   "metadata": {},
   "outputs": [],
   "source": [
    "\n",
    "notes = []\n",
    "print(\"Saisir les notes :\")\n",
    "n = float(input())\n",
    "while n >= 0 and n <= 20:\n",
    "    notes.append(n)\n",
    "    n = float(input())\n",
    "\n",
    "if len(notes):\n",
    "    print(notes)"
   ]
  },
  {
   "cell_type": "markdown",
   "metadata": {},
   "source": [
    "## Exercice 5 : Alias et modifications*\n",
    "\n",
    "Que valent `t1`, `t2`, `t3` à la fin du programme ?"
   ]
  },
  {
   "cell_type": "code",
   "execution_count": null,
   "metadata": {},
   "outputs": [],
   "source": [
    "%load_ext tutormagic"
   ]
  },
  {
   "cell_type": "code",
   "execution_count": null,
   "metadata": {},
   "outputs": [],
   "source": [
    "%%tutor -k\n",
    "t1 = ['a', 'b', 'c', 'd']\n",
    "t2 = [34, 31, 957]\n",
    "t3 = t1\n",
    "t3[1] = -3\n",
    "t1 = t2\n",
    "t2[0] = 'abc'\n",
    "t2[0] = 'bonjour'\n",
    "t3[2] = 'oui'"
   ]
  },
  {
   "cell_type": "markdown",
   "metadata": {},
   "source": [
    "## Exercice 6 : Purge de zéros**\n",
    "\n",
    "Écrire un programme qui crée un tableau à partir d'un autre\n",
    "en omettant les zéros. Essayer sur"
   ]
  },
  {
   "cell_type": "code",
   "execution_count": null,
   "metadata": {},
   "outputs": [],
   "source": [
    "x = [34, -2, 0, 39, 0, 78, 0, 0, 46]\n",
    "\n",
    "y = []\n",
    "i = 0\n",
    "while i < len(x):\n",
    "    if x[i] != 0:\n",
    "        y.append(x[i])\n",
    "    i+=1\n",
    "print(y)"
   ]
  },
  {
   "cell_type": "markdown",
   "metadata": {},
   "source": [
    "## Exercice 7 : Chaînes et tableaux**\n",
    "\n",
    "- Créer à partir d'une chaîne de caractères `s` un tableau `t`\n",
    "ayant pour éléments les caractères de `s`\n",
    "- Créer une chaîne `s2` dont les caractères sont\n",
    "les éléments de `t`. Qu'en dire ?"
   ]
  },
  {
   "cell_type": "code",
   "execution_count": null,
   "metadata": {},
   "outputs": [],
   "source": [
    "s = \"bonjour\"\n",
    "t = []\n",
    "i = 0\n",
    "while i < len(s):\n",
    "    t.append(s[i])\n",
    "    i+=1\n",
    "print(t)\n",
    "\n",
    "s2 = \"\"\n",
    "i = 0\n",
    "while i < len(t):\n",
    "    s2 += t[i]\n",
    "    i+=1\n",
    "print(s2)"
   ]
  },
  {
   "cell_type": "markdown",
   "metadata": {},
   "source": [
    "## Exercice 8 : Remplacement de certains caractères**\n",
    "\n",
    "Saisir une chaîne et l'afficher en remplaçant les lettres\n",
    "`a` et `e` par un tiret. <br>\n",
    "Par exemple sur `\"il fait beau\"` on doit afficher `il f-it b--u`."
   ]
  },
  {
   "cell_type": "code",
   "execution_count": null,
   "metadata": {},
   "outputs": [],
   "source": [
    "s = input(\"votre chaîne : \")\n",
    "t = \"\"\n",
    "i = 0\n",
    "while i < len(s):\n",
    "    if s[i] == \"a\" or s[i] == \"e\":\n",
    "        t += \"-\"\n",
    "    else:\n",
    "        t += s[i]\n",
    "    i+=1\n",
    "print(t)\n"
   ]
  }
 ],
 "metadata": {
  "kernelspec": {
   "display_name": "Python 3",
   "language": "python",
   "name": "python3"
  },
  "language_info": {
   "codemirror_mode": {
    "name": "ipython",
    "version": 3
   },
   "file_extension": ".py",
   "mimetype": "text/x-python",
   "name": "python",
   "nbconvert_exporter": "python",
   "pygments_lexer": "ipython3",
   "version": "3.6.6"
  },
  "toc": {
   "base_numbering": 1,
   "nav_menu": {},
   "number_sections": true,
   "sideBar": true,
   "skip_h1_title": false,
   "title_cell": "Table of Contents",
   "title_sidebar": "Contents",
   "toc_cell": false,
   "toc_position": {},
   "toc_section_display": true,
   "toc_window_display": false
  }
 },
 "nbformat": 4,
 "nbformat_minor": 2
}
