{
 "cells": [
  {
   "cell_type": "markdown",
   "metadata": {},
   "source": [
    "# <center> Chapitre 7 : Tableaux - TD </center>"
   ]
  },
  {
   "cell_type": "markdown",
   "metadata": {},
   "source": [
    "## Exercice 1 : Test de compréhension*\n",
    "### Question 1 : Définition et affichage\n",
    "* Définir un tableau contenant les jours de la semaine\n",
    "* Afficher le premier et le dernier élément"
   ]
  },
  {
   "cell_type": "markdown",
   "metadata": {},
   "source": [
    "### Question 2 : Indice et valeur\n",
    "\n",
    "- Qu'est-ce que l'indice d'un élément ? quelles valeurs peut-il prendre ?\n",
    "- Quelle différence entre l'indice d'un élément et sa valeur ?"
   ]
  },
  {
   "cell_type": "markdown",
   "metadata": {},
   "source": [
    "### Question 3 : Nombre d'éléments\n",
    "\n",
    "Comment connaître le nombre d'éléments d'un tableau ?"
   ]
  },
  {
   "cell_type": "markdown",
   "metadata": {},
   "source": [
    "### Question 4 : Affichage\n",
    "\n",
    "- Afficher les jours de la `semaine` précédés du numéro du jour\n",
    "- Inverser l'ordre d'affichage : commencer par le dimanche et finir par le lundi\n",
    "\n",
    "### Question 5  : Affichage compact\n",
    "\n",
    "- Afficher les jours de la semaine sur une ligne, séparés par des obliques /.\n"
   ]
  },
  {
   "cell_type": "markdown",
   "metadata": {},
   "source": [
    "## Exercice 2 : Somme*\n",
    "\n",
    "Mettre dans un tableau les nombres 5, 6, 8, 14, 17. Calculer et afficher leur somme."
   ]
  },
  {
   "cell_type": "markdown",
   "metadata": {},
   "source": [
    "## Exercice 3 : Maximum*\n",
    "\n",
    "Écrire un programme qui recherche le plus grand élément d'un tableau donné. <br>\n",
    "Par exemple avec `[32, 5, 12, 8, 3, 75, 2]` il doit afficher `le max est 75`."
   ]
  },
  {
   "cell_type": "markdown",
   "metadata": {},
   "source": [
    "## Exercice 4 : Saisie de notes**\n",
    "\n",
    "Écrire un programme qui permet de saisir des notes d'étudiants\n",
    "et les enregistrer dans un tableau. <br>\n",
    "La saisie s'arrête quand on saisit un nombre hors de [0,20].\n",
    "Afficher alors le tableau s'il n'est pas vide."
   ]
  },
  {
   "cell_type": "markdown",
   "metadata": {},
   "source": [
    "## Exercice 5 : Alias et modifications*\n",
    "\n",
    "Que valent `t1`, `t2`, `t3` à la fin du programme ?"
   ]
  },
  {
   "cell_type": "code",
   "execution_count": null,
   "metadata": {},
   "outputs": [],
   "source": [
    "t1 = ['a', 'b', 'c', 'd']\n",
    "t2 = [34, 31, 957]\n",
    "t3 = t1\n",
    "t3[1] = -3\n",
    "t1 = t2\n",
    "t2[0] = 'abc'\n",
    "t2[0] = 'bonjour'\n",
    "t3[2] = 'oui'"
   ]
  },
  {
   "cell_type": "markdown",
   "metadata": {},
   "source": [
    "## Exercice 6 : Purge de zéros**\n",
    "\n",
    "Écrire un programme qui crée un tableau à partir d'un autre\n",
    "en omettant les zéros. Essayer sur"
   ]
  },
  {
   "cell_type": "code",
   "execution_count": null,
   "metadata": {},
   "outputs": [],
   "source": [
    "x = [34, -2, 0, 39, 0, 78, 0, 0, 46]"
   ]
  },
  {
   "cell_type": "markdown",
   "metadata": {},
   "source": [
    "## Exercice 7 : Chaînes et tableaux**\n",
    "\n",
    "- Créer à partir d'une chaîne de caractères `s` un tableau `t`\n",
    "ayant pour éléments les caractères de `s`\n",
    "- Créer une chaîne `s2` dont les caractères sont\n",
    "les éléments de `t`. Qu'en dire ?"
   ]
  },
  {
   "cell_type": "markdown",
   "metadata": {},
   "source": [
    "## Exercice 8 : Remplacement de certains caractères**\n",
    "\n",
    "Saisir une chaîne et l'afficher en remplaçant les lettres\n",
    "`a` et `e` par un tiret. <br>\n",
    "Par exemple sur `\"il fait beau\"` on doit afficher `il f-it b--u`."
   ]
  }
 ],
 "metadata": {
  "kernelspec": {
   "display_name": "Python 3",
   "language": "python",
   "name": "python3"
  },
  "language_info": {
   "codemirror_mode": {
    "name": "ipython",
    "version": 3
   },
   "file_extension": ".py",
   "mimetype": "text/x-python",
   "name": "python",
   "nbconvert_exporter": "python",
   "pygments_lexer": "ipython3",
   "version": "3.6.6"
  },
  "toc": {
   "base_numbering": 1,
   "nav_menu": {},
   "number_sections": true,
   "sideBar": true,
   "skip_h1_title": false,
   "title_cell": "Table of Contents",
   "title_sidebar": "Contents",
   "toc_cell": false,
   "toc_position": {},
   "toc_section_display": true,
   "toc_window_display": false
  }
 },
 "nbformat": 4,
 "nbformat_minor": 2
}
