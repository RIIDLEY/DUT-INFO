{
 "cells": [
  {
   "cell_type": "markdown",
   "metadata": {},
   "source": [
    "# <center>Chapitre 2 : Alternatives - TP</center>"
   ]
  },
  {
   "cell_type": "markdown",
   "metadata": {},
   "source": [
    "## Lien avec Python Tutor\n",
    "\n",
    "Le site Web [Python Tutor](http://pythontutor.com/) permet de visualiser l'exécution d'un code en python, ce qui aide à comprendre son fonctionnement. On utilisera l'extension *tutormagic* qui permet de créer des fenêtres ou des liens hypertexte sur Python Tutor avec le code écrit dans une cellule.\n",
    "\n",
    "Pour cela, il faut exécuter une seule fois le code de la première cellule (pour charger tutormagic)"
   ]
  },
  {
   "cell_type": "code",
   "execution_count": null,
   "metadata": {
    "collapsed": true
   },
   "outputs": [],
   "source": [
    "# Cellule à exécuter pour pouvoir exécuter le code suivant\n",
    "%load_ext tutormagic"
   ]
  },
  {
   "cell_type": "markdown",
   "metadata": {},
   "source": [
    "Pour visualiser l'exécution d'un code, il suffit d'ajouter tout au début de la cellule où se trouve ce code l'une ou l'autre des deux lignes de code suivantes : \n",
    "```python\n",
    "%%tutor -r -l python3 # Lorsque ce code est exécuté, une  pythontutor s'ouvre dans le notebook\n",
    "```\n",
    "ou \n",
    "```python\n",
    "%%tutor -k #Lorsque ce code est exécuté, un lien hypertexte vers pythontutor est créé.\n",
    "```\n",
    "Cela crée  en dessous de la cellule contenant le code une fenêtre ou un lien hypertexte vers le site web Python Tutor permettant la visualisation de ce code. \n",
    "\n",
    "Python Tutor est très facile à utiliser. À gauche se trouve le code que l'on souhaite visualiser. En dessous se trouvent des flèches permettant d'exécuter les instructions du programme les unes à la suite des autres. A gauche du code se trouvent deux flèches  permattant de suivre l'évolution de l'exécution du code : \n",
    "* une flèche verte indique l'instruction qui vient d'être exécutée,\n",
    "* une flèche rouge indique la prochaine instruction qui sera exécutée.\n",
    "\n",
    "La partie droite représente l'état de la mémoire de l'ordinateur ainsi que l'affichage produit par le code durant l'exécution du programme."
   ]
  },
  {
   "cell_type": "markdown",
   "metadata": {},
   "source": [
    "## Exercice 1 : Exécution du programme avec Python Tutor.\n",
    "\n",
    "1. Déterminer sur une feuille l'affichage obtenu par l'exécution du programme.\n",
    "\n",
    "2. Exécuter maintenant ce programme puis cliquer sur le lien hypertexte. Suivre pas à pas l'exécution du programme pour comprendre son fonctionnement. Vérifier que l'affichage obtenu est celui prédit."
   ]
  },
  {
   "cell_type": "code",
   "execution_count": 5,
   "metadata": {},
   "outputs": [
    {
     "data": {
      "text/html": [
       "<div class=\"text-center\"><strong><a style=\"box-sizing: border-box; padding: 0 5px; border: 1px solid #CFCFCF;\" target=\"_\" href=http://pythontutor.com/iframe-embed.html#code=%0Ainterrupteur%20%3D%20False%0Aintensite%20%3D%200%0Ainterrupteur%20%3D%20not%28interrupteur%29%0Aif%20interrupteur%3A%20%0A%20%20%20%20print%28%22lampe%20allum%C3%A9e%22%29%0A%20%20%20%20intensite%20%3D%20intensite%2B1%0Aelse%3A%0A%20%20%20%20print%28%22lampe%20%C3%A9teinte%22%29%0A%0Ainterrupteur%20%3D%20not%28interrupteur%29%0A%0Aif%20interrupteur%3A%20%0A%20%20%20%20print%28%22lampe%20allum%C3%A9e%22%29%0A%20%20%20%20intensite%20%3D%20intensite%2B1%0Aelse%3A%0A%20%20%20%20print%28%22lampe%20%C3%A9teinte%22%29%0A%0Ainterrupteur%20%3D%20not%28interrupteur%29%0A%0Aif%20interrupteur%20%3A%20%0A%20%20%20%20print%28%22lampe%20allum%C3%A9e%22%29%0A%20%20%20%20intensite%20%3D%20intensite%2B1%0Aelse%3A%0A%20%20%20%20print%28%22lampe%20%C3%A9teinte%22%29%0A%0Ainterrupteur%20%3D%20not%28interrupteur%29%0A%0Aif%20interrupteur%3A%20%0A%20%20%20%20print%28%22lampe%20allum%C3%A9e%22%29%0A%20%20%20%20intensite%20%3D%20intensite%2B1%0Aelse%3A%0A%20%20%20%20print%28%22lampe%20%C3%A9teinte%22%29%0A%0Ainterrupteur%20%3D%20not%28interrupteur%29%0A%0Aif%20interrupteur%3A%20%0A%20%20%20%20print%28%22lampe%20allum%C3%A9e%22%29%0A%20%20%20%20intensite%20%3D%20intensite%2B1%0Aelse%3A%0A%20%20%20%20print%28%22lampe%20%C3%A9teinte%22%29%0Aprint%28%22Intensit%C3%A9%20%3A%20%22%20%2B%20str%28intensite%29%29&origin=opt-frontend.js&cumulative=false&heapPrimitives=false&textReferences=false&curInstr=0&&verticalStack=false&py=3&rawInputLstJSON=%5B%5D&codeDivWidth=50%25&codeDivHeight=100%25>Python Tutor</a></strong></div>"
      ],
      "text/plain": [
       "<IPython.core.display.HTML object>"
      ]
     },
     "metadata": {},
     "output_type": "display_data"
    }
   ],
   "source": [
    "%%tutor -k\n",
    "\n",
    "interrupteur = False\n",
    "intensite = 0\n",
    "interrupteur = not(interrupteur)\n",
    "if interrupteur: \n",
    "    print(\"lampe allumée\")\n",
    "    intensite = intensite+1\n",
    "else:\n",
    "    print(\"lampe éteinte\")\n",
    "\n",
    "interrupteur = not(interrupteur)\n",
    "\n",
    "if interrupteur: \n",
    "    print(\"lampe allumée\")\n",
    "    intensite = intensite+1\n",
    "else:\n",
    "    print(\"lampe éteinte\")\n",
    "\n",
    "interrupteur = not(interrupteur)\n",
    "\n",
    "if interrupteur : \n",
    "    print(\"lampe allumée\")\n",
    "    intensite = intensite+1\n",
    "else:\n",
    "    print(\"lampe éteinte\")\n",
    "\n",
    "interrupteur = not(interrupteur)\n",
    "\n",
    "if interrupteur: \n",
    "    print(\"lampe allumée\")\n",
    "    intensite = intensite+1\n",
    "else:\n",
    "    print(\"lampe éteinte\")\n",
    "\n",
    "interrupteur = not(interrupteur)\n",
    "\n",
    "if interrupteur: \n",
    "    print(\"lampe allumée\")\n",
    "    intensite = intensite+1\n",
    "else:\n",
    "    print(\"lampe éteinte\")\n",
    "print(\"Intensité : \" + str(intensite))"
   ]
  },
  {
   "cell_type": "markdown",
   "metadata": {},
   "source": [
    "## Exercice 2 : Pair ou impair ?\n",
    "\n",
    "Écrire un programme demandant à l'utilisateur de saisir un nombre entier. Le programme affiche alors si l'entier saisi est pair ou impair."
   ]
  },
  {
   "cell_type": "code",
   "execution_count": null,
   "metadata": {
    "collapsed": true
   },
   "outputs": [],
   "source": [
    "#-------------------------#\n",
    "#    Écrire le code ici   #\n",
    "#-------------------------#\n",
    "\n",
    "\n",
    "\n",
    "\n",
    "\n"
   ]
  },
  {
   "cell_type": "markdown",
   "metadata": {},
   "source": [
    "## Exercice 3 : Exécution du programme avec pythontutor\n",
    "\n",
    "### Question 1\n",
    "\n",
    "1. Exécuter la cellule suivante puis cliquer sur le lien hypertexte. En visualisant étape par étape le déroulement de l'algorithme, déterminer combien de comparaisons sont faites lorsque `nb` vaut 14.\n",
    "\n",
    "2. Même question lorsque `nb` vaut 10.\n",
    "\n",
    "3. Même question lorsque `nb` vaut 2."
   ]
  },
  {
   "cell_type": "code",
   "execution_count": 6,
   "metadata": {},
   "outputs": [
    {
     "data": {
      "text/html": [
       "<div class=\"text-center\"><strong><a style=\"box-sizing: border-box; padding: 0 5px; border: 1px solid #CFCFCF;\" target=\"_\" href=http://pythontutor.com/iframe-embed.html#code=nb%20%3D%2014%0Aif%20nb%20%3C%204%20%3A%0A%20%20%20%20print%28%22Quelques%22%29%0Aelif%20nb%20%3C%207%20%3A%0A%20%20%20%20print%28%22Un%20peu%22%29%0Aelif%20nb%20%3C%2015%20%3A%0A%20%20%20%20print%28%22Pas%20mal%22%29%0Aelif%20nb%20%3C%2050%20%3A%20%0A%20%20%20%20print%28%22Beaucoup%22%29%0Aelse%20%3A%0A%20%20%20%20print%28%22Innombrables%22%29&origin=opt-frontend.js&cumulative=false&heapPrimitives=false&textReferences=false&curInstr=0&&verticalStack=false&py=3&rawInputLstJSON=%5B%5D&codeDivWidth=50%25&codeDivHeight=100%25>Python Tutor</a></strong></div>"
      ],
      "text/plain": [
       "<IPython.core.display.HTML object>"
      ]
     },
     "metadata": {},
     "output_type": "display_data"
    }
   ],
   "source": [
    "%%tutor -k #Lorsque vous exécuter ce code, cela crée en plus un lien hypertexte vers pythontutor.\n",
    "nb = 14\n",
    "if nb < 4 :\n",
    "    print(\"Quelques\")\n",
    "elif nb < 7 :\n",
    "    print(\"Un peu\")\n",
    "elif nb < 15 :\n",
    "    print(\"Pas mal\")\n",
    "elif nb < 50 : \n",
    "    print(\"Beaucoup\")\n",
    "else :\n",
    "    print(\"Innombrables\")"
   ]
  },
  {
   "cell_type": "markdown",
   "metadata": {},
   "source": [
    "### Question 2\n",
    "\n",
    "Le code suivant produit le même affichage (lorsque `nb` vaut 2). Compter le nombre de comparaisons effectuées par rapport au premier code. Quel est le meilleur code ?\n",
    "\n",
    "** Attention :** Un test peut contenir plusieurs comparaisons."
   ]
  },
  {
   "cell_type": "code",
   "execution_count": 8,
   "metadata": {},
   "outputs": [
    {
     "data": {
      "text/html": [
       "<div class=\"text-center\"><strong><a style=\"box-sizing: border-box; padding: 0 5px; border: 1px solid #CFCFCF;\" target=\"_\" href=http://pythontutor.com/iframe-embed.html#code=nb%20%3D%202%0Aif%20nb%20%3C%204%20%3A%0A%20%20%20%20print%28%22Quelques%22%29%0Aif%20nb%20%3E%3D%204%20and%20nb%20%3C%207%20%3A%0A%20%20%20%20print%28%22Un%20peu%22%29%0Aif%20nb%20%3E%3D%207%20and%20nb%20%3C%2015%20%3A%0A%20%20%20%20print%28%22Pas%20mal%22%29%0Aif%20nb%20%3E%3D%2015%20and%20nb%20%3C%2050%20%3A%20%0A%20%20%20%20print%28%22Beaucoup%22%29%0Aif%20nb%20%3E%3D%2050%20%3A%0A%20%20%20%20print%28%22Innombrables%22%29&origin=opt-frontend.js&cumulative=false&heapPrimitives=false&textReferences=false&curInstr=0&&verticalStack=false&py=3&rawInputLstJSON=%5B%5D&codeDivWidth=50%25&codeDivHeight=100%25>Python Tutor</a></strong></div>"
      ],
      "text/plain": [
       "<IPython.core.display.HTML object>"
      ]
     },
     "metadata": {},
     "output_type": "display_data"
    }
   ],
   "source": [
    "%%tutor -k #Lorsque vous exécuter ce code, cela crée en plus un lien hypertexte vers pythontutor.\n",
    "nb = 2\n",
    "if nb < 4 :\n",
    "    print(\"Quelques\")\n",
    "if nb >= 4 and nb < 7 :\n",
    "    print(\"Un peu\")\n",
    "if nb >= 7 and nb < 15 :\n",
    "    print(\"Pas mal\")\n",
    "if nb >= 15 and nb < 50 : \n",
    "    print(\"Beaucoup\")\n",
    "if nb >= 50 :\n",
    "    print(\"Innombrables\")"
   ]
  },
  {
   "cell_type": "markdown",
   "metadata": {},
   "source": [
    "** RÉPONSE :**"
   ]
  },
  {
   "cell_type": "markdown",
   "metadata": {},
   "source": [
    "## Exercice 4 : Celsius vs Farhenheit\n",
    "\n",
    "Pour mesurer une température, il existe plusieurs unités de mesure. Il est notamment possible de mesurer une température en degrés Celsius ou en degré Farhenheit et la relation est la suivante : \n",
    "\n",
    "$$T(°F) = \\frac{9}{5} T(°C) + 32.$$\n",
    "\n",
    "### Question 1 :\n",
    "Écrire un programme permettant à l'utilisateur de saisir une valeur flottante ainsi que son choix : \n",
    "1. Convertir cette valeur en degrés Farhenheit (la valeur saisie est en Celsius)\n",
    "2. Convertir cette valeur en degrés Celsius (la valeur saisie est en Farhenheit)\n",
    "\n",
    "Le programme affiche alors la température convertie."
   ]
  },
  {
   "cell_type": "code",
   "execution_count": null,
   "metadata": {
    "collapsed": true
   },
   "outputs": [],
   "source": [
    "#-------------------------#\n",
    "#    Écrire le code ici   #\n",
    "#-------------------------#\n",
    "\n",
    "\n",
    "\n",
    "\n",
    "\n",
    "\n"
   ]
  },
  {
   "cell_type": "markdown",
   "metadata": {},
   "source": [
    "### Question 2 :\n",
    "\n",
    "Écrire un programme permettant à l'utilisateur de saisir deux températures, la première en degrés Celsius et la seconde en degrés Farhenheit. Le programme affiche alors si les deux températures sont équivalentes ou non.\n",
    "\n",
    "** Attention : ** Les valeurs à comparer sont des flottants et ne peuvent donc pas être comparés avec le symbole `==`. "
   ]
  },
  {
   "cell_type": "code",
   "execution_count": null,
   "metadata": {
    "collapsed": true
   },
   "outputs": [],
   "source": [
    "#-------------------------#\n",
    "#    Écrire le code ici   #\n",
    "#-------------------------#\n",
    "\n",
    "\n",
    "\n",
    "\n",
    "\n",
    "\n"
   ]
  },
  {
   "cell_type": "markdown",
   "metadata": {},
   "source": [
    "## Exercice 5 : Facture pour la reprographie\n",
    "\n",
    "Un magasin de reprographie facture 0,10&euro; les dix premières photocopies, 0,09&euro; les vingt\n",
    " suivantes et 0,08&euro; au-delà. Ainsi, 18 photocopies coûtent 1,72&euro; (10\\*0,10+8\\*0,09=1,72). Ecrire un algorithme qui demande à l'utilisateur le nombre de photocopies effectuées et qui affiche la facture correspondante. Veiller à faire le moins de possible de tests."
   ]
  },
  {
   "cell_type": "code",
   "execution_count": null,
   "metadata": {
    "collapsed": true
   },
   "outputs": [],
   "source": [
    "#-------------------------#\n",
    "#    Écrire le code ici   #\n",
    "#-------------------------#\n",
    "\n",
    "\n",
    "\n",
    "\n",
    "\n"
   ]
  },
  {
   "cell_type": "markdown",
   "metadata": {},
   "source": [
    "## Exercice 6 : L'impôt au pays de *Zorglubland*\n",
    "\n",
    "Les habitants de *Zorglubland* paient l'impôt selon les règles suivantes :\n",
    "*  Les hommes de plus de 20 ans paient l'impôt,\n",
    "*  les femmes paient l'impôt si elles ont entre 18 et 35 ans,\n",
    "*  les autres ne paient pas d'impôt.\n",
    "\n",
    "Écrire un programme demandant l'âge et le sexe du *Zorglubien* et affichant si l'habitant est imposable ou pas."
   ]
  },
  {
   "cell_type": "code",
   "execution_count": null,
   "metadata": {
    "collapsed": true
   },
   "outputs": [],
   "source": [
    "#-------------------------#\n",
    "#    Écrire le code ici   #\n",
    "#-------------------------#\n",
    "\n",
    "\n",
    "\n",
    "\n"
   ]
  },
  {
   "cell_type": "markdown",
   "metadata": {},
   "source": [
    "## Exercice 7 : Dans une seconde, il sera ...\n",
    "\n",
    "Écrire un algorithme qui demande à l'utilisateur l'heure, les minutes et les secondes, et affiche\n",
    "l'heure qu'il sera une seconde plus tard. \n",
    "Par exemple, si l'utilisateur tape 21 puis 32 puis 8, l'algorithme doit répondre :\n",
    "```\n",
    "Dans une seconde, il sera 21 heure(s) 32 minute(s) et 9 secondes\".\n",
    "```\n",
    "**Remarque :** on commencera par vérifier que l'utilisateur entre une heure\n",
    " valide. "
   ]
  },
  {
   "cell_type": "code",
   "execution_count": null,
   "metadata": {
    "collapsed": true
   },
   "outputs": [],
   "source": [
    "#-------------------------#\n",
    "#    Écrire le code ici   #\n",
    "#-------------------------#\n",
    "\n",
    "\n",
    "\n",
    "\n",
    "\n",
    "\n"
   ]
  }
 ],
 "metadata": {
  "kernelspec": {
   "display_name": "Python 3",
   "language": "python",
   "name": "python3"
  },
  "language_info": {
   "codemirror_mode": {
    "name": "ipython",
    "version": 3
   },
   "file_extension": ".py",
   "mimetype": "text/x-python",
   "name": "python",
   "nbconvert_exporter": "python",
   "pygments_lexer": "ipython3",
   "version": "3.6.4"
  }
 },
 "nbformat": 4,
 "nbformat_minor": 2
}
