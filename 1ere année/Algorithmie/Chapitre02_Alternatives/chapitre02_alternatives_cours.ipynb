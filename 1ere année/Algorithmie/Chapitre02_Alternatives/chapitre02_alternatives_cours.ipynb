{
 "cells": [
  {
   "cell_type": "markdown",
   "metadata": {},
   "source": [
    "# <center>Chapitre 2 : Alternatives</center>"
   ]
  },
  {
   "cell_type": "markdown",
   "metadata": {},
   "source": [
    "Dans les programmes que nous avons écrits jusqu'à maintenant, la même séquence d'instructions est réalisée systématiquement à chaque exécution. Nous allons voir comment écrire des instructions qui ne s'exécuteront que dans certains cas (sous certaines conditions). Ceci est possible grâce aux structures conditionnelles et aux tests."
   ]
  },
  {
   "cell_type": "markdown",
   "metadata": {},
   "source": [
    "## Tests"
   ]
  },
  {
   "cell_type": "markdown",
   "metadata": {},
   "source": [
    "### Tests et valeurs booléennes"
   ]
  },
  {
   "cell_type": "markdown",
   "metadata": {},
   "source": [
    "Un test est une expression dont l’évaluation est vraie ou fausse. Par exemple,\n",
    "* \"La terre est plate\" est un test dont l'évaluation est fausse,\n",
    "* `15>2` est un test dont l'évaluation est vraie.\n",
    "\n",
    "Pour représenter les valeurs vrai/faux, on dispose d'un type de données, le type *booléen* (*boolean* en anglais) noté `bool`, qui admet deux valeurs possibles :\n",
    "* `True` correspondant à vrai,\n",
    "* `False` correspondant à faux.\n",
    "\n",
    "Ces valeurs peuvent être stockées dans des variables. Par exemple, `var = True` affecte la valeur `True` à la variable `var`.\n"
   ]
  },
  {
   "cell_type": "markdown",
   "metadata": {},
   "source": [
    "### Comparaisons"
   ]
  },
  {
   "cell_type": "markdown",
   "metadata": {},
   "source": [
    "Dans sa forme la plus simple, un test est une comparaison entre deux valeurs. Il est possible d’utiliser les opérateurs `<`, `<=`, `>`, `>=`, `==` (teste si les valeurs sont égales) ou `!=` (teste si les valeurs sont différentes) pour comparer ces deux valeurs. Ces dernières doivent être de **même type** ou de **type comparable** (Si un `int` et un `float` sont comparés, alors l'interpréteur convertira automatiquement le `int` en `float`).\n",
    "\n",
    "Voici quelques exemples de tests (les trois premiers sont évalués à `True` et les deux suivants à `False`):"
   ]
  },
  {
   "cell_type": "code",
   "execution_count": 1,
   "metadata": {},
   "outputs": [
    {
     "name": "stdout",
     "output_type": "stream",
     "text": [
      "True\n",
      "True\n",
      "True\n",
      "False\n",
      "False\n"
     ]
    }
   ],
   "source": [
    "#L'instruction print est utilisée pour afficher la valeur des tests (True ou False) \n",
    "#lors de l'exécution du code\n",
    "print(3 <= 5)\n",
    "print(3.5 < 5)\n",
    "print(\"abc\" != \"abcdef\")\n",
    "print(14.5 > 128)\n",
    "print(\"bzzzzz\" <  \"aie !\")"
   ]
  },
  {
   "cell_type": "markdown",
   "metadata": {},
   "source": [
    "Les deux opérandes à comparer peuvent être un calcul (au lieu d'une simple valeur). Dans ce cas, l'évaluation se fait en deux étapes :\n",
    "1. les opérandes sont évalués,\n",
    "2. les valeurs obtenues sont comparées.\n",
    "\n",
    "Par exemple, dans le code suivant, le test `x+3 > y` est composé de deux opérandes `x+3` et `y` qui sont respectivement évalués à `23` et `13` avant d'être comparés."
   ]
  },
  {
   "cell_type": "code",
   "execution_count": null,
   "metadata": {},
   "outputs": [],
   "source": [
    "x=20\n",
    "y=13\n",
    "print( x+3 > y )"
   ]
  },
  {
   "cell_type": "markdown",
   "metadata": {},
   "source": [
    "<img src=\"img/evaluation_test.png\" alt=\"Évaluation de x+3 >y\"  width=\"600px\"/>"
   ]
  },
  {
   "cell_type": "markdown",
   "metadata": {},
   "source": [
    "**Attention :**\n",
    "La comparaison de deux chaînes de caractères se fait selon l'ordre alphabétique. Cependant, comme cette comparaison est basée sur l'encodage des caractères, les majuscules viennent avant les minuscules dans cet ordre et les caractères accentués sont tous après les autres lettres dans cet ordre. Ainsi, les deux tests suivants sont évalués à `False` :"
   ]
  },
  {
   "cell_type": "code",
   "execution_count": null,
   "metadata": {},
   "outputs": [],
   "source": [
    "print(\"abc\" < \"ZZZ\")\n",
    "print(\"hé\" < \"ho\")"
   ]
  },
  {
   "cell_type": "markdown",
   "metadata": {},
   "source": [
    "* Il ne faut pas comparer des chaînes de caractères et des nombres ! Un tel test engendre soit un résultat incohérent, soit une erreur. Il faut impérativement effectuer une conversion explicite (par exemple, transformer la chaîne de caractères en entier).\n",
    "* Il n'est pas possible d'utiliser l'opérateur `==` pour tester l'égalité entre deux flottants à cause des problèmes d'arrondi des valeurs de type flottant. Par exemple, le test suivant est évalué à `False`:"
   ]
  },
  {
   "cell_type": "code",
   "execution_count": 2,
   "metadata": {},
   "outputs": [
    {
     "name": "stdout",
     "output_type": "stream",
     "text": [
      "False\n"
     ]
    }
   ],
   "source": [
    "print (0.2 + 0.1 == 0.3) # Affiche False"
   ]
  },
  {
   "cell_type": "markdown",
   "metadata": {},
   "source": [
    "En effet, la valeur stockée en mémoire pour 0.3 est en fait `0.299999999999999988897769753748434595763683319091796875` alors que la valeur stockée pour 0.2 + 0.1 est `0.3000000000000000444089209850062616169452667236328125`. Même si ces valeurs sont extrêmement proches, elles sont différentes ! Pour comparer deux flottants, on utilisera l'instruction `math.isclose` prenant en paramètre deux nombres flottants et retournant `True` si les deux nombre\n",
    "s sont considéré comme proches (avec une tolérance d'écart de $10^{-9}$ près par défaut) et `False` sinon.\n",
    "\n",
    "**Attention :** l'instruction `math.isclose` étant défini dans le package `math`, il faut importer avant ce package avec l'instruction `import math` (à ne faire qu'une seule fois avant toute utilisation de `math.isclose`)."
   ]
  },
  {
   "cell_type": "code",
   "execution_count": 3,
   "metadata": {},
   "outputs": [
    {
     "name": "stdout",
     "output_type": "stream",
     "text": [
      "True\n"
     ]
    }
   ],
   "source": [
    "import math\n",
    "\n",
    "print(math.isclose(0.2 + 0.1, 0.3)) # Affiche True"
   ]
  },
  {
   "cell_type": "markdown",
   "metadata": {},
   "source": [
    "### Tests complexes"
   ]
  },
  {
   "cell_type": "markdown",
   "metadata": {},
   "source": [
    "Les tests peuvent être une combinaison logique de tests simples grâce aux opérateurs logiques `and`, `or` et `not`.  L’évaluation se fait en deux étapes :\n",
    "1. chaque opération booléenne élémentaire est évaluée,\n",
    "2. l’expression booléenne complexe résultante est évaluée en fonction de la table de vérité suivante :\n",
    "\n",
    "\n",
    "| E1     |  E2   |  E1 and E2 | E1 or E2   | not E1 |\n",
    "| -------| ----- | ---------: | ---------: | -----: | \n",
    "| True   | True  |      True  |     True   | False  |\n",
    "| True   | False |      False |     True   | False  |\n",
    "| False  | True  |      False |     True   | True   |\n",
    "| False  | False |      False |     False  | True   |\n",
    "\n",
    "\n",
    "**Remarque :** Dans une expression de type `E1 and E2` (resp. `E1 or E2`), `E2` n’est pas évalué si `E1` vaut `False` (resp. `True`).\n",
    "\n"
   ]
  },
  {
   "cell_type": "markdown",
   "metadata": {},
   "source": [
    "### Tests équivalents"
   ]
  },
  {
   "cell_type": "markdown",
   "metadata": {},
   "source": [
    "Certains tests sont équivalents car ils donnent la même valeur (`True` ou `False`) suivant les valeurs en entrée.\n",
    "\n",
    "\n",
    "| Test | Test équivalent |\n",
    "|: ------|:---------------|\n",
    "| E==True  | E |\n",
    "| E==False | not(E) |\n",
    "| not(E1 and E2) | not(E1) or not(E2) |\n",
    "| not(E1 or E2) | not(E1) and not(E2) |\n",
    "| not(E1 < E2) | E1 >= E2 |  \n",
    "| not(E1<= E2) | E1 > E2 | \n",
    "| not(E1 >  E2)| E1 <= E2 | \n",
    "| not(E1 >= E2)| E1 < E2 | \n",
    "| not(E1 == E2)| E1 != E2 | \n",
    "| not(E1 != E2)| E1 == E2 | "
   ]
  },
  {
   "cell_type": "markdown",
   "metadata": {},
   "source": [
    "- Sur ce thème : **Exercices 1 et 2, TD2**"
   ]
  },
  {
   "cell_type": "markdown",
   "metadata": {},
   "source": [
    "## Comment faire des choix au sein d'un algorithme ?"
   ]
  },
  {
   "cell_type": "markdown",
   "metadata": {},
   "source": [
    "### Structure de contrôle conditionnelle `if`"
   ]
  },
  {
   "cell_type": "markdown",
   "metadata": {},
   "source": [
    "#### Définition"
   ]
  },
  {
   "cell_type": "markdown",
   "metadata": {},
   "source": [
    "La structure de contrôle conditionnelle `if` permet que certaines instructions soient exécutées uniquement si une `condition` (expression booléenne) est évaluée à `True`. Sa syntaxe est la suivante :\n",
    "\n",
    "```python\n",
    "if condition : \n",
    "\tInstruction 1\n",
    "    Instruction 2\n",
    "    ...\n",
    "    Instruction n\n",
    "```\n",
    "\n",
    "Les `Instructions` de `1` à `n` forment le *bloc d'instructions associé au `if`*. Ces instructions sont toutes **indentées** par rapport au `if`, c'est-à-dire qu'elles sont décalées vers la droite par rapport au `if` grâce à l'insertion d'espaces. Ces instructions peuvent être n'importe quelles instructions python (affectation de variables, affichage, saisie, autre instruction `if`, etc). `condition` est un test.\n",
    "\n",
    "**Remarque :** Les instructions du bloc doivent être alignées, c'est-à-dire qu'elles doivent contenir le même nombre d'espaces. On choisit généralement d'insérer 4 espaces ou une tabulation pour indenter.\n",
    "\n",
    "\n",
    "Lorsque l'interpréteur exécute l'instruction `if`, il évalue la `condition` du `if`. Si celle-ci est évaluée à `True`, alors les `Instructions 1` à `n` sont exécutées dans cet ordre. Dans le cas contraire, aucune de ces instructions n'est exécutée et l'interpréteur exécute la première instruction qui suit le bloc d'instructions (autrement dit, la première instruction au même niveau d'indentation que le `if`)."
   ]
  },
  {
   "cell_type": "markdown",
   "metadata": {},
   "source": [
    "#### Exemple"
   ]
  },
  {
   "cell_type": "code",
   "execution_count": null,
   "metadata": {},
   "outputs": [],
   "source": [
    "pression=100\n",
    "print(\"Température ? \")\n",
    "temperature = int(input())\n",
    "if temperature > 55 :\n",
    "     print(\"Alerte !\")            #indentation obligatoire\n",
    "     pression = pression - 5      #indentation obligatoire\n",
    "print(\"Pression dans le système : \" + str(pression) + \" bar\") # ceci ne fait pas partie du \"if\""
   ]
  },
  {
   "cell_type": "markdown",
   "metadata": {},
   "source": [
    "Dans l'exemple ci-dessus, les instructions s'enchaînent différemment (toutes ne sont pas toujours exécutées) selon la valeur saisie par l'utilisateur. La figure suivante représente les deux enchaînements possibles des instructions du programme. Les numéros représentent les numéros de lignes dans l'exemple précédent.\n",
    "\n",
    "<img src=\"img/if.png\" alt=\"Drawing\" style=\"height: 400px;\"/>"
   ]
  },
  {
   "cell_type": "markdown",
   "metadata": {},
   "source": [
    "- Sur ce thème : **Exercice 3, TD2**"
   ]
  },
  {
   "cell_type": "markdown",
   "metadata": {},
   "source": [
    "### Structure de contrôle conditionnelle `if`, `else`"
   ]
  },
  {
   "cell_type": "markdown",
   "metadata": {},
   "source": [
    "#### Définition"
   ]
  },
  {
   "cell_type": "markdown",
   "metadata": {},
   "source": [
    "Cette structure de contrôle permet d’exécuter une séquence d’instructions si une condition est\n",
    "évaluée à `True`. Cependant, si cette condition est évaluée à `False`, une autre séquence d’instructions est\n",
    "exécutée. Sa syntaxe est la suivante : \n",
    "\n",
    "```python\n",
    "if condition : \n",
    "\tBloc instructions 1\n",
    "else:\n",
    "    Bloc instructions 2\n",
    "```\n",
    "\n",
    "où les blocs d'instructions sont des séquences d'instructions. Si la condition est évaluée à `True`, alors toutes les instructions du bloc d'instructions 1 sont exécutées. Sinon, toutes les instructions du bloc d'instructions 2 sont exécutées."
   ]
  },
  {
   "cell_type": "markdown",
   "metadata": {},
   "source": [
    "#### Exemple"
   ]
  },
  {
   "cell_type": "code",
   "execution_count": null,
   "metadata": {},
   "outputs": [],
   "source": [
    "print(\"Température ? \")\n",
    "temperature = int(input())\n",
    "if temperature > 55 :\n",
    "    print(\"Alerte !\")  #indentation obligatoire\n",
    "else : \n",
    "    print(\"RAS\")       #indentation obligatoire\n",
    "print(\"Fin du contrôle de la température\")"
   ]
  },
  {
   "cell_type": "markdown",
   "metadata": {},
   "source": [
    "Les deux enchaînements possibles d'instructions de l'exemple précédent peuvent être représentés par la figure suivante.\n",
    "\n",
    "<img src=\"img/ifElse.png\" alt=\"Drawing\" style=\"height: 400px;\"/>"
   ]
  },
  {
   "cell_type": "markdown",
   "metadata": {},
   "source": [
    "- Sur ce thème : **Exercice 4, TD2**"
   ]
  },
  {
   "cell_type": "markdown",
   "metadata": {},
   "source": [
    "### Structure de contrôle conditionnelle `if`, `elif`, `else`"
   ]
  },
  {
   "cell_type": "markdown",
   "metadata": {},
   "source": [
    "#### Définition"
   ]
  },
  {
   "cell_type": "markdown",
   "metadata": {},
   "source": [
    "Les alternatives peuvent être imbriquées pour exprimer des choix\n",
    "\"complexes\" et exclusifs les uns des autres, ce qui permet d'affiner\n",
    "le traitement selon un contexte donné.\n",
    "\n",
    "L'instruction `elif`, contraction de *\"else if\" (sinon si)*, permet\n",
    "d'exécuter un bloc d'instructions si la condition associée est évaluée\n",
    "à `True`. Cependant, cette condition ne sera évaluée que si toutes\n",
    "les conditions du `if` et des `elif` précédents ont été\n",
    "évaluées à `False`. Dans une structure `if`, `elif`, `else`, on\n",
    "peut avoir autant d'instructions `elif` que nécessaire. \n",
    "\n",
    "La syntaxe est la suivante :\n",
    "```python\n",
    "if condition 1 : \n",
    "\tBloc instructions 1\n",
    "elif condition 2 :\n",
    "    Bloc instructions 2\n",
    "elif condition 3 :\n",
    "    Bloc instructions 3\n",
    "else :\n",
    "    Bloc instructions 4\n",
    "```\n",
    "Quand chaque bloc est-il exécuté ?\n",
    "* le bloc d'instructions 1 est exécuté si la condition 1 est vraie,\n",
    "* le bloc d'instructions 2 est exécuté si la condition 1 est fausse et la condition 2 est vraie,\n",
    "* le bloc d'instructions 3 est exécuté si les conditions 1 et 2 sont fausses et la condition 3 est vraie,\n",
    "* le bloc d'instructions 4 est exécuté si les conditions 1, 2 et 3 sont fausses.\n",
    "\n",
    "\n",
    "\n",
    "**Important : Un unique bloc d'instructions sera exécuté !**\n",
    "\n",
    "**Remarque :** Il est possible de ne pas avoir de `else` s'il n'y a aucune instruction à effectuer quand toutes les conditions sont évaluées à `False`. Dans ce cas, exactement un bloc est exécuté si une des conditions est vraie. Sinon, aucun bloc d'instructions n'est exécuté."
   ]
  },
  {
   "cell_type": "markdown",
   "metadata": {},
   "source": [
    "#### Exemple"
   ]
  },
  {
   "cell_type": "code",
   "execution_count": null,
   "metadata": {},
   "outputs": [],
   "source": [
    "print(\"Température ? \")\n",
    "temperature = int(input())\n",
    "if temperature > 75 :     # temperature > 75\n",
    "  print(\"Attention, danger d'explosion !!!\") \n",
    "elif  temperature > 55 :  # temperature > 55 et <= 75\n",
    "  print(\"Alerte !\") \n",
    "else :                    # temperature <= 55\n",
    "  print(\"RAS\")\n",
    "print(\"Fin du contrôle de la température\")"
   ]
  },
  {
   "cell_type": "markdown",
   "metadata": {},
   "source": [
    "Les trois enchaînements possibles d'instructions de l'exemple précédent peuvent être représentés par la figure suivante.\n",
    "\n",
    "<img src=\"img/ifElifElse.png\" alt=\"Drawing\" style=\"height: 400px;\"/>"
   ]
  },
  {
   "cell_type": "markdown",
   "metadata": {},
   "source": [
    "- Sur ce thème : **Exercices 5 à 11, TD2**"
   ]
  }
 ],
 "metadata": {
  "kernelspec": {
   "display_name": "Python 3",
   "language": "python",
   "name": "python3"
  },
  "language_info": {
   "codemirror_mode": {
    "name": "ipython",
    "version": 3
   },
   "file_extension": ".py",
   "mimetype": "text/x-python",
   "name": "python",
   "nbconvert_exporter": "python",
   "pygments_lexer": "ipython3",
   "version": "3.6.6"
  }
 },
 "nbformat": 4,
 "nbformat_minor": 2
}
