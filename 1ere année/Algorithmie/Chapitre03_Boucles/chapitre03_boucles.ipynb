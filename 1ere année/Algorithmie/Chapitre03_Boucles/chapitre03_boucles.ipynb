{
 "cells": [
  {
   "cell_type": "markdown",
   "metadata": {},
   "source": [
    "# <center>Chapitre 3 : les boucles</center>"
   ]
  },
  {
   "cell_type": "markdown",
   "metadata": {},
   "source": [
    "## Introduction"
   ]
  },
  {
   "cell_type": "markdown",
   "metadata": {},
   "source": [
    "Les boucles sont un élément central de la programmation. Elles\n",
    "permettent d'*effectuer un même ensemble d'instructions*\n",
    "(affichages, affectations, calculs) *plusieurs fois de suite*. Les\n",
    "boucles permettent donc d'éviter de copier/coller un\n",
    "ensemble d'instructions. Ainsi, pour  afficher à l'écran 100 fois\n",
    "la phrase `hello world`, il suffit d'écrire une seule fois l'instruction\n",
    "`print(\"hello world\")` et de spécifier que cette instruction doit\n",
    "être effectuée 100 fois par l'ordinateur. Le code est ainsi plus\n",
    "concis et beaucoup plus rapide à écrire. Dans certains cas, le\n",
    "nombre de fois que ces instructions doivent être répétées n'esr\n",
    "connu au moment de l'écriture du code (contrairement au\n",
    "copier/coller). Ainsi, il est par exemple  possible de spécifier que\n",
    "certaines instructions doivent être répétées autant de fois qu'indiqué\n",
    "par une valeur saisie par l'utilisateur."
   ]
  },
  {
   "cell_type": "markdown",
   "metadata": {},
   "source": [
    "## La boucle `while`\n",
    "Les boucles modélisent un raisonnement logique indépendant de la\n",
    "programmation et sont utilisées dans la vie quotidienne. Par exemple,\n",
    "lorsqu'en voiture on est arrêté à un feu tricolore, le code de la\n",
    "route spécifie *\"tant que le feu est rouge, je reste à l'arrêt\"*. Cette\n",
    "spécification peut être vue comme une boucle. L'instruction `\"je reste à l'arrêt\"` est effectuée autant de fois que nécessaire, et ce, jusqu'à\n",
    "ce que la condition `\"le feu est rouge\"` soit fausse.\n",
    "\n",
    "### Structure du `while`\n",
    "Le type de boucles présenté ici reprend le même schéma de raisonnement\n",
    "que dans l'exemple ci-dessus. La boucle `while` (*while* signifiant\n",
    "*tant que* en anglais), s'écrit de la manière suivante :\n",
    "\n",
    "```python\n",
    "Instruction 0                     \n",
    "while (condition):                  \n",
    "  Instruction 1                    \n",
    "  Instruction 2                    \n",
    "  ...                              \n",
    "  Instruction n                    \n",
    "Instruction n+1                    \n",
    "```\n",
    "\n",
    "__Remarque importante !__  L'indentation des instructions 1 à n\n",
    "est obligatoire. Cela permet à l'interpréteur Python de distinguer le\n",
    "bloc d'instructions associé à la boucle while.\n",
    "\n",
    "Ce code indique que les instructions indentées par rapport au mot-clé\n",
    "__while__ (i.e., les instructions 1 à n) sont répétées tant que la\n",
    "__condition__ est vraie. Ces instructions peuvent correspondre à un\n",
    "calcul, des affectations, des alternatives ou à d'autres\n",
    "boucles. L'ordre dans lequel ces instructions sont exécutées par\n",
    "l'ordinateur est représenté dans la figure suivante. "
   ]
  },
  {
   "cell_type": "markdown",
   "metadata": {},
   "source": [
    "<img src=\"boucleWhile.png\" height=\"352\" width=\"470\" ></img>"
   ]
  },
  {
   "cell_type": "markdown",
   "metadata": {},
   "source": [
    "Lorsque le programme arrive à\n",
    "l'instruction while, il évalue la condition associée. Si cette\n",
    "dernière est vraie, alors les instructions 1 à n sont exécutées puis\n",
    "la condition est de nouveau évaluée. Lorsque la condition est fausse,\n",
    "le programme exécute directement l'instruction n+1.\n",
    "\n",
    "Chaque exécution des instructions 1 à n associées au `while` est appelée une __itération__. La condition est\n",
    "très souvent donnée par la valeur d'une variable dont on modifie la\n",
    "valeur à chaque itération. \n",
    "\n"
   ]
  },
  {
   "cell_type": "markdown",
   "metadata": {},
   "source": [
    "## Exemple d'utilisation"
   ]
  },
  {
   "cell_type": "markdown",
   "metadata": {},
   "source": [
    "Pour afficher 4 fois la phrase \"hello world\", on peut utiliser une variable, dont la\n",
    "valeur est fixée initialement à 0, et incrémenter cette variable de un à chaque itération. Le bloc d'instructions associé au `while` devra alors être exécuté tant que la valeur de la variable est inférieure strictement à 4. On obtient alors le code suivant :"
   ]
  },
  {
   "cell_type": "code",
   "execution_count": 2,
   "metadata": {},
   "outputs": [
    {
     "name": "stdout",
     "output_type": "stream",
     "text": [
      "********************\n",
      "hello world\n",
      "hello world\n",
      "hello world\n",
      "hello world\n",
      "********************\n"
     ]
    }
   ],
   "source": [
    "print ('********************')\n",
    "i = 0\n",
    "while i < 4 :\n",
    "    print ('hello world')\n",
    "    i=i+1      #ou de maniere compacte i += 1\n",
    "print ('********************')"
   ]
  },
  {
   "cell_type": "markdown",
   "metadata": {},
   "source": [
    "Pour comprendre exactement ce qui se passe durant l'exécution, déroulons à la main l'exemple précédent :"
   ]
  },
  {
   "cell_type": "code",
   "execution_count": 3,
   "metadata": {},
   "outputs": [],
   "source": [
    "%load_ext tutormagic"
   ]
  },
  {
   "cell_type": "code",
   "execution_count": 4,
   "metadata": {},
   "outputs": [
    {
     "data": {
      "text/html": [
       "\n",
       "        <iframe\n",
       "            width=\"100%\"\n",
       "            height=\"350\"\n",
       "            src=\"http://pythontutor.com/iframe-embed.html#code=print%20%28%27%2A%2A%2A%2A%2A%2A%2A%2A%2A%2A%2A%2A%2A%2A%2A%2A%2A%2A%2A%2A%27%29%0Ai%20%3D%200%0Awhile%20i%20%3C%204%20%3A%0A%20%20%20%20print%20%28%27hello%20world%27%29%0A%20%20%20%20i%3Di%2B1%20%20%20%20%20%20%23ou%20de%20maniere%20compacte%20i%20%2B%3D%201%0Aprint%20%28%27%2A%2A%2A%2A%2A%2A%2A%2A%2A%2A%2A%2A%2A%2A%2A%2A%2A%2A%2A%2A%27%29&origin=opt-frontend.js&cumulative=false&heapPrimitives=false&textReferences=false&curInstr=0&&verticalStack=false&py=3&rawInputLstJSON=%5B%5D&codeDivWidth=50%25&codeDivHeight=100%25\"\n",
       "            frameborder=\"0\"\n",
       "            allowfullscreen\n",
       "        ></iframe>\n",
       "        "
      ],
      "text/plain": [
       "<IPython.lib.display.IFrame at 0x10a2e2a90>"
      ]
     },
     "metadata": {},
     "output_type": "display_data"
    },
    {
     "name": "stdout",
     "output_type": "stream",
     "text": [
      "********************\n",
      "hello world\n",
      "hello world\n",
      "hello world\n",
      "hello world\n",
      "********************\n"
     ]
    }
   ],
   "source": [
    "%%tutor -r -l python3\n",
    "print ('********************')\n",
    "i = 0\n",
    "while i < 4 :\n",
    "    print ('hello world')\n",
    "    i=i+1      #ou de maniere compacte i += 1\n",
    "print ('********************')"
   ]
  },
  {
   "cell_type": "markdown",
   "metadata": {},
   "source": [
    "instruction 1 : affichage de \"\\*\\*\\*\\*\\*\\*\\*\\*\\*\\*\\*\\*\\*\\*\\*\\*\\*\\*\\*\" <br />\n",
    "instruction 2 : définition d'une variable entière appelée `i` de valeur 0 <br />\n",
    "instruction 3 : test `i < 4` avec `i` égal à 0 est vrai => exécuter les instructions 4 et 5 <br />\n",
    "instruction 4 : affichage de 'hello world' <br />\n",
    "instruction 5 : modifie la valeur de la variable `i` : `i` vaut 1 <br />\n",
    "boucle instruction 3 : test `i < 4` avec `i` égal à 1 est vrai => exécuter les instructions 4 et 5 <br />\n",
    "instruction 4 : affichage de 'hello world' <br />\n",
    "instruction 5 : modifie la valeur de la variable `i` : `i` vaut 2 <br />\n",
    "boucle instruction 3 : test \\texttt{i < 4} avec {\\tt i} égal à 2 est vrai => exécuter les instructions 4 et 5 <br />\n",
    "instruction 4 : affichage de 'hello world' <br />\n",
    "instruction 5 : modifie la valeur de la variable `i` : `i` vaut 3 <br />\n",
    "boucle instruction 3 : test `i < 4` avec `i` égal à 3 est vrai => exécuter les instructions 4 et 5 <br />\n",
    "instruction 4 : affichage de 'hello world' <br />\n",
    "instruction 5 : modifie la valeur de la variable `i` : `i` vaut 4 <br />\n",
    "boucle instruction 3 : test `i < 4` avec `i` égal à 4 est faux => exécuter l'instruction 6 (et suivantes) <br />\n",
    "instruction 6 : affichage de \"\\*\\*\\*\\*\\*\\*\\*\\*\\*\\*\\*\\*\\*\\*\\*\\*\\*\\*\\*\" <br />"
   ]
  },
  {
   "cell_type": "markdown",
   "metadata": {},
   "source": [
    "### Affectation compacte"
   ]
  },
  {
   "cell_type": "markdown",
   "metadata": {},
   "source": [
    "Lorsque l'on affecte à une variable une valeur définie à partir de la\n",
    "variable elle-même, la variable en question appararaît alors dans\n",
    "chaque membre de l'affectation. Ainsi, pour multiplier la valeur d'une\n",
    "variable par $2$, on peut utiliser l'instruction `i=i*2`.\n",
    "\n",
    "Si la variable apparaît comme premier terme du membre droit de\n",
    "l'affection, il est possible de rendre l'expression plus compacte en\n",
    "supprimant la variable du membre droit et en plaçant l'opérande avant\n",
    "le signe d'affectation. L'instruction précédente devient alors\n",
    "`i*=2`.\n",
    "\n",
    "Cette compactification est valide pour les opérandes `+,-,*,/`. Le tableau suivant résume ces raccourcis d'écriture.\n",
    " "
   ]
  },
  {
   "cell_type": "markdown",
   "metadata": {},
   "source": [
    "|      |   |   |\n",
    "|------|-----|-------|\n",
    "|a\\*=2 | <=> | a=a\\*2| \n",
    "|a\\*=2 | <=> | a=a\\*2| \n",
    "|b+=1  | <=>  | b=b+1 |\n",
    "|c-=3  | <=>  | c=c-3 |\n",
    "|d/=4  | <=>  | d=d/4 |\n",
    "\n",
    "- Sur ce thème : **Exercices 1, TD3**"
   ]
  },
  {
   "cell_type": "markdown",
   "metadata": {},
   "source": [
    "## Construire une boucle : exemple simple"
   ]
  },
  {
   "cell_type": "markdown",
   "metadata": {},
   "source": [
    "Dans ce qui suit, nous présentons le raisonnement qui permet \n",
    "l'élaboration d'une boucle simple. Supposons que nous voulions écrire\n",
    "un programme permettant d'afficher tous les nombres pairs compris \n",
    "entre 1 et 10 inclus. Le premier code qui vient à l'esprit est le\n",
    "suivant :\n",
    "\n",
    "```python\n",
    "print(2)\n",
    "print(4)\n",
    "print(6)\n",
    "print(8)\n",
    "print(10)\n",
    "```"
   ]
  },
  {
   "cell_type": "markdown",
   "metadata": {},
   "source": [
    "Cependant, enchaîner ces instructions est loin d'être la meilleure technique! Ainsi, si la\n",
    "question consiste à afficher tous les nombres pairs entre 1 et 10000\n",
    "inclus, cette technique nécessitera plusieurs heures pour écrire le\n",
    "programme! De plis, comme on répète plus ou\n",
    "moins la même instruction, à savoir afficher un nombre qui évolue de manière régulière, il est\n",
    "possible (en modifiant légèrement le code), d'utiliser une boucle pour\n",
    "afficher ces nombres pairs.\n",
    "\n",
    "Afin de pouvoir créer une boucle, il faut que les instructions\n",
    "effectuées à chaque itération soient identiques. Pour cela, il\n",
    "convient tout d'abord de modifier le programme afin de faire en sorte\n",
    "que les affichages soient strictement identiques. On utilise alors une\n",
    "variable, disons `i`, pour stocker la partie qui ne se répète pas (2,\n",
    "4,...,10). Ainsi, l'affichage devient identique pour tous les nombres,\n",
    "à savoir `print(i)`. Le code est alors le suivant :"
   ]
  },
  {
   "cell_type": "code",
   "execution_count": 5,
   "metadata": {},
   "outputs": [
    {
     "name": "stdout",
     "output_type": "stream",
     "text": [
      "2\n",
      "4\n",
      "6\n",
      "8\n",
      "10\n"
     ]
    }
   ],
   "source": [
    "i = 2\n",
    "print(i)\n",
    "i = 4\n",
    "print(i)\n",
    "i = 6\n",
    "print(i)\n",
    "i = 8\n",
    "print(i)\n",
    "i = 10\n",
    "print(i)"
   ]
  },
  {
   "cell_type": "markdown",
   "metadata": {},
   "source": [
    "Le code fait maintenant apparaître la répétition à 5 reprises de la même instruction `print(i)`. En revanche,\n",
    "5 affectations différentes de la variable `i` sont effectuées. Mais l'affectation consiste en fait à simplement ajouter `2` à la valeur de `i`. On peut donc remplacer les 5 affectations différentes par l'affectation `i+=2`. Pour que cela soit toujours vrai, il faut toutefois que `i` soit initialisé à `0`. On obtient alors le code\n",
    "suivant :"
   ]
  },
  {
   "cell_type": "code",
   "execution_count": null,
   "metadata": {},
   "outputs": [],
   "source": [
    "i = 0\n",
    "\n",
    "i += 2\n",
    "print(i)\n",
    "    \n",
    "i += 2\n",
    "print(i)\n",
    "    \n",
    "i += 2\n",
    "print(i)\n",
    "    \n",
    "i += 2\n",
    "print(i)\n",
    "    \n",
    "i += 2\n",
    "print(i)"
   ]
  },
  {
   "cell_type": "markdown",
   "metadata": {},
   "source": [
    "Dans ce code, un bloc de deux instructions est répété 5 fois. Avant le dernier bloc d'instructions (ligne 14), la variable 'i' est égale à 8. On répète donc ces instructions tant que la variable 'i' est inférieure ou égale à 8. Nous pouvons donc remplacer ce code par la boucle :"
   ]
  },
  {
   "cell_type": "code",
   "execution_count": null,
   "metadata": {},
   "outputs": [],
   "source": [
    "i = 0\n",
    "while i <= 8 :\n",
    "    i+=2\n",
    "    print(i)"
   ]
  },
  {
   "cell_type": "markdown",
   "metadata": {},
   "source": [
    "La difficulté de l'élaboration d'une boucle vient du fait qu'il faut\n",
    "être capable de modifier les instructions afin qu'elles soient\n",
    "identiques lors de chaque itération. L'exemple présenté ici devient très simple\n",
    "dès que l'on comprend que la variable `i` est incrémentée de `2` à chaque\n",
    "itération. Cette *transformation* du code (en instructions identiques)\n",
    "peut cependant être difficile si l'on n'a pas la bonne *intuition*.\n",
    "\n",
    "Dans le code précédent, à chaque itération, on effectue d'abord\n",
    "l'incrémentation de la variable `i` puis l'affichage de `i`. L'ordre dans\n",
    "lequel ces deux instructions est fait est complètement arbitraire. On\n",
    "pourrait, tout aussi bien considérer qu'à chaque itération, on affiche\n",
    "d'abord `i` avant de l'incrémenter. Pour afficher comme première valeur\n",
    "2, il faut affecter la valeur `2` à `i` avant d'entrer dans la boucle\n",
    "`while`. De plus, comme le dernier entier à afficher est 10, il est\n",
    "nécessaire d'effectuer le bloc d'instructions tant que `i` est inférieur\n",
    "ou égal à `10`. On obtient alors le code suivant :"
   ]
  },
  {
   "cell_type": "code",
   "execution_count": 6,
   "metadata": {},
   "outputs": [
    {
     "name": "stdout",
     "output_type": "stream",
     "text": [
      "2\n",
      "4\n",
      "6\n",
      "8\n",
      "10\n"
     ]
    }
   ],
   "source": [
    "i = 2\n",
    "while i <= 10 :\n",
    "    print(i)\n",
    "    i += 2"
   ]
  },
  {
   "cell_type": "markdown",
   "metadata": {},
   "source": [
    "- Sur ce thème : **Exercices 2 et 3, TD3**"
   ]
  },
  {
   "cell_type": "markdown",
   "metadata": {},
   "source": [
    "## Construire une boucle : autre exemple"
   ]
  },
  {
   "cell_type": "markdown",
   "metadata": {},
   "source": [
    "Jusqu'à maintenant, dans les différents exemples de boucles que nous\n",
    "avons vus, le nombre d'itérations était connu à l'avance. Si ce n'est\n",
    "pas le cas, il n'est alors plus possible d'initialiser une variable avec une valeur donnée et de\n",
    "la modifier à chaque itération de manière constante jusqu'à ce qu'elle atteigne une valeur fixée. D'autres\n",
    "types de conditions associées au `while` sont nécessaires.\n",
    "\n",
    " Pour illustrer ceci, nous nous intéressons à l'écriture d'un\n",
    " programme permettant de calculer la moyenne des notes d'un étudiant, le nombre\n",
    " de notes n'étant pas connu à l'avance. L'utilisateur saisit au\n",
    " clavier les différentes notes (nombres réels compris entre 0.0 et\n",
    " 20.0). Le programme interrompt la saisie lorsque le nombre saisi\n",
    " par l'utilisateur ne correspond pas à une note. Il alors affiche la moyenne des notes saisies.\n",
    "\n",
    "Comme l'utilisateur peut saisir plusieurs notes (par exemple 10), il y\n",
    "a forcément une répétition de l'instruction de saisie d'un nombre,\n",
    "c'est-à-dire, de l'instruction `nb = float(input())`. De\n",
    "plus, cette saisie doit continuer tant que le nombre saisi correspond\n",
    "à une note, c'est-à-dire, tant que la variable `nb` est supérieure ou\n",
    "égale à `0.0` et inférieure ou égale à `20.0`. Une ébauche de boucle\n",
    "est alors :\n",
    "\n",
    "```python \n",
    "while nb >= 0 and nb <= 20 : \n",
    "    nb = float(input())\n",
    "```"
   ]
  },
  {
   "cell_type": "markdown",
   "metadata": {},
   "source": [
    "La saisie de nombres ne suffit pas. Afin de calculer la moyenne de\n",
    "plusieurs notes, il faut connaître le nombre total de notes ainsi que\n",
    "la somme de ces notes. Il faut donc deux nouvelles variables, la\n",
    "première correspondant au nombre de notes que l'on appelera `compteur`, l'autre à la somme des notes (variable `somme`). À chaque itération, il faut donc incrémenter de `1`la variable `compteur`,\n",
    "ajouter à `somme` la valeur de la variable `nb` et demander à nouveau que\n",
    "l'utilisateur saisisse un nombre. La boucle devient alors:\n",
    "\n",
    "```python\n",
    "while nb >= 0 and nb <= 20 : \n",
    "    compteur += 1\n",
    "    somme += nb\n",
    "    nb = float(input())\n",
    "```"
   ]
  },
  {
   "cell_type": "markdown",
   "metadata": {},
   "source": [
    "**Attention !** L'ordre des instructions est très important. Comme l'utilisateur peut saisir\n",
    "un nombre qui ne correspond pas à une note, il est nécessaire de vérifier que `nb` est une note avant de l'ajouter à `somme`. Pour cela, la saisie de `nb` est la dernière instruction\n",
    "du `while`. Si ce nombre est une note, autrement dit, si la condition du\n",
    "`while` est vraie, alors on incrémente `compteur` de `1` et on ajoute la\n",
    "dernière note saisie à `somme` à l'itération suivante.\n",
    "\n",
    "Il faut veiller à l'initialisation des variables. En effet, lors du premier test de la condition du `while`, la variable `nb` n'est pas définie. Elle doit correspondre à la première note saisie par l'utilisateur. Il faut donc ajouter avant la boucle l'instruction `nb = float(input())`. Il faut également donner\n",
    "des valeurs initiales à `compteur` et `somme`. Afin que le\n",
    "résultat soit correct, il faut les initialiser à `0`. Cela donne finalement :"
   ]
  },
  {
   "cell_type": "code",
   "execution_count": 9,
   "metadata": {},
   "outputs": [
    {
     "name": "stdout",
     "output_type": "stream",
     "text": [
      "12\n",
      "78\n"
     ]
    }
   ],
   "source": [
    "nb = float(input())\n",
    "compteur = 0\n",
    "somme = 0\n",
    "while nb >= 0 and nb <= 20 : \n",
    "    compteur += 1\n",
    "    somme += nb\n",
    "    nb = float(input())"
   ]
  },
  {
   "cell_type": "markdown",
   "metadata": {},
   "source": [
    "À la fin de cette boucle, les variables `somme` et `compteur` correspondent respectivement à la somme des notes saisies et à leur nombre. Pour afficher la moyenne, il faut utiliser l'instruction `print('La moyenne est ' + str(somme/compteur))`. Cependant, comme le programme doit fonctionner quel que soit le nombre de notes saisies par l'utilisateur, notamment dans le cas où aucune note n'a été saisie, il faut impérativement vérifier que  `compteur` est non nul, sinon l'instruction d'affichage engendre une division par 0, et donc une erreur. L'affichage avec un test sur le nombre de notes saisies peut alors s'écrire"
   ]
  },
  {
   "cell_type": "code",
   "execution_count": 10,
   "metadata": {},
   "outputs": [
    {
     "name": "stdout",
     "output_type": "stream",
     "text": [
      "La moyenne est 12.0\n"
     ]
    }
   ],
   "source": [
    "if compteur==0 :\n",
    "    print('Aucune note n\\'a ete saisie. On ne peut donc pas calculer la moyenne!!!')\n",
    "else :\n",
    "    print('La moyenne est ' + str(somme/compteur))"
   ]
  },
  {
   "cell_type": "markdown",
   "metadata": {},
   "source": [
    "- Sur ce thème : **Exercices 4, 5 et 7, TD3**"
   ]
  },
  {
   "cell_type": "markdown",
   "metadata": {},
   "source": [
    "## Boucles infinies"
   ]
  },
  {
   "cell_type": "markdown",
   "metadata": {},
   "source": [
    "Les boucles infinies sont des boucles dont les instructions sont\n",
    "exécutées une infinité de fois. De telles boucles interviennent\n",
    "lorsque la condition du `while` est toujours vraie. Elles correspondent\n",
    "à une erreur de programmation et ne sont pas détectées par\n",
    "l'ordinateur. Cela provient soit d'une mauvaise\n",
    "initialisation de la ou des variables intervenant dans la condition,\n",
    "soit d'un test mal formulé. Voici un exemple de boucle infinie :"
   ]
  },
  {
   "cell_type": "code",
   "execution_count": null,
   "metadata": {},
   "outputs": [],
   "source": [
    "    i = 1\n",
    "    while i != 10 :\n",
    "        i += 2\n",
    "        print(i)"
   ]
  },
  {
   "cell_type": "markdown",
   "metadata": {},
   "source": [
    "Un peu (ou beaucoup!) de reflexion avant l'écriture d'une boucle\n",
    "permet d'éviter de telles boucles infinies.\n",
    "- Sur ce thème : **Exercice 6, TD3**"
   ]
  }
 ],
 "metadata": {
  "kernelspec": {
   "display_name": "Python 3",
   "language": "python",
   "name": "python3"
  },
  "language_info": {
   "codemirror_mode": {
    "name": "ipython",
    "version": 3
   },
   "file_extension": ".py",
   "mimetype": "text/x-python",
   "name": "python",
   "nbconvert_exporter": "python",
   "pygments_lexer": "ipython3",
   "version": "3.6.4"
  }
 },
 "nbformat": 4,
 "nbformat_minor": 2
}
