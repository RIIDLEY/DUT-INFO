{
 "cells": [
  {
   "cell_type": "markdown",
   "metadata": {},
   "source": [
    "# <center>Chapitre 3 : Boucles simples - TP </center>"
   ]
  },
  {
   "cell_type": "markdown",
   "metadata": {},
   "source": [
    "## Exercice 1 : Trace de programme*\n",
    "1. Donner la trace du programme, c'est-à-dire l'affichage qui sera obtenu par l'exécution du programme. \n",
    "2. Exécuter ensuite ce programme avec Python Tutor. Suivre pas à pas l'exécution du programme pour comprendre son fonctionnement. Vérifier que l'affichage obtenu est celui prédit."
   ]
  },
  {
   "cell_type": "code",
   "execution_count": 2,
   "metadata": {},
   "outputs": [],
   "source": [
    "%load_ext tutormagic"
   ]
  },
  {
   "cell_type": "code",
   "execution_count": null,
   "metadata": {},
   "outputs": [],
   "source": [
    "%%tutor -r -l python3 # Lorsque ce code est exécuté, une  pythontutor s'ouvre dans le notebook\n",
    "i = 10\n",
    "nb = 1\n",
    "while i < 5 :\n",
    "    i += 1\n",
    "    nb += 2 * i\n",
    "print ('nb = ' +  str(nb))"
   ]
  },
  {
   "cell_type": "markdown",
   "metadata": {},
   "source": [
    "Même question lorsque la première instruction est respectivement remplacée par l'instruction `i = 0` et `i = 3`."
   ]
  },
  {
   "cell_type": "markdown",
   "metadata": {},
   "source": [
    "## Exercice 2 : Trace de programme**\n",
    "Donner la trace du programme, c'est-à-dire l'affichage qui sera obtenu par l'exécution du programme. "
   ]
  },
  {
   "cell_type": "code",
   "execution_count": null,
   "metadata": {},
   "outputs": [],
   "source": [
    "i = 12\n",
    "j = 43\n",
    "print ('i = ' +  str(i) + ', j = ' + str(j))\n",
    "while i<25 and j > 3 * i :\n",
    "    i += 3\n",
    "    j -=  i - 18 \n",
    "    print ('i = ' +  str(i) + ', j = ' + str(j))"
   ]
  },
  {
   "cell_type": "markdown",
   "metadata": {},
   "source": [
    "## Exercice 3 : Factorielle**\n",
    "Ecrire un programme permettant de calculer la factorielle d'un nombre saisi par l'utilisateur. \n",
    "\n",
    "**Rappel :** si `n`  est un entier positif, alors la *factorielle* de $n$, notée $n!$, est égale à : $$n! = n \\times (n-1) \\times (n -2) \\times \\dots \\times 2 \\times 1$$ Par convention, $0! = 1$."
   ]
  },
  {
   "cell_type": "code",
   "execution_count": null,
   "metadata": {},
   "outputs": [],
   "source": [
    "#-------------------------#\n",
    "#    Écrire le code ici   #\n",
    "#-------------------------#\n",
    "\n",
    "\n",
    "\n",
    "\n",
    "\n"
   ]
  },
  {
   "cell_type": "markdown",
   "metadata": {},
   "source": [
    "## Exercice 4 : Calcul d'intérêts*\n",
    "Soit un compte bancaire permettant de placer son argent à taux fixe.\n",
    "Définissez un programme permettant :\n",
    "\n",
    "- de saisir le taux d'intérêt annuel du compte,\n",
    "- de saisir une somme initiale placée sur le compte,\n",
    "- de saisir la durée en année du placement.\n",
    "\n",
    "Autrement dit, quand la somme sur le compte en banque est 100 euros et le taux d'intérêt annuel du compte est de 10%,  la somme disponible sur le compte est 100 \\* (1+10/100)= 110&euro; au bout d'une année et 110 \\* (1+10/100)= 121&euro; au bout de deux années.\n",
    "\n",
    "Le programme calculera et affichera le solde du compte à l'issue de la durée du placement."
   ]
  },
  {
   "cell_type": "code",
   "execution_count": null,
   "metadata": {},
   "outputs": [],
   "source": [
    "#-------------------------#\n",
    "#    Écrire le code ici   #\n",
    "#-------------------------#\n",
    "\n",
    "\n",
    "\n",
    "\n",
    "\n"
   ]
  },
  {
   "cell_type": "markdown",
   "metadata": {},
   "source": [
    "**Attention :** À cause des problèmes d'arrondi des flottants, la fonction `print` peut afficher beaucoup de décimales. Il est possible d'arrondir des valeurs grâce à la fonction `round(nombre[, nbdigits])`. Si `nbdigits` n'est pas fourni, le résultat est l'entier le plus proche de `nombre` \n",
    "Si `nbdigits` est fourni, le résultat est le flottant arrondi au plus proche selon le nombre de chiffre donné par `nbdigits`. Ainsi"
   ]
  },
  {
   "cell_type": "code",
   "execution_count": null,
   "metadata": {},
   "outputs": [],
   "source": [
    "print(round(5.0034))     # affiche 5\n",
    "print(round(5.1174, 2))  # affiche 5.12"
   ]
  },
  {
   "cell_type": "markdown",
   "metadata": {},
   "source": [
    "## Exercice 5 : Calcul du modulo sans l'opérateur module (%)**\n",
    "On souhaite écrire un algorithme qui affiche si un nombre entier est divisible ou non par un autre. Quelque soit l'ordre de saisie des arguments, on cherchera toujours à savoir si le plus grand nombre est divisible par le plus petit. Les deux nombres seront fournis par l'utilisateur.\n",
    "\n",
    "*Vous ne devrez pas utiliser l'opérateur modulo (`%`), mais la méthode des soustractions successives.\n",
    "\n",
    "*Exemple :* Si `a = 6` et `b = 2`, ou `a=2` et `b=6`, on appliquera la méthode suivante :\n",
    "\n",
    "-  `6 -2 = 4`<br>\n",
    "- `4 - 2 = 2`<br>\n",
    "- `2 - 2 = 0`<br>\n",
    "(c'est fini car je ne peux plus soustraire 2 à 0).<br>\n",
    "Donc 6 est divisible par 2 (car la dernière soustraction permet d'obtenir un 0).\n",
    "\n",
    "*Exemple :* Si `a = 7` et `b = 3`, ou `a=3` et `b=7`, on appliquera la méthode :\n",
    "\n",
    "`7 - 3 = 4`<br>\n",
    "`4 - 3 = 1` <br> \n",
    "(c'est fini car je ne peux plus soustraire 3 à 1)<br>\n",
    "Donc 7 n'est pas divisible par 3 (car la dernière soustraction ne permet pas d'obtenir un 0)."
   ]
  },
  {
   "cell_type": "code",
   "execution_count": null,
   "metadata": {},
   "outputs": [],
   "source": [
    "#-------------------------#\n",
    "#    Écrire le code ici   #\n",
    "#-------------------------#\n",
    "\n",
    "\n",
    "\n",
    "\n",
    "\n"
   ]
  },
  {
   "cell_type": "markdown",
   "metadata": {},
   "source": [
    "## Exercice 6 : Carrés et cubes*\n",
    "Ecrire un programme qui, pour tout entier compris entre 1 et 10, affiche sur une même ligne, les valeurs de cet entier, de son carré et de son cube. L'affichage doit donc être équivalent à :\n",
    "```\n",
    "1    1    1\n",
    "2    4    8\n",
    "3    9   27\n",
    "4   16   64\n",
    "5   25  125\n",
    "6   36  216\n",
    "7   49  343\n",
    "8   64  512\n",
    "9   81  729\n",
    "10 100 1000\n",
    "```\n",
    "Afin d'obtenir l'affichage correct, il est possible de         spécifier en python le nombre de caractères à utiliser pour afficher une chaîne de caractères, cette chaîne étant alors     justifiée à droite. Pour cela, il suffit d'utiliser l'instruction `str.rjust(n)` où `str` est une chaîne     de caractères et `n` est le nombre de caractères à utiliser pour l'affichage de `str`. Afin de pouvoir utiliser cette instruction, il est nécessaire d'ajouter en début de programme l'instruction `from string import *`. A titre d'exemple :"
   ]
  },
  {
   "cell_type": "code",
   "execution_count": null,
   "metadata": {},
   "outputs": [],
   "source": [
    "from string import *\n",
    "uneVar = 'x'\n",
    "print ('x')\n",
    "print (uneVar.rjust(2)) # il est aussi possible d'écrire 'x'.rjust(2) \n",
    "print (' '+uneVar) \n",
    "print (uneVar.rjust(3))\n",
    "nb = 1\n",
    "print (str(nb).rjust(3))\n",
    "nb = 10\n",
    "print (str(nb).rjust(3))\n",
    "nb = 100\n",
    "print (str(nb))"
   ]
  },
  {
   "cell_type": "code",
   "execution_count": null,
   "metadata": {},
   "outputs": [],
   "source": [
    "#-------------------------#\n",
    "#    Écrire le code ici   #\n",
    "#-------------------------#\n",
    "\n",
    "\n",
    "\n",
    "\n",
    "\n"
   ]
  },
  {
   "cell_type": "markdown",
   "metadata": {},
   "source": [
    "## Exercice 7 - Diagonale d'étoiles*\n",
    "\n",
    "En utilisant l'instruction `uneVar.rjust(n)` expliquée précédemment, écrire un programme reproduisant l'affichage suivant : \n",
    "```\n",
    " *\n",
    "   *\n",
    "     *\n",
    "       *\n",
    "         *\n",
    "           *\n",
    "             *\n",
    "               *\n",
    "                 *\n",
    "                   *\n",
    "                     *\n",
    "```                    "
   ]
  },
  {
   "cell_type": "code",
   "execution_count": null,
   "metadata": {},
   "outputs": [],
   "source": [
    "#-------------------------#\n",
    "#    Écrire le code ici   #\n",
    "#-------------------------#\n",
    "\n",
    "\n",
    "\n",
    "\n",
    "\n"
   ]
  },
  {
   "cell_type": "markdown",
   "metadata": {},
   "source": [
    "### Exercice 8 : Utilisation de `turtle` (la *tortue*)**\n",
    "\n",
    "Le module Turtle permet de dessiner à l'écran des figures. Afin de pouvoir utiliser ce module, il faut ajouter, en début de programme, l'instruction : `from turtle import *`. On peut alors utiliser les instructions suivantes pour dessiner :\n",
    "- `goto(x,y)` : aller à l'endroit de coordonnées x et y,\n",
    "- `forward(distance)` : avancer d'une distance donnée,\n",
    "- `up()`  : relever le crayon (pour pouvoir avancer sans dessiner),\n",
    "- `down()` : abaisser le crayon (pour pouvoir recommencer à dessiner),\n",
    "- `left(angle)` : tourner à gauche d'un angle donné (exprimé en degré),\n",
    "- `right(angle)` : tourner à droite.\t\n",
    "- `done()` : pour terminer un programme graphique utilisant `turtle`. ** Attention :** La fenêtre graphique reste ouverte jusqu'à ce qu'une action de l'utilisateur la ferme ! \n",
    "\n",
    "A titre d'exemple, regarder ce que donne le code : "
   ]
  },
  {
   "cell_type": "code",
   "execution_count": null,
   "metadata": {},
   "outputs": [],
   "source": [
    "from turtle import *\n",
    "forward(100)\n",
    "left(90)\n",
    "forward(50)\n",
    "goto(0, 0)\n",
    "done()"
   ]
  },
  {
   "cell_type": "markdown",
   "metadata": {},
   "source": [
    "Reproduire à l'aide du module `turtle` les figures ci-dessous.   \n",
    " <img src=\"figuresTurtle3.png\" alt=\"Dessins\"  width=\"300px\"/>"
   ]
  },
  {
   "cell_type": "code",
   "execution_count": null,
   "metadata": {},
   "outputs": [],
   "source": [
    "#-------------------------#\n",
    "#    Écrire le code ici   #\n",
    "#-------------------------#\n",
    "\n",
    "\n",
    "\n"
   ]
  },
  {
   "cell_type": "markdown",
   "metadata": {},
   "source": [
    "### Exercice 9 : Polygones\\*\\*\\*\n",
    "Ecrire un programme demandant un nombre compris entre 3 et 10 à l'utilisateur et affichant, à l'aide du module `turtle`, un polygone ayant un nombre de côtés égal à la valeur saisie par l'utilisateur. La longueur des côtés pourra être fixée ou choisie par l'utilisateur."
   ]
  },
  {
   "cell_type": "code",
   "execution_count": null,
   "metadata": {},
   "outputs": [],
   "source": [
    "#-------------------------#\n",
    "#    Écrire le code ici   #\n",
    "#-------------------------#\n",
    "\n",
    "\n",
    "\n"
   ]
  }
 ],
 "metadata": {
  "kernelspec": {
   "display_name": "Python 3",
   "language": "python",
   "name": "python3"
  },
  "language_info": {
   "codemirror_mode": {
    "name": "ipython",
    "version": 3
   },
   "file_extension": ".py",
   "mimetype": "text/x-python",
   "name": "python",
   "nbconvert_exporter": "python",
   "pygments_lexer": "ipython3",
   "version": "3.6.6"
  }
 },
 "nbformat": 4,
 "nbformat_minor": 2
}
