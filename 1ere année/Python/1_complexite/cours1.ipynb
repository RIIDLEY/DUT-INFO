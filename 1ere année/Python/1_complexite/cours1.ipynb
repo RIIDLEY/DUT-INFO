{
 "cells": [
  {
   "cell_type": "markdown",
   "metadata": {},
   "source": [
    "# <center> Chapitre 1 : Complexité </center>"
   ]
  },
  {
   "cell_type": "markdown",
   "metadata": {},
   "source": [
    "De manière générale, un algorithme effectue un traitement sur des données.\n",
    "\n",
    "S'il produit le résultat escompté, on dit que l'algorithme est *correct*.\n",
    "\n",
    "Mais cela ne suffit pas. On veut que l'algorithme soit *efficace*, c'est-à-dire\n",
    "que le temps de calcul du résultat soit raisonnable.\n",
    "\n",
    "## Plusieurs chemins mènent à Rome, mais...\n",
    "\n",
    "Il y a toujours plusieurs façons d'arriver au résultat ; ou dit autrement,\n",
    "plusieurs stratégies pour résoudre un problème.\n",
    "\n",
    "Prenons un exemple simple.\n",
    "On veut prendre le premier élément d'un tableau et le mettre à la fin.\n",
    "C'est ce qu'on appelle un décalage circulaire.\n",
    "\n",
    "Si le tableau de départ est $[1, 2, 3, 4, 5]$ le résultat voulu est donc\n",
    "$[2, 3, 4, 5, 1]$.\n",
    "\n",
    "On peut imaginer la stratégie suivante : on échange les 1er et 2e éléments,\n",
    "les 2e et 3e, les 3e et 4e, et ainsi de suite jusqu'au dernier."
   ]
  },
  {
   "cell_type": "code",
   "execution_count": null,
   "metadata": {},
   "outputs": [],
   "source": [
    "t = [1,2,3,4,5]\n",
    "\n",
    "i = 0\n",
    "while i < len(t)-1:\n",
    "    tmp = t[i]\n",
    "    t[i] = t[i+1]\n",
    "    t[i+1] = tmp\n",
    "    i += 1\n",
    "    \n",
    "print(t)"
   ]
  },
  {
   "cell_type": "markdown",
   "metadata": {},
   "source": [
    "Une deuxième méthode est de sauver le premier élément dans une variable,\n",
    "décaler tous les éléments d'une case vers la gauche, et écrire l'élément\n",
    "sauvé en dernière position."
   ]
  },
  {
   "cell_type": "code",
   "execution_count": null,
   "metadata": {},
   "outputs": [],
   "source": [
    "t = [1,2,3,4,5]\n",
    "\n",
    "tmp = t[0]\n",
    "i = 0\n",
    "while i < len(t)-1:\n",
    "    t[i] = t[i+1]\n",
    "    i += 1\n",
    "t[len(t)-1] = tmp\n",
    "\n",
    "print(t)"
   ]
  },
  {
   "cell_type": "markdown",
   "metadata": {},
   "source": [
    "Les deux programmes sont corrects ; lequel est le plus rapide ?"
   ]
  },
  {
   "cell_type": "markdown",
   "metadata": {},
   "source": [
    "## Mesure des performances avec `time`\n",
    "\n",
    "La bibliothèque `time` fournit un chronomètre qui permet de\n",
    "mesurer le temps de calcul. Il suffit d'inclure dans le programme\n",
    "la ligne"
   ]
  },
  {
   "cell_type": "code",
   "execution_count": 1,
   "metadata": {},
   "outputs": [],
   "source": [
    "from time import time"
   ]
  },
  {
   "cell_type": "markdown",
   "metadata": {},
   "source": [
    "lancer le chrono au début du programme et l'arrêter à la fin.\n",
    "On fait ensuite la différence entre les temps de départ et d'arrivée.\n",
    "\n",
    "On va chronométrer par exemple la création d'un tableau."
   ]
  },
  {
   "cell_type": "code",
   "execution_count": 211,
   "metadata": {},
   "outputs": [
    {
     "name": "stdout",
     "output_type": "stream",
     "text": [
      "1.74\n"
     ]
    }
   ],
   "source": [
    "n = 10000              # la taille du tableau voulu\n",
    "tic = time()           # top départ\n",
    "\n",
    "t = []\n",
    "i = 0\n",
    "while i < n:\n",
    "    t.append(i)\n",
    "    i+=1\n",
    "    \n",
    "tac = time()           # arrêt du chrono\n",
    "\n",
    "#print(tac-tic)                    # en secondes\n",
    "print(round(1000*(tac-tic),2))     # on convertit en ms et on arrondit au centième"
   ]
  },
  {
   "cell_type": "markdown",
   "metadata": {},
   "source": [
    "En exécutant plusieurs fois, on constate que le temps n'est pas toujours\n",
    "le même. En effet, plusieurs processus sont actifs en permanence sur la\n",
    "machine (applications en tâche de fond, interface graphique, réseau...)\n",
    "et peuvent mobiliser le processeur.\n",
    "\n",
    "Néanmoins, après plusieurs essais on peut se faire une idée du temps\n",
    "d'exécution du programme. Il faut sinon lancer plusieurs l'algorithme et faire la moyenne des temps d'exécution."
   ]
  },
  {
   "cell_type": "markdown",
   "metadata": {},
   "source": [
    "## Nombre d'opérations et taille des données\n",
    "\n",
    "Mettons que l'on veuille créer un tableau dix fois plus gros, de 100 000\n",
    "éléments. Comment le temps de calcul va s'en ressentir ? (essayer ci-dessus)\n",
    "\n",
    "Le temps est approximativement multiplié par 10.\n",
    "Pouvait-on le prévoir ?\n",
    "Oui, en comptant le *nombre d'opérations* que le programme doit effectuer.\n",
    "Il y a $n$ itérations et on fait 3 opérations dans la boucle (test, ajout, incrément).\n",
    "On fait donc 3*n opérations au total. Soit 30 000 opérations quand $n$ = 10 000,\n",
    "et 300 000 quand $n$ = 100 000. Dix fois plus d'opérations donc dix fois plus\n",
    "de temps.\n",
    "\n",
    "**Remarque :** on ne compte pas les 2 initialisations qui sont faites une fois,\n",
    "car 2 est négligeable devant 3*$n$ quand $n$ est grand.\n",
    "\n",
    "Et c'est le cas $n$ grand qui nous intéresse, parce qu'en pratique les données\n",
    "sont de grande taille, et parce qu'on veut prévoir l'évolution des performances\n",
    "quand cette taille augmente.\n",
    "\n",
    "L'estimation du nombre d'opérations en fonction de la taille des données $n$\n",
    "pour $n$ grand s'appelle aussi *performance asymptotique* ou **complexité**\n",
    "de l'algorithme."
   ]
  },
  {
   "cell_type": "markdown",
   "metadata": {},
   "source": [
    "## Retour au décalage circulaire\n",
    "\n",
    "Appliquons au tableau que l'on vient de créer nos deux stratégies\n",
    "de décalage circulaire.\n",
    "\n",
    "Pour calculer la complexité, comptons le nombre d'opérations dans\n",
    "la boucle :\n",
    "\n",
    "- 6 dans le premier cas (comparaison, 3 affectations, calcul de $i+1$ et incrément)\n",
    "- 4 dans le deuxième (deux affectations en moins)\n",
    "\n",
    "Le nombre d'opérations sera respectivement 6$n$ et 4$n$ et on\n",
    "prévoit que la deuxième méthode est plus efficace."
   ]
  },
  {
   "cell_type": "code",
   "execution_count": 188,
   "metadata": {},
   "outputs": [
    {
     "name": "stdout",
     "output_type": "stream",
     "text": [
      "4.45\n"
     ]
    }
   ],
   "source": [
    "n = len(t)\n",
    "tic = time()\n",
    "\n",
    "i=0\n",
    "while i < n-1:\n",
    "    tmp = t[i]\n",
    "    t[i] = t[i+1]\n",
    "    t[i+1] = tmp\n",
    "    i+=1\n",
    "\n",
    "tac = time()\n",
    "\n",
    "print(round(1000*(tac-tic),2))"
   ]
  },
  {
   "cell_type": "code",
   "execution_count": 216,
   "metadata": {},
   "outputs": [
    {
     "name": "stdout",
     "output_type": "stream",
     "text": [
      "2.58\n"
     ]
    }
   ],
   "source": [
    "\n",
    "tic = time()\n",
    "\n",
    "tmp = t[0]\n",
    "i=0\n",
    "while i < n-1 :\n",
    "    t[i] = t[i+1]\n",
    "    i+=1\n",
    "t[len(t)-1] = tmp\n",
    "    \n",
    "tac = time()\n",
    "\n",
    "print(round(1000*(tac-tic),2))"
   ]
  },
  {
   "cell_type": "markdown",
   "metadata": {},
   "source": [
    "Comme prévu, le second est un peu plus rapide.\n",
    "Toutefois, ces deux programmes ont quelque chose en commun."
   ]
  },
  {
   "cell_type": "markdown",
   "metadata": {},
   "source": [
    "## Complexité linéaire\n",
    " \n",
    "Les programmes, comme ci-dessus, qui comportent une boucle simple avec un\n",
    "nombre constant $C$ d'opérations dans la boucle (pas de boucles imbriquées\n",
    "ou d'appels de fonction), font en tout $Cn$ opérations. Le temps de calcul\n",
    "est donc proportionnel à $n$, autrement dit, dépend linéairement de $n$.\n",
    "\n",
    "On dit qu'ils ont une *complexité linéaire*, ou une complexité en $O(n)$,\n",
    "prononcé *grand Ô de n*."
   ]
  },
  {
   "cell_type": "markdown",
   "metadata": {},
   "source": [
    "## Complexité quadratique\n",
    "\n",
    "Considérons maintenant le cas d'une boucle imbriquée.\n",
    "\n",
    "Par exemple, une fonction qui calcule les tables de multiplication\n",
    "jusqu'à $n*n$ et les écrit dans un tableau $t$."
   ]
  },
  {
   "cell_type": "code",
   "execution_count": 197,
   "metadata": {},
   "outputs": [
    {
     "name": "stdout",
     "output_type": "stream",
     "text": [
      "15.9\n"
     ]
    }
   ],
   "source": [
    "n = 100\n",
    "t = []\n",
    "\n",
    "def tables(n,t):\n",
    "    i = 1\n",
    "    while i < n:\n",
    "        j = 1\n",
    "        while j < n:\n",
    "            res = i*j\n",
    "            t.append(str(i) + \"*\" + str(j) + \"=\" + str(res))\n",
    "            j += 1\n",
    "        i += 1\n",
    "        \n",
    "tic = time()\n",
    "tables(n,t)\n",
    "tac = time()\n",
    "print(round(1000*(tac-tic),2))"
   ]
  },
  {
   "cell_type": "markdown",
   "metadata": {},
   "source": [
    "Ici, il faut déjà faire $Cn$ opérations pour remplir la table de $i$\n",
    "(d' $i*1$ à $i*n$), et cela $n$ fois pour aller jusqu'à la table de $n$.\n",
    " \n",
    "Le nombre d'opérations est donc $Cn^2$.\n",
    "Et en effet, quand on multiplie $n$ par 10, le temps est multiplié par 100 !\n",
    " \n",
    "On dit que la complexité est *quadratique* ou en $O(n^2)$."
   ]
  },
  {
   "cell_type": "markdown",
   "metadata": {},
   "source": [
    "## Complexité dans le pire des cas\n",
    "\n",
    "En général, le nombre d'opérations dépend non seulement de la taille des données,\n",
    "mais des données elles-mêmes (on dit aussi : de l'instance).\n",
    "\n",
    "Supposons par exemple qu'on recherche un élément particulier dans un tableau de taille $n$.\n",
    "Avec de la chance, c'est-à-dire sur un jeu de données particulièrement heureux,\n",
    "l'élément est trouvé du premier coup et le programme s'arrête après une opération.\n",
    "\n",
    "Mais il est plus intéressant de prévoir la performance pour un jeu de données\n",
    "défavorable ou *complexité dans le pire des cas*. Dans l'exemple de la recherche,\n",
    "le pire des cas se produit quand l'élément n'est pas trouvé ou trouvé en dernier,\n",
    "ce qui oblige à parcourir le tableau entier ; la complexité est donc $O(n)$."
   ]
  }
 ],
 "metadata": {
  "kernelspec": {
   "display_name": "Python 3",
   "language": "python",
   "name": "python3"
  },
  "language_info": {
   "codemirror_mode": {
    "name": "ipython",
    "version": 3
   },
   "file_extension": ".py",
   "mimetype": "text/x-python",
   "name": "python",
   "nbconvert_exporter": "python",
   "pygments_lexer": "ipython3",
   "version": "3.6.4"
  },
  "toc": {
   "base_numbering": 1,
   "nav_menu": {},
   "number_sections": true,
   "sideBar": true,
   "skip_h1_title": false,
   "title_cell": "Table of Contents",
   "title_sidebar": "Contents",
   "toc_cell": false,
   "toc_position": {},
   "toc_section_display": true,
   "toc_window_display": false
  }
 },
 "nbformat": 4,
 "nbformat_minor": 2
}
