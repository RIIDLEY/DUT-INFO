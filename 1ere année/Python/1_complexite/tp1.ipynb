{
 "cells": [
  {
   "cell_type": "markdown",
   "metadata": {},
   "source": [
    "# <center> Chapitre 1 : Complexité -- TP </center>"
   ]
  },
  {
   "cell_type": "code",
   "execution_count": 2,
   "metadata": {},
   "outputs": [],
   "source": [
    "from timeit import default_timer as chrono\n",
    "from time import time\n",
    "%load_ext tutormagic"
   ]
  },
  {
   "cell_type": "markdown",
   "metadata": {},
   "source": [
    "## Calcul de $n^n$\n",
    "\n",
    "### Par des multiplications\n",
    "\n",
    "Écrire un programme qui calcule $n^n$ par une série de multiplications.\n",
    "\n",
    "Quelle est la complexité ? Mesurer le temps de calcul pour $n = 100$ puis $n=1000$."
   ]
  },
  {
   "cell_type": "code",
   "execution_count": 3,
   "metadata": {},
   "outputs": [
    {
     "name": "stdout",
     "output_type": "stream",
     "text": [
      "100000000000000000000000000000000000000000000000000000000000000000000000000000000000000000000000000000000000000000000000000000000000000000000000000000000000000000000000000000000000000000000000000000000\n",
      "0.11\n"
     ]
    }
   ],
   "source": [
    "\n",
    "n=100\n",
    "i=1\n",
    "resultat=n\n",
    "tic = time()\n",
    "while i<n:\n",
    "    resultat=resultat*n\n",
    "    i+=1\n",
    "tac = time()\n",
    "print(resultat)\n",
    "\n",
    "print(round(1000*(tac-tic),2)) \n",
    "\n"
   ]
  },
  {
   "cell_type": "markdown",
   "metadata": {},
   "source": [
    "### Par des additions\n",
    "\n",
    "Calculer maintenant $n^n$ avec que des additions.\n",
    "\n",
    "Indication :\n",
    "- à la 1re itération, calculer $n$ comme 1 + 1 + ... + 1,\n",
    "- à la 2e itération, calculer $n^2$ comme $n$ + $n$ + ... + $n$,\n",
    "- à la 3e, $n^3$ comme $n^2$ + $n^2$ + ... + $n^2$,\n",
    "et ainsi de suite (les sommes ont $n$ termes).\n",
    "\n",
    "Quelle est la complexité ? Mesurer le temps de calcul pour $n = 100$ puis $n=1000$."
   ]
  },
  {
   "cell_type": "code",
   "execution_count": 4,
   "metadata": {},
   "outputs": [
    {
     "name": "stdout",
     "output_type": "stream",
     "text": [
      "10000\n"
     ]
    }
   ],
   "source": [
    "n=100\n",
    "i=1\n",
    "resultat=n\n",
    "resultat1=0\n",
    "while i<n:\n",
    "    resultat=resultat+n\n",
    "    i+=1    \n",
    "print(resultat)\n",
    "\n",
    "\n",
    "\n"
   ]
  },
  {
   "cell_type": "markdown",
   "metadata": {},
   "source": [
    "## Recherche du maximum avec une fonction $sup$\n",
    "\n",
    "- Écrire une fonction $sup$ qui teste si un entier $k$ est supérieur\n",
    "(ou égal) à tous les éléments d'un tableau. La tester.\n",
    "\n",
    "- Quelle est la complexité dans le pire des cas ?"
   ]
  },
  {
   "cell_type": "code",
   "execution_count": 5,
   "metadata": {},
   "outputs": [
    {
     "data": {
      "text/plain": [
       "False"
      ]
     },
     "execution_count": 5,
     "metadata": {},
     "output_type": "execute_result"
    }
   ],
   "source": [
    "def sup(k,tab):\n",
    "    i=0\n",
    "    while i<len(tab):\n",
    "        if k>=tab[i]:\n",
    "            return True\n",
    "        else:\n",
    "            return False\n",
    "        i+=1\n",
    "        \n",
    "        \n",
    "        \n",
    "        \n",
    "        \n",
    "tab=[1,857,184,54,3,8]\n",
    "sup(0,tab)\n",
    "            \n",
    "\n",
    "\n",
    "\n"
   ]
  },
  {
   "cell_type": "markdown",
   "metadata": {},
   "source": [
    "- Écrire une fonction $imax$ qui appelle $sup$ sur chaque élément\n",
    "d'un tableau et renvoie l'indice du premier maximum trouvé. <br>\n",
    "La tester sur un tableau d'entiers aléatoires."
   ]
  },
  {
   "cell_type": "code",
   "execution_count": 6,
   "metadata": {},
   "outputs": [],
   "source": [
    "#%%tutor -k\n",
    "def sup(k,tab):\n",
    "    i=0\n",
    "    while i<len(tab):\n",
    "        if k<tab[i]:\n",
    "            return False\n",
    "        else:\n",
    "            i+=1\n",
    "    return True\n",
    "def imax(k,tab):\n",
    "    i=0\n",
    "    if sup(k,tab):\n",
    "        while i<len(tab):\n",
    "            if k> tab[i]:\n",
    "                return i\n",
    "            i+=1\n",
    "tab=[2,857,184,0,3,8]\n",
    "imax(1,tab)\n",
    "\n"
   ]
  },
  {
   "cell_type": "markdown",
   "metadata": {},
   "source": [
    "- Quelle est la complexité dans le pire des cas ?\n",
    "Construire un tableau réalisant ce cas pour $n$ = 500 puis\n",
    "$n$ = 5000 et vérifier."
   ]
  },
  {
   "cell_type": "code",
   "execution_count": null,
   "metadata": {},
   "outputs": [],
   "source": [
    "# code\n",
    "\n",
    "\n",
    "\n"
   ]
  },
  {
   "cell_type": "markdown",
   "metadata": {},
   "source": [
    "- Comparer à la complexité de l'algorithme standard où on actualise\n",
    "les variables $max$ et $imax$ lors du parcours du tableau."
   ]
  },
  {
   "cell_type": "code",
   "execution_count": null,
   "metadata": {},
   "outputs": [],
   "source": [
    "# code\n",
    "\n",
    "\n",
    "\n"
   ]
  },
  {
   "cell_type": "markdown",
   "metadata": {},
   "source": [
    "## Test de primalité\n",
    "\n",
    "On rappelle qu'un entier $n > 1$ est *premier* s'il n'est pas\n",
    "divisible par d'autres nombres qu' 1 et $n$.\n",
    "\n",
    "- Écrire une fonction $prem$ qui teste si $n$ est premier en essayant\n",
    "les diviseurs potentiels.\n",
    "\n",
    "- Quelle est la complexité dans le pire des cas ? Expliquer\n",
    "la différence de temps de calcul entre 906 823, 906 824 et 906 825.\n",
    "\n",
    "- Essayer avec 9 068 237. À combien estimez-vous le temps de calcul\n",
    "pour un nombre premier dans les 90 millions ?"
   ]
  },
  {
   "cell_type": "code",
   "execution_count": null,
   "metadata": {},
   "outputs": [],
   "source": [
    "# code\n",
    "\n",
    "\n",
    "\n"
   ]
  },
  {
   "cell_type": "markdown",
   "metadata": {},
   "source": [
    "On remarque maintenant que si $n = ab$, alors $a$ et $b$ ne peuvent être\n",
    "tous deux supérieurs à $\\sqrt n$ (sinon on aurait $ab > n$).\n",
    "Par conséquent, si $n$ n'est divisible par aucun nombre inférieur ou\n",
    "égal à $\\sqrt n$, alors $n$ est premier.\n",
    "\n",
    "- Écrire une fonction $prem2$ utilisant cette optimisation.\n",
    "Quelle est sa complexité ?\n",
    "- Essayer avec 906 823, 9 068 237, 90 682 373 et conclure."
   ]
  },
  {
   "cell_type": "code",
   "execution_count": null,
   "metadata": {},
   "outputs": [],
   "source": [
    "from math import sqrt\n",
    "\n",
    "# code\n",
    "\n"
   ]
  }
 ],
 "metadata": {
  "kernelspec": {
   "display_name": "Python 3",
   "language": "python",
   "name": "python3"
  },
  "language_info": {
   "codemirror_mode": {
    "name": "ipython",
    "version": 3
   },
   "file_extension": ".py",
   "mimetype": "text/x-python",
   "name": "python",
   "nbconvert_exporter": "python",
   "pygments_lexer": "ipython3",
   "version": "3.6.4"
  },
  "toc": {
   "base_numbering": 1,
   "nav_menu": {},
   "number_sections": true,
   "sideBar": true,
   "skip_h1_title": false,
   "title_cell": "Table of Contents",
   "title_sidebar": "Contents",
   "toc_cell": false,
   "toc_position": {},
   "toc_section_display": true,
   "toc_window_display": false
  }
 },
 "nbformat": 4,
 "nbformat_minor": 2
}
