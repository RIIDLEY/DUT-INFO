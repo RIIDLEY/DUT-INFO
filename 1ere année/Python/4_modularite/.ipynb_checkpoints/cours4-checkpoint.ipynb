{
 "cells": [
  {
   "cell_type": "markdown",
   "metadata": {},
   "source": [
    "# <center> Chapitre 4 : Modularité en python </center>\n",
    "Il est toujours indispensable de créer des fonctions, modules et packages lorsque vous travillez sur des projets long et à plusieurs. \n",
    "\n",
    "Les modules et packages permettent de découper un programme sur plusieurs fichiers et de regrouper ceux-ci de manière logique.\n",
    "\n",
    "Les exemples de script proviennent de ce [site](http://apprendre-python.com/page-python-modules-package-module-cours-debutants-informatique-programmation)."
   ]
  },
  {
   "cell_type": "markdown",
   "metadata": {},
   "source": [
    "## Python en dehors des notebooks\n",
    "\n",
    "Il est possible d'exécuter du code Python en dehors des notebooks.\n",
    "\n",
    "\n",
    "### Python interactif\n",
    "\n",
    "Lancer dans un terminal la commande `python` transforme le terminal en une console python interactive. Il est possible de saisir des instructions python. À chaque instruction saisie, celle-ci est exécutée."
   ]
  },
  {
   "cell_type": "markdown",
   "metadata": {},
   "source": [
    "### Fichiers de code python\n",
    "\n",
    "Il est possible d'écrire du code Python dans des fichiers que l'on peut exécuter ensuite dans un terminal. \n",
    "Pour écrire du code python dans un fichier, il faut utiliser un éditeur de texte (**pas open office**) :\n",
    ">atom\n",
    "ou \n",
    ">gedit \n",
    "ou \n",
    ">nano\n",
    "\n",
    "Pour exécuter le fichier, il faut alors dans le terminal taper la commande `python nom_du_fichier_python`.\n",
    "\n",
    "**Remarques :**\n",
    "* les fichiers de code python ont généralement l'extension .py\n",
    "* Pour qu'il n'y ait pas de problème d'accents, il faut que le fichier soit encodé en utf-8.\n",
    "* Si votre fichier commence par la ligne\n",
    "```python\n",
    "#!/usr/bin/env python\n",
    "```\n",
    "et qu'il est exécutable, vous pouvez alors directement lancer le script python en tapant dans le fichier `./nom_du_fichier_python`"
   ]
  },
  {
   "cell_type": "markdown",
   "metadata": {},
   "source": [
    "## Création de modules\n",
    "\n",
    "Un module est un fichier contenant du code python, généralement des définitions de fonctions, qui peut par la suite être inclus dans un script python (qui pourra appeler les fonctions définies dans le module).\n",
    "\n",
    "\n",
    "Pour simplifer, on créera uniquement des modules qui seront dans le même répertoire que les scripts qui utiliseront leur fonction. Le module contient alors les différentes définitions de fonctions nécessaires.\n",
    "\n",
    "Les scripts qui appeleront les fonctions définies dans le module devront alors inclure (avant tout appel de fonction) l'instruction : \n",
    "```python\n",
    "from nom_du_module import *\n",
    "```\n",
    "\n",
    "**Remarque :** on ne met pas l'extension .py dans le nom du module lors de l'import.\n",
    "\n",
    "### Exemple\n",
    "\n",
    "Considérons le code suivant : "
   ]
  },
  {
   "cell_type": "code",
   "execution_count": 3,
   "metadata": {},
   "outputs": [
    {
     "name": "stdout",
     "output_type": "stream",
     "text": [
      "Quel est votre age? : -49\n",
      "Vous avez -49 ans.\n",
      "Dans un an, vous aurez -48 ans.\n"
     ]
    }
   ],
   "source": [
    "def ajoute_un(v):\n",
    "    return int(v) + 1\n",
    "\n",
    "age = input(\"Quel est votre age? : \")\n",
    "print(\"Vous avez\" , age, \"ans.\")\n",
    "\n",
    "age_plus_un = ajoute_un(age)\n",
    "\n",
    "print(\"Dans un an, vous aurez\", age_plus_un, \"ans.\")"
   ]
  },
  {
   "cell_type": "markdown",
   "metadata": {},
   "source": [
    "Même si ce code est simple, on souhaite découper ce code en deux fichiers : \n",
    "\n",
    "* un module `func.py` qui contiendra la définition de la fonction\n",
    "\n",
    "* un fichier `fiche.py` qui contiendra la saisie de l'âge, l'appel de la fonction et les différents affichage.\n",
    "\n",
    "On créera alors les deux fichiers de la manière suivante."
   ]
  },
  {
   "cell_type": "markdown",
   "metadata": {},
   "source": [
    "#### func.py "
   ]
  },
  {
   "cell_type": "code",
   "execution_count": 4,
   "metadata": {},
   "outputs": [],
   "source": [
    "def ajoute_un(v):\n",
    "    return int(v) + 1"
   ]
  },
  {
   "cell_type": "markdown",
   "metadata": {},
   "source": [
    "#### fiche.py\n",
    "N'oubliez pas de décomenter 'from func import *'  dans le fichier fiche.py"
   ]
  },
  {
   "cell_type": "code",
   "execution_count": 7,
   "metadata": {},
   "outputs": [
    {
     "name": "stdout",
     "output_type": "stream",
     "text": [
      "Quel est votre age? : 19\n",
      "Vous avez ans 19\n",
      "Dans un an vous aurez %d ans 20\n"
     ]
    }
   ],
   "source": [
    "#from func import *\n",
    "\n",
    "age = input(\"Quel est votre age? : \")\n",
    "print(\"Vous avez ans\" , age)\n",
    "\n",
    "age_plus_un = ajoute_un(age)\n",
    "\n",
    "print(\"Dans un an vous aurez %d ans\",  age_plus_un)\n"
   ]
  },
  {
   "cell_type": "markdown",
   "metadata": {},
   "source": [
    "#### Terminal\n",
    "\n",
    "Après avoir crée les deux fichiers et la vérification avec le notebook, vous devez revenir sur le terminal linux et saisir la commande suivante \n",
    ">python fiche.py "
   ]
  },
  {
   "cell_type": "markdown",
   "metadata": {},
   "source": [
    "**Remarque :** On peut importer seulement une partie des fonctions du module en spécifant après le mot clé `import` la liste des fonctions que l'on veut importer. \n",
    "Par exemple, si l'on souhaite importer uniquement la fonction `ajoute_un` (alors qu'il y a plusieurs fonction dans le module `func`), on écrit l'import de la manière suivante : `from func import ajoute_un`."
   ]
  },
  {
   "cell_type": "markdown",
   "metadata": {},
   "source": [
    "## Utiliser des modules comme des scripts\n",
    "\n",
    "Un module est utilisé dans d'autres scripts python. Cependant, il est possible de mettre du code qui sera exécuté uniquement si le module est le fichier exécuté (autrement dit, si l'on a fait `python nom_du_module`).\n",
    "Ceci se fait en utilisant : "
   ]
  },
  {
   "cell_type": "code",
   "execution_count": null,
   "metadata": {
    "collapsed": true
   },
   "outputs": [],
   "source": [
    "if __name__ == '__main__':\n",
    "    # Code qui sera exécuté uniquement si le module est exécuté \n",
    "    # directement (pas inclus dans un autre script)"
   ]
  },
  {
   "cell_type": "markdown",
   "metadata": {},
   "source": [
    "Ceci permet notamment d'insérer des tests pour des fonctions définies au sein du module. Ces tests seront exécutés lorsque le script sera exécuté (et non inclus)."
   ]
  },
  {
   "cell_type": "markdown",
   "metadata": {},
   "source": [
    "## Packages en Python"
   ]
  },
  {
   "cell_type": "markdown",
   "metadata": {},
   "source": [
    "Les packages en Python permettent de regrouper logiquement des modules ensemble. La création de packages est simple puisqu'un package correspond à un répertoire : les fichiers (et répertoires) à l'intérieur correspondent aux modules (et sous-packages) contenus dans le package.\n",
    "\n",
    "On créera pour l'instant uniquement des packages contenus dans le même répertoire que le script (ou notebook) utilisant le package.\n",
    "\n",
    "Dans un script, pour utiliser un module du package, il faut importer le module selon :\n",
    "`from package.module import *`\n"
   ]
  },
  {
   "cell_type": "markdown",
   "metadata": {},
   "source": [
    "### Exemple\n",
    "\n",
    "Pour l'exemple, nous créons un package **Utils** contenant un seul module **operations**. \n",
    "Ce module contient une seule fonction `ajoute_deux` :"
   ]
  },
  {
   "cell_type": "code",
   "execution_count": 1,
   "metadata": {},
   "outputs": [],
   "source": [
    "def ajoute_deux(v):\n",
    "    return int(v) + 2"
   ]
  },
  {
   "cell_type": "markdown",
   "metadata": {},
   "source": [
    "On a donc un répertoire `Utils` contenant un unique fichier `operations.py`. Pour utiliser ce module à travers le package `Utils`, on utilise dans le fichier l'import : `from Utils.operations import *`."
   ]
  },
  {
   "cell_type": "markdown",
   "metadata": {},
   "source": [
    "**Attention :** Il faut que le script soit dans le même répertoire que le package `Utils`."
   ]
  },
  {
   "cell_type": "markdown",
   "metadata": {},
   "source": [
    "Exemple de fichier appelant notre module `func` et le module `operations` de notre package `Utils`  :\n",
    "\n",
    "```python\n",
    "from func import *\n",
    "from utils.operations import *\n",
    "\n",
    "\n",
    "age = input(\"Quel est votre age? : \")\n",
    "print(\"Vous avez\", age, \"ans\")\n",
    "\n",
    "age_plus_un = ajoute_un(age)\n",
    "\n",
    "print(\"Dans un an, vous aurez\" , age_plus_un, \"ans\")\n",
    "\n",
    "age_plus_deux = ajoute_deux(age)\n",
    "\n",
    "print(\"Dans deux ans, vous aurez \", age_plus_deux, \"ans\")\n",
    "```"
   ]
  },
  {
   "cell_type": "markdown",
   "metadata": {},
   "source": [
    "## Utiliser des modules et packages qui ne sont pas dans le répertoire courant\n",
    "\n",
    "Si le module ou le package n'est pas dans le même répertoire que le script (ou notebook) qui les utilise, alors python ne le trouve pas et cela génère une erreur. Pour corriger ce problème, il faut ajouter le répertoire contenant le module (ou package) dans le chemin de Python. Pour cela on utilise le package `sys` qui permet d'ajouter des nouveaux chemins :\n",
    "\n",
    "```python\n",
    "#chemin doit être une chaîne de caractères correspondant au chemin (relatif ou absolu) du répertoire \n",
    "#contenant le module ou package que l'on souhaite utiliser \n",
    "import sys\n",
    "sys.path.append(chemin)\n",
    "```\n",
    "\n",
    "Par exemple, si l'on a un répertoire contenant un fichier (module) `mod.py` et un répertoire `Programme` contenant le fichier `programme.py` et si l'on souhaite utiliser le module `mod` dans `programme.py`, alors le début de ce fichier sera : \n",
    "\n",
    "```python\n",
    "import sys\n",
    "sys.path.appen(\"../\")\n",
    "from mod import *\n",
    "```\n"
   ]
  }
 ],
 "metadata": {
  "kernelspec": {
   "display_name": "Python 3",
   "language": "python",
   "name": "python3"
  },
  "language_info": {
   "codemirror_mode": {
    "name": "ipython",
    "version": 3
   },
   "file_extension": ".py",
   "mimetype": "text/x-python",
   "name": "python",
   "nbconvert_exporter": "python",
   "pygments_lexer": "ipython3",
   "version": "3.6.4"
  }
 },
 "nbformat": 4,
 "nbformat_minor": 2
}
