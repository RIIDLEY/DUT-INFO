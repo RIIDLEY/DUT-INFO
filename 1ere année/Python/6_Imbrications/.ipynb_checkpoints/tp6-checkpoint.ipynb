{
 "cells": [
  {
   "cell_type": "markdown",
   "metadata": {},
   "source": [
    "# <center> Chapitre 6 : Structures imbriquées - TP</center>"
   ]
  },
  {
   "cell_type": "markdown",
   "metadata": {},
   "source": [
    "Les données météorologiques utilisées dans ce TP concernent la ville de Paris en 2009. Ces données sont issues du site *https://www.historique-meteo.net/*."
   ]
  },
  {
   "cell_type": "markdown",
   "metadata": {},
   "source": [
    "## Exercice 1 : météo le 5 janvier 2009"
   ]
  },
  {
   "cell_type": "markdown",
   "metadata": {},
   "source": [
    "La météo d'une journée est définie par :\n",
    "\n",
    "* la température maximale relevée (°C),\n",
    "\n",
    "* la température minimale relevée (°C),\n",
    "\n",
    "* la précipitation relevée (mm),\n",
    "\n",
    "* l'appréciation de la météo : \"météo favorable\", \"météo idéale\", etc.\n",
    "\n",
    "On représentera la météo d'une journée sous la forme d'un dictionnaire contenant 4 entrées : \n",
    "\n",
    "* `Tmax` (la valeur est un entier)\n",
    "\n",
    "* `Tmin` (la valeur est un entier)\n",
    "\n",
    "* `\"précipitation\"` (la valeur est un flottant)\n",
    "\n",
    "* `\"appréciation\"` (la valeur est une chaîne de caractères)"
   ]
  },
  {
   "cell_type": "markdown",
   "metadata": {},
   "source": [
    "### Question 1 \n",
    "\n",
    "Définir un dictionnaire (stocké dans la variable `meteo5janvier`) représentant la météo du 5 janvier 2009 à Paris sachant qu'il a fait -2°C au minimum, 0°C au maximum, qu'il a plu 6.9 mm et que l'appréciation était \"météo très défavorable\"."
   ]
  },
  {
   "cell_type": "code",
   "execution_count": 21,
   "metadata": {},
   "outputs": [],
   "source": [
    "meteo5janvier={\"min\":\"-2°C\",\"max\":\"0°C\",\"plui\":\"6.9 mm\",\"appreciation\":\"météo très défavorable\"}"
   ]
  },
  {
   "cell_type": "markdown",
   "metadata": {},
   "source": [
    "### Question 2\n",
    "\n",
    "En utilisant les informations stockées dans `meteo5janvier`, afficher la phrase : \n",
    "\n",
    "`Ce jour-là, il a fait -2 °C au minimum, 0 °C au maximum et il a plu 6.9 mm, quelle météo très défavorable !`"
   ]
  },
  {
   "cell_type": "code",
   "execution_count": 25,
   "metadata": {},
   "outputs": [
    {
     "name": "stdout",
     "output_type": "stream",
     "text": [
      "Ce jour-là, il a fait -2°C au minimum 0°C et il a plu 6.9 mm quelle météo très défavorable !\n"
     ]
    }
   ],
   "source": [
    "print(\"Ce jour-là, il a fait\", meteo5janvier[\"min\"], \"au minimum\", meteo5janvier[\"max\"], \"et il a plu\", meteo5janvier[\"plui\"], \"quelle\", meteo5janvier[\"appreciation\"],\"!\")\n"
   ]
  },
  {
   "cell_type": "markdown",
   "metadata": {},
   "source": [
    "## Exercice 2 : météo au mois de janvier\n",
    "\n",
    "Les températures pendant tout un mois peuvent être stockées sous la forme d'un tableau de dictionnaires. Il y a autant de cases dans le tableau qu'il y a de jours dans le mois. Chaque case contient alors un dictionnaire comme dans l'exercice 1.\n",
    "\n",
    "**Attention :** Comme l'indice d'un tableau commence à 0, le $i$ème jour sera stocké dans la case d'indice $i-1$.\n",
    "\n",
    "Les données du mois de janvier se trouvent dans le fichier `meteo_paris_janvier_2009.json` contenu dans le répertoire `data`."
   ]
  },
  {
   "cell_type": "markdown",
   "metadata": {},
   "source": [
    "### Question 1\n",
    "\n",
    "Créer la variable `janvier` contenant les informations de la météo au cours du mois de janvier 2009 à Paris. Pour cela, initialiser la variable avec les informations contenues dans le fichier `meteo_paris_janvier_2009.json` contenu dans le répertoire `data`.\n",
    "\n",
    "Vérifier ensuite que les informations pour le 5 janvier sont les mêmes que pour l'exercice 1."
   ]
  },
  {
   "cell_type": "code",
   "execution_count": 16,
   "metadata": {},
   "outputs": [
    {
     "name": "stdout",
     "output_type": "stream",
     "text": [
      "{'Tmax': 0, 'Tmin': -2, 'précipitation': 6.9, 'appréciation': 'météo très défavorable'}\n"
     ]
    }
   ],
   "source": [
    "import json\n",
    "\n",
    "f = open(\"meteo_paris_janvier_2009.json\")\n",
    "str = f.read()\n",
    "f.close()\n",
    "\n",
    "janvier = json.loads(str)\n",
    "\n",
    "print(janvier[4])"
   ]
  },
  {
   "cell_type": "markdown",
   "metadata": {},
   "source": [
    "### Question 2\n",
    "\n",
    "Déterminer le nombre de jours pour lequel l'appréciation était : \"météo très défavorable\"."
   ]
  },
  {
   "cell_type": "code",
   "execution_count": 18,
   "metadata": {},
   "outputs": [
    {
     "name": "stdout",
     "output_type": "stream",
     "text": [
      "29 jours au mois de janvier ont été considérés comme très défavorables\n"
     ]
    }
   ],
   "source": [
    "nb_tres_defavorable = 0\n",
    "i = 0\n",
    "while i < len(janvier):\n",
    "    if janvier[i][\"appréciation\"] == \"météo très défavorable\" :\n",
    "        nb_tres_defavorable += 1\n",
    "    i += 1\n",
    "    \n",
    "print(nb_tres_defavorable, \"jours au mois de janvier ont été considérés comme très défavorables\")"
   ]
  },
  {
   "cell_type": "markdown",
   "metadata": {},
   "source": [
    "### Question 3\n",
    "\n",
    "Définir fonction `Tmax_mois` retournant la température maximum relevée dans le mois. En déterminer la température maximum qu'il a fait au mois de janvier."
   ]
  },
  {
   "cell_type": "code",
   "execution_count": 19,
   "metadata": {},
   "outputs": [
    {
     "name": "stdout",
     "output_type": "stream",
     "text": [
      "Température maximum relevée en janvier : 10 °C\n"
     ]
    }
   ],
   "source": [
    "def Tmax_mois(mois):\n",
    "    mt = mois[0][\"Tmax\"]\n",
    "    i = 0\n",
    "    while i < len(mois):\n",
    "        if mois[i][\"Tmax\"] > mt:\n",
    "            mt = mois[i][\"Tmax\"]\n",
    "        i += 1\n",
    "    return mt\n",
    "\n",
    "print(\"Température maximum relevée en janvier :\", Tmax_mois(janvier), \"°C\")"
   ]
  },
  {
   "cell_type": "markdown",
   "metadata": {},
   "source": [
    "## Exercice 3 : météo en 2009\n",
    "\n",
    "Les températures pour toute l'année 2009 peuvent être stockées sous la forme d'un dictionnaire contenant 12 entrées : les clés sont les noms des mois (`\"janvier\"`, `\"février\"`, etc) et les valeurs sont les tableaux de températures du mois (même format que dans l'exercice 2).\n",
    "\n",
    "Les données de l'année 2009 se trouvent dans le fichier `meteo_paris_2009.json`  contenu dans le répertoire `data`."
   ]
  },
  {
   "cell_type": "markdown",
   "metadata": {},
   "source": [
    "### Question 1\n",
    "\n",
    "Créer la variable `meteo2009` contenant les informations de la météo au cours de l'année 2009 à Paris. Pour cela, initialiser la variable avec les informations contenues dans le fichier `meteo_paris_2009.json` contenu dans le répertoire `data`.\n",
    "\n",
    "Vérifier ensuite que les informations pour le 5 janvier sont les mêmes que pour l'exercice 1."
   ]
  },
  {
   "cell_type": "code",
   "execution_count": null,
   "metadata": {},
   "outputs": [],
   "source": [
    "# Code"
   ]
  },
  {
   "cell_type": "markdown",
   "metadata": {},
   "source": [
    "### Question 2\n",
    "\n",
    "Déterminer le nombre de jours dans l'année où la météo a été appréciée comme \"très défavorable\"."
   ]
  },
  {
   "cell_type": "code",
   "execution_count": null,
   "metadata": {},
   "outputs": [],
   "source": [
    "# Code"
   ]
  },
  {
   "cell_type": "markdown",
   "metadata": {},
   "source": [
    "### Question 3\n",
    "\n",
    "Déterminer la température maximum relevée durant l'année 2009 (utiliser la fonction définie dans la question 3 de l'exercice 2)."
   ]
  },
  {
   "cell_type": "code",
   "execution_count": null,
   "metadata": {},
   "outputs": [],
   "source": [
    "# Code"
   ]
  }
 ],
 "metadata": {
  "kernelspec": {
   "display_name": "Python 3",
   "language": "python",
   "name": "python3"
  },
  "language_info": {
   "codemirror_mode": {
    "name": "ipython",
    "version": 3
   },
   "file_extension": ".py",
   "mimetype": "text/x-python",
   "name": "python",
   "nbconvert_exporter": "python",
   "pygments_lexer": "ipython3",
   "version": "3.6.4"
  }
 },
 "nbformat": 4,
 "nbformat_minor": 2
}
