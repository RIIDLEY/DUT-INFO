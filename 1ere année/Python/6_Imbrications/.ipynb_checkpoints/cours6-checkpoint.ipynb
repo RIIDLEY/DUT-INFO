{
 "cells": [
  {
   "cell_type": "markdown",
   "metadata": {},
   "source": [
    "# <center> Chapitre 6 : Structures imbriquées</center>"
   ]
  },
  {
   "cell_type": "markdown",
   "metadata": {},
   "source": [
    "Il existe en python deux types de structures de données permettant de regrouper des informations : les listes et les dictionnaires. Ces structures de données peuvent contenir des informations de différents types : entiers, flottants, booléens, chaînes de caractères voire d'autres structures (tableaux ou dictionnaires). On parle alors de structures imbriquées (structures de données dans d'autres structures de données).\n",
    "\n",
    "Si on a une structure imbriquée dans une autre (tableau dans un tableau, dictionnaire dans un dictionnaire, dictionnaire dans tableau ou tableau dans un dictionnaire), on parle d'une structure imbriquée de niveau 2.\n",
    "\n",
    "Si on a une structure imbriquée dans une autre structure, elle-même imbriquée dans une autre structure, on parle d'une structure imbriquée de niveau 3.\n",
    "\n",
    "Théoriquement, on peut avoir autant d'imbrication que l'on souhaite (structure imbriquée de niveau $k$, $k \\ge 1$) mais dans la pratique, on dépasse rarement le niveau 2 ou 3. \n"
   ]
  },
  {
   "cell_type": "markdown",
   "metadata": {},
   "source": [
    "Les structures de données imbriquées permettent de stocker des informations de manière structurée."
   ]
  },
  {
   "cell_type": "markdown",
   "metadata": {},
   "source": [
    "## Exemple\n",
    "\n",
    "On peut regrouper les informations d'un lauréat du prix nobel (nom et prénom, année du prix nobel, domaine) dans un dictionnaire. Par exemple : "
   ]
  },
  {
   "cell_type": "code",
   "execution_count": 1,
   "metadata": {},
   "outputs": [],
   "source": [
    "np2018 = {\n",
    "    \"nom\"     : \"Donna Strickland\",\n",
    "    \"année\"   : 2018,\n",
    "    \"domaine\" : \"Physique\"\n",
    "}"
   ]
  },
  {
   "cell_type": "markdown",
   "metadata": {},
   "source": [
    "Si l'on souhaite regrouper dans une variable l'ensemble des prix nobels, alors cette variable est un tableau de prix nobels. Autrement dit, on a un tableau dont chaque case contient un prix nobel, c'est-à-dire un dictionnaire.\n",
    "\n",
    "Comme on a un tableau contenant un dictionnaire, on a une structure imbriquée. Par exemple, voici un tableau contenant les 5 derniers prix nobels attribués à des femmes :"
   ]
  },
  {
   "cell_type": "code",
   "execution_count": null,
   "metadata": {},
   "outputs": [],
   "source": [
    "nobels_femmes = [\n",
    "    {\n",
    "        \"nom\"     : \"Donna Strickland\",\n",
    "        \"année\"   : 2018,\n",
    "        \"domaine\" : \"Physique\"\n",
    "    },\n",
    "    {\n",
    "        \"nom\"     : \"Frances Arnold\",\n",
    "        \"année\"   : 2018,\n",
    "        \"domaine\" : \"Chimie\"\n",
    "    },\n",
    "    {\n",
    "        \"nom\"     : \"Nadia Murad\",\n",
    "        \"année\"   : 2018,\n",
    "        \"domaine\" : \"Paix\"\n",
    "    },\n",
    "    {\n",
    "        \"nom\"     : \"Tu Youyou\",\n",
    "        \"année\"   : 2015,\n",
    "        \"domaine\" : \"Physiologie ou médecine\"\n",
    "    },\n",
    "    {\n",
    "        \"nom\"     : \"Svetlana Aleksievitch\",\n",
    "        \"année\"   : 2015,\n",
    "        \"domaine\" : \"Littérature\"\n",
    "    } \n",
    "]"
   ]
  },
  {
   "cell_type": "markdown",
   "metadata": {},
   "source": [
    "On a une structure de niveau 2. Plus précisément, on a un tableau de 5 cases, chaque case contenant un dictionnaire possédant 3 entrées (couples clés/valeurs)."
   ]
  },
  {
   "cell_type": "markdown",
   "metadata": {},
   "source": [
    "## Accès aux informations d'une structure imbriquée"
   ]
  },
  {
   "cell_type": "markdown",
   "metadata": {},
   "source": [
    " Pour accéder aux informations d'une structure de données imbriquée, on va du plus général (structure de données contenant les autres) au plus précis.\n",
    " \n",
    " Par exemple, l'exemple suivant permet d'afficher le domaine du prix nobel de la dernière case : "
   ]
  },
  {
   "cell_type": "code",
   "execution_count": null,
   "metadata": {},
   "outputs": [],
   "source": [
    "nobel = nobels_femmes[4] #nobel correspond au prix nobel reçu par Svetlana Aleksievitch en 2015 en Littérature\n",
    "\n",
    "#nobel est donc un dictionnaire\n",
    "\n",
    "print(nobel[\"domaine\"])\n"
   ]
  },
  {
   "cell_type": "markdown",
   "metadata": {},
   "source": [
    "Pour accéder à l'information, on a utilisé une variable temporaire `nobel` qui est égal à (ie, c'est un alias) `nobels_femme[4]`. On peut accéder à cette information sans passer par une variable temporaire : "
   ]
  },
  {
   "cell_type": "code",
   "execution_count": null,
   "metadata": {},
   "outputs": [],
   "source": [
    "print(nobels_femmes[4][\"domaine\"])"
   ]
  },
  {
   "cell_type": "markdown",
   "metadata": {},
   "source": [
    "Pour accéder directement à une information stockée dans une structure de données de niveau 2, on utilise alors `variable[...][...]`.\n",
    "\n",
    "Pour accéder directement à une information stockée dans une structure de données de niveau 3, on utilise alors `variable[...][...][...]`.\n"
   ]
  },
  {
   "cell_type": "markdown",
   "metadata": {},
   "source": [
    "* **Sur ce thème :** Exercice 1, TD 6"
   ]
  },
  {
   "cell_type": "markdown",
   "metadata": {},
   "source": [
    "## Copie d'une structure imbriquée"
   ]
  },
  {
   "cell_type": "markdown",
   "metadata": {},
   "source": [
    "Lorsque l'on manipule des structures de données, les variables contiennent des alias sur les structures. Ainsi, dans le code suivant : "
   ]
  },
  {
   "cell_type": "code",
   "execution_count": null,
   "metadata": {},
   "outputs": [],
   "source": [
    "tab = [1, 2, 3, 4, 5]\n",
    "tab2 = tab"
   ]
  },
  {
   "cell_type": "markdown",
   "metadata": {},
   "source": [
    "il n'y a qu'un tableau en mémoire et deux alias `tab` et `tab2` qui renvoient au même tableau. Si l'on change une case de `tab`, cela modifie aussi `tab2`."
   ]
  },
  {
   "cell_type": "code",
   "execution_count": null,
   "metadata": {},
   "outputs": [],
   "source": [
    "tab[0] = 18\n",
    "print(tab)\n",
    "print(tab2)"
   ]
  },
  {
   "cell_type": "markdown",
   "metadata": {},
   "source": [
    "Pour créer une copie et avoir deux tableaux différents, il faut utiliser `S.copy()` où `S` est une structure de données (liste ou dictionnaire)."
   ]
  },
  {
   "cell_type": "code",
   "execution_count": null,
   "metadata": {},
   "outputs": [],
   "source": [
    "tab2 = tab.copy()\n",
    "tab[0] = 42\n",
    "print(tab)\n",
    "print(tab2)"
   ]
  },
  {
   "cell_type": "markdown",
   "metadata": {},
   "source": [
    "**Remarque :** Ceci est identique pour les dictionnaires."
   ]
  },
  {
   "cell_type": "markdown",
   "metadata": {},
   "source": [
    "Si l'on a une structure de données imbriquée, la fonction `S.copy()` créera une nouvelle structure mais les données à l'intérieur seront des alias plutôt que des copies de structures. "
   ]
  },
  {
   "cell_type": "code",
   "execution_count": null,
   "metadata": {},
   "outputs": [],
   "source": [
    "tab2 = nobels_femmes.copy()\n",
    "tab2.append(\"une nouvelle valeur\")\n",
    "\n",
    "print(\"taille = \", len(nobels_femmes))\n",
    "print(\"taille = \", len(tab2))\n",
    "\n",
    "nobels_femmes[4][\"domaine\"] = \"mathématique\"\n",
    "print(tab2[4])\n"
   ]
  },
  {
   "cell_type": "markdown",
   "metadata": {},
   "source": [
    "Pour faire une vraie copie, il faut alors utiliser `deepcopy(S)` du module `copy`. Dans ce cas, toutes les structures de données (la principale et toutes celles contenues dedans) sont recopiées."
   ]
  },
  {
   "cell_type": "code",
   "execution_count": null,
   "metadata": {},
   "outputs": [],
   "source": [
    "from copy import *\n",
    "\n",
    "tab3 = deepcopy(nobels_femmes)\n",
    "nobels_femmes[4][\"domaine\"] = \"linguistique\"\n",
    "print(tab3[4])\n"
   ]
  },
  {
   "cell_type": "markdown",
   "metadata": {},
   "source": [
    "**Attention :** La copie via `deepcopy` recopie tous les objets de la structure de données, ce qui peut faire beaucoup ! Il faut donc l'utiliser uniquement quand cela est nécessaire (quand on souhaite vraiment une vraie copie)."
   ]
  },
  {
   "cell_type": "markdown",
   "metadata": {},
   "source": [
    "## Parcours de structures imbriquées"
   ]
  },
  {
   "cell_type": "markdown",
   "metadata": {},
   "source": [
    "Si une structure de données a une forme spécifique (un tableau dont chaque case contient un tableau par exemple), on peut alors parcourir toutes les données de la structure en utilisant des boucles imbriquées."
   ]
  },
  {
   "cell_type": "code",
   "execution_count": null,
   "metadata": {},
   "outputs": [],
   "source": [
    "matrice = [\n",
    "    [2,3,4],\n",
    "    [4,3,2],\n",
    "    [7,8,9]\n",
    "]\n",
    "\n",
    "# Faire la somme des nomres de la matrice\n",
    "\n",
    "somme = 0\n",
    "ligne = 0\n",
    "while ligne < 3:\n",
    "    colonne = 0\n",
    "    while colonne < 3:\n",
    "        somme += matrice[ligne][colonne]\n",
    "        colonne += 1\n",
    "    ligne += 1\n",
    "print(\"somme = \", somme)\n"
   ]
  },
  {
   "cell_type": "markdown",
   "metadata": {},
   "source": [
    "* **Sur ce thème :** Exercices 2 et 3, TD 6"
   ]
  },
  {
   "cell_type": "markdown",
   "metadata": {},
   "source": [
    "## Structures imbriquées et format JSON"
   ]
  },
  {
   "cell_type": "markdown",
   "metadata": {},
   "source": [
    "(*Issu de wikipédia*) Le format JSON est un format de données textuelles. Il permet de représenter de l’information structurée comme le permet XML par exemple. Un document JSON ne comprend que deux types d'éléments structurels :\n",
    "\n",
    "* des ensembles de paires « nom » (alias « clé ») / « valeur » ;\n",
    "\n",
    "* des listes ordonnées de valeurs.\n",
    "\n",
    "Ces mêmes éléments représentent trois types de données :\n",
    "\n",
    "* des dictionnaires ;\n",
    "\n",
    "* des tableaux ;\n",
    "\n",
    "* des valeurs de type booléen (`true` et `false`), nombre, chaîne ou `null`.\n",
    "\n"
   ]
  },
  {
   "cell_type": "markdown",
   "metadata": {},
   "source": [
    "Le format JSON est indépendant du langage Python mais celui-ci peut facilement créer, à partir d'une structure de données imbriquée, une chaîne de caractères au format JSON représentant cette structure de données (fonction `dumps`). Python peut également, à partir d'une chaîne au format JSON, créer une variable (structure de données imbriquées) contenant les informations de la chaîne (fonction `loads`).\n",
    "\n",
    "Les fonctions `dumps` et `loads` sont dans le module `json`"
   ]
  },
  {
   "cell_type": "code",
   "execution_count": null,
   "metadata": {},
   "outputs": [],
   "source": [
    "from json import dumps, loads\n",
    "\n",
    "s = dumps(nobels_femmes) # s est une chaîne de caractères contenant les informations de nobels_femmes\n",
    "\n",
    "print(s)\n",
    "\n",
    "test = loads(s) # test est une variable contenant les informations de s. \n",
    "                # C'est donc une copie (deepcopy) de nobels_femmes\n",
    "\n",
    "print(len(test))"
   ]
  },
  {
   "cell_type": "markdown",
   "metadata": {},
   "source": [
    "Le format JSON est utile pour : \n",
    "\n",
    "- communiquer avec d'autres programmes (communication au format JSON)\n",
    "\n",
    "- la lecture et l'écriture dans des fichiers"
   ]
  },
  {
   "cell_type": "code",
   "execution_count": null,
   "metadata": {},
   "outputs": [],
   "source": [
    "# Ecriture des informations de nobels_femmes dans le fichier nobels.txt\n",
    "f = open(\"nobels.txt\", \"w\") # Ouverture du fichier nobels.txt en écriture\n",
    "f.write(s) # On écrit dans le fichier la chaîne s contenant toutes les informations (format JSON)\n",
    "f.close() # On ferme le fichier\n",
    "\n",
    "\n",
    "# Création d'une variable à partir des informations contenues dans nobels.txt\n",
    "f = open(\"nobels.txt\", \"r\") # Ouverture du fichier nobels.txt en lecture\n",
    "chaine = f.read() # On lit dans le fichier toutes les informations et on retourne la chaîne au format JSON\n",
    "f.close() # On ferme le fichier\n",
    "\n",
    "data = loads(chaine)\n",
    "print(data)"
   ]
  }
 ],
 "metadata": {
  "kernelspec": {
   "display_name": "Python 3",
   "language": "python",
   "name": "python3"
  },
  "language_info": {
   "codemirror_mode": {
    "name": "ipython",
    "version": 3
   },
   "file_extension": ".py",
   "mimetype": "text/x-python",
   "name": "python",
   "nbconvert_exporter": "python",
   "pygments_lexer": "ipython3",
   "version": "3.6.4"
  }
 },
 "nbformat": 4,
 "nbformat_minor": 2
}
