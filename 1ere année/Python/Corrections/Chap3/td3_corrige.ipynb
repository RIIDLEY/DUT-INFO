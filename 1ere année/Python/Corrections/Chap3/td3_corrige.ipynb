{
 "cells": [
  {
   "cell_type": "markdown",
   "metadata": {},
   "source": [
    "# <center> Chapitre 3 : Algorithmes de recherche - TD corrigé</center>"
   ]
  },
  {
   "cell_type": "markdown",
   "metadata": {},
   "source": [
    "## Exercice 1 : Recherche séquentielle\n",
    "\n",
    "Les deux fonctions ci-dessous implémentent la recherche séquentielle d’un caractère dans une chaîne de caractères. Elles fonctionnent aussi pour la recherche d'un élément dans une liste."
   ]
  },
  {
   "cell_type": "code",
   "execution_count": 10,
   "metadata": {},
   "outputs": [
    {
     "name": "stdout",
     "output_type": "stream",
     "text": [
      "Le caractère a est dans la chaîne Super, c'est parfait !\n"
     ]
    }
   ],
   "source": [
    "# CORRECTION\n",
    "\n",
    "#Version 1\n",
    "def appartient1(caractere,chaine):\n",
    "    i = 0\n",
    "    rep = False\n",
    "    while i<len(chaine):\n",
    "         if chaine[i]==caractere:\n",
    "             rep=True\n",
    "         i += 1\n",
    "    return rep\n",
    "\n",
    "\n",
    "#Version 2\n",
    "def appartient2(caractere,chaine):\n",
    "    i = 0\n",
    "    rep = False\n",
    "    while i<len(chaine) and not rep:\n",
    "         if chaine[i]==caractere:\n",
    "             rep=True\n",
    "         i += 1\n",
    "    return rep\n",
    "\n",
    "car = \"a\"\n",
    "ch = \"Super, c'est parfait !\"\n",
    "if appartient1(car,ch):\n",
    "    print(\"Le caractère\", car, \"est dans la chaîne\", ch)\n",
    "else:\n",
    "    print(\"Le caractère\", car, \"n'est pas dans\", ch)"
   ]
  },
  {
   "cell_type": "markdown",
   "metadata": {},
   "source": [
    "Combien de comparaisons sont effectuées par chaque fonction pour rechercher le caractère `\"a\"` dans la chaîne `\"bbbba\"` ? dans la chaîne `\"bbabb\"` ? dans la chaîne `\"abbb\"` ?"
   ]
  },
  {
   "cell_type": "markdown",
   "metadata": {},
   "source": [
    "## Exercice 2 : Inclusion\n",
    "\n",
    "Définir une fonction `inclus` prenant deux chaînes de caractères et retournant `True` si tous les caractères de la première chaîne sont inclus dans la deuxième, et `False` sinon."
   ]
  },
  {
   "cell_type": "code",
   "execution_count": 12,
   "metadata": {},
   "outputs": [
    {
     "name": "stdout",
     "output_type": "stream",
     "text": [
      "Il fait beau aujourd'hui ne contient pas tous les caractères de helloz\n"
     ]
    }
   ],
   "source": [
    "# CORRECTION\n",
    "\n",
    "def inclus(ch1, ch2):\n",
    "    i = 0\n",
    "    n = len(ch1)\n",
    "    while i < n:\n",
    "        if not appartient2(ch1[i],ch2):\n",
    "            return False\n",
    "        i+=1\n",
    "    return True\n",
    "\n",
    "c1 = \"hello\"\n",
    "c2 = \"Il fait beau aujourd'hui\"\n",
    "\n",
    "if inclus(c1,c2):\n",
    "    print(\"Tous les caractères de\", c1, \"sont dans\", c2)\n",
    "else:\n",
    "    print(c2, \"ne contient pas tous les caractères de\", c1)"
   ]
  },
  {
   "cell_type": "markdown",
   "metadata": {},
   "source": [
    "Quelle est la complexité dans le pire des cas ?"
   ]
  },
  {
   "cell_type": "markdown",
   "metadata": {},
   "source": [
    "**Réponse :** Le nombre d'opération est de l'ordre de `len(ch1)*len(ch2)`."
   ]
  },
  {
   "cell_type": "markdown",
   "metadata": {},
   "source": [
    "## Exercice 3 : Application de la recherche dichotomique\n",
    "\n",
    "Soit un tableau de 17 entiers triés dans l’ordre croissant :\n",
    "\n",
    "`tab = [10, 13, 19, 28, 29, 32, 34, 37, 39, 42, 48, 49, 72, 81, 86, 93, 96]`\n",
    "\n",
    "- Appliquer à la main l’algorithme de dichotomie pour rechercher l’entier 19 dans ce tableau. On fera un tableau d’évolution des variables `debut`, `milieu` et `fin`. Combien d'itérations ont été effectués ?\n",
    "\n",
    "- Faire de même pour rechercher l’entier 20 dans ce tableau.\n"
   ]
  },
  {
   "cell_type": "markdown",
   "metadata": {},
   "source": [
    "## Exercice 4 : Inclusion avec des chaînes triées"
   ]
  },
  {
   "cell_type": "markdown",
   "metadata": {},
   "source": [
    "On souhaite définir une fonction `inclus2` prenant deux chaînes de caractères triées dans l'ordre lexicographique et retournant `True` si tous les caractères de la première chaîne sont inclus dans la deuxième, et `False` sinon. \n",
    "\n",
    "Peut-on utiliser le fait que les chaînes soient triées dans l'ordre lexicographique pour améliorer l'algorithme de l'exercice 2 ?\n",
    "\n",
    "\n",
    "\n"
   ]
  },
  {
   "cell_type": "code",
   "execution_count": 28,
   "metadata": {},
   "outputs": [
    {
     "name": "stdout",
     "output_type": "stream",
     "text": [
      "Tous les caractères de ehllo sont dans    'Iaaabdefhiijlortuuuu\n"
     ]
    }
   ],
   "source": [
    "# Comme la deuxième chaîne est triée, on peut faire une recherche dichotomique\n",
    "# Comme la première chaîne est trié : \n",
    "# - on teste si un caractère de ch1 appartient appartient à ch2 uniquement si le caractère \n",
    "#   précédent n'est pas le même\n",
    "# - on peut commencer la recherche dichotomique de ch2 à l'endroit où l'on a trouvé le caractère précédent\n",
    "\n",
    "\n",
    "def recherche_dichotomique_start(element, tab, debut ):\n",
    "    \"\"\"Recherche si tab contient element à partir de l'indice début.\"\"\"\n",
    "    fin = len(tab)-1\n",
    "    milieu = (debut+fin)//2\n",
    "    while debut <= fin :\n",
    "        if tab[milieu] == element :  #On a trouvé l'élément\n",
    "            return milieu\n",
    "        elif tab[milieu] > element :\n",
    "            fin = milieu-1           #On considère la partie gauche du tableau\n",
    "        else :\n",
    "            debut = milieu+1         #On considère la partie droite du tableau\n",
    "        milieu = (debut+fin)//2\n",
    "    return -1\n",
    "\n",
    "def inclus2(ch1, ch2):\n",
    "    n = len(ch1)\n",
    "    j = recherche_dichotomique_start(ch1[0],ch2,0) \n",
    "    if j == -1:\n",
    "        return False\n",
    "    i = 1\n",
    "    while i < n:\n",
    "        if  ch1[i] != ch1[i-1]: #Si on n'a pas encore testé ce caractère\n",
    "            j = recherche_dichotomique_start(ch1[i],ch2,j) \n",
    "            if j == -1:\n",
    "                return False\n",
    "        i+=1\n",
    "    return True\n",
    "\n",
    "c1 = \"ehllo\"\n",
    "c2 = \"   'Iaaabdefhiijlortuuuu\"\n",
    "\n",
    "if inclus2(c1,c2):\n",
    "    print(\"Tous les caractères de\", c1, \"sont dans\", c2)\n",
    "else:\n",
    "    print(c2, \"ne contient pas tous les caractères de\", c1)\n"
   ]
  }
 ],
 "metadata": {
  "kernelspec": {
   "display_name": "Python 3",
   "language": "python",
   "name": "python3"
  },
  "language_info": {
   "codemirror_mode": {
    "name": "ipython",
    "version": 3
   },
   "file_extension": ".py",
   "mimetype": "text/x-python",
   "name": "python",
   "nbconvert_exporter": "python",
   "pygments_lexer": "ipython3",
   "version": "3.6.6"
  }
 },
 "nbformat": 4,
 "nbformat_minor": 2
}
