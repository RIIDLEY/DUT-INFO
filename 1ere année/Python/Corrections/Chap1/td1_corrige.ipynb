{
 "cells": [
  {
   "cell_type": "markdown",
   "metadata": {},
   "source": [
    "# <center> Chapitre 1 : Complexité - TD corrigé</center>"
   ]
  },
  {
   "cell_type": "code",
   "execution_count": null,
   "metadata": {},
   "outputs": [],
   "source": [
    "from time import time"
   ]
  },
  {
   "cell_type": "markdown",
   "metadata": {},
   "source": [
    "## Exercice 1 : temps de création d'un tableau aléatoire\n",
    "\n",
    "Reprendre la création d'un tableau de 10 000 éléments\n",
    "vue au paragraphe 1.2 du cours. Dans le cours, l'élément\n",
    "d'indice $i$ est égal à $i$.\n",
    "\n",
    "- Modifier le programme pour que le tableau soit créé\n",
    "avec 10 000 entiers aléatoires entre 0 et 9999."
   ]
  },
  {
   "cell_type": "code",
   "execution_count": null,
   "metadata": {},
   "outputs": [],
   "source": [
    "from random import *\n",
    "\n",
    "n = 10000\n",
    "\n",
    "tic = chrono()\n",
    "\n",
    "t = []\n",
    "i = 0\n",
    "while i < n:\n",
    "    a = randint(0,n)\n",
    "    t.append(a)\n",
    "    i+=1\n",
    "    \n",
    "tac = chrono()\n",
    "print(round(1000*(tac-tic),2))"
   ]
  },
  {
   "cell_type": "markdown",
   "metadata": {},
   "source": [
    "- Ajouter les lignes nécessaires pour mesurer le temps d'exécution avec `time`."
   ]
  },
  {
   "cell_type": "code",
   "execution_count": null,
   "metadata": {},
   "outputs": [],
   "source": [
    "tic = chrono()\n",
    "\n",
    "t = []\n",
    "i = 0\n",
    "while i < n:\n",
    "    t.append(i)\n",
    "    i+=1\n",
    "    \n",
    "tac = chrono()\n",
    "print(round(1000*(tac-tic),2))"
   ]
  },
  {
   "cell_type": "markdown",
   "metadata": {},
   "source": [
    "## Exercice 2 : nombre d'opérations et complexité\n",
    "\n",
    "Soit le programme"
   ]
  },
  {
   "cell_type": "code",
   "execution_count": null,
   "metadata": {},
   "outputs": [],
   "source": [
    "n = 10000\n",
    "\n",
    "#tic = chrono()\n",
    "\n",
    "s = 0\n",
    "i = 0\n",
    "while i < n:\n",
    "    s = s + 10\n",
    "    i = i + 1\n",
    "    \n",
    "#tac = chrono()\n",
    "#print(round(1000*(tac-tic),2))"
   ]
  },
  {
   "cell_type": "markdown",
   "metadata": {},
   "source": [
    "- Quel est le nombre d'opérations ?\n",
    "\n",
    "5 par itération (comparaison, 2 additions, 2 affectations), donc 5$n$ (+2, mais c'est négligeable).\n",
    "\n",
    "- Quelle est sa complexité ?\n",
    "\n",
    "La boucle contient un nombre constant d'opérations (5, mais peu importe\n",
    "la valeur exacte) donc le nombre d'opérations est de la forme $Cn$.\n",
    "La complexité est donc linéaire, ou en $O(n)$.\n",
    "\n",
    "- Prévoir l'évolution du temps d'exécution avec une donnée 10 fois plus grande, soit $n$ = 100 000\n",
    "\n",
    "La complexité étant linéaire, le temps est proportionnel à la taille des données.\n",
    "Donc 10 fois plus de temps à peu près.\n",
    "\n",
    "- Mêmes questions avec le programme suivant"
   ]
  },
  {
   "cell_type": "code",
   "execution_count": null,
   "metadata": {},
   "outputs": [],
   "source": [
    "#tic = chrono()\n",
    "\n",
    "s = 0\n",
    "i = 0\n",
    "while i < n:\n",
    "    if i%2 == 0:\n",
    "        s = s + 20\n",
    "    else:\n",
    "        s = s + 10\n",
    "    i = i + 1\n",
    "    \n",
    "#tac = chrono()\n",
    "#print(round(1000*(tac-tic),2))"
   ]
  },
  {
   "cell_type": "markdown",
   "metadata": {},
   "source": [
    "7 opérations par itération : comparaison du $while$, modulo, comparaison du $if$, *une* addition\n",
    "et *une* affectation, calcul d' $i+1$, affectation.\n",
    "\n",
    "Nombre constant d'opérations dans la boucle, donc complexité linéaire ou en $O(n)$. Temps proportionnel à $n$."
   ]
  },
  {
   "cell_type": "markdown",
   "metadata": {},
   "source": [
    "## Exercice 3 : boucles imbriquées\n",
    "\n",
    "Quelle est la complexité du programme suivant ?"
   ]
  },
  {
   "cell_type": "code",
   "execution_count": null,
   "metadata": {},
   "outputs": [],
   "source": [
    "n = 100\n",
    "\n",
    "#tic = chrono()\n",
    "\n",
    "s = 0\n",
    "i = 0\n",
    "while i < n:\n",
    "    j = 0\n",
    "    while j < n:\n",
    "        s = s + 10\n",
    "        j = j + 1\n",
    "    i = i + 1\n",
    "    \n",
    "#tac = chrono()\n",
    "#print(round(1000*(tac-tic),2))"
   ]
  },
  {
   "cell_type": "markdown",
   "metadata": {},
   "source": [
    "Prévoir l'évolution du temps d'exécution avec une donnée 7 fois plus grande."
   ]
  },
  {
   "cell_type": "markdown",
   "metadata": {},
   "source": [
    "*Rép. :* à chaque passage dans la boucle externe, on fait $n$ fois la boucle\n",
    "    interne, qui contient un nombre d'opérations constant $C$ (= 5).\n",
    "    Chaque passage dans la boucle externe fait donc $Cn$ (+ 4) opérations,\n",
    "    donc $Cn^2$ opérations en tout. La complexité est quadratique ou en $O(n^2)$.\n",
    "\n",
    "Le temps augmente avec le carré de $n$ : donnée 7 x plus grande -> temps x 49 à peu près."
   ]
  },
  {
   "cell_type": "markdown",
   "metadata": {},
   "source": [
    "## Exercice 4 : relevé de températures\n",
    "\n",
    "- Écrire une fonction `rechercher` qui recherche le nombre `x` dans le tableau `t`."
   ]
  },
  {
   "cell_type": "code",
   "execution_count": null,
   "metadata": {},
   "outputs": [],
   "source": [
    "def rech(x,t):\n",
    "    i=0\n",
    "    while i < len(t):\n",
    "        if t[i] == x:\n",
    "            return True\n",
    "        i = i + 1\n",
    "    return False"
   ]
  },
  {
   "cell_type": "markdown",
   "metadata": {},
   "source": [
    "- Créer un tableau de 10 000 entiers compris entre -17 et 42.\n",
    "On supposera que ce sont des températures relevées dans l'année\n",
    "par des sondes."
   ]
  },
  {
   "cell_type": "code",
   "execution_count": null,
   "metadata": {},
   "outputs": [],
   "source": [
    "from random import *\n",
    "\n",
    "n = 10000\n",
    "\n",
    "t = []\n",
    "i = 0\n",
    "while i < n:\n",
    "    x = randint(-17, 42)\n",
    "    t.append(x)\n",
    "    i = i + 1\n",
    "\n",
    "#print(t)"
   ]
  },
  {
   "cell_type": "markdown",
   "metadata": {},
   "source": [
    "- On veut savoir si la température de -20 a été atteinte. Si on exécute la fonction `rechercher` sur le tableau précédent, combien de cases va-t-on parcourir ? Dans quel cas sommes-nous ? Quelle est la complexité ?"
   ]
  },
  {
   "cell_type": "code",
   "execution_count": null,
   "metadata": {},
   "outputs": [],
   "source": [
    "tic = chrono()\n",
    "rech(-20,t)\n",
    "tac = chrono()\n",
    "print(round(1000*(tac-tic),2))"
   ]
  },
  {
   "cell_type": "markdown",
   "metadata": {},
   "source": [
    "On est dans le pire cas où la recherche va échouer. On doit donc parcourir\n",
    "tous les éléments de 0 à $n$, la complexité est linéaire."
   ]
  },
  {
   "cell_type": "markdown",
   "metadata": {},
   "source": [
    "- Prendre une des 1000 premières valeurs au hasard et la modifier\n",
    "en -20. À quoi s'attendre si on relance la recherche ?"
   ]
  },
  {
   "cell_type": "code",
   "execution_count": null,
   "metadata": {},
   "outputs": [],
   "source": [
    "indice_modifie = randint(0,1000)\n",
    "t[indice_modifie] = -20\n",
    "\n",
    "tic = chrono()\n",
    "rech(-20,t)\n",
    "tac = chrono()\n",
    "print(round(1000*(tac-tic),2))"
   ]
  },
  {
   "cell_type": "markdown",
   "metadata": {},
   "source": [
    "Le temps est beaucoup plus court car nous sommes dans le cas\n",
    "d'une instance (donnée) favorable où l'élément est trouvé\n",
    "rapidement ; seul le début du tableau est parcouru."
   ]
  }
 ],
 "metadata": {
  "kernelspec": {
   "display_name": "Python 3",
   "language": "python",
   "name": "python3"
  },
  "language_info": {
   "codemirror_mode": {
    "name": "ipython",
    "version": 3
   },
   "file_extension": ".py",
   "mimetype": "text/x-python",
   "name": "python",
   "nbconvert_exporter": "python",
   "pygments_lexer": "ipython3",
   "version": "3.6.6"
  },
  "toc": {
   "base_numbering": 1,
   "nav_menu": {},
   "number_sections": true,
   "sideBar": true,
   "skip_h1_title": false,
   "title_cell": "Table of Contents",
   "title_sidebar": "Contents",
   "toc_cell": false,
   "toc_position": {},
   "toc_section_display": true,
   "toc_window_display": false
  }
 },
 "nbformat": 4,
 "nbformat_minor": 2
}
