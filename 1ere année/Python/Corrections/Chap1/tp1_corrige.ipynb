{
 "cells": [
  {
   "cell_type": "markdown",
   "metadata": {},
   "source": [
    "# <center> Chapitre 1 : Complexité - TP corrigé</center>"
   ]
  },
  {
   "cell_type": "code",
   "execution_count": null,
   "metadata": {},
   "outputs": [],
   "source": [
    "from timeit import default_timer as chrono"
   ]
  },
  {
   "cell_type": "markdown",
   "metadata": {},
   "source": [
    "## Calcul de $n^n$\n",
    "\n",
    "### Par des multiplications\n",
    "\n",
    "Écrire un programme qui calcule $n^n$ par une série de multiplications.\n",
    "\n",
    "Quelle est la complexité ? Mesurer le temps de calcul pour $n = 100$ puis $n=1000$."
   ]
  },
  {
   "cell_type": "code",
   "execution_count": null,
   "metadata": {},
   "outputs": [],
   "source": [
    "n = 100\n",
    "tic = chrono()\n",
    "\n",
    "res = 1\n",
    "i=0\n",
    "while i < n:\n",
    "    res *= n\n",
    "    i+=1\n",
    "    \n",
    "tac = chrono()\n",
    "print(round(1000*(tac-tic),2))"
   ]
  },
  {
   "cell_type": "markdown",
   "metadata": {},
   "source": [
    "Une boucle à $n$ itérations, avec un nombre d'opérations constant : complexité linéaire."
   ]
  },
  {
   "cell_type": "markdown",
   "metadata": {},
   "source": [
    "### Par des additions\n",
    "\n",
    "Calculer maintenant $n^n$ avec que des additions.\n",
    "\n",
    "Indication :\n",
    "- à la 1re itération, calculer $n$ comme 1 + 1 + ... + 1,\n",
    "- à la 2e itération, calculer $n^2$ comme $n$ + $n$ + ... + $n$,\n",
    "- à la 3e, $n^3$ comme $n^2$ + $n^2$ + ... + $n^2$,\n",
    "et ainsi de suite (les sommes ont $n$ termes).\n",
    "\n",
    "Quelle est la complexité ? Mesurer le temps de calcul pour $n = 100$ puis $n=1000$."
   ]
  },
  {
   "cell_type": "code",
   "execution_count": null,
   "metadata": {},
   "outputs": [],
   "source": [
    "n = 100\n",
    "tic = chrono()\n",
    "\n",
    "terme = 1\n",
    "i=0\n",
    "while i < n:\n",
    "    somme = 0\n",
    "    j=0\n",
    "    while j < n:\n",
    "        somme += terme\n",
    "        j+=1\n",
    "    terme = somme\n",
    "    i+=1\n",
    "    \n",
    "tac = chrono()\n",
    "print(round(1000*(tac-tic),2))"
   ]
  },
  {
   "cell_type": "markdown",
   "metadata": {},
   "source": [
    "Boucles imbriquées à $n$ itérations : complexité quadratique."
   ]
  },
  {
   "cell_type": "markdown",
   "metadata": {},
   "source": [
    "## Recherche du maximum avec une fonction $sup$\n",
    "\n",
    "- Écrire une fonction $sup$ qui teste si un entier $k$ est supérieur\n",
    "(ou égal) à tous les éléments d'un tableau. La tester.\n",
    "\n",
    "- Quelle est la complexité dans le pire des cas ?"
   ]
  },
  {
   "cell_type": "code",
   "execution_count": null,
   "metadata": {},
   "outputs": [],
   "source": [
    "def sup(k,t):\n",
    "    n = len(t)\n",
    "    i=0\n",
    "    while i < n:\n",
    "        if t[i] > k:\n",
    "            return False\n",
    "        i+=1\n",
    "    return True\n",
    "\n",
    "n = 10\n",
    "t = []\n",
    "i=0\n",
    "while i < n:\n",
    "    t.append(i)\n",
    "    i+=1\n",
    "    \n",
    "print(t)\n",
    "print(sup(9,t))"
   ]
  },
  {
   "cell_type": "markdown",
   "metadata": {},
   "source": [
    "Quand le nombre est supérieur à tous les éléments, sauf éventuellement\n",
    "le dernier, on doit parcourir tout le tableau. Complexité linéaire."
   ]
  },
  {
   "cell_type": "markdown",
   "metadata": {},
   "source": [
    "- Écrire une fonction $imax$ qui appelle $sup$ sur chaque élément\n",
    "d'un tableau et renvoie l'indice du premier maximum trouvé. <br>\n",
    "La tester sur un tableau d'entiers aléatoires."
   ]
  },
  {
   "cell_type": "code",
   "execution_count": null,
   "metadata": {},
   "outputs": [],
   "source": [
    "from random import *\n",
    "\n",
    "def imax(t):\n",
    "    n = len(t)\n",
    "    i=0\n",
    "    while i < n:\n",
    "        if sup(t[i],t):\n",
    "            return i\n",
    "        i+=1\n",
    "        \n",
    "n = 10\n",
    "t = []\n",
    "i=0\n",
    "while i < n:\n",
    "    t.append(randint(0,100))\n",
    "    i+=1\n",
    "    \n",
    "print(t)\n",
    "print(\"imax = \" + str(imax(t)))"
   ]
  },
  {
   "cell_type": "markdown",
   "metadata": {},
   "source": [
    "- Quelle est la complexité dans le pire des cas ?\n",
    "Construire un tableau réalisant ce cas pour $n$ = 500 puis\n",
    "$n$ = 5000 et vérifier."
   ]
  },
  {
   "cell_type": "markdown",
   "metadata": {},
   "source": [
    "On a une boucle à $n$ itérations avec une fonction imbriquée\n",
    "en $O(n)$ (à $Cn$ opérations au pire). Il en résulte une\n",
    "complexité en $O(n^2)$, quadratique.\n",
    "\n",
    "Le pire est quand le max est à la fin et que les autres éléments\n",
    "sont égaux, ce qui oblige toutes les boucles à aller jusqu'à la fin."
   ]
  },
  {
   "cell_type": "code",
   "execution_count": null,
   "metadata": {},
   "outputs": [],
   "source": [
    "n = 500\n",
    "t = []\n",
    "i=0\n",
    "while i < n-1:\n",
    "    t.append(1)\n",
    "    i+=1\n",
    "t.append(9)\n",
    "\n",
    "tic = chrono()\n",
    "print(\"imax = \" + str(imax(t)))\n",
    "tac = chrono()\n",
    "print(round(1000*(tac-tic),2))"
   ]
  },
  {
   "cell_type": "markdown",
   "metadata": {},
   "source": [
    "- Comparer à la complexité de l'algorithme standard où on actualise\n",
    "les variables $max$ et $imax$ lors du parcours du tableau."
   ]
  },
  {
   "cell_type": "code",
   "execution_count": null,
   "metadata": {},
   "outputs": [],
   "source": [
    "def imax2(t):\n",
    "    max = t[0]\n",
    "    imax = 0\n",
    "    i=0\n",
    "    while i < n:\n",
    "        if t[i] > max:\n",
    "            max = t[i]\n",
    "            imax = i\n",
    "        i+=1\n",
    "    return imax\n",
    "\n",
    "n = 5000\n",
    "t = []\n",
    "i=0\n",
    "while i < n-1:\n",
    "    t.append(1)\n",
    "    i+=1\n",
    "t.append(9)\n",
    "\n",
    "tic = chrono()\n",
    "print(\"imax = \" + str(imax2(t)))\n",
    "tac = chrono()\n",
    "print(round(1000*(tac-tic),2))"
   ]
  },
  {
   "cell_type": "markdown",
   "metadata": {},
   "source": [
    "Un parcours complet, mais un seul : $O(n)$. C'est beaucoup mieux !"
   ]
  },
  {
   "cell_type": "markdown",
   "metadata": {},
   "source": [
    "## Test de primalité\n",
    "\n",
    "On rappelle qu'un entier $n > 1$ est *premier* s'il n'est pas\n",
    "divisible par d'autres nombres qu' 1 et $n$.\n",
    "\n",
    "- Écrire une fonction $prem$ qui teste si $n$ est premier en essayant\n",
    "les diviseurs potentiels.\n",
    "\n",
    "- Quelle est la complexité dans le pire des cas ? Expliquer\n",
    "la différence de temps de calcul entre 906 823, 906 824 et 906 825.\n",
    "\n",
    "- Essayer avec 9 068 237. À combien estimez-vous le temps de calcul\n",
    "pour un nombre premier dans les 90 millions ?"
   ]
  },
  {
   "cell_type": "code",
   "execution_count": null,
   "metadata": {},
   "outputs": [],
   "source": [
    "def premier(n):\n",
    "    i=2\n",
    "    while i < n:\n",
    "        if n%i == 0:\n",
    "            return False\n",
    "        i+=1\n",
    "    return True\n",
    "\n",
    "n = 906823\n",
    "tic = chrono()\n",
    "print(premier(n))\n",
    "tac = chrono()\n",
    "print(round(1000*(tac-tic),2))"
   ]
  },
  {
   "cell_type": "markdown",
   "metadata": {},
   "source": [
    "Quand le nombre est premier, on doit essayer tous les diviseurs de 2 à $n$-1 : complexité $O(n)$.\n",
    "\n",
    "906 823 est premier, pas 906 824 (pair) ni 906 825 (multiple de 5).\n",
    "\n",
    "La complexité étant linéaire, c'est 10 fois plus pour un nombre premier\n",
    "dans les 90 millions que dans les 9 millions."
   ]
  },
  {
   "cell_type": "markdown",
   "metadata": {},
   "source": [
    "On remarque maintenant que si $n = ab$, alors $a$ et $b$ ne peuvent être\n",
    "tous deux supérieurs à $\\sqrt n$ (sinon on aurait $ab > n$).\n",
    "Par conséquent, si $n$ n'est divisible par aucun nombre inférieur ou\n",
    "égal à $\\sqrt n$, alors $n$ est premier.\n",
    "\n",
    "- Écrire une fonction $prem2$ utilisant cette optimisation.\n",
    "Quelle est sa complexité ?\n",
    "- Essayer avec 906 823, 9 068 237, 90 682 373 et conclure."
   ]
  },
  {
   "cell_type": "code",
   "execution_count": null,
   "metadata": {},
   "outputs": [],
   "source": [
    "from math import sqrt\n",
    "\n",
    "def premier(n):\n",
    "    i=2\n",
    "    while i < sqrt(n):\n",
    "        if n%i == 0:\n",
    "            return False\n",
    "        i+=1\n",
    "    return True\n",
    "\n",
    "n = 906823\n",
    "tic = chrono()\n",
    "print(premier(n))\n",
    "tac = chrono()\n",
    "print(round(1000*(tac-tic),2))"
   ]
  },
  {
   "cell_type": "markdown",
   "metadata": {},
   "source": [
    "On n'essaye les diviseurs que jusqu'à $\\sqrt n$ donc complexité $O(\\sqrt n)$ !\n",
    "Eh oui, cela existe.\n",
    "\n",
    "Quand on multiplie la donnée par 10, le temps est multiplié par $\\sqrt 10 \\simeq 3$"
   ]
  }
 ],
 "metadata": {
  "kernelspec": {
   "display_name": "Python 3",
   "language": "python",
   "name": "python3"
  },
  "language_info": {
   "codemirror_mode": {
    "name": "ipython",
    "version": 3
   },
   "file_extension": ".py",
   "mimetype": "text/x-python",
   "name": "python",
   "nbconvert_exporter": "python",
   "pygments_lexer": "ipython3",
   "version": "3.6.6"
  },
  "toc": {
   "base_numbering": 1,
   "nav_menu": {},
   "number_sections": true,
   "sideBar": true,
   "skip_h1_title": false,
   "title_cell": "Table of Contents",
   "title_sidebar": "Contents",
   "toc_cell": false,
   "toc_position": {},
   "toc_section_display": true,
   "toc_window_display": false
  }
 },
 "nbformat": 4,
 "nbformat_minor": 2
}
