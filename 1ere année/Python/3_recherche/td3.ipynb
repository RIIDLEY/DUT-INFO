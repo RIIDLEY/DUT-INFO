{
 "cells": [
  {
   "cell_type": "markdown",
   "metadata": {},
   "source": [
    "# <center> Chapitre 3 : Algorithmes de recherche - TD </center>"
   ]
  },
  {
   "cell_type": "markdown",
   "metadata": {},
   "source": [
    "## Exercice 1 : Recherche séquentielle\n",
    "\n",
    "Les deux fonctions ci-dessous implémentent la recherche séquentielle d’un caractère dans une chaîne de caractères. Elles fonctionnent aussi pour la recherche d'un élément dans une liste."
   ]
  },
  {
   "cell_type": "code",
   "execution_count": null,
   "metadata": {},
   "outputs": [],
   "source": [
    "def appartient1(caractere,chaine):\n",
    "    i = 0\n",
    "    rep = False\n",
    "    while i<len(chaine):\n",
    "         if chaine[i]==caractere:\n",
    "             rep=True\n",
    "         i += 1\n",
    "    return rep\n",
    "\n",
    "\n",
    "#v2 :\n",
    "def appartient2(caractere,chaine):\n",
    "    i = 0\n",
    "    rep = False\n",
    "    while i<len(chaine) and not rep:\n",
    "         if chaine[i]==caractere:\n",
    "             rep=True\n",
    "         i += 1\n",
    "    return rep"
   ]
  },
  {
   "cell_type": "markdown",
   "metadata": {},
   "source": [
    "Combien de comparaisons sont effectuées par chaque fonction pour rechercher le caractère `\"a\"` dans la chaîne `\"bbbba\"` ? dans la chaîne `\"bbabb\"` ? dans la chaîne `\"abbb\"` ?"
   ]
  },
  {
   "cell_type": "markdown",
   "metadata": {},
   "source": [
    "## Exercice 2 : Inclusion\n",
    "\n",
    "Définir une fonction `inclus` prenant deux chaînes de caractères et retournant `True` si tous les caractères de la première chaîne sont inclus dans la deuxième, et `False` sinon."
   ]
  },
  {
   "cell_type": "code",
   "execution_count": null,
   "metadata": {},
   "outputs": [],
   "source": [
    "# Code"
   ]
  },
  {
   "cell_type": "markdown",
   "metadata": {},
   "source": [
    "Quelle est la complexité dans le pire des cas ?"
   ]
  },
  {
   "cell_type": "markdown",
   "metadata": {},
   "source": [
    "## Exercice 3 : Application de la recherche dichotomique\n",
    "\n",
    "Soit un tableau de 17 entiers triés dans l’ordre croissant :\n",
    "\n",
    "`tab = [10, 13, 19, 28, 29, 32, 34, 37, 39, 42, 48, 49, 72, 81, 86, 93, 96]`\n",
    "\n",
    "- Appliquer à la main l’algorithme de dichotomie pour rechercher l’entier 19 dans ce tableau. On fera un tableau d’évolution des variables `debut`, `milieu` et `fin`. Combien d'itérations ont été effectués ?\n",
    "\n",
    "- Faire de même pour rechercher l’entier 20 dans ce tableau.\n"
   ]
  },
  {
   "cell_type": "markdown",
   "metadata": {},
   "source": [
    "## Exercice 4 : Inclusion avec des chaînes triées"
   ]
  },
  {
   "cell_type": "markdown",
   "metadata": {},
   "source": [
    "On souhaite définir une fonction `inclus2` prenant deux chaînes de caractères triées dans l'ordre lexicographique et retournant `True` si tous les caractères de la première chaîne sont inclus dans la deuxième, et `False` sinon. \n",
    "\n",
    "Peut-on utiliser le fait que les chaînes soient triées dans l'ordre lexicographique pour améliorer l'algorithme de l'exercice 2 ?\n",
    "\n",
    "\n",
    "\n"
   ]
  },
  {
   "cell_type": "code",
   "execution_count": null,
   "metadata": {},
   "outputs": [],
   "source": [
    "# Code"
   ]
  }
 ],
 "metadata": {
  "kernelspec": {
   "display_name": "Python 3",
   "language": "python",
   "name": "python3"
  },
  "language_info": {
   "codemirror_mode": {
    "name": "ipython",
    "version": 3
   },
   "file_extension": ".py",
   "mimetype": "text/x-python",
   "name": "python",
   "nbconvert_exporter": "python",
   "pygments_lexer": "ipython3",
   "version": "3.6.6"
  }
 },
 "nbformat": 4,
 "nbformat_minor": 2
}
