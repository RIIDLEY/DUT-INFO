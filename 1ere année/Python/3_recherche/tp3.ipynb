{
 "cells": [
  {
   "cell_type": "markdown",
   "metadata": {},
   "source": [
    "# <center> Chapitre 3 : Algorithmes de recherche - TP </center>"
   ]
  },
  {
   "cell_type": "markdown",
   "metadata": {},
   "source": [
    "## Exercice 1 : Le jeu du Devin\n",
    "\n",
    "\n",
    "On propose de programmer le jeu du Devin. Les règles sont simples : vous choisissez un nombre entre 1 et 100 (vous ne devez pas changer de nombre en cours de partie). L'ordinateur doit déterminer ce nombre en un minimum d'essais. À chaque essai, l'ordinateur vous propose un nombre (entre 1 et 100) et vous devez répondre (sans tricher !) si le nombre que vous avez choisi est égal à celui proposé (dans ce cas, le programme est terminé), ou plus grand ou plus petit.\n",
    "\n",
    "- Programmer le jeu du Devin et jouer UN PEU."
   ]
  },
  {
   "cell_type": "code",
   "execution_count": 1,
   "metadata": {
    "scrolled": true
   },
   "outputs": [
    {
     "name": "stdout",
     "output_type": "stream",
     "text": [
      "est ce que 50 ?\n",
      "Si oui tape 1, si superieur tape 2, si inferieur tape 3 2\n",
      "est ce que 75 ?\n",
      "Si oui tape 1, si superieur tape 2, si inferieur tape 3 3\n",
      "est ce que 62 ?\n",
      "Si oui tape 1, si superieur tape 2, si inferieur tape 3 1\n"
     ]
    },
    {
     "data": {
      "text/plain": [
       "62"
      ]
     },
     "execution_count": 1,
     "metadata": {},
     "output_type": "execute_result"
    }
   ],
   "source": [
    "def saisie():\n",
    "    rep1=int(input(\"Si oui tape 1, si superieur tape 2, si inferieur tape 3 \"))\n",
    "    while rep1<1 or rep1>3:\n",
    "        rep1=int(input())\n",
    "    return rep1\n",
    "\n",
    "def devin():\n",
    "    i=1\n",
    "    tab=[]\n",
    "    while i<101:\n",
    "        tab.append(i)\n",
    "        i+=1\n",
    "    debut = 1\n",
    "    fin = len(tab)-1\n",
    "    milieu = (debut+fin)//2\n",
    "    while debut <= fin :\n",
    "        print(\"est ce que\",milieu,\"?\")\n",
    "        rep=saisie()\n",
    "        if rep==1:\n",
    "            return milieu\n",
    "        elif rep==2:\n",
    "            debut = milieu+1\n",
    "        else:\n",
    "            fin=milieu-1\n",
    "            \n",
    "        milieu = (debut+fin)//2          \n",
    "\n",
    "devin()"
   ]
  },
  {
   "cell_type": "markdown",
   "metadata": {},
   "source": [
    "* Combien d'essais faut-il au minimum à l'ordinateur pour trouver le nombre ?\n",
    "* Combien d'essais faut-il au maximum à l'ordinateur pour trouver le nombre ?\n",
    "* Combien d'essais faut-il au maximum à l'ordinateur pour trouver le nombre si l'on choisit un nombre entre 1 et 1000 ?"
   ]
  },
  {
   "cell_type": "markdown",
   "metadata": {},
   "source": [
    "## Exercice 2 : Calcul de la racine carrée d'un nombre\n",
    "\n",
    "\n",
    "Supposons que l'on a une fonction mathématique $f(x)$ continue et strictement monotone (telle que la racine carrée). On peut alors rechercher par dichotomie la solution de $f(x) = 0$. On ne cherche pas à obtenir une expression exacte d’une telle solution, ce qui est de toute façon évidemment impossible de manière générale.\n",
    "\n",
    "On suppose qu’on dispose d’une fonction f continue et strictement monotone sur un intervale [a,b] vérifiant $f(a) \\times f(b)≤0$. Le théorème des valeurs intermédiaires garantit l’existence d’une unique solution à l’équation f(x)=0 sur l’intervalle [a,b]. Pour obtenir une valeur approchée de cette solution, on procède par dichotomie :\n",
    "\n",
    "                                    On calcule c=(a+b)/2 et f(c).\n",
    "\n",
    "Si $f(a)\\times f(c)≤0$, la solution appartient à l’intervalle [a,c]. Sinon, elle appartient à l’intervalle [c,b].\n",
    "Dans le premier cas, on remplace b par c tandis que dans le second cas, on remplace a par c.\n",
    "On répète les étapes 1., 2. et 3. tant que la longeur de l’intervalle [a,b] est supérieur à une précision $\\epsilon$ donnée.\n",
    "La valeur de c est alors une valeur appochée de la solution de f(x)=0 à $\\epsilon/2$ près."
   ]
  },
  {
   "cell_type": "markdown",
   "metadata": {},
   "source": [
    "Définir une fonction calculant la racine carrée d'un nombre."
   ]
  },
  {
   "cell_type": "code",
   "execution_count": null,
   "metadata": {},
   "outputs": [],
   "source": []
  },
  {
   "cell_type": "markdown",
   "metadata": {},
   "source": [
    "## Exercice 3 : Même caractères\n",
    "\n",
    "Définir la fonction `meme_caracteres` prenant en paramètre deux chaînes de caractères et retournant `True` si les deux chaînes utilisent les mêmes caractères (tout caractère apparaissant dans l'une apparaît dans l'autre), et `False` sinon."
   ]
  },
  {
   "cell_type": "code",
   "execution_count": null,
   "metadata": {},
   "outputs": [],
   "source": [
    "# Code"
   ]
  },
  {
   "cell_type": "markdown",
   "metadata": {},
   "source": [
    "Définir la fonction `meme_caracteres_trie` prenant en paramètre deux chaînes de caractères **triées** et retournant `True` si les deux chaînes utilisent les mêmes caractères (tout caractère apparaissant dans l'une apparaît dans l'autre), et `False` sinon."
   ]
  },
  {
   "cell_type": "code",
   "execution_count": null,
   "metadata": {},
   "outputs": [],
   "source": [
    "# Code"
   ]
  },
  {
   "cell_type": "markdown",
   "metadata": {},
   "source": [
    "Quelle est la complexité dans le pire des cas pour chacune des fonctions ?"
   ]
  },
  {
   "cell_type": "markdown",
   "metadata": {},
   "source": [
    "**Réponse :** "
   ]
  }
 ],
 "metadata": {
  "kernelspec": {
   "display_name": "Python 3",
   "language": "python",
   "name": "python3"
  },
  "language_info": {
   "codemirror_mode": {
    "name": "ipython",
    "version": 3
   },
   "file_extension": ".py",
   "mimetype": "text/x-python",
   "name": "python",
   "nbconvert_exporter": "python",
   "pygments_lexer": "ipython3",
   "version": "3.6.4"
  }
 },
 "nbformat": 4,
 "nbformat_minor": 2
}
