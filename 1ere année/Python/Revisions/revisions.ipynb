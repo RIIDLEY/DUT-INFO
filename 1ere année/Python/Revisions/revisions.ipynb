{
 "cells": [
  {
   "cell_type": "markdown",
   "metadata": {},
   "source": [
    "# <center> Séance de révision - TD</center>"
   ]
  },
  {
   "cell_type": "markdown",
   "metadata": {},
   "source": [
    "Les exercices s'appuient sur la notion d'[adn](https://fr.wikipedia.org/wiki/Acide_d%C3%A9soxyribonucl%C3%A9ique). On supposera dans l'ensemble des exercices qu'un adn est codé sous la forme d'une chaîne de caractères contenant uniquement les lettres `A`, `T`, `G`, `C` correspondant aux différentes bases (adénine, cytosine, guanine ou thymine)."
   ]
  },
  {
   "cell_type": "markdown",
   "metadata": {},
   "source": [
    "## Exercice 1\n",
    "\n",
    "Définir la fonction `est_base` prenant en paramètre un caractère et retournant `True` si ce caractère correspond à une base (est un des caractères `A`, `T`, `G`, `C`), et `False` sinon.\n",
    "\n",
    "Quelle est la complexité de cette fonction ?"
   ]
  },
  {
   "cell_type": "code",
   "execution_count": null,
   "metadata": {},
   "outputs": [],
   "source": [
    "# CODE\n"
   ]
  },
  {
   "cell_type": "markdown",
   "metadata": {},
   "source": [
    "## Exercice 2\n",
    "\n",
    "Définir la fonction `est_adn` prenant en paramètre une chaîne de caractères et retournant `True` si la chaîne correspond à un adn (est constituée uniquement des caractères `A`, `T`, `G`, `C`), et `False` sinon.\n",
    "\n",
    "Quelle est la complexité de cette fonction ?"
   ]
  },
  {
   "cell_type": "code",
   "execution_count": null,
   "metadata": {},
   "outputs": [],
   "source": [
    "# CODE\n"
   ]
  },
  {
   "cell_type": "markdown",
   "metadata": {},
   "source": [
    "## Exercice 3\n",
    "\n",
    "Définir la fonction `pourcentages_bases` prenant en paramètre un adn et retournant un dictionnaire contenant comme information le pourcentage de chaque base. Par exemple, pour l'adn `AAATCGTT`, la fonction doit renvoyer le dictionnaire `{'A': 37.5, 'T': 37.5, 'C': 12.5, 'G': 12.5}`.\n",
    "\n",
    "Quelle est la complexité de cette fonction ?"
   ]
  },
  {
   "cell_type": "code",
   "execution_count": null,
   "metadata": {},
   "outputs": [],
   "source": [
    "# CODE\n"
   ]
  },
  {
   "cell_type": "markdown",
   "metadata": {},
   "source": [
    "## Exercice 4\n",
    "\n",
    "Écrire un programme demandant à l'utilisateur de saisir une séquence d'adn (saisie répétée tant que l'utilisateur n'a pas saisi un brin d'adn avec au minimum 8 bases) et affiche le pourcentage de chaque base dans la saisie."
   ]
  },
  {
   "cell_type": "code",
   "execution_count": null,
   "metadata": {},
   "outputs": [],
   "source": [
    "# CODE\n"
   ]
  },
  {
   "cell_type": "markdown",
   "metadata": {},
   "source": [
    "## Exercice 5\n",
    "\n",
    "La recherche de caractère génétique (recherche de maladie génétique ou recherche de lien de parenté) consiste à déterminer si un adn contient une séquence de bases (correspondant à la signature d'une maladie génétique par exemple).\n",
    "\n",
    "Définir la fonction `contient_sequence` prenant en paramètre un adn et une séquence de bases (également codée sous la forme d'une chaîne de caractères contenant uniquement les caractères `A`, `T`, `G`, `C`). La fonction retourne `True` si l'adn contient cette séquence, et `False` sinon.\n",
    "\n",
    "Quelle est la complexité de cette fonction ?"
   ]
  },
  {
   "cell_type": "code",
   "execution_count": null,
   "metadata": {},
   "outputs": [],
   "source": [
    "# CODE\n"
   ]
  },
  {
   "cell_type": "markdown",
   "metadata": {},
   "source": [
    "## Exercice 6\n",
    "\n",
    "En pratique, il peut y avoir des erreurs lors de la réplication de l'adn. Cela signifie que quelques bases peuvent changer. Pour la recherche de séquence, il faut tenir compte de cette possibilité. \n",
    "\n",
    "On dit qu'un adn \"contient\" une séquence s'il existe une portion de l'adn qui est identique à 80% minimum à la séquence recherchée. Par exemple, on dit que `AAATCGTT` \"contient\" la séquence `AACGT` puisque l'adn contient `ATCGT` qui est identique à `AACGT` excepté une lettre (80% des lettres sont identiques).\n",
    "\n",
    "Définir la fonction `contient_sequence_similaire` prenant en paramètre un adn et une séquence de bases et retourne `True` si l'adn contient une portion identique à au moins 80% à la séquence, et `False` sinon.\n",
    "\n",
    "\n",
    "Quelle est la complexité de cette fonction ?"
   ]
  },
  {
   "cell_type": "code",
   "execution_count": null,
   "metadata": {},
   "outputs": [],
   "source": [
    "# CODE\n"
   ]
  },
  {
   "cell_type": "markdown",
   "metadata": {},
   "source": [
    "## Exercice 7\n",
    "\n",
    "*Remarque :* Cet exercice est difficile et n'est à faire que si le reste est compris et terminé.\n",
    "\n",
    "On veut rechercher si un adn contient une portion identique à une séquence donnée. Cependant, on suppose que la portion peut être découpée en deux endroits distincts de l'adn (la première partie doit se trouver avant la deuxième partie). \n",
    "\n",
    "Par exemple, l'adn `AAATGCCGTAAATC` contient `AATGAAATC` en deux parties `AATG` puis `AAATC`.\n",
    "\n",
    "Définir la fonction `contient_deux_parties` prenant en paramètre un adn et une séquence et retournant `True` si l'adn contient cette séquence en une ou deux parties, et `False` sinon."
   ]
  },
  {
   "cell_type": "code",
   "execution_count": 66,
   "metadata": {},
   "outputs": [],
   "source": [
    "# CODE\n"
   ]
  }
 ],
 "metadata": {
  "kernelspec": {
   "display_name": "Python 3",
   "language": "python",
   "name": "python3"
  },
  "language_info": {
   "codemirror_mode": {
    "name": "ipython",
    "version": 3
   },
   "file_extension": ".py",
   "mimetype": "text/x-python",
   "name": "python",
   "nbconvert_exporter": "python",
   "pygments_lexer": "ipython3",
   "version": "3.6.6"
  }
 },
 "nbformat": 4,
 "nbformat_minor": 2
}
