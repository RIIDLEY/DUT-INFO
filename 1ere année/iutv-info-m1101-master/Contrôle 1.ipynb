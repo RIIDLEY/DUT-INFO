{
 "cells": [
  {
   "cell_type": "code",
   "execution_count": 1,
   "metadata": {
    "hideCode": false
   },
   "outputs": [
    {
     "name": "stdout",
     "output_type": "stream",
     "text": [
      "Ce cours a été régénéré le 2019-01-08 15:28:18.148467. Mode avec corrigé. Mode statique. Modèle numéro 19.\n"
     ]
    }
   ],
   "source": [
    "from common import utils\n",
    "import random\n",
    "import math\n",
    "u=utils(\"PDF+SOL\",19) # PDF+SOL / PROF / PDF / INTER"
   ]
  },
  {
   "cell_type": "markdown",
   "metadata": {},
   "source": [
    "# Contrôle 1\n",
    "\n",
    "Vous disposez de 2 heures pour faire ce contrôle. Une fiche recto-verso manuscrite peut être autorisée. Toute\n",
    "tentative de communication avec un voisin ou l’extérieur peut être sanctionnée. Toutes les\n",
    "réponses doivent être faites sur l’énoncé. La taille de la réponse attendue dépend de la\n",
    "taille allouée pour répondre.\n",
    "\n",
    "\n",
    "Votre prénom et nom : `_______________________________________________________________________`\n",
    "\n",
    "Votre groupe : `_________________________________________________________________________`\n"
   ]
  },
  {
   "cell_type": "code",
   "execution_count": 2,
   "metadata": {
    "hideCode": true
   },
   "outputs": [
    {
     "data": {
      "text/markdown": [
       "Répondez sur chacun de ces éléments par :\n",
       "  * **n** si la donnée est numérique\n",
       "  * **a** si elle est intrinsèquement analogique\n",
       "  * **p** si elle est analogique mais que la précision des mesures fait que c´est de fait numérique"
      ],
      "text/plain": [
       "<IPython.core.display.Markdown object>"
      ]
     },
     "metadata": {},
     "output_type": "display_data"
    },
    {
     "data": {
      "text/markdown": [
       "La facilité de ce contrôle [anp]  > `_____________________________________________________`"
      ],
      "text/plain": [
       "<IPython.core.display.Markdown object>"
      ]
     },
     "metadata": {},
     "output_type": "display_data"
    },
    {
     "data": {
      "text/markdown": [
       "**Solution :** a"
      ],
      "text/plain": [
       "<IPython.core.display.Markdown object>"
      ]
     },
     "metadata": {},
     "output_type": "display_data"
    },
    {
     "data": {
      "text/markdown": [
       "Si vous tapiez ces réponses dans un traitement de texte, le fichier obtenu [anp]  > `_____________________________________________________`"
      ],
      "text/plain": [
       "<IPython.core.display.Markdown object>"
      ]
     },
     "metadata": {},
     "output_type": "display_data"
    },
    {
     "data": {
      "text/markdown": [
       "**Solution :** n"
      ],
      "text/plain": [
       "<IPython.core.display.Markdown object>"
      ]
     },
     "metadata": {},
     "output_type": "display_data"
    },
    {
     "data": {
      "text/markdown": [
       "La couleur de votre encre [anp]  > `_____________________________________________________`"
      ],
      "text/plain": [
       "<IPython.core.display.Markdown object>"
      ]
     },
     "metadata": {},
     "output_type": "display_data"
    },
    {
     "data": {
      "text/markdown": [
       "**Solution :** p"
      ],
      "text/plain": [
       "<IPython.core.display.Markdown object>"
      ]
     },
     "metadata": {},
     "output_type": "display_data"
    },
    {
     "data": {
      "text/markdown": [
       "Les coordonnées de votre chaise [anp]  > `_____________________________________________________`"
      ],
      "text/plain": [
       "<IPython.core.display.Markdown object>"
      ]
     },
     "metadata": {},
     "output_type": "display_data"
    },
    {
     "data": {
      "text/markdown": [
       "**Solution :** p"
      ],
      "text/plain": [
       "<IPython.core.display.Markdown object>"
      ]
     },
     "metadata": {},
     "output_type": "display_data"
    },
    {
     "data": {
      "text/markdown": [
       "Votre numéro d'étudiant [anp]  > `_____________________________________________________`"
      ],
      "text/plain": [
       "<IPython.core.display.Markdown object>"
      ]
     },
     "metadata": {},
     "output_type": "display_data"
    },
    {
     "data": {
      "text/markdown": [
       "**Solution :** n"
      ],
      "text/plain": [
       "<IPython.core.display.Markdown object>"
      ]
     },
     "metadata": {},
     "output_type": "display_data"
    },
    {
     "data": {
      "text/markdown": [
       "Le nombre de personnes présentes en ce moment dans la salle [anp]  > `_____________________________________________________`"
      ],
      "text/plain": [
       "<IPython.core.display.Markdown object>"
      ]
     },
     "metadata": {},
     "output_type": "display_data"
    },
    {
     "data": {
      "text/markdown": [
       "**Solution :** n"
      ],
      "text/plain": [
       "<IPython.core.display.Markdown object>"
      ]
     },
     "metadata": {},
     "output_type": "display_data"
    },
    {
     "data": {
      "text/markdown": [
       "Les raisons pour lesquelles vous suivez cette formation [anp]  > `_____________________________________________________`"
      ],
      "text/plain": [
       "<IPython.core.display.Markdown object>"
      ]
     },
     "metadata": {},
     "output_type": "display_data"
    },
    {
     "data": {
      "text/markdown": [
       "**Solution :** a"
      ],
      "text/plain": [
       "<IPython.core.display.Markdown object>"
      ]
     },
     "metadata": {},
     "output_type": "display_data"
    },
    {
     "data": {
      "text/markdown": [
       "Le nom de la salle dans laquelle vous êtes [anp]  > `_____________________________________________________`"
      ],
      "text/plain": [
       "<IPython.core.display.Markdown object>"
      ]
     },
     "metadata": {},
     "output_type": "display_data"
    },
    {
     "data": {
      "text/markdown": [
       "**Solution :** n"
      ],
      "text/plain": [
       "<IPython.core.display.Markdown object>"
      ]
     },
     "metadata": {},
     "output_type": "display_data"
    },
    {
     "data": {
      "text/markdown": [
       "**Vous avez répondu correctement à 0 questions sur 8"
      ],
      "text/plain": [
       "<IPython.core.display.Markdown object>"
      ]
     },
     "metadata": {},
     "output_type": "display_data"
    }
   ],
   "source": [
    "questions=['La facilité de ce contrôle', #1\n",
    "           'Les coordonnées de votre chaise', #2\n",
    "           'Le nom de la salle dans laquelle vous êtes', #4\n",
    "           'Votre numéro d\\'étudiant', #8\n",
    "           'Le nombre de personnes présentes en ce moment dans la salle', #16\n",
    "           'La couleur de votre encre', #32\n",
    "           'Les raisons pour lesquelles vous suivez cette formation', #64\n",
    "           'Si vous tapiez ces réponses dans un traitement de texte, le fichier obtenu' #128\n",
    "          ]\n",
    "answersc=1+64\n",
    "answersb=2+32\n",
    "answersa=255-answersc-answersb\n",
    "fail=0\n",
    "num=0\n",
    "\n",
    "qualif = { 'n': 'Donnée numérique', 'a' : 'Donnée intrinsèquement analogique', 'p': 'Donnée analogique mais à précision limitée donc numérique'}\n",
    "\n",
    "u.mark('Répondez sur chacun de ces éléments par :\\n  * **n** si la donnée est numérique\\n  * **a** si elle est intrinsèquement analogique\\n  * **p** si elle est analogique mais que la précision des mesures fait que c´est de fait numérique')\n",
    "\n",
    "questionsorig = [ x for x in questions ]\n",
    "x=1\n",
    "while(len(questions)>0):\n",
    "    question=random.choice(questions)\n",
    "    x = 2**(questionsorig.index(question))\n",
    "    questions.remove(question)\n",
    "    if x&answersa != 0:\n",
    "        exp='n'\n",
    "    if x&answersb != 0:\n",
    "        exp='p'\n",
    "    if x&answersc != 0:\n",
    "        exp='a'\n",
    "    if u.solutioncheck(question+' [anp] ',exp,'Bravo','C´est faux ! C´est une '+qualif[exp]+'.'):\n",
    "        num=num+1\n",
    "    else:\n",
    "        fail=fail+1\n",
    "\n",
    "u.solcomment('**Vous avez répondu correctement à {0} questions sur {1}'.format(num,num+fail))"
   ]
  },
  {
   "cell_type": "code",
   "execution_count": null,
   "metadata": {
    "hideCode": true
   },
   "outputs": [],
   "source": [
    "u.activite('Dénombrement d´objets')\n",
    "objects=['un nombre','une couleur','un mot','une lettre','un animal','un élève','un humain','un dessin','un caractère','un produit','un article','un dossier','un livre','un chat','une boîte','un tuple de base de données']\n",
    "for k in range(1,4):\n",
    "    rep = random.randint(2,12)\n",
    "    numtop = math.floor(math.pow(2,rep))\n",
    "    numbot = math.floor(math.pow(2,rep-1))\n",
    "    realnum=random.randint(numbot+1,numtop)\n",
    "    object=random.choice(objects)\n",
    "    x=u.solutioncheck('Combien de bits sont nécessaires pour distinguer {0} parmi {1} ?'.format(object,str(realnum)),str(rep),'Bravo, c´est ça !','Non, c´est {0} car 2 puissance {0}={1}, et que 2 puissance {2}={3}.'.format(rep,numtop,rep-1,numbot))\n"
   ]
  },
  {
   "cell_type": "code",
   "execution_count": null,
   "metadata": {
    "hideCode": true
   },
   "outputs": [],
   "source": [
    "# EXERCICE\n",
    "\n",
    "u.activite('Conversion d´unités')\n",
    "u.mark('Les résultats sont à montrer sous la forme $x\\\\times 2^{y}\\\\times 10^{z}$ de préférence.')\n",
    "\n",
    "descunit = {\n",
    "    'o': [3,0,3,0],\n",
    "    'b': [0,0,0,0],\n",
    "    'kio': [13,0,10,0],\n",
    "    'Mio': [23,0,20,0],\n",
    "    'Gio': [33,0,30,0],\n",
    "    'kib': [10,0,9,0],\n",
    "    'Mib': [20,0,19,0],\n",
    "    'Gib': [30,0,29,0],\n",
    "    'kb': [0,3,0,1],\n",
    "    'Mb': [0,6,0,4],\n",
    "    'Gb': [0,9,0,7],\n",
    "    'ko': [3,3,3,1],\n",
    "    'Mo': [3,6,3,4],\n",
    "    'Go': [3,9,3,7]\n",
    "}\n",
    "\n",
    "descnum = {\n",
    "    '1': [0,0,1],\n",
    "    '2': [1,0,1],\n",
    "    '3': [0,0,3],\n",
    "    '4': [2,0,1],\n",
    "    '5': [0,0,5],\n",
    "    '6': [1,0,3],\n",
    "    '7': [0,0,7],\n",
    "    '8': [3,0,1],\n",
    "    '9': [0,0,9],\n",
    "}\n",
    "\n",
    "def exo(unitsin, unitsout, leads):\n",
    "    unita=random.sample(unitsin,1)[0]\n",
    "    unitsb=[x for x in unitsout]\n",
    "    if unita in unitsb:\n",
    "        unitsb.remove(unita)\n",
    "    unitb=random.sample(unitsb,1)[0]\n",
    "\n",
    "    # now get a number of bits \n",
    "\n",
    "    lead = random.sample(leads,1)[0]\n",
    "    modlead=descnum[str(lead)][2]\n",
    "    modexpdeux=descnum[str(lead)][0]\n",
    "    modexpdix=descnum[str(lead)][1]\n",
    "\n",
    "    minexpodeux = max(descunit[unita][0],descunit[unitb][0])\n",
    "    maxexpodeux = 42\n",
    "\n",
    "    minexpodeux = max(minexpodeux,min(descunit[unitb][2],descunit[unita][2]))\n",
    "    maxexpodeux = min(maxexpodeux,9+max(descunit[unitb][2],descunit[unita][2]))\n",
    "\n",
    "    minexpodix = max(descunit[unita][1],descunit[unitb][1])\n",
    "    maxexpodix = 12\n",
    "\n",
    "    minexpodix = max(minexpodix,min(descunit[unitb][3],descunit[unita][3]))\n",
    "    maxexpodix = min(maxexpodix,3+max(descunit[unitb][3],descunit[unita][3]))\n",
    "\n",
    "\n",
    "    expodeux = random.randint(minexpodeux,maxexpodeux)\n",
    "    expodix = random.randint(minexpodix,maxexpodix)\n",
    "\n",
    "\n",
    "\n",
    "    INUNITA=u.twobyten(lead,expodeux-descunit[unita][0],expodix-descunit[unita][1],True)\n",
    "    INBITS=u.twobyten(modlead,expodeux+modexpdeux,expodix+modexpdix,False)\n",
    "    INUNITB=u.twobyten(modlead,expodeux+modexpdeux-descunit[unitb][0],expodix+modexpdix-descunit[unitb][1],True)\n",
    "\n",
    "    u.mark('**Transformez {0} {1} en {2}**'.format(INUNITA,unita,unitb))\n",
    "    u.solution('Solution: {0} {1} est en fait {2} bits, et donc {3} {4}.'.format(INUNITA,unita,INBITS,INUNITB,unitb))\n",
    "\n",
    "unitsa = descunit.keys()\n",
    "if random.randint(0,10)<5:\n",
    "    exo(['b'],['Mo','ko','Go','o'],[1,2,3])\n",
    "    exo(['Mio','kio','Gio','o'],['b'],[1,2,3,4,5])\n",
    "else:\n",
    "    exo(['Mo','ko','Go','o'],['b'],[1,2,3])\n",
    "    exo(['o'],['Mio','kio','Gio'],[1,2,3,4,5])\n",
    "exo(unitsa,unitsa,[1,2,3,4,5,6,7,8,9])\n"
   ]
  },
  {
   "cell_type": "code",
   "execution_count": null,
   "metadata": {
    "hideCode": true
   },
   "outputs": [],
   "source": [
    "from IPython.display import display, Markdown, Latex\n",
    "u.activite('Comprendre la quantification')\n",
    "\n",
    "solutions=[2,8,10,16,20,32,64,100,256,1000,1024]\n",
    "sol=random.choice(solutions)\n",
    "quanta=[0.1,0.01,0.001,1,0.25,0.4,0.75,0.8,0.2,10,12.5]\n",
    "quantum=random.choice(quanta)\n",
    "offsets=[0.1,0.01,0.001]\n",
    "offset=random.choice(offsets)\n",
    "maxvoltage=(sol-offset)*quantum\n",
    "\n",
    "u.mark(\"Un signal électrique va de $0~\\mathrm{{V}}$ à ${0}~\\mathrm{{V}}$. Il est quantifié sur un quantum de ${1}~\\mathrm{{V}}$.\".format(u.n2s(maxvoltage),u.n2s(quantum)))\n",
    "u.solutioncheck(\"Quel est le nombre de quanta ?\",str(sol),'**Tout à fait !**','Non, il y a $\\\\lceil {0}/{1} \\\\rceil={2}$ quanta.'.format(u.n2s(maxvoltage),u.n2s(quantum),u.n2s(sol)))\n",
    "\n",
    "ech=int(math.ceil(math.log2(sol)))\n",
    "u.solutioncheck(\"Quelle quantité d'information est transportée par chaque quantum ?\",str(ech),'**Tout à fait !**','Non, il y a $\\\\lceil \\\\mathrm{{log}}_2 {0} \\\\rceil={1}$ bits d´information par échantillon'.format(u.n2s(sol),u.n2s(ech)))\n",
    "\n",
    "fm=random.choice([10000,1000,5000,2000])\n",
    "u.mark('Ce signal est périodique, et se décompose avec des fréquences maximales qui vont jusqu´à {0} kHz.'.format(u.n2s(fm/1000)))\n",
    "fe=2*fm\n",
    "\n",
    "u.solutioncheck(\"Quel est le débit d´information nécessaire pour reconstituer ce signal à l´identique ?\",str(ech*fe),'**Tout à fait !**','Non, la fréquence d´échantillonnage est $2\\\\times{0}={1}$, il faut donc ${1}\\\\times{2}={3}$ bits/seconde d´information'.format(u.n2s(fm),u.n2s(fe),u.n2s(ech),u.n2s(fe*ech)))\n",
    "\n",
    "\n",
    "quantiteh=str(fe*ech*3600)\n",
    "\n",
    "x=u.solutioncheck(\"Quelle quantité d´information pour enregistrer ce signal pendant une heure (en bits) ?\",quantiteh,'**Tout à fait !**','Non, il faut ${0}\\\\times{1}={2}$ bits.'.format(u.n2s(fe*ech),u.n2s(3600),u.n2s(fe*ech*3600)))\n",
    "\n"
   ]
  },
  {
   "cell_type": "code",
   "execution_count": null,
   "metadata": {
    "hideCode": true
   },
   "outputs": [],
   "source": [
    "u.activite(\"Changement de bases\")\n",
    "bases=[2,10,16]\n",
    "conv=[]\n",
    "difficulte=4.0\n",
    "for a in bases:\n",
    "    for b in bases:\n",
    "        if a!=b:\n",
    "            conv.append([a,b])\n",
    "convv=[]\n",
    "\n",
    "def affiche(n,b):\n",
    "    if b==2:\n",
    "        return str(bin(n))\n",
    "    if b==16:\n",
    "        return str(hex(n))\n",
    "    return str(n)\n",
    "\n",
    "while(len(conv)>0):\n",
    "    x=random.choice(conv)\n",
    "    convv.append(x)\n",
    "    conv.remove(x)\n",
    "conv=convv\n",
    "for a,b in conv:\n",
    "    num=random.randint(2**int(difficulte),2**int(difficulte+4))\n",
    "    difficulte=difficulte+1\n",
    "    u.solutioncheck(\"Convertissez {0} en base {1}\".format(affiche(num,a),b),affiche(num,b),\"Très bien !\",\"Non.\")\n"
   ]
  },
  {
   "cell_type": "code",
   "execution_count": null,
   "metadata": {
    "hideCode": true
   },
   "outputs": [],
   "source": [
    "u.activite(\"Codage des entiers\")\n",
    "sizes = [8,8,12,16]\n",
    "encodings = ['NAT','C2','C2','NAT']\n",
    "\n",
    "for i in range(0,len(sizes)):\n",
    "    size=sizes[i]\n",
    "    finalnum=2**size\n",
    "    finalxnum=2**size\n",
    "    # To lean towards smaller positive values (for quickness) and negative values (for practice)\n",
    "    # we try thrice to find numbers\n",
    "    for testing in range(0,3):\n",
    "        num=random.randint(0,2**size-1)\n",
    "        xnum=num\n",
    "        # C2 encoding\n",
    "        if encodings[i]=='C2':\n",
    "            if num<2**(size-1):\n",
    "                num=random.randint(0,2**size-1)\n",
    "                xnum=num\n",
    "            if num>=2**(size-1):\n",
    "                xnum=num-2**size\n",
    "        if xnum<finalxnum:\n",
    "            finalxnum = xnum\n",
    "            finalnum = num\n",
    "    sol=\"0x\"+str(hex(finalnum)).replace(\"0x\",\"\").rjust(size//4,\"0\")\n",
    "    u.solutioncheck(\"Coder en {0} {1} bits écrit en hexadécimal la valeur {2} (en décimal)\".format(encodings[i],size,finalxnum,finalnum,sol),sol,\"ok\",\"ko\")\n",
    "\n"
   ]
  },
  {
   "cell_type": "markdown",
   "metadata": {},
   "source": [
    "**Activité : CARRY et OVERFLOW**\n",
    "\n",
    "Dans un processeur, deux indicateurs sont accessibles après avoir fait une addition :\n",
    "\n",
    "* **Carry**: 1 si une opération arithmétique génére une retenue \"au dessus\" du plus grand bit significatif du résultat, 0 dans les autres cas. Ce flag indique une condition de dépassement pour les opérations non-signées.\n",
    "* **Overflow**: 1 si le résultat est un nombre positif trop grand ou nombre négatif trop petit (en ne tenant pas compte du bit de signe), 0 dans les autres cas. Ce flag indique une condition de dépassement pour les opérations signées (complément à 2).\n",
    "\n",
    "D'après ce que vous comprenez de cette opération — qui a priori ne vous a jamais été expliqué avant — et en supposant des opérations sur 8 bits, donnez 4 exemples où :\n",
    "\n",
    "  * CARRY=0, OVERFLOW=0 : `________` + `________` avec un codage NAT ou C2 (rayez la mention inutile, entourez la bonne)\n",
    "  * CARRY=1, OVERFLOW=0 : `________` + `________` avec un codage NAT ou C2 (rayez la mention inutile, entourez la bonne)\n",
    "  * CARRY=0, OVERFLOW=1 : `________` + `________` avec un codage NAT ou C2 (rayez la mention inutile, entourez la bonne)\n",
    "  * CARRY=1, OVERFLOW=1 : `________` + `________` avec un codage NAT ou C2 (rayez la mention inutile, entourez la bonne)\n",
    "\n",
    "(vous pouvez écrire les nombres en décimal, ou en binaire, comme vous préférez)"
   ]
  },
  {
   "cell_type": "markdown",
   "metadata": {},
   "source": [
    "**Activité : CARRY et OVERFLOW**\n",
    "\n",
    "Dans l'activité précédente, on définissait deux bits d'état du processeur, qui après une opération peuvent, selon le résultat de l'opération, valoir indépendamment 0 ou 1. Ces deux bits sont stockés dans un registre spécial, appelé FLAGS, qui contient en bit 0 CARRY et en bit 2 OVERFLOW (le bit 1 est utilisé pour autre chose).\n",
    "\n",
    "On veut dans un morceau de code faire un test qui vérifie si on est dans les cas :\n",
    "\n",
    "  * CARRY=1 et OVERFLOW quelconque\n",
    "  * CARRY=0 et OVERFLOW=1\n",
    "  \n",
    "En utilisant la syntaxe Python, C ou mathématique, écrivez un UNIQUE test qui permet d'afficher \"OK\" si on est dans l'un des deux cas mentionnés ci-dessus. Par exemple (cette réponse est fausse):\n",
    "\n",
    "    if (FLAGS==1):\n",
    "        print(\"OK\")\n",
    "\n",
    "\n",
    "`___________________________________________________________________`\n",
    "\n",
    "`___________________________________________________________________`\n"
   ]
  },
  {
   "cell_type": "code",
   "execution_count": null,
   "metadata": {
    "hideCode": true
   },
   "outputs": [],
   "source": [
    "u.solcomment('''Une solution de l\\'activité précédente est :\\n\\n\\\n",
    "\\tif ( (FLAGS & 0x1) == 1) or ( (FLAGS & 0x1) == 0 and (FLAGS & 0x4) == 1):\\n\\\n",
    "\\t\\tprint(\"ok\")\\n\\\n",
    "''')"
   ]
  },
  {
   "cell_type": "code",
   "execution_count": null,
   "metadata": {
    "hideCode": true
   },
   "outputs": [],
   "source": [
    "u.tikz(\"systeme-exploitation3\",\"-l mindmap,trees -s 800,480\",r'''\n",
    "  % Remplacer les ... par les noms corrects, sans regarder le schéma ci-dessus !\n",
    "\n",
    "\\node at (1,3) {Compléter cette carte mentale du système d'exploitation par les noms corrects.};\n",
    "\\path[mindmap,concept color=black!10,text=black]\n",
    "    node[concept] {Système d'exploitation}\n",
    "    [clockwise from=0]\n",
    "    child {\n",
    "        node[concept] {...}\n",
    "        [clockwise from=30]\n",
    "        child { \n",
    "            node [concept] (p) {Pilote}\n",
    "        }\n",
    "        child {\n",
    "            node[concept] (c) {...}\n",
    "        }\n",
    "    }  \n",
    "    child {\n",
    "        node[concept] {...}\n",
    "        [clockwise from=-30]\n",
    "        child { node[concept] {MMU} }\n",
    "        child { node[concept] {Mémoire virtuelle} }\n",
    "    }\n",
    "    child {\n",
    "        node[concept] {Processeur}\n",
    "        [clockwise from=-90]\n",
    "        child { node[concept] {...} }\n",
    "        child { node[concept] {...} }\n",
    "    }\n",
    "    child {\n",
    "        node[concept] {...}\n",
    "        [counterclockwise from=120]\n",
    "        child { node[concept] {Interface (graphique)} }\n",
    "        child { node[concept] {...} }\n",
    "        child { node[concept] {...} }\n",
    "    };\n",
    "\\draw [concept connection, dashed]  (p) edge[auto] node {...} (c);\n",
    "''')"
   ]
  },
  {
   "cell_type": "code",
   "execution_count": null,
   "metadata": {
    "hideCode": true
   },
   "outputs": [],
   "source": [
    "u.activite('Niveaux de fonctionnement')\n",
    "u.mark('**La plupart des systèmes d´exploitation utilisent deux modes de fonctionnement (noyau et utilisateur), l´un des modes n´ayant pas les droits de faire certaines opérations. Lequel ?**')\n",
    "x=u.solutioncheck('Votre proposition [noyau/utilisateur]','noyau','Tout à fait !','Le mode noyau est le mode qui a les droits les plus élevés. L´utilisateur normal a des droits restreints (par exemple, il ne peut pas écraser n´importe quelle donnée par une autre, y compris en dehors de son périmètre attribué).')\n",
    "\n",
    "questions=['Passer du mode utilisateur au mode système',\n",
    "    'Lire l´horloge',\n",
    "    'Modifier la table d´état des périphériques',\n",
    "    'Effacer des blocs de mémoire',\n",
    "    'Déclencher une interruption',\n",
    "    'Accéder aux entrées/sortie d´un périphérique',\n",
    "    'Bloquer temporairement les interruptions',\n",
    "    'Changer la valeur d´une interruption basée sur le temps.']\n",
    "answers = 236\n",
    "\n",
    "u.mark('**Voici des actions : pour chacune, dites si elle doit a priori être effectuée en mode (p)rivilégié ou n´importe (q)uel mode.**')\n",
    "num=0\n",
    "fail=0\n",
    "x=1\n",
    "for question in questions:\n",
    "    rep='q'\n",
    "    if x & answers:\n",
    "        rep='p'\n",
    "    if u.solutioncheck(question+' [pq]',rep,'Bravo','Eh non !'):\n",
    "        num=num+1\n",
    "    else:\n",
    "        fail=fail+1\n",
    "    x=x+x\n",
    "u.solcomment('**Vous avez répondu correctement à {0} questions sur {1}.**'.format(num,num+fail))"
   ]
  },
  {
   "cell_type": "markdown",
   "metadata": {
    "hideCode": true
   },
   "source": [
    "**Activité : listing amélioré**\n",
    "\n",
    "Faites un script shell qui permet de faire le dessin ASCII/texte suivant à partir du répertoire courant (dans l'exemple /home/jcdubacq/Documents). On supposera pour simplifier qu'il n'y a pas d'espaces dans les noms (nulle part). Entre parenthèses, ce sont des répertoires, entre guillemets des fichiers (ou autres).\n",
    "\n",
    "    /home/jcdubacq/Documents\n",
    "      \\_ \"201600802_SuiviRecette.xlsx\"\n",
    "      \\_ (activites)\n",
    "      \\_ (autres)\n",
    "      \\_ (dept)\n",
    "      \\_ \"edumips64-1.2.2-manual-en.pdf\"\n",
    "      \\_ (enseignement)\n",
    "      \\_ (etudiants)\n",
    "      \\_ \"fiche-apprentissage-reseaux-et-securite.pdf\"\n",
    "      \\_ \"INVITATION_POUR_LE_PERSONNEL_DE_05032017.pdf\"\n",
    "      \\_ (recherche)\n",
    "      \\_ \"referentiel2016_autresdepartements.xls\"\n",
    "      \\_ \"Ref_Info_corrige.xlsx\"\n",
    "      \\_ \"semaineatheme.txt\"\n",
    "\n"
   ]
  },
  {
   "cell_type": "code",
   "execution_count": null,
   "metadata": {
    "hideCode": true
   },
   "outputs": [],
   "source": [
    "u.blank = '`'+'_'*80+'`'\n",
    "\n",
    "if not u.answers:\n",
    "    for i in range(1,15):\n",
    "        u.mark(u.blank)\n",
    "#pwd\n",
    "#for i in *; do\n",
    "#    if [ -d \"$i\" ]; then\n",
    "#        echo \"  \\_ ($i)\"\n",
    "#    else\n",
    "#        echo '  \\_ \"'$i'\"'\n",
    "#    fi\n",
    "#done"
   ]
  },
  {
   "cell_type": "code",
   "execution_count": null,
   "metadata": {
    "hideCode": true
   },
   "outputs": [],
   "source": [
    "!rm -rf ./controle/\n",
    "!tar xf controle.tar\n",
    "from graphviz import Digraph\n",
    "import os.path\n",
    "u.blank = '`'+'_'*80+'`'\n",
    "\n",
    "nodes=['/','/bin','/boot','/dev','/etc','/etc/X11','/home','/home/user','/home/user/Documents','/home/user/Desktop','/lib','/media','/usr','/usr/bin','/root','/sbin','/usr/include','/usr/lib','/usr/sbin','/usr/share','/var','/var/cache','/var/run']\n",
    "shapes={}\n",
    "labels={'':'/ (racine)','user':'<<i>user</i>>'}\n",
    "nodes.sort()\n",
    "\n",
    "def nodesfromlist(files):\n",
    "    t=set()\n",
    "    t=t.union({'/'})\n",
    "    for n in files:\n",
    "        p=''    \n",
    "        for f in n.split(\"/\"):\n",
    "            if len(f)>0:\n",
    "                p=p+'/'+f\n",
    "                t=t.union({p})\n",
    "    nodes=sorted(list(t))\n",
    "    return(nodes)\n",
    "\n",
    "def labelfrompath(node):\n",
    "    label=os.path.basename(node)\n",
    "    if label in labels:\n",
    "        label=labels[label]\n",
    "    return(label)\n",
    "\n",
    "def treefromnodes(nodes,files,inside=True):\n",
    "    dot = Digraph(comment='Tree')\n",
    "    dot.attr(size='10')\n",
    "    for node in nodes:\n",
    "        shape='tab'\n",
    "        if node in files:\n",
    "            shape='note'\n",
    "        if node in shapes:\n",
    "            shape=shapes[node]\n",
    "        if inside or node==\"/\":\n",
    "            dot.node(node,labelfrompath(node),shape=shape)\n",
    "        else:\n",
    "            dot.node(node,\"\",shape=shape)\n",
    "    for nodex in nodes:\n",
    "        if nodex != '/':\n",
    "            root='/'\n",
    "            for node in nodes:\n",
    "                if nodex.startswith(node) and nodex != node:\n",
    "                    root=node\n",
    "            if inside:\n",
    "                dot.edge(root,nodex)\n",
    "            else:\n",
    "                dot.edge(root,nodex,label=labelfrompath(nodex))\n",
    "    return(dot)\n",
    "\n",
    "files=[]\n",
    "for root, directories, filenames in os.walk('controle'):\n",
    "    for filename in filenames:\n",
    "        files.append(os.path.join(root,filename))\n",
    "u.activite(\"Déplacement de fichiers\")\n",
    "u.mark(\"En utilisant les commandes vues ci-dessus, faites passer de la première arborescence à la deuxième.\")\n",
    "if not u.answers:\n",
    "    for i in range(1,15):\n",
    "        u.mark(u.blank)\n",
    "else:\n",
    "    u.mark('''\n",
    "    cd controle\n",
    "    mkdir -p raw final/2018\n",
    "    mv */*imprimer.png final/2018\n",
    "    cp */*.raw */*.xcf raw/\n",
    "    rm raw/hallo.xcf\n",
    "    cp -r raw backup\n",
    "''')\n",
    "nodes=nodesfromlist(files)\n",
    "dot=treefromnodes(nodes,files)\n",
    "display(dot)\n",
    "\n",
    "\n",
    "!rm -rf ./controle/\n",
    "!tar xf controle2.tar\n",
    "\n",
    "\n",
    "files=[]\n",
    "for root, directories, filenames in os.walk('controle'):\n",
    "    for filename in filenames:\n",
    "        files.append(os.path.join(root,filename))\n",
    "nodes=nodesfromlist(files)\n",
    "dot=treefromnodes(nodes,files)\n",
    "display(dot)"
   ]
  },
  {
   "cell_type": "code",
   "execution_count": null,
   "metadata": {
    "hideCode": true
   },
   "outputs": [],
   "source": [
    "import os\n",
    "u.activite(\"chemins, chemins, chemins\")\n",
    "cwddir='/home/jcdubacq/Documents'\n",
    "files = [ '/usr/bin','/home/jcdubacq/','/home/jcdubacq/Documents','~buscaldi/','web/here.png','../../local/range','./bin','../Documents']\n",
    "personal = ['/home/jcdubacq','/home/buscaldi','/root']\n",
    "\n",
    "u.mark('Le répertoire courant est `{0}`.'.format(cwddir))\n",
    "u.mark(\"Pour chacun de ces chemins, dites si c'est un chemin absolu, un chemin relatif, un répertoire personnel, le répertoire courant. Attention, il y a parfois plusieurs réponses vraies (et toujours au moins une vraie).\")\n",
    "while(len(files)):\n",
    "    file=random.choice(files)\n",
    "    files.remove(file)\n",
    "    u.mark('`'+file+'`')\n",
    "    solution=[]\n",
    "    if file[0]=='~':\n",
    "        file=file.replace('~/','/home/jcdubacq/')\n",
    "        file=file.replace('~','/home/')\n",
    "    if file[0]=='/':\n",
    "        solution.append('chemin absolu')\n",
    "        fullpath = os.path.normpath(file)\n",
    "    else:\n",
    "        solution.append('chemin relatif')\n",
    "        fullpath = os.path.normpath(cwddir+'/'+file)\n",
    "    if fullpath == cwddir:\n",
    "        solution.append('répertoire courant')\n",
    "    if fullpath in personal:\n",
    "        solution.append('répertoire personnel')\n",
    "    u.solution(', '.join(solution))\n",
    "\n"
   ]
  }
 ],
 "metadata": {
  "celltoolbar": "Hide code",
  "kernelspec": {
   "display_name": "Python 3",
   "language": "python",
   "name": "python3"
  },
  "language_info": {
   "codemirror_mode": {
    "name": "ipython",
    "version": 3
   },
   "file_extension": ".py",
   "mimetype": "text/x-python",
   "name": "python",
   "nbconvert_exporter": "python",
   "pygments_lexer": "ipython3",
   "version": "3.6.4"
  },
  "toc": {
   "base_numbering": 1,
   "nav_menu": {},
   "number_sections": false,
   "sideBar": true,
   "skip_h1_title": false,
   "title_cell": "Table of Contents",
   "title_sidebar": "Contents",
   "toc_cell": false,
   "toc_position": {},
   "toc_section_display": true,
   "toc_window_display": false
  }
 },
 "nbformat": 4,
 "nbformat_minor": 2
}
