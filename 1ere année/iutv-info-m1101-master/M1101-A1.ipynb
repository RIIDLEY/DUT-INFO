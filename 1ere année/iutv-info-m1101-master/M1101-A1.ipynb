{
 "cells": [
  {
   "cell_type": "code",
   "execution_count": null,
   "metadata": {
    "hideCode": true,
    "hideOutput": false,
    "hidePrompt": false
   },
   "outputs": [],
   "source": [
    "from common import utils\n",
    "import random\n",
    "import math\n",
    "u=utils(False)"
   ]
  },
  {
   "cell_type": "markdown",
   "metadata": {},
   "source": [
    "# Représenter une information"
   ]
  },
  {
   "cell_type": "code",
   "execution_count": null,
   "metadata": {
    "hideCode": true,
    "hidePrompt": false
   },
   "outputs": [],
   "source": [
    "u.activite('Échange d´information')\n",
    "u.mark('Proposez plusieurs façons de représenter un nombre, dont au moins une qui n´est pas la représentation décimale habituelle. Donnez la représenation par exemple pour le nombre 9. Est-ce que votre représentation a des inconvénients ?')\n",
    "u.question('Je choisis la représentation suivante : ')\n",
    "u.question('Le nombre 9 se représente : ')\n",
    "u.question('Les inconvénients de cette représentation sont par exemple : ')"
   ]
  },
  {
   "cell_type": "code",
   "execution_count": null,
   "metadata": {
    "hideCode": true
   },
   "outputs": [],
   "source": [
    "u.activite('Devinette ?')\n",
    "u.mark(\"Travaillez en paires (ou triplettes). Proposez une méthode pour transmettre d’une personne à une autre le résultat d’un lancer de dé (lancer caché par la première personne, la deuxième doit pouvoir énoncer le résultat). Votre méthode fonctionne-t-elle si le dé comporte 20 faces ? Et si le dé est à six faces mais étiqueté par des couleurs ?\")\n",
    "testinfo = [i for i in range(1,7)]\n",
    "u.mark(\"Choix : \"+(\", \".join(map(str,testinfo))))\n",
    "for i in range(1,4):\n",
    "    a = random.choice(testinfo)\n",
    "    u.mark(\"Essayez de transmettre : \"+str(a))\n",
    "    testinfo.remove(a)\n",
    "testinfo = [i for i in range(1,21)]\n",
    "u.mark(\"Choix : \"+(\", \".join(map(str,testinfo))))\n",
    "for i in range(1,4):\n",
    "    a = random.choice(testinfo)\n",
    "    u.mark(\"Essayez de transmettre : \"+str(a))\n",
    "    testinfo.remove(a)\n",
    "\n",
    "def showcolor(x):\n",
    "    return \"<span style=\\\"color:\"+x+\" !important;background: white;\\\">⬤</span>\"\n",
    "\n",
    "testinfo2 = ['red','blue','cyan','magenta','yellow','green']\n",
    "u.mark(\"Choix : \"+(\", \".join(map(showcolor,testinfo2))))\n",
    "u.mark(\"Et ensuite, essayez de transmettre : \"+showcolor(random.choice(testinfo2)))\n"
   ]
  },
  {
   "cell_type": "markdown",
   "metadata": {},
   "source": [
    "**Information** Une information est une donnée que l’on peut interpréter pour se construire une représentation du monde sur laquelle on peut agir.\n",
    "\n",
    "💡 Claude Shannon a été l'un des premiers à définir l'information comme une quantité mesurable.\n",
    "\n",
    "⚠️ L’information de Shannon n’est pas associé au sens ou à la cognition.\n",
    "* Il s’est intéressé à quantifier des sources aléatoires\n",
    "* L’information diminue l’incertitude sur une source aléatoire\n",
    "* On mesure donc la quantité d’information relative à un événement\n",
    "* Par exemple, si on a six possibilités pour un dé, l’information permet de savoir quelle face ; ou au\n",
    "moins d’éliminer des possibilités\n",
    "\n",
    "Il est possible de représenter différents concepts sur un seul schéma.\n",
    "\n",
    "Ce que l'on aime pouvoir faire, c'est appliquer une *fonction* à des *concepts*.\n",
    "\n",
    "Pour cela, il faudra choisir une représentation du concept de départ, transformer le concept en *données* utilisables, appliquer un *algorithme* sur les *données*, et faire l'*interprétation* des données résultantes (le contraire de la représentation initiale)."
   ]
  },
  {
   "cell_type": "code",
   "execution_count": null,
   "metadata": {
    "hideCode": true
   },
   "outputs": [],
   "source": [
    "u.tikz(\"graphe-interpretation\",\"-l snakes\",r'''\n",
    "      \\tikzstyle{every node}=[fill=black!20,draw=black,rounded corners]\n",
    "      \\tikzstyle{data}=[color=red,every node]\n",
    "      \\tikzstyle{xlabel}=[color=magenta,fill opacity=30,text opacity=1,every node]\n",
    "      \\tikzstyle{snaky}=[decorate,normally,decoration={snake,pre length=5mm}]\n",
    "      \\tikzstyle{normally}=[thick]\n",
    "      \\tikzstyle{cloudy}=[color=green!30!black,every node]\n",
    "      \\node [cloudy] (a) at (0,2) {Concept};\n",
    "      \\node [cloudy] (b) at (6,2) {Concept}\n",
    "      edge [<-,snaky] node[xlabel,below] {fonction} (a);\n",
    "      \\node [data] (c) at (0,0) {Donnée}\n",
    "      edge  [<-,normally] node[xlabel] {représentation} (a) (a);\n",
    "      \\node [data] (d) at (6,0) {Donnée}\n",
    "      edge  [<-,normally] node[xlabel,above] {algorithme}(c)\n",
    "      edge  [->,normally] node[xlabel] {interprétation} (b);\n",
    "''')"
   ]
  },
  {
   "cell_type": "markdown",
   "metadata": {},
   "source": [
    "On ne sait pas manipuler le *sens* des choses. \n",
    "\n",
    "💡 Un même concept peut avoir plusieurs représentations très distinctes. Par exemple, le nombre [14](https://fr.wikipedia.org/wiki/Syst%C3%A8me_d%C3%A9cimal), le nombre [XIV](https://fr.wikipedia.org/wiki/Num%C3%A9ration_romaine), le nombre [IIIIIIIIIIIIII](https://fr.wikipedia.org/wiki/Syst%C3%A8me_unaire) sont toutes des représentations du même concept.\n",
    "\n",
    "L'informaticien doit connaître les principales représentations/interprétations des concepts classiques.\n",
    "\n",
    "Nous verrons dans ce cours :\n",
    "\n",
    " * les nombres\n",
    " * les valeurs analogiques (concepts inexploitables) et comment les traduire en nombre\n",
    " * les textes\n",
    " * quelques élements sur les média structurés\n",
    " \n",
    "Mais l'essentiel est de comprendre que l'ordinateur (comme toute machine) n'est capable que de manipuler des choses dans l'univers des *données* et non pas des concepts."
   ]
  },
  {
   "cell_type": "markdown",
   "metadata": {},
   "source": [
    "## Ce qu'on ne peut pas représenter\n",
    "Les systèmes d’informations (et les ordinateurs en particulier) ne sont pas équipés pour traiter n’importe quel type de données. Toutes les informations sont représentées sous forme de nombres (entiers ou à précision limitée) pour être traitées par les\n",
    "ordinateurs. \n",
    "Le monde réel est *analogique*, la représentation des ordinateurs est *numérique* (ou digitale)."
   ]
  },
  {
   "cell_type": "code",
   "execution_count": null,
   "metadata": {
    "hideCode": true
   },
   "outputs": [],
   "source": [
    "# n : donnée intrinsèquement numérique (possibilité de représenter par un nombre entier)\n",
    "# a : donnée analogique\n",
    "# p : donnée analogique, mais la précision infinie n'existe pas donc numérique\n",
    "\n",
    "questions=['Le fait d´avoir un rendez-vous un certain jour à une certaine heure',\n",
    "           'La pression de l´air',\n",
    "           'Le résultat (stable) d´un dé',\n",
    "           'Votre nom de famille',\n",
    "           'Votre nombre de frères et sœurs',\n",
    "           'Votre taille',\n",
    "           'La couleur de vos yeux',\n",
    "           'Les sentiments que vous nourrissez à l´égard de vos parents'\n",
    "          ]\n",
    "answersa=29\n",
    "answersb=98\n",
    "answersc=255-answersa-answersb\n",
    "fail=0\n",
    "num=0\n",
    "\n",
    "qualif = { 'n': 'Donnée numérique', 'a' : 'Donnée intrinsèquement analogique', 'p': 'Donnée analogique mais à précision limitée donc numérique'}\n",
    "\n",
    "u.mark('Répondez sur chacun de ces éléments par :\\n  * **n** si la donnée est numérique\\n  * **a** si elle est intrinsèquement analogique\\n  * **p** si elle est analogique mais que la précision des mesures fait que c´est de fait numérique')\n",
    "\n",
    "x=1\n",
    "for question in questions:\n",
    "    if x&answersa != 0:\n",
    "        exp='n'\n",
    "    if x&answersb != 0:\n",
    "        exp='p'\n",
    "    if x&answersc != 0:\n",
    "        exp='a'\n",
    "    if u.solutioncheck(question+' [anp] ',exp,'Bravo','C´est faux ! C´est une '+qualif[exp]+'.'):\n",
    "        num=num+1\n",
    "    else:\n",
    "        fail=fail+1\n",
    "    x = x+x\n",
    "\n",
    "u.mark('**Vous avez répondu correctement à {0} questions sur {1}'.format(num,num+fail))"
   ]
  },
  {
   "cell_type": "markdown",
   "metadata": {},
   "source": [
    "## Mesure de l'information\n",
    "L'information est une quantité qui se mesure.\n",
    "\n",
    "La mesure de base est le *bit*, abréviation de *binary digit* (chiffre binaire). C'est la quantité d'information qui permet de déterminer exactement la réponse à une question binaire (oui/non).\n",
    "\n",
    "Pour exprimer $k$ choix possibles distincts, il faut $\\left\\lceil\\log_2(k)\\right\\rceil$ bits distincts. ($\\left\\lceil x\\right\\rceil$ est l'arrondi par dessus).\n",
    "\n",
    "Dit autrement, $k$ bits d'information permettent de distinguer $2^k$ choix.\n",
    "\n",
    "Cette nature multiplicative de la mesure en bits est très importante. Elle dérive du fait que quand on a plusieurs choix indépendants, on *multiplie* les possibiités, on ne les additionne pas.\n",
    "\n",
    "Les fractions de bits sont utilisés dans certains contextes, mais en général on ne s'intéresse qu'à des bits entiers."
   ]
  },
  {
   "cell_type": "code",
   "execution_count": null,
   "metadata": {
    "hideCode": true
   },
   "outputs": [],
   "source": [
    "# Le jeu du fakir\n",
    "u.activite('Le jeu du fakir')\n",
    "taille=7\n",
    "num=0\n",
    "xmax=math.floor(math.pow(2,taille))-1\n",
    "u.mark('Je peux deviner n´importe quel nombre entre 0 et {0}.'.format(xmax))\n",
    "for i in range(0,taille):\n",
    "    u.mark('**Question {}**'.format(i+1))\n",
    "    u.mark('Est-ce que votre nombre est dans la liste suivante :')\n",
    "    a=math.floor(math.pow(2,i))\n",
    "    numbers=[]\n",
    "    for n in range(0,xmax+1):\n",
    "        if (n&a):\n",
    "            numbers.append(str(n))\n",
    "    question = (', '.join(numbers))+'\\nEst-ce que votre nombre est dans la liste ci-dessus ?'\n",
    "    if u.yes_no(question,default=random.choice([True, False])):\n",
    "        num = num | a\n",
    "u.mark('Votre nombre est {0} !'.format(num))\n"
   ]
  },
  {
   "cell_type": "code",
   "execution_count": null,
   "metadata": {
    "hideCode": true
   },
   "outputs": [],
   "source": [
    "# Le jeu du fakir (version plus facile à analyser)\n",
    "u.activite('Le jeu du fakir, deuxième version')\n",
    "\n",
    "taille=7\n",
    "num=0\n",
    "xmax=math.floor(math.pow(2,taille))-1\n",
    "ndone=0\n",
    "u.mark('Je peux deviner n´importe quel nombre entre 0 et {0}.'.format(xmax))\n",
    "for i in range(0,taille):\n",
    "    u.mark('Question {}'.format(i+1))\n",
    "    u.mark('Est-ce que votre nombre est dans la liste suivante :')\n",
    "    a=math.floor(math.pow(2,i))\n",
    "    numbers=[]\n",
    "    for n in range(0,xmax+1):\n",
    "        if (n&a) and (n&ndone == num):\n",
    "            numbers.append(str(n))\n",
    "    question = (', '.join(numbers))+'\\nEst-ce que votre nombre est dans la liste ci-dessus ?'\n",
    "    if u.yes_no(question,default=random.choice([True, False])):\n",
    "        num = num | a\n",
    "    ndone = ndone | a\n",
    "u.mark('Votre nombre est {0} !'.format(num))\n"
   ]
  },
  {
   "cell_type": "markdown",
   "metadata": {},
   "source": [
    "La première version de ce jeu du fakir fonctionne avec des listes qui sont tout le temps les mêmes, qui peuvent donc être préimprimées.\n",
    "\n",
    "Il n'y a pas de magie : 7 questions binaires permettent de trouver n'importe quel nombre entre 0 et 127, parce que ces 7 questions, bien posées, permettent de distinguer 128 possibilités ($2^7$).\n",
    "\n",
    "On pourrait de la même façon faire deviner une couleur parmi 128, un mot parmi 128, etc."
   ]
  },
  {
   "cell_type": "code",
   "execution_count": null,
   "metadata": {
    "hideCode": true
   },
   "outputs": [],
   "source": [
    "u.activite('Dénombrement d´objets')\n",
    "objects=['un nombre','une couleur','un mot','une lettre','un animal','un élève','un humain','un dessin','un caractère','un produit','un article','un dossier','un livre','un chat','une boîte']\n",
    "for k in range(1,4):\n",
    "    rep = random.randint(2,12)\n",
    "    numtop = math.floor(math.pow(2,rep))\n",
    "    numbot = math.floor(math.pow(2,rep-1))\n",
    "    realnum=random.randint(numbot+1,numtop)\n",
    "    object=random.choice(objects)\n",
    "    x=u.solutioncheck('Combien de bits sont nécessaires pour distinguer {0} parmi {1} ?'.format(object,str(realnum)),str(rep),'Bravo, c´est ça !','Non, c´est {0} car 2 puissance {0}={1}, et que 2 puissance {2}={3}.'.format(rep,numtop,rep-1,numbot))\n"
   ]
  },
  {
   "cell_type": "markdown",
   "metadata": {},
   "source": [
    "Les bits sont regroupés en diverses unités. Le principal multiple du bit est l'octet, qui est un groupe de 8 bits. On utilise aussi les préfixes SI des unités (kilo, méga, giga, etc.).\n",
    "\n",
    "> **Attention :**  Au début, le mot *byte* désignait le nombre de bits qui était référencé par une *adresse*. Il désigne maintenant un octet (le mot *octet* existe en anglais britannique, mais aux US il est remplacé par *byte* et signifie un mot de 8 bits). Son abréviation est *B*, à ne pas confondre avec l'abréviation de bit qui est *b* et qui vaut donc 8 fois moins.\n",
    "\n",
    "|Préfixe |  Valeur |Ab.|Préfixe|  Valeur  |Ab.|\n",
    "|--------|---------|---|-------|----------|---|\n",
    "|kilo    |$10^3   $| k |milli  |$10^{-3} $| m |\n",
    "|mega    |$10^6   $| M |micro  |$10^{-6} $| µ |\n",
    "|giga    |$10^9   $| G |nano   |$10^{-9} $| n |\n",
    "|tera    |$10^{12}$| T |pico   |$10^{-12}$| p |\n",
    "|peta    |$10^{15}$| P |exa    |$10^{18} $| E |\n",
    "\n",
    "Toutefois, pour des raisons historiques, il a été décidé d'utiliser aussi les préfixes SI pour d'autres groupements, donnant naissance à une deuxième classification, nommée « échelle binaire » (la classification habituelle en puissances de 10 étant du coup « l'échelle décimale »). Comme montré par le calcul, ces unités sont proches de leur équivalent décimal (SI) (en effet, $2^{10}=1024\\approx 1000=10^3$). \n",
    "\n",
    "|Préfixe binaire |  Valeur |Ab.|Ab. SI|Approximation|\n",
    "|----------------|---------|---|------|-------------|\n",
    "|kilo            |$2^{10} $| k | ki   |~2,5% (=2,4%)|\n",
    "|mega            |$2^{20} $| M | Mi   |~5%          |\n",
    "|giga            |$2^{30} $| G | Gi   |~7,5%        |\n",
    "|tera            |$2^{40} $| T | Ti   |~10%         |\n",
    "|peta            |$2^{50} $| P | Pi   |~12,5%       |\n",
    "|exa             |$2^{60} $| E | Ei   |~15%         |\n",
    "\n",
    "Le domaine où l'échelle binaire est la plus utilisée est l'expression de la capacité d'éléments mémoires (souvent conjugués aux octets, et non aux bits). D'autres domaines, comme le débit d'information (quantité d'information divisé par un temps), est beaucoup plus souvent exprimé dans l'échelle décimale, de même que dès qu'on utilise des préfixes négatifs."
   ]
  },
  {
   "cell_type": "markdown",
   "metadata": {},
   "source": [
    "### Quelques ordres de grandeur\n",
    "\n",
    "  * $10^3$ bits: carte à bande magnétique\n",
    "  * $10^6$ bits: un fax d'une page\n",
    "  * $10^9$ bits: Capacité d'un CD ou du génome humain\n",
    "  * $10^{12}$ bits: Un disque dur moyen en 2008\n",
    "  * $10^{15}$ bits: 1/10\\ieme\\ taille des serveurs de Google\n",
    "  * $10^{18}$ bits: Tout ce qui est imprimé dans le monde.\n",
    "  \n",
    "  Pour le débit, on a plutôt :\n",
    "\n",
    "  * $1$ b/s: vieille sonde spatiale (9 b/s), morse (40 b/s)\n",
    "  * $10^3$ b/s: 2G (9,6 kb/s), modems (56 kb/s)\n",
    "  * $10^6$ b/s: ADSL (20 Mb/s)\n",
    "  * $10^9$ b/s: Réseau local Gigabit (1 Gb/s), USB (0,48 Gb/s), Infiniband (60 Gb/s)\n",
    "  * $10^{12}$ b/s: Trafic total USA cumulé sur internet (12 Tb/s)\n",
    "  * $10^{15}$ b/s: Trafic total international sur internet (0.5 Pb/s)\n",
    "\n",
    "**Note :** le trafic sur 2008 par seconde dépasse le total de 1993 (année)\n"
   ]
  },
  {
   "cell_type": "code",
   "execution_count": null,
   "metadata": {
    "hideCode": true
   },
   "outputs": [],
   "source": [
    "# EXERCICE\n",
    "\n",
    "u.activite('Conversion d´unités')\n",
    "\n",
    "descunit = {\n",
    "    'o': [3,0,3,0],\n",
    "    'b': [0,0,0,0],\n",
    "    'kio': [13,0,10,0],\n",
    "    'Mio': [23,0,20,0],\n",
    "    'Gio': [33,0,30,0],\n",
    "    'kib': [10,0,9,0],\n",
    "    'Mib': [20,0,19,0],\n",
    "    'Gib': [30,0,29,0],\n",
    "    'kb': [0,3,0,1],\n",
    "    'Mb': [0,6,0,4],\n",
    "    'Gb': [0,9,0,7],\n",
    "    'ko': [3,3,3,1],\n",
    "    'Mo': [3,6,3,4],\n",
    "    'Go': [3,9,3,7]\n",
    "}\n",
    "\n",
    "descnum = {\n",
    "    '1': [0,0,1],\n",
    "    '2': [1,0,1],\n",
    "    '3': [0,0,3],\n",
    "    '4': [2,0,1],\n",
    "    '5': [0,0,5],\n",
    "    '6': [1,0,3],\n",
    "    '7': [0,0,7],\n",
    "    '8': [3,0,1],\n",
    "    '9': [0,0,9],\n",
    "}\n",
    "\n",
    "def exo(unitsin, unitsout, leads):\n",
    "    unita=random.sample(unitsin,1)[0]\n",
    "    unitsb=[x for x in unitsout]\n",
    "    if unita in unitsb:\n",
    "        unitsb.remove(unita)\n",
    "    unitb=random.sample(unitsb,1)[0]\n",
    "\n",
    "    # now get a number of bits \n",
    "\n",
    "    lead = random.sample(leads,1)[0]\n",
    "    modlead=descnum[str(lead)][2]\n",
    "    modexpdeux=descnum[str(lead)][0]\n",
    "    modexpdix=descnum[str(lead)][1]\n",
    "\n",
    "    minexpodeux = 0\n",
    "    maxexpodeux = 42\n",
    "\n",
    "    minexpodeux = max(minexpodeux,min(descunit[unitb][2],descunit[unita][2]))\n",
    "    maxexpodeux = min(maxexpodeux,9+max(descunit[unitb][2],descunit[unita][2]))\n",
    "\n",
    "    minexpodix = 0\n",
    "    maxexpodix = 12\n",
    "\n",
    "    minexpodix = max(minexpodix,min(descunit[unitb][3],descunit[unita][3]))\n",
    "    maxexpodix = min(maxexpodix,3+max(descunit[unitb][3],descunit[unita][3]))\n",
    "\n",
    "\n",
    "    expodeux = random.randint(minexpodeux,maxexpodeux)\n",
    "    expodix = random.randint(minexpodix,maxexpodix)\n",
    "\n",
    "\n",
    "\n",
    "    INUNITA=u.twobyten(lead,expodeux-descunit[unita][0],expodix-descunit[unita][1],True)\n",
    "    INBITS=u.twobyten(modlead,expodeux+modexpdeux,expodix+modexpdix,False)\n",
    "    INUNITB=u.twobyten(modlead,expodeux+modexpdeux-descunit[unitb][0],expodix+modexpdix-descunit[unitb][1],True)\n",
    "\n",
    "    u.mark('**Transformez {0} {1} en {2}**'.format(INUNITA,unita,unitb))\n",
    "    u.solution('Solution: {0} {1} est en fait {2} bits, et donc {3} {4}.'.format(INUNITA,unita,INBITS,INUNITB,unitb))\n",
    "\n",
    "unitsa = descunit.keys()\n",
    "exo(['b'],['Mo','ko','Go','o'],[1,2,3])\n",
    "exo(['Mo','ko','Go','o'],['b'],[1,2,3])\n",
    "exo(['o'],['Mio','kio','Gio'],[1,2,3,4,5])\n",
    "exo(['Mio','kio','Gio','o'],['b'],[1,2,3,4,5])\n",
    "exo(unitsa,unitsa,[1,2,3,4,5,6,7,8,9])\n",
    "exo(unitsa,unitsa,[1,2,3,4,5,6,7,8,9])\n"
   ]
  },
  {
   "cell_type": "markdown",
   "metadata": {},
   "source": [
    "Au delà des mesures simples d'information, on peut composer les bits avec d'autres unités.\n",
    "\n",
    "Par exemple, les unités les plus utilisées au-delà de celles déjà vues sont les unités d'information divisées par un temps (débit), et les unités d'information divisées par une surface ou un volume (densité surfacique ou volumique d'information).\n",
    "\n",
    "**Exercice**\n",
    "\n",
    "Un élément d’ordinateur est capable d’émettre 1024 bits en 0,5 nanosecondes. Quel est le débit\n",
    "(quantité d’information divisée par le temps) de cet élément en bits par secondes ? Quelle est la\n",
    "bonne unité pour ce débit ?"
   ]
  },
  {
   "cell_type": "markdown",
   "metadata": {},
   "source": [
    "## De l'analogique au digital\n",
    "\n",
    "Pour tout ce qui est mesurable, mais dont la mesure est analogique, avant de le traiter dans un ordinateur, il faut *acquérir* les données puis les transformer en *nombres* (nombres à précision limitée, ou entiers). Cette opération s'appelle la *numérisation* (on dit aussi la *digitalisation*, mais c'est un anglicisme).\n",
    "\n",
    "Elle se fait presque toujours de la même façon :\n",
    "  * Filtrage perceptuel physique\n",
    "  * Découpage (volumique) (pour les phénomènes multidimensionnels)\n",
    "  * Échantillonnage (pour les phénomènes temporels)\n",
    "  * Quantification (réduction à un nombre d’états finis)\n",
    "  * Filtrage perceptuel numérique\n",
    "\n",
    "Les deux premières étapes forment la discrétisation (spatiale ou temporelle), et la troisième la quantification."
   ]
  },
  {
   "cell_type": "markdown",
   "metadata": {},
   "source": [
    "### Filtrage perceptuel physique\n",
    "\n",
    "La première chose à comprendre c'est qu'obtenir une empreinte exacte d'une chose n'est pas possible. Nos instruments de mesure ont toujours des limites.\n",
    "\n",
    "Lorsque ces limites sont calculées de façon à être en dessous du seuil de perception de l'être humain, mais ne sont pas maximales, on opère un *filtrage perceptuel* sur les données acquises. La connaissance des mécanismes de perception est importante pour établir ces limites. Par exemple, la vitesse optimale de succession des images dans un film ou les fréquences audibles par l'oreille humaine vont limiter l'intérêt de données qui vont au-delà de ces limites.\n",
    "\n",
    "Toutefois, un filtrage plus faible (donc une mesure plus précise) permet un travail sur des choses au-delà de la perception humaine, ce qui est parfois important (possibilité de zoom sur une image, de vue dans des gammes d'onde lumineuses hors de la vision humaine, d'isolation de son, etc.).\n",
    "\n",
    "Ce filtrage est considéré comme en dehors de notre domaine informatique, même s'il a des conséquences.\n",
    "\n"
   ]
  },
  {
   "cell_type": "markdown",
   "metadata": {},
   "source": [
    "### Découpage volumique\n",
    "\n",
    "Pour pouvoir manipuler une information qui est continue dans une dimension spatiale, on va prendre des échantillons le long d'un découpage de l'espace (surface, volume, selon les cas). On utilise la plupart du temps une grille régulière (carrée ou cubique) pour faire de l'échantillonnage. À chacun de ces éléments on attribue une valeur unique, découpant ainsi l'image en pixels (ou voxels).\n",
    "\n",
    "La grille carrée n'est pas universelle : on utilise aussi des grilles rectangulaires, triangulaires. La technique d'origine de la photographie consiste en l'utilisation d'une grille aléatoire (la répartition des grains d'argent au sein du film photographique).\n",
    "\n",
    "La source est altérée par ce choix. Selon le cas, on peut prendre la valeur comme étant celle mesurée au début de l'intervalle, à la fin, au milieu. Le choix n'a qu'une importance relative : si on ne sait pas à l'avance ce qu'on a mesuré, les propriétés ne changent pas radicalement.\n",
    "\n",
    "L'information est perdue : une fois qu'on a échantillonné, on ne peut pas retrouver l'information. On peut essayer de la deviner, mais [ce n'est pas de la magie](https://www.youtube.com/watch?v=I_8ZH1Ggjk0) et donc on ne pourra pas recréer des détails inhabituels perdus."
   ]
  },
  {
   "cell_type": "code",
   "execution_count": null,
   "metadata": {
    "hideCode": true
   },
   "outputs": [],
   "source": [
    "# Image d'origine\n",
    "\n",
    "import matplotlib.pyplot as plt\n",
    "import matplotlib.image as mpimg\n",
    "import numpy as np"
   ]
  },
  {
   "cell_type": "code",
   "execution_count": null,
   "metadata": {
    "hideCode": true
   },
   "outputs": [],
   "source": [
    "plt.rcParams[\"figure.figsize\"] = [20,20]\n",
    "imgname='images/'+random.choice(['mandrill.png','peppers.png'])\n",
    "img=mpimg.imread(imgname)\n",
    "steps=[32,16,8,4]\n",
    "for p in range(0,len(steps)):\n",
    "    plt.subplot(1,len(steps),p+1)\n",
    "    step=steps[p]\n",
    "    plt.title('Quantification '+str(step))\n",
    "    img2=img.copy()\n",
    "    for x in range(0,img2.shape[0]):\n",
    "        for y in range(0,img2.shape[1]):\n",
    "            img2[x,y,:]=img2[x-x%step,y-y%step,:]\n",
    "    imgplot = plt.imshow(img2)\n",
    "plt.show()\n",
    "plt.subplot(1,2,1)\n",
    "plt.imshow(img2)\n",
    "plt.title('Quantification 4 (agrandi)')\n",
    "plt.subplot(1,2,2)\n",
    "imgplot = plt.imshow(img)\n",
    "plt.title('Original')\n",
    "plt.show()"
   ]
  },
  {
   "cell_type": "code",
   "execution_count": null,
   "metadata": {
    "hideCode": true
   },
   "outputs": [],
   "source": [
    "# influence de la position utilisée pour l'échantillonnage\n",
    "# Vous pouvez essayer de modifier le paramètre step et le tableau offsets pour voir l'effet sur d'autres échelles.\n",
    "\n",
    "plt.rcParams[\"figure.figsize\"] = [20,10]\n",
    "img=mpimg.imread(imgname)\n",
    "offsets=[0,1,2,3]\n",
    "ximg=[x for x in offsets]\n",
    "ximg=ximg+ximg\n",
    "step=4\n",
    "for p in range(0,len(offsets)):\n",
    "    plt.subplot(2,len(offsets),p+1)\n",
    "    offset=offsets[p]\n",
    "    plt.title('Offset '+str(offset))\n",
    "    ximg[p]=img.copy()\n",
    "    for x in range(0,ximg[p].shape[0]):\n",
    "        for y in range(0,ximg[p].shape[1]):\n",
    "            ximg[p][x,y,:]=ximg[p][x-x%step+offset,y-y%step+offset,:]\n",
    "    imgplot = plt.imshow(ximg[p])\n",
    "for p in range(0,len(steps)):\n",
    "    plt.subplot(2,len(steps),p+5)\n",
    "    offset=offsets[p]\n",
    "    plt.title('Delta '+str(offset))\n",
    "    ximg[p+4]=(ximg[p]-ximg[0]+1)/2\n",
    "    imgplot = plt.imshow(ximg[p+4])\n",
    "plt.show()"
   ]
  },
  {
   "cell_type": "markdown",
   "metadata": {},
   "source": [
    "### Échantillonnage temporel\n",
    "\n",
    "Rappel: une fréquence, c'est une quantité d'événements par unité de temps ($1 Hz=1 s^{-1}$).\n",
    "\n",
    "Un signal à un moment donné peut toujours se représenter comme une somme de signaux sinusoïdaux. Si le signal est périodique, les coefficients sont alors constants, et les fréquences à utiliser uniquement des multiples de la fréquence de base.\n",
    "\n",
    "Un grand miracle du traitement du signal est que ce qui est valable pour un signal périodique peut s'étendre à un signal non-périodique (mais c'est en dehors de la portée de ce cours).\n",
    "\n",
    "Pour la plupart des signaux, on peut considérer uniquement les contributions à ce signal jusqu'à une *fréquence maximale*, les contributions au-delà étant négligeables. Les instruments font ce filtre naturellement (ou rajoutent du bruit au-delà de certaines fréquences) !\n",
    "\n",
    "Pour pouvoir reconstruire exactement un signal périodique qui peut être décomposé avec une fréquence maximale, sa fréquence d'échantillonnage $f_e$ doit vérifier *(Théorème d'échantillonnage de Nyquist-Shannon)*:\n",
    "$$f_e \\geqslant 2 f_{\\mathrm{Max}}$$\n",
    "\n",
    "Inversement, on appelle *fréquence de Nyquist* la fréquence maximale autorisée pour un signal à fréquence d'échantillonnage donnée. C'est donc la moitié de la fréquence d'échantillonnage.\n",
    "\n",
    "**Attention :** Des effets de bruit font qu'il est préférable d'avoir une marge pour reconstruire proprement un signal à cause de la phase suivante (quantification).\n"
   ]
  },
  {
   "cell_type": "code",
   "execution_count": null,
   "metadata": {
    "hideCode": true
   },
   "outputs": [],
   "source": [
    "import matplotlib.pyplot as plt\n",
    "import matplotlib.image as mpimg\n",
    "import numpy as np\n",
    "\n",
    "plt.rcParams[\"figure.figsize\"] = [20,20]\n",
    "\n",
    "spectre=[0.0,1.0,.0,.0,.3,.2]\n",
    "\n",
    "def signal(x):\n",
    "    sum = np.full_like(x,spectre[0])\n",
    "    for i in range(1,len(spectre)):\n",
    "        sum = sum + spectre[i]*np.sin(i*x*np.pi)\n",
    "    return sum\n",
    "def subsignal(x,y):\n",
    "    if y == 0:\n",
    "        sum = np.full_like(x,spectre[0])\n",
    "    else:\n",
    "        sum = np.full_like(x,0.0)\n",
    "    for i in [y]:\n",
    "        sum = sum + spectre[i]*np.sin(i*x*np.pi)\n",
    "    return sum\n",
    "def psignal(x,y):\n",
    "    if y>0:\n",
    "        sum = np.full_like(x,spectre[0])\n",
    "    else:\n",
    "        sum = np.full_like(x,0.0)\n",
    "    for i in range(1,min(len(spectre),y+1)):\n",
    "        sum = sum + spectre[i]*np.sin(i*x*np.pi)\n",
    "    return sum\n",
    "\n",
    "t = np.arange(0.0, 6.0, 0.01)\n",
    "t1 = np.arange(0.0, 6.0, 0.2) # 5 Hz\n",
    "t2 = np.arange(0.0, 6.0, 0.5) # 2 Hz\n",
    "\n",
    "plt.subplot(421)\n",
    "plt.title('Signal de fréquence 0,5 Hz')\n",
    "plt.plot(t, signal(t))\n",
    "plt.subplot(423)\n",
    "plt.title('Échantillonage 1 : Fe=5 Hz')\n",
    "plt.plot(t, signal(t))\n",
    "plt.plot(t1, signal(t1),\"o\")\n",
    "plt.subplot(425)\n",
    "plt.title('Après échantillonnage : Fe=5 Hz')\n",
    "plt.plot(t1, signal(t1),\"o\")\n",
    "plt.subplot(427)\n",
    "plt.title('Reconstructions possibles Fmax=2,5 Hz, Fe=5 Hz')\n",
    "plt.plot(t, signal(t))\n",
    "plt.plot(t1, signal(t1),\"o\")\n",
    "plt.subplot(422)\n",
    "plt.title('Décomposition du signal')\n",
    "n=0\n",
    "for i in range(0,len(spectre)):\n",
    "    if spectre[i]!=0.0:\n",
    "        n=n+1\n",
    "    plt.plot(t, psignal(t,i),color=(1.0,0.0,0.0,1.0/(1+n)))\n",
    "plt.subplot(424)\n",
    "plt.title('Échantillonnage 2 : Fe=2 Hz')\n",
    "plt.plot(t, signal(t))\n",
    "plt.plot(t2, signal(t2),\"o\")\n",
    "plt.subplot(426)\n",
    "plt.title('Après échantillonnage : Fe=2 Hz')\n",
    "plt.plot(t2, signal(t2),\"o\")\n",
    "plt.subplot(428)\n",
    "plt.title('Reconstructions possibles Fmax=2,5 Hz, Fe=2 Hz')\n",
    "plt.plot(t, signal(t))\n",
    "ss=[i for i in spectre]\n",
    "for k in [1]:\n",
    "    for ray in [2,4]:\n",
    "        while abs(ss[ray]-spectre[ray])<0.01:\n",
    "            spectre[ray]=random.choice([1.0,-1.0])*random.choice([0.5,0.4,0.3,0.2,0.1,0.0])\n",
    "    plt.plot(t, signal(t))\n",
    "    spectre=[i for i in ss]\n",
    "plt.plot(t2, signal(t2),\"o\")\n",
    "plt.show()"
   ]
  },
  {
   "cell_type": "markdown",
   "metadata": {},
   "source": [
    "### Quantification\n",
    "\n",
    "Cette opération réduit un signal à des *quanta* (singulier *quantum*) en nombre limité. Le nombre de *quanta* possibles s'appelle la *valence*.\n",
    "\n",
    "La reconstruction exacte du signal n'est plus possible, mais reste souvent proche de l'original.\n",
    "\n",
    "> **Exemple :** Signal électrique\n",
    "> \n",
    "> Une tension électrique compris entre 0 (large) et 10 V (strict) peut ainsi être réduit à 10 quanta de 1 V : 0 V, 1 V,…,9 V.\n",
    "    \n",
    "Le nombre de bits nécessaires pour coder un état du signal peut être exprimé par $k=\\left\\lceil\\log_2 V\\right\\rceil.$\n",
    "\n",
    "L'erreur de reconstruction d'un signal d'origine après quantification s'appelle la *distortion*. La théorie du traitement du signal permet d'étudier précisément cette distortion, mais c'est en dehors du sujet de ce cours."
   ]
  },
  {
   "cell_type": "code",
   "execution_count": null,
   "metadata": {
    "hideCode": true
   },
   "outputs": [],
   "source": [
    "import matplotlib.pyplot as plt\n",
    "import matplotlib.image as mpimg\n",
    "import numpy as np\n",
    "\n",
    "spectre=[.0,1.0,.0,.0,.3,.2]\n",
    "\n",
    "def signal(x,quantum=0):\n",
    "    sum = np.full_like(x,spectre[0])\n",
    "    for i in range(1,len(spectre)):\n",
    "        sum = sum + spectre[i]*np.sin(i*x*np.pi)\n",
    "    if quantum>0:\n",
    "        return quantum*np.floor(sum/quantum)\n",
    "    else:\n",
    "        return sum\n",
    "\n",
    "fe=6\n",
    "t = np.arange(0.0, 6.0, 0.001)\n",
    "t1 = np.arange(0.0, 6.0, 1/fe)\n",
    "quanta = [0, 0.1, 0.2, 0.4]\n",
    "for i in [0,1,2,3]:\n",
    "    quantum=quanta[i]\n",
    "    plt.subplot(2,2,i+1)\n",
    "    plt.title('Échantillonnage {0} Hz, quantum : {1}'.format(fe,quantum))\n",
    "    plt.plot(t, signal(t),\"--\")\n",
    "    plt.plot(t1, signal(t1),\"o\")\n",
    "    plt.plot(t1, signal(t1,quantum),\"o\")\n",
    "    x=np.fft.rfft(signal(t1,quantum))\n",
    "    xx=np.fft.irfft(x,len(t))*len(t)/len(t1)\n",
    "    plt.plot(t, xx.real)\n",
    "    plt.plot(t, xx.real-signal(t),\"-.\")\n",
    "plt.show()\n"
   ]
  },
  {
   "cell_type": "markdown",
   "metadata": {},
   "source": [
    "### Filtrage perceptuel numérique\n",
    "\n",
    "Lorsque les informations sont destinées à être perçues par des humains directement (cas des médias, notamment), les informations peuvent subir une dernière phase d'élagage qui permet d'enlever encore de l'information.\n",
    "\n",
    "À ce stade on est déjà dans l'information numérique (nombres stockés avec un nombre finis de bits par nombre)\n",
    "\n",
    "Comme pour le filtrage perceptuel physique, une bonne connaissance du fonctionnement de la perception humaine est importante."
   ]
  },
  {
   "cell_type": "code",
   "execution_count": null,
   "metadata": {
    "hideCode": true
   },
   "outputs": [],
   "source": [
    "from IPython.display import display, Markdown, Latex\n",
    "u.activite('Comprendre la quantification')\n",
    "\n",
    "solutions=[2,8,10,16,20,32,64,100,256,1000,1024]\n",
    "sol=random.choice(solutions)\n",
    "quanta=[0.1,0.01,0.001,1,0.25,0.4,0.75,0.8,0.2,10,12.5]\n",
    "quantum=random.choice(quanta)\n",
    "offsets=[0.1,0.01,0.001]\n",
    "offset=random.choice(offsets)\n",
    "maxvoltage=(sol-offset)*quantum\n",
    "\n",
    "u.mark(\"Un signal électrique va de $0~\\mathrm{{V}}$ à ${0}~\\mathrm{{V}}$. Il est quantifié sur un quantum de ${1}~\\mathrm{{V}}$.\".format(u.n2s(maxvoltage),u.n2s(quantum)))\n",
    "u.solutioncheck(\"Quel est le nombre de quanta ?\",str(sol),'**Tout à fait !**','Non, il y a $\\\\lceil {0}/{1} \\\\rceil={2}$ quanta.'.format(u.n2s(maxvoltage),u.n2s(quantum),u.n2s(sol)))\n",
    "\n",
    "ech=int(math.ceil(math.log2(sol)))\n",
    "u.solutioncheck(\"Quelle quantité d'information est transportée par chaque quantum ?\",str(ech),'**Tout à fait !**','Non, il y a $\\\\lceil \\\\mathrm{{log}}_2 {0} \\\\rceil={1}$ bits d´information par échantillon'.format(u.n2s(sol),u.n2s(ech)))\n",
    "\n",
    "fm=random.choice([10000,1000,5000,2000])\n",
    "u.mark('Ce signal est périodique, et se décompose avec des fréquences maximales qui vont jusqu´à {0} kHz.'.format(u.n2s(fm/1000)))\n",
    "fe=2*fm\n",
    "\n",
    "u.solutioncheck(\"Quel est le débit d´information nécessaire pour reconstituer ce signal à l´identique ?\",str(ech*fe),'**Tout à fait !**','Non, la fréquence d´échantillonnage est $2\\\\times{0}={1}$, il faut donc ${1}\\\\times{2}={3}$ bits/seconde d´information'.format(u.n2s(fm),u.n2s(fe),u.n2s(ech),u.n2s(fe*ech)))\n",
    "\n",
    "\n",
    "quantiteh=str(fe*ech*3600)\n",
    "\n",
    "x=u.solutioncheck(\"Quelle quantité d´information pour enregistrer ce signal pendant une heure (en bits) ?\",quantiteh,'**Tout à fait !**','Non, il faut ${0}\\\\times{1}={2}$ bits.'.format(u.n2s(fe*ech),u.n2s(3600),u.n2s(fe*ech*3600)))\n",
    "\n",
    "\n",
    "\n"
   ]
  },
  {
   "cell_type": "code",
   "execution_count": null,
   "metadata": {
    "hideCode": true
   },
   "outputs": [],
   "source": [
    "u.activite('Contenance d´un CD audio')\n",
    "u.mark('Un CD audio contient de la musique échantillonnée en stéréo sur 16 bits par piste à 44100 Hz (nombre d´échantillons par seconde). Il dure environ 80 minutes. Calculez (de tête) l´ordre de grandeur de la quantité d´information écrite dans un CD audio.')\n",
    "u.solution('Environ 800 Mo. En vrai: 807,5 Mio ou 846 Mo.  88200 octets par seconde par piste, soit 167400 octets/s, soit ~10 Mo/minute.')\n"
   ]
  },
  {
   "cell_type": "code",
   "execution_count": null,
   "metadata": {
    "hideCode": false
   },
   "outputs": [],
   "source": [
    "# Cette ligne rendra les exercices interactifs si on les réexécute.\n",
    "\n",
    "u.xtoggle()\n",
    "#u.soltoggle()"
   ]
  }
 ],
 "metadata": {
  "celltoolbar": "Hide code",
  "kernelspec": {
   "display_name": "Python 3",
   "language": "python",
   "name": "python3"
  },
  "language_info": {
   "codemirror_mode": {
    "name": "ipython",
    "version": 3
   },
   "file_extension": ".py",
   "mimetype": "text/x-python",
   "name": "python",
   "nbconvert_exporter": "python",
   "pygments_lexer": "ipython3",
   "version": "3.6.6"
  },
  "toc": {
   "base_numbering": 1,
   "nav_menu": {},
   "number_sections": true,
   "sideBar": true,
   "skip_h1_title": false,
   "title_cell": "Table of Contents",
   "title_sidebar": "Contents",
   "toc_cell": false,
   "toc_position": {},
   "toc_section_display": true,
   "toc_window_display": false
  }
 },
 "nbformat": 4,
 "nbformat_minor": 2
}
