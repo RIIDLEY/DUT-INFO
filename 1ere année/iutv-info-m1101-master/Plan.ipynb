{
 "cells": [
  {
   "cell_type": "markdown",
   "metadata": {},
   "source": [
    "| Chapitre | Titre | Points abordés |\n",
    "|----------|-------|----------------|\n",
    "| M1101-A1 | Les bits | Unités de base de l'information, différence analogique/numérique |\n",
    "| M1101-A2 | Les nombres | Codage des entiers, opérations en binaire |\n",
    "| M1101-A3 | Les textes | Codage des textes, exemplification de la transformation d'information, UTF8 |\n",
    "| M1101-A4 | Les structures | Codage des structures en mémoire ; *introduction des types C* |\n",
    "| M1101-A5 | Les médias **(pas sûr)** | Codage des images et des sons, exercices de calculs |\n",
    "| M1101-B1 | Le système d'exploitation | Anatomie d'un système d'exploitation et d'un ordinateur |\n",
    "| M1101-B2 | Le shell  | Introduction de la syntaxe de base du shell (itérations, tests, variables) |\n",
    "| M1101-B3 | Les fichiers  | Arborescence de fichiers, déplacement et copies |\n",
    "| M1101-B4 | Les systèmes de fichiers **(pas sûr)** | Montages, liens et i-nœuds |\n",
    "| M1101-B5 | Les processus | Compilation, exécution, gestion des processus ; *premier programme en C* |\n",
    "| M1101-B6 | Les permissions | Utilisateurs et permissions sous Unix ; potentiellement TP en salle réseau |\n",
    "| M1101-B7 | Les entrées-sorties | Redirections d'entrées-sorties, réalisation de shells complexes |\n",
    "| M1101-C1 | La syntaxe du C | fonctions et arguments ; explications sur la structure de la mémoire |\n",
    "| M1101-C2 | Pointeurs | Pointeurs : démonstrations, applications, passage de fonction |"
   ]
  },
  {
   "cell_type": "code",
   "execution_count": null,
   "metadata": {},
   "outputs": [],
   "source": [
    "from graphviz import Digraph\n",
    "\n",
    "dot = Digraph(comment='Tree')\n",
    "cours=\"A1,A2,A3,A4,A5,B1,B2,B3,B4,B5,B6,B7,C1,C2\".split(\",\")\n",
    "\n",
    "colors=['blue2','red','yellow','orange','green']\n",
    "colorsshape={}\n",
    "for i in cours:\n",
    "    colorsshape[i]='red'\n",
    "colorsshape['C1']='lightblue'\n",
    "colorsshape['C2']='lightblue'\n",
    "colorsshape['A1']='green'\n",
    "colorsshape['A2']='green'\n",
    "colorsshape['A3']='green'\n",
    "colorsshape['B1']='green'\n",
    "colorsshape['B2']='green'\n",
    "colorsshape['B3']='green'\n",
    "\n",
    "\n",
    "title=\"Bits,Nombres,Textes,Structures,Médias,Système,Shell,Fichiers,Systèmes de fichiers,Processus,Permissions,Entrées-Sorties,Syntaxe du C,Pointeurs\".split(\",\")\n",
    "k={}\n",
    "for i in range(0,len(cours)):\n",
    "    k[cours[i]]=title[i]\n",
    "for i in cours:\n",
    "    dot.node(i,k[i],fillcolor=colorsshape[i],style=\"filled\")\n",
    "\n",
    "\n",
    "\n",
    "dot.edge(\"A1\",\"A2\")\n",
    "\n",
    "dot.edge(\"A1\",\"A3\")\n",
    "dot.edge(\"A1\",\"A4\")\n",
    "dot.edge(\"A2\",\"A4\",style=\"dashed\")\n",
    "dot.edge(\"A1\",\"A5\")\n",
    "dot.edge(\"A4\",\"A5\",style=\"dashed\")\n",
    "dot.edge(\"A1\",\"B2\",style=\"dashed\")\n",
    "dot.edge(\"B1\",\"B2\")\n",
    "dot.edge(\"B2\",\"B3\",style=\"dashed\")\n",
    "dot.edge(\"B3\",\"B4\")\n",
    "dot.edge(\"B2\",\"B5\")\n",
    "dot.edge(\"B3\",\"B5\")\n",
    "dot.edge(\"B4\",\"B6\")\n",
    "dot.edge(\"B3\",\"B7\")\n",
    "dot.edge(\"B5\",\"C1\",style=\"dashed\")\n",
    "dot.edge(\"A4\",\"C1\")\n",
    "dot.edge(\"C1\",\"C2\")\n",
    "display(dot)"
   ]
  }
 ],
 "metadata": {
  "kernelspec": {
   "display_name": "Python 3",
   "language": "python",
   "name": "python3"
  },
  "language_info": {
   "codemirror_mode": {
    "name": "ipython",
    "version": 3
   },
   "file_extension": ".py",
   "mimetype": "text/x-python",
   "name": "python",
   "nbconvert_exporter": "python",
   "pygments_lexer": "ipython3",
   "version": "3.6.7rc1"
  },
  "toc": {
   "base_numbering": 1,
   "nav_menu": {},
   "number_sections": true,
   "sideBar": true,
   "skip_h1_title": false,
   "title_cell": "Table of Contents",
   "title_sidebar": "Contents",
   "toc_cell": false,
   "toc_position": {},
   "toc_section_display": true,
   "toc_window_display": false
  }
 },
 "nbformat": 4,
 "nbformat_minor": 2
}
